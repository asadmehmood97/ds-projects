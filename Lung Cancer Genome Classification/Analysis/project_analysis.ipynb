{
 "cells": [
  {
   "cell_type": "markdown",
   "id": "b2b5fb64-675f-4204-94b1-1de7ac2448ba",
   "metadata": {},
   "source": [
    "# Lungs Cancer TCGA Genoma Classification using Neural Networking, PCA, Random Forest"
   ]
  },
  {
   "cell_type": "markdown",
   "id": "6ab2228e-9d16-4013-a2b0-ca01aff78f68",
   "metadata": {
    "tags": []
   },
   "source": [
    "# Import Libraries "
   ]
  },
  {
   "cell_type": "code",
   "execution_count": 1,
   "id": "e715ab62-16a7-4e4b-b6d1-2f7d44e0e2cf",
   "metadata": {},
   "outputs": [
    {
     "name": "stdout",
     "output_type": "stream",
     "text": [
      "WARNING:tensorflow:From C:\\Users\\asadm\\AppData\\Roaming\\Python\\Python310\\site-packages\\keras\\src\\losses.py:2976: The name tf.losses.sparse_softmax_cross_entropy is deprecated. Please use tf.compat.v1.losses.sparse_softmax_cross_entropy instead.\n",
      "\n"
     ]
    }
   ],
   "source": [
    "# Data manipulation\n",
    "import pandas as pd\n",
    "import numpy as np\n",
    "\n",
    "# Visualization\n",
    "import matplotlib.pyplot as plt\n",
    "import seaborn as sns\n",
    "\n",
    "# Machine learning models and tools\n",
    "from sklearn.impute import SimpleImputer\n",
    "from sklearn.compose import ColumnTransformer\n",
    "from sklearn.pipeline import Pipeline\n",
    "from sklearn.model_selection import train_test_split\n",
    "from sklearn.preprocessing import OneHotEncoder, RobustScaler, MinMaxScaler, OrdinalEncoder, StandardScaler\n",
    "from sklearn.decomposition import PCA\n",
    "from sklearn.ensemble import RandomForestClassifier\n",
    "from sklearn.model_selection import GridSearchCV\n",
    "from sklearn.metrics import classification_report, confusion_matrix, ConfusionMatrixDisplay, accuracy_score, recall_score, precision_score, f1_score\n",
    "\n",
    "# Neural network libraries\n",
    "from keras.models import Sequential\n",
    "from keras.layers import Dense, Dropout, Activation\n",
    "from keras.optimizers import Adam\n",
    "\n",
    "# Ignore warnings\n",
    "import warnings\n",
    "warnings.filterwarnings(\"ignore\")"
   ]
  },
  {
   "cell_type": "markdown",
   "id": "be42099e-0806-40c5-a321-9d516f388802",
   "metadata": {
    "tags": []
   },
   "source": [
    "# 1. Load Dataset"
   ]
  },
  {
   "cell_type": "code",
   "execution_count": 2,
   "id": "108e1b6d-5265-4f49-87b6-e6a1833af3fd",
   "metadata": {},
   "outputs": [
    {
     "name": "stdout",
     "output_type": "stream",
     "text": [
      "<class 'pandas.core.frame.DataFrame'>\n",
      "RangeIndex: 1026 entries, 0 to 1025\n",
      "Data columns (total 70 columns):\n",
      " #   Column                                                Non-Null Count  Dtype  \n",
      "---  ------                                                --------------  -----  \n",
      " 0   project                                               1026 non-null   object \n",
      " 1   submitter_id                                          1026 non-null   object \n",
      " 2   synchronous_malignancy                                1026 non-null   object \n",
      " 3   ajcc_pathologic_stage                                 1014 non-null   object \n",
      " 4   days_to_diagnosis                                     982 non-null    float64\n",
      " 5   created_datetime                                      0 non-null      float64\n",
      " 6   last_known_disease_status                             1026 non-null   object \n",
      " 7   tissue_or_organ_of_origin                             1026 non-null   object \n",
      " 8   days_to_last_follow_up                                784 non-null    float64\n",
      " 9   age_at_diagnosis                                      985 non-null    float64\n",
      " 10  primary_diagnosis                                     1026 non-null   object \n",
      " 11  updated_datetime                                      1026 non-null   object \n",
      " 12  prior_malignancy                                      1026 non-null   object \n",
      " 13  year_of_diagnosis                                     999 non-null    float64\n",
      " 14  state                                                 1026 non-null   object \n",
      " 15  prior_treatment                                       1026 non-null   object \n",
      " 16  days_to_last_known_disease_status                     0 non-null      float64\n",
      " 17  ajcc_staging_system_edition                           902 non-null    object \n",
      " 18  ajcc_pathologic_t                                     1026 non-null   object \n",
      " 19  days_to_recurrence                                    0 non-null      float64\n",
      " 20  morphology                                            1026 non-null   object \n",
      " 21  ajcc_pathologic_n                                     1025 non-null   object \n",
      " 22  ajcc_pathologic_m                                     1018 non-null   object \n",
      " 23  classification_of_tumor                               1026 non-null   object \n",
      " 24  diagnosis_id                                          1026 non-null   object \n",
      " 25  icd_10_code                                           1026 non-null   object \n",
      " 26  site_of_resection_or_biopsy                           1026 non-null   object \n",
      " 27  tumor_grade                                           1026 non-null   object \n",
      " 28  progression_or_recurrence                             1026 non-null   object \n",
      " 29  cigarettes_per_day                                    783 non-null    float64\n",
      " 30  alcohol_history                                       1026 non-null   object \n",
      " 31  exposure_id                                           1026 non-null   object \n",
      " 32  years_smoked                                          418 non-null    float64\n",
      " 33  alcohol_intensity                                     0 non-null      float64\n",
      " 34  pack_years_smoked                                     783 non-null    float64\n",
      " 35  race                                                  1026 non-null   object \n",
      " 36  gender                                                1026 non-null   object \n",
      " 37  ethnicity                                             1026 non-null   object \n",
      " 38  vital_status                                          1026 non-null   object \n",
      " 39  age_at_index                                          998 non-null    float64\n",
      " 40  days_to_birth                                         985 non-null    float64\n",
      " 41  year_of_birth                                         982 non-null    float64\n",
      " 42  demographic_id                                        1026 non-null   object \n",
      " 43  year_of_death                                         278 non-null    float64\n",
      " 44  days_to_death                                         399 non-null    float64\n",
      " 45  treatments_pharmaceutical_treatment_intent_type       0 non-null      float64\n",
      " 46  treatments_pharmaceutical_treatment_id                1026 non-null   object \n",
      " 47  treatments_pharmaceutical_treatment_type              1026 non-null   object \n",
      " 48  treatments_pharmaceutical_therapeutic_agents          0 non-null      float64\n",
      " 49  treatments_pharmaceutical_treatment_or_therapy        1026 non-null   object \n",
      " 50  treatments_pharmaceutical_days_to_treatment_end       0 non-null      float64\n",
      " 51  treatments_pharmaceutical_days_to_treatment_start     0 non-null      float64\n",
      " 52  treatments_pharmaceutical_regimen_or_line_of_therapy  0 non-null      float64\n",
      " 53  treatments_pharmaceutical_treatment_effect            0 non-null      float64\n",
      " 54  treatments_pharmaceutical_initial_disease_status      0 non-null      float64\n",
      " 55  treatments_pharmaceutical_treatment_anatomic_site     0 non-null      float64\n",
      " 56  treatments_pharmaceutical_treatment_outcome           0 non-null      float64\n",
      " 57  treatments_radiation_treatment_intent_type            0 non-null      float64\n",
      " 58  treatments_radiation_treatment_id                     1026 non-null   object \n",
      " 59  treatments_radiation_treatment_type                   1026 non-null   object \n",
      " 60  treatments_radiation_therapeutic_agents               0 non-null      float64\n",
      " 61  treatments_radiation_treatment_or_therapy             1026 non-null   object \n",
      " 62  treatments_radiation_days_to_treatment_end            0 non-null      float64\n",
      " 63  treatments_radiation_days_to_treatment_start          0 non-null      float64\n",
      " 64  treatments_radiation_regimen_or_line_of_therapy       0 non-null      float64\n",
      " 65  treatments_radiation_treatment_effect                 0 non-null      float64\n",
      " 66  treatments_radiation_initial_disease_status           0 non-null      float64\n",
      " 67  treatments_radiation_treatment_anatomic_site          0 non-null      float64\n",
      " 68  treatments_radiation_treatment_outcome                0 non-null      float64\n",
      " 69  bcr_patient_barcode                                   1026 non-null   object \n",
      "dtypes: float64(34), object(36)\n",
      "memory usage: 561.2+ KB\n"
     ]
    }
   ],
   "source": [
    "tcga_lungs = pd.read_csv(\"TCGA_Lungs_Indexed.csv\")\n",
    "tcga_lungs.info()"
   ]
  },
  {
   "cell_type": "code",
   "execution_count": 3,
   "id": "ba58dd67-5f75-4874-b422-707bea3f547f",
   "metadata": {},
   "outputs": [
    {
     "data": {
      "text/plain": [
       "(1026, 70)"
      ]
     },
     "execution_count": 3,
     "metadata": {},
     "output_type": "execute_result"
    }
   ],
   "source": [
    "tcga_lungs.shape"
   ]
  },
  {
   "cell_type": "markdown",
   "id": "81a90afa-f323-45b3-b60f-93fa212a8b5c",
   "metadata": {
    "tags": []
   },
   "source": [
    "# 2. Data Cleaning"
   ]
  },
  {
   "cell_type": "markdown",
   "id": "efe34dca-6dec-4b89-a394-ad55faf45fb1",
   "metadata": {},
   "source": [
    "## 2.1. Drop Columns with More than 50% NA Values"
   ]
  },
  {
   "cell_type": "code",
   "execution_count": 4,
   "id": "4885a1ec-1b00-49cd-bebb-6abc3225e50d",
   "metadata": {},
   "outputs": [
    {
     "name": "stdout",
     "output_type": "stream",
     "text": [
      "Columns with more then 50% NA Values: \n",
      "\n",
      " Index(['created_datetime', 'days_to_last_known_disease_status',\n",
      "       'days_to_recurrence', 'years_smoked', 'alcohol_intensity',\n",
      "       'year_of_death', 'days_to_death',\n",
      "       'treatments_pharmaceutical_treatment_intent_type',\n",
      "       'treatments_pharmaceutical_therapeutic_agents',\n",
      "       'treatments_pharmaceutical_days_to_treatment_end',\n",
      "       'treatments_pharmaceutical_days_to_treatment_start',\n",
      "       'treatments_pharmaceutical_regimen_or_line_of_therapy',\n",
      "       'treatments_pharmaceutical_treatment_effect',\n",
      "       'treatments_pharmaceutical_initial_disease_status',\n",
      "       'treatments_pharmaceutical_treatment_anatomic_site',\n",
      "       'treatments_pharmaceutical_treatment_outcome',\n",
      "       'treatments_radiation_treatment_intent_type',\n",
      "       'treatments_radiation_therapeutic_agents',\n",
      "       'treatments_radiation_days_to_treatment_end',\n",
      "       'treatments_radiation_days_to_treatment_start',\n",
      "       'treatments_radiation_regimen_or_line_of_therapy',\n",
      "       'treatments_radiation_treatment_effect',\n",
      "       'treatments_radiation_initial_disease_status',\n",
      "       'treatments_radiation_treatment_anatomic_site',\n",
      "       'treatments_radiation_treatment_outcome'],\n",
      "      dtype='object')\n"
     ]
    },
    {
     "data": {
      "text/plain": [
       "(1026, 45)"
      ]
     },
     "execution_count": 4,
     "metadata": {},
     "output_type": "execute_result"
    }
   ],
   "source": [
    "threshold       = 0.5 \n",
    "columns_with_NA = tcga_lungs.columns[tcga_lungs.isna().mean() > threshold]\n",
    "print(\"Columns with more then 50% NA Values: \\n\\n\", columns_with_NA)\n",
    "# Drop the columns\n",
    "tcga_lungs_cleaned = tcga_lungs.drop(columns = columns_with_NA, axis=1)\n",
    "tcga_lungs_cleaned.shape"
   ]
  },
  {
   "cell_type": "markdown",
   "id": "a01f7da9-0551-4486-b59c-c3918d438370",
   "metadata": {},
   "source": [
    "## 2. Drop Columns with \"_id\" in Their Names"
   ]
  },
  {
   "cell_type": "code",
   "execution_count": 5,
   "id": "f55674f9-8da8-410a-9e49-5283d8af91eb",
   "metadata": {},
   "outputs": [
    {
     "name": "stdout",
     "output_type": "stream",
     "text": [
      "Columns with '_id' in Their Names: \n",
      "\n",
      " ['submitter_id', 'diagnosis_id', 'exposure_id', 'demographic_id', 'treatments_pharmaceutical_treatment_id', 'treatments_radiation_treatment_id']\n"
     ]
    },
    {
     "data": {
      "text/plain": [
       "(1026, 39)"
      ]
     },
     "execution_count": 5,
     "metadata": {},
     "output_type": "execute_result"
    }
   ],
   "source": [
    "id_columns      = [columns for columns in tcga_lungs_cleaned.columns if \"_id\" in columns]\n",
    "print(\"Columns with '_id' in Their Names: \\n\\n\", id_columns)\n",
    "# Drop the _id columns\n",
    "tcga_lungs_cleaned = tcga_lungs_cleaned.drop(columns = id_columns)\n",
    "tcga_lungs_cleaned.shape"
   ]
  },
  {
   "cell_type": "markdown",
   "id": "17af6174-a479-416e-9381-e9e618a4b1bd",
   "metadata": {},
   "source": [
    "## 2.3 Drop Unused Columns"
   ]
  },
  {
   "cell_type": "code",
   "execution_count": 6,
   "id": "3a21d672-681e-47e5-a9bb-ee03df06ced2",
   "metadata": {},
   "outputs": [
    {
     "data": {
      "text/plain": [
       "(1026, 23)"
      ]
     },
     "execution_count": 6,
     "metadata": {},
     "output_type": "execute_result"
    }
   ],
   "source": [
    "# Columns to drop\n",
    "columns_to_drop = ['project', 'updated_datetime', 'treatments_pharmaceutical_treatment_type',\n",
    "                   'treatments_radiation_treatment_type', 'bcr_patient_barcode', 'alcohol_history',\n",
    "                   'progression_or_recurrence', 'tumor_grade', 'classification_of_tumor',\n",
    "                   'last_known_disease_status', 'icd_10_code', 'state', 'days_to_diagnosis', 'days_to_birth', 'year_of_birth', 'morphology']\n",
    "tcga_lungs_cleaned = tcga_lungs_cleaned.drop(columns = columns_to_drop)\n",
    "tcga_lungs_cleaned.shape"
   ]
  },
  {
   "cell_type": "markdown",
   "id": "b8d563e3-aba7-4309-9325-80ec9ad98c4c",
   "metadata": {},
   "source": [
    "## 2.4 Impute Missing Values"
   ]
  },
  {
   "cell_type": "code",
   "execution_count": 7,
   "id": "2dc1136f-7001-41e9-bb2a-c557277a7f9b",
   "metadata": {},
   "outputs": [],
   "source": [
    "tcga_lungs_cleaned.replace([\"Not Reported\", \"not reported\"], np.nan, inplace=True)"
   ]
  },
  {
   "cell_type": "code",
   "execution_count": 8,
   "id": "d2c5ab14-8a92-4f42-9efb-bc93c72b12b8",
   "metadata": {},
   "outputs": [
    {
     "data": {
      "text/plain": [
       "synchronous_malignancy                             9.161793\n",
       "ajcc_pathologic_stage                              1.169591\n",
       "tissue_or_organ_of_origin                          0.000000\n",
       "days_to_last_follow_up                            23.586745\n",
       "age_at_diagnosis                                   3.996101\n",
       "primary_diagnosis                                  0.000000\n",
       "prior_malignancy                                   0.097466\n",
       "year_of_diagnosis                                  2.631579\n",
       "prior_treatment                                    0.097466\n",
       "ajcc_staging_system_edition                       12.085770\n",
       "ajcc_pathologic_t                                  0.000000\n",
       "ajcc_pathologic_n                                  0.097466\n",
       "ajcc_pathologic_m                                  0.779727\n",
       "site_of_resection_or_biopsy                        0.000000\n",
       "cigarettes_per_day                                23.684211\n",
       "pack_years_smoked                                 23.684211\n",
       "race                                              17.543860\n",
       "gender                                             0.000000\n",
       "ethnicity                                         29.532164\n",
       "vital_status                                       0.000000\n",
       "age_at_index                                       2.729045\n",
       "treatments_pharmaceutical_treatment_or_therapy    10.623782\n",
       "treatments_radiation_treatment_or_therapy         10.623782\n",
       "dtype: float64"
      ]
     },
     "execution_count": 8,
     "metadata": {},
     "output_type": "execute_result"
    }
   ],
   "source": [
    "tcga_lungs_cleaned.isnull().mean() * 100"
   ]
  },
  {
   "cell_type": "code",
   "execution_count": 7,
   "id": "91f6954f-8b08-4f0d-9369-7405ea17af69",
   "metadata": {},
   "outputs": [],
   "source": [
    "# Impute missing values in object columns with mode\n",
    "object_columns = tcga_lungs_cleaned.select_dtypes(include='object').columns\n",
    "tcga_lungs_cleaned[object_columns] = tcga_lungs_cleaned[object_columns].fillna(tcga_lungs_cleaned[object_columns].mode().iloc[0])\n",
    "\n",
    "# Impute missing values in numerical columns with mean\n",
    "numerical_columns = tcga_lungs_cleaned.select_dtypes(include=['float64']).columns\n",
    "tcga_lungs_cleaned[numerical_columns] = tcga_lungs_cleaned[numerical_columns].fillna(tcga_lungs_cleaned[numerical_columns].mean())\n",
    "\n",
    "tcga_lungs_cleaned.isnull().sum()\n",
    "\n",
    "# Save the cleaned dataset to a new CSV file\n",
    "tcga_lungs_cleaned.to_csv(\"tcga_lungs_cleaned.csv\", index=False)"
   ]
  },
  {
   "cell_type": "markdown",
   "id": "49da5c9c-572e-4be6-81b7-f33074168ca4",
   "metadata": {
    "jp-MarkdownHeadingCollapsed": true,
    "tags": []
   },
   "source": [
    "# 3. Descriptive Statistics"
   ]
  },
  {
   "cell_type": "code",
   "execution_count": 8,
   "id": "1271dc25-3f7d-4420-a2ee-24ed157de163",
   "metadata": {},
   "outputs": [
    {
     "data": {
      "text/html": [
       "<div>\n",
       "<style scoped>\n",
       "    .dataframe tbody tr th:only-of-type {\n",
       "        vertical-align: middle;\n",
       "    }\n",
       "\n",
       "    .dataframe tbody tr th {\n",
       "        vertical-align: top;\n",
       "    }\n",
       "\n",
       "    .dataframe thead th {\n",
       "        text-align: right;\n",
       "    }\n",
       "</style>\n",
       "<table border=\"1\" class=\"dataframe\">\n",
       "  <thead>\n",
       "    <tr style=\"text-align: right;\">\n",
       "      <th></th>\n",
       "      <th>days_to_last_follow_up</th>\n",
       "      <th>age_at_diagnosis</th>\n",
       "      <th>year_of_diagnosis</th>\n",
       "      <th>cigarettes_per_day</th>\n",
       "      <th>pack_years_smoked</th>\n",
       "      <th>age_at_index</th>\n",
       "    </tr>\n",
       "  </thead>\n",
       "  <tbody>\n",
       "    <tr>\n",
       "      <th>count</th>\n",
       "      <td>1026.00</td>\n",
       "      <td>1026.00</td>\n",
       "      <td>1026.00</td>\n",
       "      <td>1026.00</td>\n",
       "      <td>1026.00</td>\n",
       "      <td>1026.00</td>\n",
       "    </tr>\n",
       "    <tr>\n",
       "      <th>mean</th>\n",
       "      <td>904.85</td>\n",
       "      <td>24385.58</td>\n",
       "      <td>2008.00</td>\n",
       "      <td>2.62</td>\n",
       "      <td>47.84</td>\n",
       "      <td>66.30</td>\n",
       "    </tr>\n",
       "    <tr>\n",
       "      <th>std</th>\n",
       "      <td>824.50</td>\n",
       "      <td>3359.03</td>\n",
       "      <td>4.12</td>\n",
       "      <td>1.43</td>\n",
       "      <td>26.11</td>\n",
       "      <td>9.26</td>\n",
       "    </tr>\n",
       "    <tr>\n",
       "      <th>min</th>\n",
       "      <td>0.00</td>\n",
       "      <td>12179.00</td>\n",
       "      <td>1991.00</td>\n",
       "      <td>0.01</td>\n",
       "      <td>0.15</td>\n",
       "      <td>33.00</td>\n",
       "    </tr>\n",
       "    <tr>\n",
       "      <th>25%</th>\n",
       "      <td>440.00</td>\n",
       "      <td>22218.25</td>\n",
       "      <td>2006.00</td>\n",
       "      <td>1.64</td>\n",
       "      <td>30.00</td>\n",
       "      <td>60.00</td>\n",
       "    </tr>\n",
       "    <tr>\n",
       "      <th>50%</th>\n",
       "      <td>900.00</td>\n",
       "      <td>24609.00</td>\n",
       "      <td>2009.00</td>\n",
       "      <td>2.62</td>\n",
       "      <td>47.84</td>\n",
       "      <td>67.00</td>\n",
       "    </tr>\n",
       "    <tr>\n",
       "      <th>75%</th>\n",
       "      <td>928.75</td>\n",
       "      <td>26806.75</td>\n",
       "      <td>2011.00</td>\n",
       "      <td>2.84</td>\n",
       "      <td>51.75</td>\n",
       "      <td>73.00</td>\n",
       "    </tr>\n",
       "    <tr>\n",
       "      <th>max</th>\n",
       "      <td>7248.00</td>\n",
       "      <td>32872.00</td>\n",
       "      <td>2013.00</td>\n",
       "      <td>13.15</td>\n",
       "      <td>240.00</td>\n",
       "      <td>90.00</td>\n",
       "    </tr>\n",
       "  </tbody>\n",
       "</table>\n",
       "</div>"
      ],
      "text/plain": [
       "       days_to_last_follow_up  age_at_diagnosis  year_of_diagnosis  \\\n",
       "count                 1026.00           1026.00            1026.00   \n",
       "mean                   904.85          24385.58            2008.00   \n",
       "std                    824.50           3359.03               4.12   \n",
       "min                      0.00          12179.00            1991.00   \n",
       "25%                    440.00          22218.25            2006.00   \n",
       "50%                    900.00          24609.00            2009.00   \n",
       "75%                    928.75          26806.75            2011.00   \n",
       "max                   7248.00          32872.00            2013.00   \n",
       "\n",
       "       cigarettes_per_day  pack_years_smoked  age_at_index  \n",
       "count             1026.00            1026.00       1026.00  \n",
       "mean                 2.62              47.84         66.30  \n",
       "std                  1.43              26.11          9.26  \n",
       "min                  0.01               0.15         33.00  \n",
       "25%                  1.64              30.00         60.00  \n",
       "50%                  2.62              47.84         67.00  \n",
       "75%                  2.84              51.75         73.00  \n",
       "max                 13.15             240.00         90.00  "
      ]
     },
     "execution_count": 8,
     "metadata": {},
     "output_type": "execute_result"
    }
   ],
   "source": [
    "tcga_lungs_cleaned.describe().round(2) "
   ]
  },
  {
   "cell_type": "code",
   "execution_count": 9,
   "id": "a2939c41-de9c-47b9-a282-c50753a7a6d0",
   "metadata": {},
   "outputs": [
    {
     "data": {
      "text/html": [
       "<div>\n",
       "<style scoped>\n",
       "    .dataframe tbody tr th:only-of-type {\n",
       "        vertical-align: middle;\n",
       "    }\n",
       "\n",
       "    .dataframe tbody tr th {\n",
       "        vertical-align: top;\n",
       "    }\n",
       "\n",
       "    .dataframe thead th {\n",
       "        text-align: right;\n",
       "    }\n",
       "</style>\n",
       "<table border=\"1\" class=\"dataframe\">\n",
       "  <thead>\n",
       "    <tr style=\"text-align: right;\">\n",
       "      <th></th>\n",
       "      <th>count</th>\n",
       "      <th>unique</th>\n",
       "      <th>top</th>\n",
       "      <th>freq</th>\n",
       "    </tr>\n",
       "  </thead>\n",
       "  <tbody>\n",
       "    <tr>\n",
       "      <th>synchronous_malignancy</th>\n",
       "      <td>1026</td>\n",
       "      <td>2</td>\n",
       "      <td>No</td>\n",
       "      <td>1011</td>\n",
       "    </tr>\n",
       "    <tr>\n",
       "      <th>ajcc_pathologic_stage</th>\n",
       "      <td>1026</td>\n",
       "      <td>10</td>\n",
       "      <td>Stage IB</td>\n",
       "      <td>304</td>\n",
       "    </tr>\n",
       "    <tr>\n",
       "      <th>tissue_or_organ_of_origin</th>\n",
       "      <td>1026</td>\n",
       "      <td>6</td>\n",
       "      <td>Upper lobe, lung</td>\n",
       "      <td>563</td>\n",
       "    </tr>\n",
       "    <tr>\n",
       "      <th>primary_diagnosis</th>\n",
       "      <td>1026</td>\n",
       "      <td>18</td>\n",
       "      <td>Squamous cell carcinoma, NOS</td>\n",
       "      <td>469</td>\n",
       "    </tr>\n",
       "    <tr>\n",
       "      <th>prior_malignancy</th>\n",
       "      <td>1026</td>\n",
       "      <td>2</td>\n",
       "      <td>no</td>\n",
       "      <td>878</td>\n",
       "    </tr>\n",
       "    <tr>\n",
       "      <th>prior_treatment</th>\n",
       "      <td>1026</td>\n",
       "      <td>2</td>\n",
       "      <td>No</td>\n",
       "      <td>1016</td>\n",
       "    </tr>\n",
       "    <tr>\n",
       "      <th>ajcc_staging_system_edition</th>\n",
       "      <td>1026</td>\n",
       "      <td>5</td>\n",
       "      <td>7th</td>\n",
       "      <td>614</td>\n",
       "    </tr>\n",
       "    <tr>\n",
       "      <th>ajcc_pathologic_t</th>\n",
       "      <td>1026</td>\n",
       "      <td>9</td>\n",
       "      <td>T2</td>\n",
       "      <td>345</td>\n",
       "    </tr>\n",
       "    <tr>\n",
       "      <th>ajcc_pathologic_n</th>\n",
       "      <td>1026</td>\n",
       "      <td>5</td>\n",
       "      <td>N0</td>\n",
       "      <td>656</td>\n",
       "    </tr>\n",
       "    <tr>\n",
       "      <th>ajcc_pathologic_m</th>\n",
       "      <td>1026</td>\n",
       "      <td>5</td>\n",
       "      <td>M0</td>\n",
       "      <td>775</td>\n",
       "    </tr>\n",
       "    <tr>\n",
       "      <th>site_of_resection_or_biopsy</th>\n",
       "      <td>1026</td>\n",
       "      <td>6</td>\n",
       "      <td>Upper lobe, lung</td>\n",
       "      <td>563</td>\n",
       "    </tr>\n",
       "    <tr>\n",
       "      <th>race</th>\n",
       "      <td>1026</td>\n",
       "      <td>4</td>\n",
       "      <td>white</td>\n",
       "      <td>924</td>\n",
       "    </tr>\n",
       "    <tr>\n",
       "      <th>gender</th>\n",
       "      <td>1026</td>\n",
       "      <td>2</td>\n",
       "      <td>male</td>\n",
       "      <td>615</td>\n",
       "    </tr>\n",
       "    <tr>\n",
       "      <th>ethnicity</th>\n",
       "      <td>1026</td>\n",
       "      <td>2</td>\n",
       "      <td>not hispanic or latino</td>\n",
       "      <td>1011</td>\n",
       "    </tr>\n",
       "    <tr>\n",
       "      <th>vital_status</th>\n",
       "      <td>1026</td>\n",
       "      <td>2</td>\n",
       "      <td>Alive</td>\n",
       "      <td>618</td>\n",
       "    </tr>\n",
       "    <tr>\n",
       "      <th>treatments_pharmaceutical_treatment_or_therapy</th>\n",
       "      <td>1026</td>\n",
       "      <td>2</td>\n",
       "      <td>no</td>\n",
       "      <td>689</td>\n",
       "    </tr>\n",
       "    <tr>\n",
       "      <th>treatments_radiation_treatment_or_therapy</th>\n",
       "      <td>1026</td>\n",
       "      <td>2</td>\n",
       "      <td>no</td>\n",
       "      <td>846</td>\n",
       "    </tr>\n",
       "  </tbody>\n",
       "</table>\n",
       "</div>"
      ],
      "text/plain": [
       "                                               count unique  \\\n",
       "synchronous_malignancy                          1026      2   \n",
       "ajcc_pathologic_stage                           1026     10   \n",
       "tissue_or_organ_of_origin                       1026      6   \n",
       "primary_diagnosis                               1026     18   \n",
       "prior_malignancy                                1026      2   \n",
       "prior_treatment                                 1026      2   \n",
       "ajcc_staging_system_edition                     1026      5   \n",
       "ajcc_pathologic_t                               1026      9   \n",
       "ajcc_pathologic_n                               1026      5   \n",
       "ajcc_pathologic_m                               1026      5   \n",
       "site_of_resection_or_biopsy                     1026      6   \n",
       "race                                            1026      4   \n",
       "gender                                          1026      2   \n",
       "ethnicity                                       1026      2   \n",
       "vital_status                                    1026      2   \n",
       "treatments_pharmaceutical_treatment_or_therapy  1026      2   \n",
       "treatments_radiation_treatment_or_therapy       1026      2   \n",
       "\n",
       "                                                                         top  \\\n",
       "synchronous_malignancy                                                    No   \n",
       "ajcc_pathologic_stage                                               Stage IB   \n",
       "tissue_or_organ_of_origin                                   Upper lobe, lung   \n",
       "primary_diagnosis                               Squamous cell carcinoma, NOS   \n",
       "prior_malignancy                                                          no   \n",
       "prior_treatment                                                           No   \n",
       "ajcc_staging_system_edition                                              7th   \n",
       "ajcc_pathologic_t                                                         T2   \n",
       "ajcc_pathologic_n                                                         N0   \n",
       "ajcc_pathologic_m                                                         M0   \n",
       "site_of_resection_or_biopsy                                 Upper lobe, lung   \n",
       "race                                                                   white   \n",
       "gender                                                                  male   \n",
       "ethnicity                                             not hispanic or latino   \n",
       "vital_status                                                           Alive   \n",
       "treatments_pharmaceutical_treatment_or_therapy                            no   \n",
       "treatments_radiation_treatment_or_therapy                                 no   \n",
       "\n",
       "                                                freq  \n",
       "synchronous_malignancy                          1011  \n",
       "ajcc_pathologic_stage                            304  \n",
       "tissue_or_organ_of_origin                        563  \n",
       "primary_diagnosis                                469  \n",
       "prior_malignancy                                 878  \n",
       "prior_treatment                                 1016  \n",
       "ajcc_staging_system_edition                      614  \n",
       "ajcc_pathologic_t                                345  \n",
       "ajcc_pathologic_n                                656  \n",
       "ajcc_pathologic_m                                775  \n",
       "site_of_resection_or_biopsy                      563  \n",
       "race                                             924  \n",
       "gender                                           615  \n",
       "ethnicity                                       1011  \n",
       "vital_status                                     618  \n",
       "treatments_pharmaceutical_treatment_or_therapy   689  \n",
       "treatments_radiation_treatment_or_therapy        846  "
      ]
     },
     "execution_count": 9,
     "metadata": {},
     "output_type": "execute_result"
    }
   ],
   "source": [
    "tcga_lungs_cleaned.describe(include=object).T "
   ]
  },
  {
   "cell_type": "markdown",
   "id": "31e84d12-3093-4ce5-8ede-231d5d49bab5",
   "metadata": {
    "tags": []
   },
   "source": [
    "# 4. Trasnform Columns for Data Preprocessing Pipelines"
   ]
  },
  {
   "cell_type": "code",
   "execution_count": 10,
   "id": "889e1328-a68f-477f-be33-fe19eaa586a6",
   "metadata": {},
   "outputs": [
    {
     "data": {
      "text/plain": [
       "Stage IB      304\n",
       "Stage IA      224\n",
       "Stage IIB     168\n",
       "Stage IIIA    137\n",
       "Stage IIA     115\n",
       "Stage IV       33\n",
       "Stage IIIB     30\n",
       "Stage I         8\n",
       "Stage II        4\n",
       "Stage III       3\n",
       "Name: ajcc_pathologic_stage, dtype: int64"
      ]
     },
     "execution_count": 10,
     "metadata": {},
     "output_type": "execute_result"
    }
   ],
   "source": [
    "tcga_lungs_cleaned[\"ajcc_pathologic_stage\"].value_counts()"
   ]
  },
  {
   "cell_type": "code",
   "execution_count": 11,
   "id": "ccde31fa-c3c7-4247-bb08-93cd84d87222",
   "metadata": {},
   "outputs": [],
   "source": [
    "# Trasnform \"ajcc_pathologic_stage\" for Invasive and Non-Invasive Cancer Stagging\n",
    "def map_to_binary_label(stage):\n",
    "    # Define the stages considered invasive\n",
    "    invasive_stages = ['Stage IIA', 'Stage IIB', 'Stage IIIA', 'Stage IIIB', 'Stage IV']\n",
    "    \n",
    "    # Map to labels: 'Invasive' for invasive stages, 'Non-Invasive' for others\n",
    "    return 'Invasive' if stage in invasive_stages else 'Non-Invasive'\n",
    "\n",
    "# Apply the mapping function to create a new target column with labels\n",
    "tcga_lungs_cleaned['cancer_stagging'] = tcga_lungs_cleaned['ajcc_pathologic_stage'].apply(map_to_binary_label)\n",
    "tcga_lungs_cleaned = tcga_lungs_cleaned.drop(\"ajcc_pathologic_stage\", axis=1)\n",
    "\n",
    "tcga_lungs_cleaned = tcga_lungs_cleaned.assign(primary_diagnosis = tcga_lungs_cleaned['primary_diagnosis'].str.split(', ')).explode('primary_diagnosis').reset_index(drop=True)\n",
    "\n",
    "tissueOrgan_mappingDict = {\n",
    "    'Upper lobe, lung': 'Upper lobe',\n",
    "    'Lower lobe, lung': 'Lower lobe',\n",
    "    'Lung, NOS': 'NOS',\n",
    "    'Middle lobe, lung': 'Middle lobe',\n",
    "    'Overlapping lesion of lung': 'Overlapping lesion',\n",
    "    'Main bronchus': 'Main bronchus'\n",
    "}\n",
    "\n",
    "ethnicity_mappingDict = {\n",
    "    'not hispanic or latino' : 'not hispanic' ,\n",
    "    'hispanic or latino'     : 'hispanic'}\n",
    "\n",
    "race_mappingDict = {'white' : 'white',\n",
    "                    'black or african american' : 'black',\n",
    "                    'asian' : 'asian',\n",
    "                    'american indian or alaska native' : 'american indian'}\n",
    "\n",
    "tcga_lungs_cleaned['tissue_or_organ_of_origin']   = tcga_lungs_cleaned['tissue_or_organ_of_origin'].replace(tissueOrgan_mappingDict)\n",
    "tcga_lungs_cleaned['site_of_resection_or_biopsy'] = tcga_lungs_cleaned['site_of_resection_or_biopsy'].replace(tissueOrgan_mappingDict)\n",
    "tcga_lungs_cleaned['ethnicity']                   = tcga_lungs_cleaned['ethnicity'].replace(ethnicity_mappingDict)\n",
    "tcga_lungs_cleaned['race']                        = tcga_lungs_cleaned['race'].replace(race_mappingDict)"
   ]
  },
  {
   "cell_type": "markdown",
   "id": "d5c4ffb1-417a-4890-888b-649fd5a7e8da",
   "metadata": {
    "tags": []
   },
   "source": [
    "# 5. Data Preprocessing Pipelines"
   ]
  },
  {
   "cell_type": "markdown",
   "id": "d7c16e42-2298-41a0-b616-e0892302e0c2",
   "metadata": {
    "tags": []
   },
   "source": [
    "## 5.1. Extract Features and Target"
   ]
  },
  {
   "cell_type": "code",
   "execution_count": 12,
   "id": "41353c75-537f-4f03-ba1b-c7b7d0bb85cf",
   "metadata": {},
   "outputs": [],
   "source": [
    "tcga_lungs_cleaned_cp = tcga_lungs_cleaned.copy()\n",
    "features              = tcga_lungs_cleaned_cp.drop('cancer_stagging', axis=1)\n",
    "target                = tcga_lungs_cleaned_cp['cancer_stagging']"
   ]
  },
  {
   "cell_type": "markdown",
   "id": "d8f5d5f9-99b0-428b-bd8c-e431399c79d6",
   "metadata": {
    "tags": []
   },
   "source": [
    "## 5.2. Define Pipelines"
   ]
  },
  {
   "cell_type": "code",
   "execution_count": 13,
   "id": "a35096b4-da85-43b0-b7c9-3dc4fe50e724",
   "metadata": {},
   "outputs": [
    {
     "data": {
      "text/html": [
       "<style>#sk-container-id-1 {color: black;background-color: white;}#sk-container-id-1 pre{padding: 0;}#sk-container-id-1 div.sk-toggleable {background-color: white;}#sk-container-id-1 label.sk-toggleable__label {cursor: pointer;display: block;width: 100%;margin-bottom: 0;padding: 0.3em;box-sizing: border-box;text-align: center;}#sk-container-id-1 label.sk-toggleable__label-arrow:before {content: \"▸\";float: left;margin-right: 0.25em;color: #696969;}#sk-container-id-1 label.sk-toggleable__label-arrow:hover:before {color: black;}#sk-container-id-1 div.sk-estimator:hover label.sk-toggleable__label-arrow:before {color: black;}#sk-container-id-1 div.sk-toggleable__content {max-height: 0;max-width: 0;overflow: hidden;text-align: left;background-color: #f0f8ff;}#sk-container-id-1 div.sk-toggleable__content pre {margin: 0.2em;color: black;border-radius: 0.25em;background-color: #f0f8ff;}#sk-container-id-1 input.sk-toggleable__control:checked~div.sk-toggleable__content {max-height: 200px;max-width: 100%;overflow: auto;}#sk-container-id-1 input.sk-toggleable__control:checked~label.sk-toggleable__label-arrow:before {content: \"▾\";}#sk-container-id-1 div.sk-estimator input.sk-toggleable__control:checked~label.sk-toggleable__label {background-color: #d4ebff;}#sk-container-id-1 div.sk-label input.sk-toggleable__control:checked~label.sk-toggleable__label {background-color: #d4ebff;}#sk-container-id-1 input.sk-hidden--visually {border: 0;clip: rect(1px 1px 1px 1px);clip: rect(1px, 1px, 1px, 1px);height: 1px;margin: -1px;overflow: hidden;padding: 0;position: absolute;width: 1px;}#sk-container-id-1 div.sk-estimator {font-family: monospace;background-color: #f0f8ff;border: 1px dotted black;border-radius: 0.25em;box-sizing: border-box;margin-bottom: 0.5em;}#sk-container-id-1 div.sk-estimator:hover {background-color: #d4ebff;}#sk-container-id-1 div.sk-parallel-item::after {content: \"\";width: 100%;border-bottom: 1px solid gray;flex-grow: 1;}#sk-container-id-1 div.sk-label:hover label.sk-toggleable__label {background-color: #d4ebff;}#sk-container-id-1 div.sk-serial::before {content: \"\";position: absolute;border-left: 1px solid gray;box-sizing: border-box;top: 0;bottom: 0;left: 50%;z-index: 0;}#sk-container-id-1 div.sk-serial {display: flex;flex-direction: column;align-items: center;background-color: white;padding-right: 0.2em;padding-left: 0.2em;position: relative;}#sk-container-id-1 div.sk-item {position: relative;z-index: 1;}#sk-container-id-1 div.sk-parallel {display: flex;align-items: stretch;justify-content: center;background-color: white;position: relative;}#sk-container-id-1 div.sk-item::before, #sk-container-id-1 div.sk-parallel-item::before {content: \"\";position: absolute;border-left: 1px solid gray;box-sizing: border-box;top: 0;bottom: 0;left: 50%;z-index: -1;}#sk-container-id-1 div.sk-parallel-item {display: flex;flex-direction: column;z-index: 1;position: relative;background-color: white;}#sk-container-id-1 div.sk-parallel-item:first-child::after {align-self: flex-end;width: 50%;}#sk-container-id-1 div.sk-parallel-item:last-child::after {align-self: flex-start;width: 50%;}#sk-container-id-1 div.sk-parallel-item:only-child::after {width: 0;}#sk-container-id-1 div.sk-dashed-wrapped {border: 1px dashed gray;margin: 0 0.4em 0.5em 0.4em;box-sizing: border-box;padding-bottom: 0.4em;background-color: white;}#sk-container-id-1 div.sk-label label {font-family: monospace;font-weight: bold;display: inline-block;line-height: 1.2em;}#sk-container-id-1 div.sk-label-container {text-align: center;}#sk-container-id-1 div.sk-container {/* jupyter's `normalize.less` sets `[hidden] { display: none; }` but bootstrap.min.css set `[hidden] { display: none !important; }` so we also need the `!important` here to be able to override the default hidden behavior on the sphinx rendered scikit-learn.org. See: https://github.com/scikit-learn/scikit-learn/issues/21755 */display: inline-block !important;position: relative;}#sk-container-id-1 div.sk-text-repr-fallback {display: none;}</style><div id=\"sk-container-id-1\" class=\"sk-top-container\"><div class=\"sk-text-repr-fallback\"><pre>ColumnTransformer(transformers=[(&#x27;numerical&#x27;,\n",
       "                                 Pipeline(steps=[(&#x27;impute&#x27;, SimpleImputer()),\n",
       "                                                 (&#x27;scale&#x27;, RobustScaler())]),\n",
       "                                 [&#x27;days_to_last_follow_up&#x27;, &#x27;age_at_diagnosis&#x27;,\n",
       "                                  &#x27;year_of_diagnosis&#x27;, &#x27;cigarettes_per_day&#x27;,\n",
       "                                  &#x27;pack_years_smoked&#x27;, &#x27;age_at_index&#x27;]),\n",
       "                                (&#x27;categorical&#x27;,\n",
       "                                 Pipeline(steps=[(&#x27;ohe&#x27;, OneHotEncoder())]),\n",
       "                                 [&#x27;synchronous_malignancy&#x27;,\n",
       "                                  &#x27;tissue_or_organ_of_origin&#x27;,\n",
       "                                  &#x27;prior_malignancy&#x27;, &#x27;prior_treatment&#x27;,\n",
       "                                  &#x27;ajcc_staging_system_edition&#x27;,\n",
       "                                  &#x27;ajcc_pathologic_t&#x27;, &#x27;ajcc_pathologic_n&#x27;,\n",
       "                                  &#x27;ajcc_pathologic_m&#x27;,\n",
       "                                  &#x27;site_of_resection_or_biopsy&#x27;, &#x27;race&#x27;,\n",
       "                                  &#x27;gender&#x27;, &#x27;ethnicity&#x27;, &#x27;vital_status&#x27;,\n",
       "                                  &#x27;treatments_pharmaceutical_treatment_or_therapy&#x27;,\n",
       "                                  &#x27;treatments_radiation_treatment_or_therapy&#x27;])])</pre><b>In a Jupyter environment, please rerun this cell to show the HTML representation or trust the notebook. <br />On GitHub, the HTML representation is unable to render, please try loading this page with nbviewer.org.</b></div><div class=\"sk-container\" hidden><div class=\"sk-item sk-dashed-wrapped\"><div class=\"sk-label-container\"><div class=\"sk-label sk-toggleable\"><input class=\"sk-toggleable__control sk-hidden--visually\" id=\"sk-estimator-id-1\" type=\"checkbox\" ><label for=\"sk-estimator-id-1\" class=\"sk-toggleable__label sk-toggleable__label-arrow\">ColumnTransformer</label><div class=\"sk-toggleable__content\"><pre>ColumnTransformer(transformers=[(&#x27;numerical&#x27;,\n",
       "                                 Pipeline(steps=[(&#x27;impute&#x27;, SimpleImputer()),\n",
       "                                                 (&#x27;scale&#x27;, RobustScaler())]),\n",
       "                                 [&#x27;days_to_last_follow_up&#x27;, &#x27;age_at_diagnosis&#x27;,\n",
       "                                  &#x27;year_of_diagnosis&#x27;, &#x27;cigarettes_per_day&#x27;,\n",
       "                                  &#x27;pack_years_smoked&#x27;, &#x27;age_at_index&#x27;]),\n",
       "                                (&#x27;categorical&#x27;,\n",
       "                                 Pipeline(steps=[(&#x27;ohe&#x27;, OneHotEncoder())]),\n",
       "                                 [&#x27;synchronous_malignancy&#x27;,\n",
       "                                  &#x27;tissue_or_organ_of_origin&#x27;,\n",
       "                                  &#x27;prior_malignancy&#x27;, &#x27;prior_treatment&#x27;,\n",
       "                                  &#x27;ajcc_staging_system_edition&#x27;,\n",
       "                                  &#x27;ajcc_pathologic_t&#x27;, &#x27;ajcc_pathologic_n&#x27;,\n",
       "                                  &#x27;ajcc_pathologic_m&#x27;,\n",
       "                                  &#x27;site_of_resection_or_biopsy&#x27;, &#x27;race&#x27;,\n",
       "                                  &#x27;gender&#x27;, &#x27;ethnicity&#x27;, &#x27;vital_status&#x27;,\n",
       "                                  &#x27;treatments_pharmaceutical_treatment_or_therapy&#x27;,\n",
       "                                  &#x27;treatments_radiation_treatment_or_therapy&#x27;])])</pre></div></div></div><div class=\"sk-parallel\"><div class=\"sk-parallel-item\"><div class=\"sk-item\"><div class=\"sk-label-container\"><div class=\"sk-label sk-toggleable\"><input class=\"sk-toggleable__control sk-hidden--visually\" id=\"sk-estimator-id-2\" type=\"checkbox\" ><label for=\"sk-estimator-id-2\" class=\"sk-toggleable__label sk-toggleable__label-arrow\">numerical</label><div class=\"sk-toggleable__content\"><pre>[&#x27;days_to_last_follow_up&#x27;, &#x27;age_at_diagnosis&#x27;, &#x27;year_of_diagnosis&#x27;, &#x27;cigarettes_per_day&#x27;, &#x27;pack_years_smoked&#x27;, &#x27;age_at_index&#x27;]</pre></div></div></div><div class=\"sk-serial\"><div class=\"sk-item\"><div class=\"sk-serial\"><div class=\"sk-item\"><div class=\"sk-estimator sk-toggleable\"><input class=\"sk-toggleable__control sk-hidden--visually\" id=\"sk-estimator-id-3\" type=\"checkbox\" ><label for=\"sk-estimator-id-3\" class=\"sk-toggleable__label sk-toggleable__label-arrow\">SimpleImputer</label><div class=\"sk-toggleable__content\"><pre>SimpleImputer()</pre></div></div></div><div class=\"sk-item\"><div class=\"sk-estimator sk-toggleable\"><input class=\"sk-toggleable__control sk-hidden--visually\" id=\"sk-estimator-id-4\" type=\"checkbox\" ><label for=\"sk-estimator-id-4\" class=\"sk-toggleable__label sk-toggleable__label-arrow\">RobustScaler</label><div class=\"sk-toggleable__content\"><pre>RobustScaler()</pre></div></div></div></div></div></div></div></div><div class=\"sk-parallel-item\"><div class=\"sk-item\"><div class=\"sk-label-container\"><div class=\"sk-label sk-toggleable\"><input class=\"sk-toggleable__control sk-hidden--visually\" id=\"sk-estimator-id-5\" type=\"checkbox\" ><label for=\"sk-estimator-id-5\" class=\"sk-toggleable__label sk-toggleable__label-arrow\">categorical</label><div class=\"sk-toggleable__content\"><pre>[&#x27;synchronous_malignancy&#x27;, &#x27;tissue_or_organ_of_origin&#x27;, &#x27;prior_malignancy&#x27;, &#x27;prior_treatment&#x27;, &#x27;ajcc_staging_system_edition&#x27;, &#x27;ajcc_pathologic_t&#x27;, &#x27;ajcc_pathologic_n&#x27;, &#x27;ajcc_pathologic_m&#x27;, &#x27;site_of_resection_or_biopsy&#x27;, &#x27;race&#x27;, &#x27;gender&#x27;, &#x27;ethnicity&#x27;, &#x27;vital_status&#x27;, &#x27;treatments_pharmaceutical_treatment_or_therapy&#x27;, &#x27;treatments_radiation_treatment_or_therapy&#x27;]</pre></div></div></div><div class=\"sk-serial\"><div class=\"sk-item\"><div class=\"sk-serial\"><div class=\"sk-item\"><div class=\"sk-estimator sk-toggleable\"><input class=\"sk-toggleable__control sk-hidden--visually\" id=\"sk-estimator-id-6\" type=\"checkbox\" ><label for=\"sk-estimator-id-6\" class=\"sk-toggleable__label sk-toggleable__label-arrow\">OneHotEncoder</label><div class=\"sk-toggleable__content\"><pre>OneHotEncoder()</pre></div></div></div></div></div></div></div></div></div></div></div></div>"
      ],
      "text/plain": [
       "ColumnTransformer(transformers=[('numerical',\n",
       "                                 Pipeline(steps=[('impute', SimpleImputer()),\n",
       "                                                 ('scale', RobustScaler())]),\n",
       "                                 ['days_to_last_follow_up', 'age_at_diagnosis',\n",
       "                                  'year_of_diagnosis', 'cigarettes_per_day',\n",
       "                                  'pack_years_smoked', 'age_at_index']),\n",
       "                                ('categorical',\n",
       "                                 Pipeline(steps=[('ohe', OneHotEncoder())]),\n",
       "                                 ['synchronous_malignancy',\n",
       "                                  'tissue_or_organ_of_origin',\n",
       "                                  'prior_malignancy', 'prior_treatment',\n",
       "                                  'ajcc_staging_system_edition',\n",
       "                                  'ajcc_pathologic_t', 'ajcc_pathologic_n',\n",
       "                                  'ajcc_pathologic_m',\n",
       "                                  'site_of_resection_or_biopsy', 'race',\n",
       "                                  'gender', 'ethnicity', 'vital_status',\n",
       "                                  'treatments_pharmaceutical_treatment_or_therapy',\n",
       "                                  'treatments_radiation_treatment_or_therapy'])])"
      ]
     },
     "execution_count": 13,
     "metadata": {},
     "output_type": "execute_result"
    }
   ],
   "source": [
    "### Select categorical columns\n",
    "categorical_Columns = ['synchronous_malignancy', 'tissue_or_organ_of_origin', 'prior_malignancy', 'prior_treatment',\n",
    "                       'ajcc_staging_system_edition', 'ajcc_pathologic_t', 'ajcc_pathologic_n', 'ajcc_pathologic_m',\n",
    "                       'site_of_resection_or_biopsy', 'race', 'gender', 'ethnicity', 'vital_status', \n",
    "                       'treatments_pharmaceutical_treatment_or_therapy','treatments_radiation_treatment_or_therapy'] \n",
    "\n",
    "### Select numerical columns\n",
    "numerical_Columns = ['days_to_last_follow_up', 'age_at_diagnosis', 'year_of_diagnosis','cigarettes_per_day', \n",
    "                     'pack_years_smoked', 'age_at_index'] \n",
    "\n",
    "categorical_pipeline = Pipeline( steps = [(\"ohe\", OneHotEncoder())])\n",
    "numerical_Pipeline   = Pipeline( steps = [(\"impute\", SimpleImputer(strategy=\"mean\")) ,(\"scale\", RobustScaler())])\n",
    "### Make ColumnTransformer\n",
    "transformation_pipeline = ColumnTransformer(transformers=[(\"numerical\", numerical_Pipeline, numerical_Columns),\n",
    "                                    (\"categorical\", categorical_pipeline, categorical_Columns)])\n",
    "transformation_pipeline"
   ]
  },
  {
   "cell_type": "markdown",
   "id": "6555e914-c713-4af6-8d99-a9caf405af80",
   "metadata": {
    "jp-MarkdownHeadingCollapsed": true,
    "tags": []
   },
   "source": [
    "## 5.3. Train test split"
   ]
  },
  {
   "cell_type": "code",
   "execution_count": 14,
   "id": "1d0d280a-96f2-4f1d-895f-ace795faba57",
   "metadata": {},
   "outputs": [
    {
     "name": "stdout",
     "output_type": "stream",
     "text": [
      "Traning Data Size\t: (1337, 22) || (1337,) \n",
      "\n",
      "Testing Data Size\t: (573, 22) || (573,)\n"
     ]
    }
   ],
   "source": [
    "# Apply train test split\n",
    "X_train, X_test, y_train, y_test = train_test_split(features, target, \n",
    "                                                    stratify = target,\n",
    "                                                    test_size=0.3,\n",
    "                                                    random_state=42)\n",
    "\n",
    "print(\"Traning Data Size\\t:\", X_train.shape, \"||\", y_train.shape, \"\\n\")\n",
    "print(\"Testing Data Size\\t:\", X_test.shape, \"||\", y_test.shape)"
   ]
  },
  {
   "cell_type": "markdown",
   "id": "1d7e10f0-6dcc-462c-939d-383e8d4c3ad7",
   "metadata": {
    "tags": []
   },
   "source": [
    "## 5.4. Feature's Transformation"
   ]
  },
  {
   "cell_type": "code",
   "execution_count": 16,
   "id": "b9fa81cb-5bc8-4f99-a06c-81b0a5782926",
   "metadata": {},
   "outputs": [],
   "source": [
    "X_train_processed = transformation_pipeline.fit_transform(X_train)\n",
    "X_test_processed  = transformation_pipeline.transform(X_test)"
   ]
  },
  {
   "cell_type": "markdown",
   "id": "b4969ec8-a6ed-43d9-ab15-59fa7da2615f",
   "metadata": {
    "jp-MarkdownHeadingCollapsed": true,
    "tags": []
   },
   "source": [
    "# 6. Random Forest Classifier"
   ]
  },
  {
   "cell_type": "code",
   "execution_count": 17,
   "id": "a6e99475-38db-459b-92ba-511d5c393319",
   "metadata": {},
   "outputs": [
    {
     "data": {
      "text/html": [
       "<style>#sk-container-id-2 {color: black;background-color: white;}#sk-container-id-2 pre{padding: 0;}#sk-container-id-2 div.sk-toggleable {background-color: white;}#sk-container-id-2 label.sk-toggleable__label {cursor: pointer;display: block;width: 100%;margin-bottom: 0;padding: 0.3em;box-sizing: border-box;text-align: center;}#sk-container-id-2 label.sk-toggleable__label-arrow:before {content: \"▸\";float: left;margin-right: 0.25em;color: #696969;}#sk-container-id-2 label.sk-toggleable__label-arrow:hover:before {color: black;}#sk-container-id-2 div.sk-estimator:hover label.sk-toggleable__label-arrow:before {color: black;}#sk-container-id-2 div.sk-toggleable__content {max-height: 0;max-width: 0;overflow: hidden;text-align: left;background-color: #f0f8ff;}#sk-container-id-2 div.sk-toggleable__content pre {margin: 0.2em;color: black;border-radius: 0.25em;background-color: #f0f8ff;}#sk-container-id-2 input.sk-toggleable__control:checked~div.sk-toggleable__content {max-height: 200px;max-width: 100%;overflow: auto;}#sk-container-id-2 input.sk-toggleable__control:checked~label.sk-toggleable__label-arrow:before {content: \"▾\";}#sk-container-id-2 div.sk-estimator input.sk-toggleable__control:checked~label.sk-toggleable__label {background-color: #d4ebff;}#sk-container-id-2 div.sk-label input.sk-toggleable__control:checked~label.sk-toggleable__label {background-color: #d4ebff;}#sk-container-id-2 input.sk-hidden--visually {border: 0;clip: rect(1px 1px 1px 1px);clip: rect(1px, 1px, 1px, 1px);height: 1px;margin: -1px;overflow: hidden;padding: 0;position: absolute;width: 1px;}#sk-container-id-2 div.sk-estimator {font-family: monospace;background-color: #f0f8ff;border: 1px dotted black;border-radius: 0.25em;box-sizing: border-box;margin-bottom: 0.5em;}#sk-container-id-2 div.sk-estimator:hover {background-color: #d4ebff;}#sk-container-id-2 div.sk-parallel-item::after {content: \"\";width: 100%;border-bottom: 1px solid gray;flex-grow: 1;}#sk-container-id-2 div.sk-label:hover label.sk-toggleable__label {background-color: #d4ebff;}#sk-container-id-2 div.sk-serial::before {content: \"\";position: absolute;border-left: 1px solid gray;box-sizing: border-box;top: 0;bottom: 0;left: 50%;z-index: 0;}#sk-container-id-2 div.sk-serial {display: flex;flex-direction: column;align-items: center;background-color: white;padding-right: 0.2em;padding-left: 0.2em;position: relative;}#sk-container-id-2 div.sk-item {position: relative;z-index: 1;}#sk-container-id-2 div.sk-parallel {display: flex;align-items: stretch;justify-content: center;background-color: white;position: relative;}#sk-container-id-2 div.sk-item::before, #sk-container-id-2 div.sk-parallel-item::before {content: \"\";position: absolute;border-left: 1px solid gray;box-sizing: border-box;top: 0;bottom: 0;left: 50%;z-index: -1;}#sk-container-id-2 div.sk-parallel-item {display: flex;flex-direction: column;z-index: 1;position: relative;background-color: white;}#sk-container-id-2 div.sk-parallel-item:first-child::after {align-self: flex-end;width: 50%;}#sk-container-id-2 div.sk-parallel-item:last-child::after {align-self: flex-start;width: 50%;}#sk-container-id-2 div.sk-parallel-item:only-child::after {width: 0;}#sk-container-id-2 div.sk-dashed-wrapped {border: 1px dashed gray;margin: 0 0.4em 0.5em 0.4em;box-sizing: border-box;padding-bottom: 0.4em;background-color: white;}#sk-container-id-2 div.sk-label label {font-family: monospace;font-weight: bold;display: inline-block;line-height: 1.2em;}#sk-container-id-2 div.sk-label-container {text-align: center;}#sk-container-id-2 div.sk-container {/* jupyter's `normalize.less` sets `[hidden] { display: none; }` but bootstrap.min.css set `[hidden] { display: none !important; }` so we also need the `!important` here to be able to override the default hidden behavior on the sphinx rendered scikit-learn.org. See: https://github.com/scikit-learn/scikit-learn/issues/21755 */display: inline-block !important;position: relative;}#sk-container-id-2 div.sk-text-repr-fallback {display: none;}</style><div id=\"sk-container-id-2\" class=\"sk-top-container\"><div class=\"sk-text-repr-fallback\"><pre>RandomForestClassifier(class_weight=&#x27;balanced_subsample&#x27;, max_depth=8,\n",
       "                       random_state=42)</pre><b>In a Jupyter environment, please rerun this cell to show the HTML representation or trust the notebook. <br />On GitHub, the HTML representation is unable to render, please try loading this page with nbviewer.org.</b></div><div class=\"sk-container\" hidden><div class=\"sk-item\"><div class=\"sk-estimator sk-toggleable\"><input class=\"sk-toggleable__control sk-hidden--visually\" id=\"sk-estimator-id-7\" type=\"checkbox\" checked><label for=\"sk-estimator-id-7\" class=\"sk-toggleable__label sk-toggleable__label-arrow\">RandomForestClassifier</label><div class=\"sk-toggleable__content\"><pre>RandomForestClassifier(class_weight=&#x27;balanced_subsample&#x27;, max_depth=8,\n",
       "                       random_state=42)</pre></div></div></div></div></div>"
      ],
      "text/plain": [
       "RandomForestClassifier(class_weight='balanced_subsample', max_depth=8,\n",
       "                       random_state=42)"
      ]
     },
     "execution_count": 17,
     "metadata": {},
     "output_type": "execute_result"
    }
   ],
   "source": [
    "randomForest = RandomForestClassifier(max_depth=8, \n",
    "                                          class_weight='balanced_subsample', \n",
    "                                          random_state=42)\n",
    "randomForest.fit(X_train_processed,y_train)"
   ]
  },
  {
   "cell_type": "code",
   "execution_count": 18,
   "id": "6c2a4432-a109-43c9-83aa-9b1737865f9f",
   "metadata": {},
   "outputs": [],
   "source": [
    "rf_prediction_test  = randomForest.predict(X_test_processed)\n",
    "rf_prediction_train = randomForest.predict(X_train_processed)"
   ]
  },
  {
   "cell_type": "code",
   "execution_count": 19,
   "id": "893edddf-6aae-49e2-805d-ed0b8a1a7a38",
   "metadata": {},
   "outputs": [
    {
     "name": "stdout",
     "output_type": "stream",
     "text": [
      "              precision    recall  f1-score   support\n",
      "\n",
      "    Invasive       0.98      0.94      0.96       267\n",
      "Non-Invasive       0.95      0.98      0.97       306\n",
      "\n",
      "    accuracy                           0.97       573\n",
      "   macro avg       0.97      0.96      0.96       573\n",
      "weighted avg       0.97      0.97      0.97       573\n",
      "\n"
     ]
    }
   ],
   "source": [
    "print(classification_report(y_test, rf_prediction_test))"
   ]
  },
  {
   "cell_type": "code",
   "execution_count": 20,
   "id": "1f79123b-ab44-491b-9753-5c3e648da796",
   "metadata": {},
   "outputs": [
    {
     "data": {
      "image/png": "[encoded data removed]",
      "text/plain": [
       "<Figure size 640x480 with 2 Axes>"
      ]
     },
     "metadata": {},
     "output_type": "display_data"
    },
    {
     "data": {
      "text/plain": [
       "<Figure size 800x400 with 0 Axes>"
      ]
     },
     "metadata": {},
     "output_type": "display_data"
    }
   ],
   "source": [
    "rf_cm  = confusion_matrix(y_test, rf_prediction_test)\n",
    "cm_dip = ConfusionMatrixDisplay(confusion_matrix = rf_cm,\n",
    "                                       display_labels=['0','1'])\n",
    "cm_dip.plot()\n",
    "plt.figure(figsize = (8,4))\n",
    "plt.show()"
   ]
  },
  {
   "cell_type": "markdown",
   "id": "bbaccc8e-d045-41fb-bfcc-9c0af36b633a",
   "metadata": {},
   "source": [
    "## 6.3. Evaludation on Training Set"
   ]
  },
  {
   "cell_type": "code",
   "execution_count": 22,
   "id": "03d15831-d03f-4b3a-a646-ecb7b1262a1f",
   "metadata": {},
   "outputs": [
    {
     "name": "stdout",
     "output_type": "stream",
     "text": [
      "Random Forest Evaludation on Training Set \n",
      "\n",
      "\n",
      "Accuracy :\t 0.9903\n",
      "Recall :\t 0.9903\n",
      "Precision :\t 0.9903\n",
      "F1 - Score :\t 0.9903\n"
     ]
    }
   ],
   "source": [
    "rf_accuracy_train   = accuracy_score(y_train, rf_prediction_train)\n",
    "rf_recall_train     = recall_score(y_train, rf_prediction_train, average='micro')\n",
    "rf_precision_train  = precision_score(y_train, rf_prediction_train, average='micro')\n",
    "rf_f1_Score_train   = f1_score(y_train, rf_prediction_train, average='micro')\n",
    "\n",
    "print(\"Random Forest Evaludation on Training Set \\n\\n\")\n",
    "print(\"Accuracy :\\t\", round(rf_accuracy_train, 4))\n",
    "print(\"Recall :\\t\", round(rf_recall_train, 4))\n",
    "print(\"Precision :\\t\", round(rf_precision_train, 4))\n",
    "print(\"F1 - Score :\\t\", round(rf_f1_Score_train, 4))"
   ]
  },
  {
   "cell_type": "markdown",
   "id": "c636765e-235d-41e1-aea5-700b957f3730",
   "metadata": {},
   "source": [
    "## 6.4. Evaludation on Testing Set"
   ]
  },
  {
   "cell_type": "code",
   "execution_count": 23,
   "id": "5e234c01-a5ad-4bbb-b38b-a2819864f127",
   "metadata": {},
   "outputs": [
    {
     "name": "stdout",
     "output_type": "stream",
     "text": [
      "Random Forest Evaludation on Testing Set \n",
      "\n",
      "\n",
      "Accuracy :\t 0.9651\n",
      "Recall :\t 0.9651\n",
      "Precision :\t 0.9651\n",
      "F1 - Score :\t 0.9651\n"
     ]
    }
   ],
   "source": [
    "rf_accuracy_test   = accuracy_score(y_test, rf_prediction_test)\n",
    "rf_recall_test     = recall_score(y_test, rf_prediction_test, average='micro')\n",
    "rf_precision_test  = precision_score(y_test, rf_prediction_test, average='micro')\n",
    "rf_f1_Score_test   = f1_score(y_test, rf_prediction_test, average='micro')\n",
    "\n",
    "print(\"Random Forest Evaludation on Testing Set \\n\\n\")\n",
    "print(\"Accuracy :\\t\", round(rf_accuracy_test, 4))\n",
    "print(\"Recall :\\t\", round(rf_recall_test, 4))\n",
    "print(\"Precision :\\t\", round(rf_precision_test, 4))\n",
    "print(\"F1 - Score :\\t\", round(rf_f1_Score_test, 4))"
   ]
  },
  {
   "cell_type": "markdown",
   "id": "a141030e-34ba-46be-b1d3-91855ab47ca4",
   "metadata": {},
   "source": [
    "# 7. Artifical Neural Network with PCA"
   ]
  },
  {
   "cell_type": "markdown",
   "id": "13c3bd39-3b36-4d6c-a332-f80d77f80b3e",
   "metadata": {},
   "source": [
    "## 7.1. Define Neural Network"
   ]
  },
  {
   "cell_type": "code",
   "execution_count": 28,
   "id": "ea4d20b9-830f-4dbb-88b3-71e654b3ce8b",
   "metadata": {},
   "outputs": [],
   "source": [
    "def neural_network(input_features):\n",
    "    optimizer = Adam(learning_rate = 0.001)\n",
    "    model = Sequential()\n",
    "    model.add(Dense(units=128, activation='relu', input_dim=input_features.shape[1]))\n",
    "    model.add(Dense(units=64, activation='relu'))\n",
    "    model.add(Dense(units=32, activation='relu'))\n",
    "    model.add(Dense(units=2, activation='softmax'))\n",
    "    model.compile(optimizer = optimizer, loss='categorical_crossentropy', metrics=['accuracy'])\n",
    "    return model\n",
    "\n",
    "def split_data(features, target):\n",
    "    X_train, X_test, y_train, y_test = train_test_split(features, target, \n",
    "                                                        stratify     = target,\n",
    "                                                        test_size    = 0.3,\n",
    "                                                        random_state = 42\n",
    "    )\n",
    "    return X_train, X_test, y_train, y_test"
   ]
  },
  {
   "cell_type": "markdown",
   "id": "a120ad65-ed82-41ed-8922-28c8eb4a09d2",
   "metadata": {},
   "source": [
    "## 7.2. Data Preprocessing Pipeline"
   ]
  },
  {
   "cell_type": "code",
   "execution_count": 25,
   "id": "60f8b208-335a-4ac6-af18-f62a66762d89",
   "metadata": {},
   "outputs": [
    {
     "data": {
      "text/html": [
       "<style>#sk-container-id-3 {color: black;background-color: white;}#sk-container-id-3 pre{padding: 0;}#sk-container-id-3 div.sk-toggleable {background-color: white;}#sk-container-id-3 label.sk-toggleable__label {cursor: pointer;display: block;width: 100%;margin-bottom: 0;padding: 0.3em;box-sizing: border-box;text-align: center;}#sk-container-id-3 label.sk-toggleable__label-arrow:before {content: \"▸\";float: left;margin-right: 0.25em;color: #696969;}#sk-container-id-3 label.sk-toggleable__label-arrow:hover:before {color: black;}#sk-container-id-3 div.sk-estimator:hover label.sk-toggleable__label-arrow:before {color: black;}#sk-container-id-3 div.sk-toggleable__content {max-height: 0;max-width: 0;overflow: hidden;text-align: left;background-color: #f0f8ff;}#sk-container-id-3 div.sk-toggleable__content pre {margin: 0.2em;color: black;border-radius: 0.25em;background-color: #f0f8ff;}#sk-container-id-3 input.sk-toggleable__control:checked~div.sk-toggleable__content {max-height: 200px;max-width: 100%;overflow: auto;}#sk-container-id-3 input.sk-toggleable__control:checked~label.sk-toggleable__label-arrow:before {content: \"▾\";}#sk-container-id-3 div.sk-estimator input.sk-toggleable__control:checked~label.sk-toggleable__label {background-color: #d4ebff;}#sk-container-id-3 div.sk-label input.sk-toggleable__control:checked~label.sk-toggleable__label {background-color: #d4ebff;}#sk-container-id-3 input.sk-hidden--visually {border: 0;clip: rect(1px 1px 1px 1px);clip: rect(1px, 1px, 1px, 1px);height: 1px;margin: -1px;overflow: hidden;padding: 0;position: absolute;width: 1px;}#sk-container-id-3 div.sk-estimator {font-family: monospace;background-color: #f0f8ff;border: 1px dotted black;border-radius: 0.25em;box-sizing: border-box;margin-bottom: 0.5em;}#sk-container-id-3 div.sk-estimator:hover {background-color: #d4ebff;}#sk-container-id-3 div.sk-parallel-item::after {content: \"\";width: 100%;border-bottom: 1px solid gray;flex-grow: 1;}#sk-container-id-3 div.sk-label:hover label.sk-toggleable__label {background-color: #d4ebff;}#sk-container-id-3 div.sk-serial::before {content: \"\";position: absolute;border-left: 1px solid gray;box-sizing: border-box;top: 0;bottom: 0;left: 50%;z-index: 0;}#sk-container-id-3 div.sk-serial {display: flex;flex-direction: column;align-items: center;background-color: white;padding-right: 0.2em;padding-left: 0.2em;position: relative;}#sk-container-id-3 div.sk-item {position: relative;z-index: 1;}#sk-container-id-3 div.sk-parallel {display: flex;align-items: stretch;justify-content: center;background-color: white;position: relative;}#sk-container-id-3 div.sk-item::before, #sk-container-id-3 div.sk-parallel-item::before {content: \"\";position: absolute;border-left: 1px solid gray;box-sizing: border-box;top: 0;bottom: 0;left: 50%;z-index: -1;}#sk-container-id-3 div.sk-parallel-item {display: flex;flex-direction: column;z-index: 1;position: relative;background-color: white;}#sk-container-id-3 div.sk-parallel-item:first-child::after {align-self: flex-end;width: 50%;}#sk-container-id-3 div.sk-parallel-item:last-child::after {align-self: flex-start;width: 50%;}#sk-container-id-3 div.sk-parallel-item:only-child::after {width: 0;}#sk-container-id-3 div.sk-dashed-wrapped {border: 1px dashed gray;margin: 0 0.4em 0.5em 0.4em;box-sizing: border-box;padding-bottom: 0.4em;background-color: white;}#sk-container-id-3 div.sk-label label {font-family: monospace;font-weight: bold;display: inline-block;line-height: 1.2em;}#sk-container-id-3 div.sk-label-container {text-align: center;}#sk-container-id-3 div.sk-container {/* jupyter's `normalize.less` sets `[hidden] { display: none; }` but bootstrap.min.css set `[hidden] { display: none !important; }` so we also need the `!important` here to be able to override the default hidden behavior on the sphinx rendered scikit-learn.org. See: https://github.com/scikit-learn/scikit-learn/issues/21755 */display: inline-block !important;position: relative;}#sk-container-id-3 div.sk-text-repr-fallback {display: none;}</style><div id=\"sk-container-id-3\" class=\"sk-top-container\"><div class=\"sk-text-repr-fallback\"><pre>ColumnTransformer(transformers=[(&#x27;num&#x27;, StandardScaler(),\n",
       "                                 [&#x27;days_to_last_follow_up&#x27;, &#x27;age_at_diagnosis&#x27;,\n",
       "                                  &#x27;year_of_diagnosis&#x27;, &#x27;cigarettes_per_day&#x27;,\n",
       "                                  &#x27;pack_years_smoked&#x27;, &#x27;age_at_index&#x27;]),\n",
       "                                (&#x27;cat&#x27;,\n",
       "                                 OneHotEncoder(drop=&#x27;first&#x27;, sparse=False),\n",
       "                                 [&#x27;synchronous_malignancy&#x27;,\n",
       "                                  &#x27;tissue_or_organ_of_origin&#x27;,\n",
       "                                  &#x27;prior_malignancy&#x27;, &#x27;prior_treatment&#x27;,\n",
       "                                  &#x27;ajcc_staging_system_edition&#x27;,\n",
       "                                  &#x27;ajcc_pathologic_t&#x27;, &#x27;ajcc_pathologic_n&#x27;,\n",
       "                                  &#x27;ajcc_pathologic_m&#x27;,\n",
       "                                  &#x27;site_of_resection_or_biopsy&#x27;, &#x27;race&#x27;,\n",
       "                                  &#x27;gender&#x27;, &#x27;ethnicity&#x27;, &#x27;vital_status&#x27;,\n",
       "                                  &#x27;treatments_pharmaceutical_treatment_or_therapy&#x27;,\n",
       "                                  &#x27;treatments_radiation_treatment_or_therapy&#x27;])])</pre><b>In a Jupyter environment, please rerun this cell to show the HTML representation or trust the notebook. <br />On GitHub, the HTML representation is unable to render, please try loading this page with nbviewer.org.</b></div><div class=\"sk-container\" hidden><div class=\"sk-item sk-dashed-wrapped\"><div class=\"sk-label-container\"><div class=\"sk-label sk-toggleable\"><input class=\"sk-toggleable__control sk-hidden--visually\" id=\"sk-estimator-id-8\" type=\"checkbox\" ><label for=\"sk-estimator-id-8\" class=\"sk-toggleable__label sk-toggleable__label-arrow\">ColumnTransformer</label><div class=\"sk-toggleable__content\"><pre>ColumnTransformer(transformers=[(&#x27;num&#x27;, StandardScaler(),\n",
       "                                 [&#x27;days_to_last_follow_up&#x27;, &#x27;age_at_diagnosis&#x27;,\n",
       "                                  &#x27;year_of_diagnosis&#x27;, &#x27;cigarettes_per_day&#x27;,\n",
       "                                  &#x27;pack_years_smoked&#x27;, &#x27;age_at_index&#x27;]),\n",
       "                                (&#x27;cat&#x27;,\n",
       "                                 OneHotEncoder(drop=&#x27;first&#x27;, sparse=False),\n",
       "                                 [&#x27;synchronous_malignancy&#x27;,\n",
       "                                  &#x27;tissue_or_organ_of_origin&#x27;,\n",
       "                                  &#x27;prior_malignancy&#x27;, &#x27;prior_treatment&#x27;,\n",
       "                                  &#x27;ajcc_staging_system_edition&#x27;,\n",
       "                                  &#x27;ajcc_pathologic_t&#x27;, &#x27;ajcc_pathologic_n&#x27;,\n",
       "                                  &#x27;ajcc_pathologic_m&#x27;,\n",
       "                                  &#x27;site_of_resection_or_biopsy&#x27;, &#x27;race&#x27;,\n",
       "                                  &#x27;gender&#x27;, &#x27;ethnicity&#x27;, &#x27;vital_status&#x27;,\n",
       "                                  &#x27;treatments_pharmaceutical_treatment_or_therapy&#x27;,\n",
       "                                  &#x27;treatments_radiation_treatment_or_therapy&#x27;])])</pre></div></div></div><div class=\"sk-parallel\"><div class=\"sk-parallel-item\"><div class=\"sk-item\"><div class=\"sk-label-container\"><div class=\"sk-label sk-toggleable\"><input class=\"sk-toggleable__control sk-hidden--visually\" id=\"sk-estimator-id-9\" type=\"checkbox\" ><label for=\"sk-estimator-id-9\" class=\"sk-toggleable__label sk-toggleable__label-arrow\">num</label><div class=\"sk-toggleable__content\"><pre>[&#x27;days_to_last_follow_up&#x27;, &#x27;age_at_diagnosis&#x27;, &#x27;year_of_diagnosis&#x27;, &#x27;cigarettes_per_day&#x27;, &#x27;pack_years_smoked&#x27;, &#x27;age_at_index&#x27;]</pre></div></div></div><div class=\"sk-serial\"><div class=\"sk-item\"><div class=\"sk-estimator sk-toggleable\"><input class=\"sk-toggleable__control sk-hidden--visually\" id=\"sk-estimator-id-10\" type=\"checkbox\" ><label for=\"sk-estimator-id-10\" class=\"sk-toggleable__label sk-toggleable__label-arrow\">StandardScaler</label><div class=\"sk-toggleable__content\"><pre>StandardScaler()</pre></div></div></div></div></div></div><div class=\"sk-parallel-item\"><div class=\"sk-item\"><div class=\"sk-label-container\"><div class=\"sk-label sk-toggleable\"><input class=\"sk-toggleable__control sk-hidden--visually\" id=\"sk-estimator-id-11\" type=\"checkbox\" ><label for=\"sk-estimator-id-11\" class=\"sk-toggleable__label sk-toggleable__label-arrow\">cat</label><div class=\"sk-toggleable__content\"><pre>[&#x27;synchronous_malignancy&#x27;, &#x27;tissue_or_organ_of_origin&#x27;, &#x27;prior_malignancy&#x27;, &#x27;prior_treatment&#x27;, &#x27;ajcc_staging_system_edition&#x27;, &#x27;ajcc_pathologic_t&#x27;, &#x27;ajcc_pathologic_n&#x27;, &#x27;ajcc_pathologic_m&#x27;, &#x27;site_of_resection_or_biopsy&#x27;, &#x27;race&#x27;, &#x27;gender&#x27;, &#x27;ethnicity&#x27;, &#x27;vital_status&#x27;, &#x27;treatments_pharmaceutical_treatment_or_therapy&#x27;, &#x27;treatments_radiation_treatment_or_therapy&#x27;]</pre></div></div></div><div class=\"sk-serial\"><div class=\"sk-item\"><div class=\"sk-estimator sk-toggleable\"><input class=\"sk-toggleable__control sk-hidden--visually\" id=\"sk-estimator-id-12\" type=\"checkbox\" ><label for=\"sk-estimator-id-12\" class=\"sk-toggleable__label sk-toggleable__label-arrow\">OneHotEncoder</label><div class=\"sk-toggleable__content\"><pre>OneHotEncoder(drop=&#x27;first&#x27;, sparse=False)</pre></div></div></div></div></div></div></div></div></div></div>"
      ],
      "text/plain": [
       "ColumnTransformer(transformers=[('num', StandardScaler(),\n",
       "                                 ['days_to_last_follow_up', 'age_at_diagnosis',\n",
       "                                  'year_of_diagnosis', 'cigarettes_per_day',\n",
       "                                  'pack_years_smoked', 'age_at_index']),\n",
       "                                ('cat',\n",
       "                                 OneHotEncoder(drop='first', sparse=False),\n",
       "                                 ['synchronous_malignancy',\n",
       "                                  'tissue_or_organ_of_origin',\n",
       "                                  'prior_malignancy', 'prior_treatment',\n",
       "                                  'ajcc_staging_system_edition',\n",
       "                                  'ajcc_pathologic_t', 'ajcc_pathologic_n',\n",
       "                                  'ajcc_pathologic_m',\n",
       "                                  'site_of_resection_or_biopsy', 'race',\n",
       "                                  'gender', 'ethnicity', 'vital_status',\n",
       "                                  'treatments_pharmaceutical_treatment_or_therapy',\n",
       "                                  'treatments_radiation_treatment_or_therapy'])])"
      ]
     },
     "execution_count": 25,
     "metadata": {},
     "output_type": "execute_result"
    }
   ],
   "source": [
    "numerical_transformer = StandardScaler()\n",
    "categorical_transformer = OneHotEncoder(drop='first', sparse=False)\n",
    "\n",
    "PCA_preprocessor = ColumnTransformer(\n",
    "    transformers=[\n",
    "        ('num', numerical_transformer, numerical_Columns),\n",
    "        ('cat', categorical_transformer, categorical_Columns)\n",
    "    ])\n",
    "\n",
    "PCA_preprocessor"
   ]
  },
  {
   "cell_type": "markdown",
   "id": "bfe2a9f7-9ffd-4b62-9cf8-2284a26517a3",
   "metadata": {
    "tags": []
   },
   "source": [
    "## 7.3. 5-PCA"
   ]
  },
  {
   "cell_type": "markdown",
   "id": "8a8844d4-46d3-4782-a4a1-044eadfd92e2",
   "metadata": {
    "tags": []
   },
   "source": [
    "### 7.3.1 PCA Analysis with 5 Principle Components"
   ]
  },
  {
   "cell_type": "code",
   "execution_count": 26,
   "id": "22154a66-fbb6-4cc8-be42-f115ea2c43d1",
   "metadata": {},
   "outputs": [
    {
     "data": {
      "text/html": [
       "<style>#sk-container-id-4 {color: black;background-color: white;}#sk-container-id-4 pre{padding: 0;}#sk-container-id-4 div.sk-toggleable {background-color: white;}#sk-container-id-4 label.sk-toggleable__label {cursor: pointer;display: block;width: 100%;margin-bottom: 0;padding: 0.3em;box-sizing: border-box;text-align: center;}#sk-container-id-4 label.sk-toggleable__label-arrow:before {content: \"▸\";float: left;margin-right: 0.25em;color: #696969;}#sk-container-id-4 label.sk-toggleable__label-arrow:hover:before {color: black;}#sk-container-id-4 div.sk-estimator:hover label.sk-toggleable__label-arrow:before {color: black;}#sk-container-id-4 div.sk-toggleable__content {max-height: 0;max-width: 0;overflow: hidden;text-align: left;background-color: #f0f8ff;}#sk-container-id-4 div.sk-toggleable__content pre {margin: 0.2em;color: black;border-radius: 0.25em;background-color: #f0f8ff;}#sk-container-id-4 input.sk-toggleable__control:checked~div.sk-toggleable__content {max-height: 200px;max-width: 100%;overflow: auto;}#sk-container-id-4 input.sk-toggleable__control:checked~label.sk-toggleable__label-arrow:before {content: \"▾\";}#sk-container-id-4 div.sk-estimator input.sk-toggleable__control:checked~label.sk-toggleable__label {background-color: #d4ebff;}#sk-container-id-4 div.sk-label input.sk-toggleable__control:checked~label.sk-toggleable__label {background-color: #d4ebff;}#sk-container-id-4 input.sk-hidden--visually {border: 0;clip: rect(1px 1px 1px 1px);clip: rect(1px, 1px, 1px, 1px);height: 1px;margin: -1px;overflow: hidden;padding: 0;position: absolute;width: 1px;}#sk-container-id-4 div.sk-estimator {font-family: monospace;background-color: #f0f8ff;border: 1px dotted black;border-radius: 0.25em;box-sizing: border-box;margin-bottom: 0.5em;}#sk-container-id-4 div.sk-estimator:hover {background-color: #d4ebff;}#sk-container-id-4 div.sk-parallel-item::after {content: \"\";width: 100%;border-bottom: 1px solid gray;flex-grow: 1;}#sk-container-id-4 div.sk-label:hover label.sk-toggleable__label {background-color: #d4ebff;}#sk-container-id-4 div.sk-serial::before {content: \"\";position: absolute;border-left: 1px solid gray;box-sizing: border-box;top: 0;bottom: 0;left: 50%;z-index: 0;}#sk-container-id-4 div.sk-serial {display: flex;flex-direction: column;align-items: center;background-color: white;padding-right: 0.2em;padding-left: 0.2em;position: relative;}#sk-container-id-4 div.sk-item {position: relative;z-index: 1;}#sk-container-id-4 div.sk-parallel {display: flex;align-items: stretch;justify-content: center;background-color: white;position: relative;}#sk-container-id-4 div.sk-item::before, #sk-container-id-4 div.sk-parallel-item::before {content: \"\";position: absolute;border-left: 1px solid gray;box-sizing: border-box;top: 0;bottom: 0;left: 50%;z-index: -1;}#sk-container-id-4 div.sk-parallel-item {display: flex;flex-direction: column;z-index: 1;position: relative;background-color: white;}#sk-container-id-4 div.sk-parallel-item:first-child::after {align-self: flex-end;width: 50%;}#sk-container-id-4 div.sk-parallel-item:last-child::after {align-self: flex-start;width: 50%;}#sk-container-id-4 div.sk-parallel-item:only-child::after {width: 0;}#sk-container-id-4 div.sk-dashed-wrapped {border: 1px dashed gray;margin: 0 0.4em 0.5em 0.4em;box-sizing: border-box;padding-bottom: 0.4em;background-color: white;}#sk-container-id-4 div.sk-label label {font-family: monospace;font-weight: bold;display: inline-block;line-height: 1.2em;}#sk-container-id-4 div.sk-label-container {text-align: center;}#sk-container-id-4 div.sk-container {/* jupyter's `normalize.less` sets `[hidden] { display: none; }` but bootstrap.min.css set `[hidden] { display: none !important; }` so we also need the `!important` here to be able to override the default hidden behavior on the sphinx rendered scikit-learn.org. See: https://github.com/scikit-learn/scikit-learn/issues/21755 */display: inline-block !important;position: relative;}#sk-container-id-4 div.sk-text-repr-fallback {display: none;}</style><div id=\"sk-container-id-4\" class=\"sk-top-container\"><div class=\"sk-text-repr-fallback\"><pre>Pipeline(steps=[(&#x27;preprocessor&#x27;,\n",
       "                 ColumnTransformer(transformers=[(&#x27;num&#x27;, StandardScaler(),\n",
       "                                                  [&#x27;days_to_last_follow_up&#x27;,\n",
       "                                                   &#x27;age_at_diagnosis&#x27;,\n",
       "                                                   &#x27;year_of_diagnosis&#x27;,\n",
       "                                                   &#x27;cigarettes_per_day&#x27;,\n",
       "                                                   &#x27;pack_years_smoked&#x27;,\n",
       "                                                   &#x27;age_at_index&#x27;]),\n",
       "                                                 (&#x27;cat&#x27;,\n",
       "                                                  OneHotEncoder(drop=&#x27;first&#x27;,\n",
       "                                                                sparse=False),\n",
       "                                                  [&#x27;synchronous_malignancy&#x27;,\n",
       "                                                   &#x27;tissue_or_organ_of_origin&#x27;,\n",
       "                                                   &#x27;prior_malignancy&#x27;,\n",
       "                                                   &#x27;prior_treatment&#x27;,\n",
       "                                                   &#x27;ajcc_staging_system_edition&#x27;,\n",
       "                                                   &#x27;ajcc_pathologic_t&#x27;,\n",
       "                                                   &#x27;ajcc_pathologic_n&#x27;,\n",
       "                                                   &#x27;ajcc_pathologic_m&#x27;,\n",
       "                                                   &#x27;site_of_resection_or_biopsy&#x27;,\n",
       "                                                   &#x27;race&#x27;, &#x27;gender&#x27;,\n",
       "                                                   &#x27;ethnicity&#x27;, &#x27;vital_status&#x27;,\n",
       "                                                   &#x27;treatments_pharmaceutical_treatment_or_therapy&#x27;,\n",
       "                                                   &#x27;treatments_radiation_treatment_or_therapy&#x27;])])),\n",
       "                (&#x27;pca&#x27;, PCA(n_components=5))])</pre><b>In a Jupyter environment, please rerun this cell to show the HTML representation or trust the notebook. <br />On GitHub, the HTML representation is unable to render, please try loading this page with nbviewer.org.</b></div><div class=\"sk-container\" hidden><div class=\"sk-item sk-dashed-wrapped\"><div class=\"sk-label-container\"><div class=\"sk-label sk-toggleable\"><input class=\"sk-toggleable__control sk-hidden--visually\" id=\"sk-estimator-id-13\" type=\"checkbox\" ><label for=\"sk-estimator-id-13\" class=\"sk-toggleable__label sk-toggleable__label-arrow\">Pipeline</label><div class=\"sk-toggleable__content\"><pre>Pipeline(steps=[(&#x27;preprocessor&#x27;,\n",
       "                 ColumnTransformer(transformers=[(&#x27;num&#x27;, StandardScaler(),\n",
       "                                                  [&#x27;days_to_last_follow_up&#x27;,\n",
       "                                                   &#x27;age_at_diagnosis&#x27;,\n",
       "                                                   &#x27;year_of_diagnosis&#x27;,\n",
       "                                                   &#x27;cigarettes_per_day&#x27;,\n",
       "                                                   &#x27;pack_years_smoked&#x27;,\n",
       "                                                   &#x27;age_at_index&#x27;]),\n",
       "                                                 (&#x27;cat&#x27;,\n",
       "                                                  OneHotEncoder(drop=&#x27;first&#x27;,\n",
       "                                                                sparse=False),\n",
       "                                                  [&#x27;synchronous_malignancy&#x27;,\n",
       "                                                   &#x27;tissue_or_organ_of_origin&#x27;,\n",
       "                                                   &#x27;prior_malignancy&#x27;,\n",
       "                                                   &#x27;prior_treatment&#x27;,\n",
       "                                                   &#x27;ajcc_staging_system_edition&#x27;,\n",
       "                                                   &#x27;ajcc_pathologic_t&#x27;,\n",
       "                                                   &#x27;ajcc_pathologic_n&#x27;,\n",
       "                                                   &#x27;ajcc_pathologic_m&#x27;,\n",
       "                                                   &#x27;site_of_resection_or_biopsy&#x27;,\n",
       "                                                   &#x27;race&#x27;, &#x27;gender&#x27;,\n",
       "                                                   &#x27;ethnicity&#x27;, &#x27;vital_status&#x27;,\n",
       "                                                   &#x27;treatments_pharmaceutical_treatment_or_therapy&#x27;,\n",
       "                                                   &#x27;treatments_radiation_treatment_or_therapy&#x27;])])),\n",
       "                (&#x27;pca&#x27;, PCA(n_components=5))])</pre></div></div></div><div class=\"sk-serial\"><div class=\"sk-item sk-dashed-wrapped\"><div class=\"sk-label-container\"><div class=\"sk-label sk-toggleable\"><input class=\"sk-toggleable__control sk-hidden--visually\" id=\"sk-estimator-id-14\" type=\"checkbox\" ><label for=\"sk-estimator-id-14\" class=\"sk-toggleable__label sk-toggleable__label-arrow\">preprocessor: ColumnTransformer</label><div class=\"sk-toggleable__content\"><pre>ColumnTransformer(transformers=[(&#x27;num&#x27;, StandardScaler(),\n",
       "                                 [&#x27;days_to_last_follow_up&#x27;, &#x27;age_at_diagnosis&#x27;,\n",
       "                                  &#x27;year_of_diagnosis&#x27;, &#x27;cigarettes_per_day&#x27;,\n",
       "                                  &#x27;pack_years_smoked&#x27;, &#x27;age_at_index&#x27;]),\n",
       "                                (&#x27;cat&#x27;,\n",
       "                                 OneHotEncoder(drop=&#x27;first&#x27;, sparse=False),\n",
       "                                 [&#x27;synchronous_malignancy&#x27;,\n",
       "                                  &#x27;tissue_or_organ_of_origin&#x27;,\n",
       "                                  &#x27;prior_malignancy&#x27;, &#x27;prior_treatment&#x27;,\n",
       "                                  &#x27;ajcc_staging_system_edition&#x27;,\n",
       "                                  &#x27;ajcc_pathologic_t&#x27;, &#x27;ajcc_pathologic_n&#x27;,\n",
       "                                  &#x27;ajcc_pathologic_m&#x27;,\n",
       "                                  &#x27;site_of_resection_or_biopsy&#x27;, &#x27;race&#x27;,\n",
       "                                  &#x27;gender&#x27;, &#x27;ethnicity&#x27;, &#x27;vital_status&#x27;,\n",
       "                                  &#x27;treatments_pharmaceutical_treatment_or_therapy&#x27;,\n",
       "                                  &#x27;treatments_radiation_treatment_or_therapy&#x27;])])</pre></div></div></div><div class=\"sk-parallel\"><div class=\"sk-parallel-item\"><div class=\"sk-item\"><div class=\"sk-label-container\"><div class=\"sk-label sk-toggleable\"><input class=\"sk-toggleable__control sk-hidden--visually\" id=\"sk-estimator-id-15\" type=\"checkbox\" ><label for=\"sk-estimator-id-15\" class=\"sk-toggleable__label sk-toggleable__label-arrow\">num</label><div class=\"sk-toggleable__content\"><pre>[&#x27;days_to_last_follow_up&#x27;, &#x27;age_at_diagnosis&#x27;, &#x27;year_of_diagnosis&#x27;, &#x27;cigarettes_per_day&#x27;, &#x27;pack_years_smoked&#x27;, &#x27;age_at_index&#x27;]</pre></div></div></div><div class=\"sk-serial\"><div class=\"sk-item\"><div class=\"sk-estimator sk-toggleable\"><input class=\"sk-toggleable__control sk-hidden--visually\" id=\"sk-estimator-id-16\" type=\"checkbox\" ><label for=\"sk-estimator-id-16\" class=\"sk-toggleable__label sk-toggleable__label-arrow\">StandardScaler</label><div class=\"sk-toggleable__content\"><pre>StandardScaler()</pre></div></div></div></div></div></div><div class=\"sk-parallel-item\"><div class=\"sk-item\"><div class=\"sk-label-container\"><div class=\"sk-label sk-toggleable\"><input class=\"sk-toggleable__control sk-hidden--visually\" id=\"sk-estimator-id-17\" type=\"checkbox\" ><label for=\"sk-estimator-id-17\" class=\"sk-toggleable__label sk-toggleable__label-arrow\">cat</label><div class=\"sk-toggleable__content\"><pre>[&#x27;synchronous_malignancy&#x27;, &#x27;tissue_or_organ_of_origin&#x27;, &#x27;prior_malignancy&#x27;, &#x27;prior_treatment&#x27;, &#x27;ajcc_staging_system_edition&#x27;, &#x27;ajcc_pathologic_t&#x27;, &#x27;ajcc_pathologic_n&#x27;, &#x27;ajcc_pathologic_m&#x27;, &#x27;site_of_resection_or_biopsy&#x27;, &#x27;race&#x27;, &#x27;gender&#x27;, &#x27;ethnicity&#x27;, &#x27;vital_status&#x27;, &#x27;treatments_pharmaceutical_treatment_or_therapy&#x27;, &#x27;treatments_radiation_treatment_or_therapy&#x27;]</pre></div></div></div><div class=\"sk-serial\"><div class=\"sk-item\"><div class=\"sk-estimator sk-toggleable\"><input class=\"sk-toggleable__control sk-hidden--visually\" id=\"sk-estimator-id-18\" type=\"checkbox\" ><label for=\"sk-estimator-id-18\" class=\"sk-toggleable__label sk-toggleable__label-arrow\">OneHotEncoder</label><div class=\"sk-toggleable__content\"><pre>OneHotEncoder(drop=&#x27;first&#x27;, sparse=False)</pre></div></div></div></div></div></div></div></div><div class=\"sk-item\"><div class=\"sk-estimator sk-toggleable\"><input class=\"sk-toggleable__control sk-hidden--visually\" id=\"sk-estimator-id-19\" type=\"checkbox\" ><label for=\"sk-estimator-id-19\" class=\"sk-toggleable__label sk-toggleable__label-arrow\">PCA</label><div class=\"sk-toggleable__content\"><pre>PCA(n_components=5)</pre></div></div></div></div></div></div></div>"
      ],
      "text/plain": [
       "Pipeline(steps=[('preprocessor',\n",
       "                 ColumnTransformer(transformers=[('num', StandardScaler(),\n",
       "                                                  ['days_to_last_follow_up',\n",
       "                                                   'age_at_diagnosis',\n",
       "                                                   'year_of_diagnosis',\n",
       "                                                   'cigarettes_per_day',\n",
       "                                                   'pack_years_smoked',\n",
       "                                                   'age_at_index']),\n",
       "                                                 ('cat',\n",
       "                                                  OneHotEncoder(drop='first',\n",
       "                                                                sparse=False),\n",
       "                                                  ['synchronous_malignancy',\n",
       "                                                   'tissue_or_organ_of_origin',\n",
       "                                                   'prior_malignancy',\n",
       "                                                   'prior_treatment',\n",
       "                                                   'ajcc_staging_system_edition',\n",
       "                                                   'ajcc_pathologic_t',\n",
       "                                                   'ajcc_pathologic_n',\n",
       "                                                   'ajcc_pathologic_m',\n",
       "                                                   'site_of_resection_or_biopsy',\n",
       "                                                   'race', 'gender',\n",
       "                                                   'ethnicity', 'vital_status',\n",
       "                                                   'treatments_pharmaceutical_treatment_or_therapy',\n",
       "                                                   'treatments_radiation_treatment_or_therapy'])])),\n",
       "                ('pca', PCA(n_components=5))])"
      ]
     },
     "execution_count": 26,
     "metadata": {},
     "output_type": "execute_result"
    }
   ],
   "source": [
    "pca_5 = PCA(n_components=5)\n",
    "# Define the pipeline with PCA\n",
    "pca_pipeline_5 = Pipeline(steps=[\n",
    "    ('preprocessor', PCA_preprocessor),\n",
    "    ('pca', pca_5)\n",
    "])\n",
    "pca_pipeline_5"
   ]
  },
  {
   "cell_type": "code",
   "execution_count": 27,
   "id": "be68fe0f-ab7e-468a-b441-e29de9a591ec",
   "metadata": {},
   "outputs": [
    {
     "data": {
      "text/plain": [
       "array([[ 1.11498856, -1.32825152, -1.28033604,  0.59152214,  0.80970087],\n",
       "       [-1.09275354,  0.59521765, -1.01275394, -0.81672505,  0.95012363],\n",
       "       [-1.09275354,  0.59521765, -1.01275394, -0.81672505,  0.95012363],\n",
       "       ...,\n",
       "       [-1.78743903,  0.73850813,  1.31196355,  0.45495646,  0.77381876],\n",
       "       [-1.78743903,  0.73850813,  1.31196355,  0.45495646,  0.77381876],\n",
       "       [-1.51955998,  1.63214279, -0.6006511 ,  0.51453149,  0.90259103]])"
      ]
     },
     "execution_count": 27,
     "metadata": {},
     "output_type": "execute_result"
    }
   ],
   "source": [
    "features_pca_5 = pca_pipeline_5.fit_transform(features)\n",
    "features_pca_5"
   ]
  },
  {
   "cell_type": "markdown",
   "id": "f0bc6615-20b0-408f-bbde-1c84c2b49343",
   "metadata": {
    "tags": []
   },
   "source": [
    "### 7.3.2 Model Training"
   ]
  },
  {
   "cell_type": "code",
   "execution_count": 29,
   "id": "67eaafb2-7bd5-406d-aa51-800291a6cb2b",
   "metadata": {},
   "outputs": [
    {
     "name": "stdout",
     "output_type": "stream",
     "text": [
      "WARNING:tensorflow:From C:\\Users\\asadm\\AppData\\Roaming\\Python\\Python310\\site-packages\\keras\\src\\backend.py:873: The name tf.get_default_graph is deprecated. Please use tf.compat.v1.get_default_graph instead.\n",
      "\n",
      "Epoch 1/200\n",
      "WARNING:tensorflow:From C:\\Users\\asadm\\AppData\\Roaming\\Python\\Python310\\site-packages\\keras\\src\\utils\\tf_utils.py:492: The name tf.ragged.RaggedTensorValue is deprecated. Please use tf.compat.v1.ragged.RaggedTensorValue instead.\n",
      "\n",
      "WARNING:tensorflow:From C:\\Users\\asadm\\AppData\\Roaming\\Python\\Python310\\site-packages\\keras\\src\\engine\\base_layer_utils.py:384: The name tf.executing_eagerly_outside_functions is deprecated. Please use tf.compat.v1.executing_eagerly_outside_functions instead.\n",
      "\n",
      "42/42 [==============================] - 2s 9ms/step - loss: 0.6860 - accuracy: 0.5587 - val_loss: 0.6564 - val_accuracy: 0.6248\n",
      "Epoch 2/200\n",
      "42/42 [==============================] - 0s 4ms/step - loss: 0.6715 - accuracy: 0.5931 - val_loss: 0.6533 - val_accuracy: 0.6318\n",
      "Epoch 3/200\n",
      "42/42 [==============================] - 0s 3ms/step - loss: 0.6620 - accuracy: 0.6066 - val_loss: 0.6496 - val_accuracy: 0.6195\n",
      "Epoch 4/200\n",
      "42/42 [==============================] - 0s 3ms/step - loss: 0.6568 - accuracy: 0.6051 - val_loss: 0.6507 - val_accuracy: 0.6248\n",
      "Epoch 5/200\n",
      "42/42 [==============================] - 0s 4ms/step - loss: 0.6495 - accuracy: 0.6260 - val_loss: 0.6488 - val_accuracy: 0.6230\n",
      "Epoch 6/200\n",
      "42/42 [==============================] - 0s 4ms/step - loss: 0.6456 - accuracy: 0.6193 - val_loss: 0.6433 - val_accuracy: 0.6283\n",
      "Epoch 7/200\n",
      "42/42 [==============================] - 0s 5ms/step - loss: 0.6362 - accuracy: 0.6425 - val_loss: 0.6488 - val_accuracy: 0.6265\n",
      "Epoch 8/200\n",
      "42/42 [==============================] - 0s 5ms/step - loss: 0.6330 - accuracy: 0.6343 - val_loss: 0.6416 - val_accuracy: 0.6335\n",
      "Epoch 9/200\n",
      "42/42 [==============================] - 0s 4ms/step - loss: 0.6264 - accuracy: 0.6552 - val_loss: 0.6492 - val_accuracy: 0.6161\n",
      "Epoch 10/200\n",
      "42/42 [==============================] - 0s 3ms/step - loss: 0.6250 - accuracy: 0.6432 - val_loss: 0.6467 - val_accuracy: 0.6126\n",
      "Epoch 11/200\n",
      "42/42 [==============================] - 0s 4ms/step - loss: 0.6193 - accuracy: 0.6559 - val_loss: 0.6389 - val_accuracy: 0.6213\n",
      "Epoch 12/200\n",
      "42/42 [==============================] - 0s 4ms/step - loss: 0.6113 - accuracy: 0.6619 - val_loss: 0.6472 - val_accuracy: 0.5951\n",
      "Epoch 13/200\n",
      "42/42 [==============================] - 0s 3ms/step - loss: 0.6128 - accuracy: 0.6559 - val_loss: 0.6414 - val_accuracy: 0.6265\n",
      "Epoch 14/200\n",
      "42/42 [==============================] - 0s 3ms/step - loss: 0.6059 - accuracy: 0.6717 - val_loss: 0.6307 - val_accuracy: 0.6335\n",
      "Epoch 15/200\n",
      "42/42 [==============================] - 0s 4ms/step - loss: 0.5984 - accuracy: 0.6746 - val_loss: 0.6384 - val_accuracy: 0.6353\n",
      "Epoch 16/200\n",
      "42/42 [==============================] - 0s 4ms/step - loss: 0.5851 - accuracy: 0.6874 - val_loss: 0.6394 - val_accuracy: 0.6370\n",
      "Epoch 17/200\n",
      "42/42 [==============================] - 0s 4ms/step - loss: 0.5813 - accuracy: 0.6926 - val_loss: 0.6333 - val_accuracy: 0.6248\n",
      "Epoch 18/200\n",
      "42/42 [==============================] - 0s 4ms/step - loss: 0.5806 - accuracy: 0.6821 - val_loss: 0.6345 - val_accuracy: 0.6230\n",
      "Epoch 19/200\n",
      "42/42 [==============================] - 0s 4ms/step - loss: 0.5750 - accuracy: 0.6963 - val_loss: 0.6390 - val_accuracy: 0.6283\n",
      "Epoch 20/200\n",
      "42/42 [==============================] - 0s 3ms/step - loss: 0.5667 - accuracy: 0.7053 - val_loss: 0.6342 - val_accuracy: 0.6248\n",
      "Epoch 21/200\n",
      "42/42 [==============================] - 0s 4ms/step - loss: 0.5717 - accuracy: 0.6978 - val_loss: 0.6261 - val_accuracy: 0.6283\n",
      "Epoch 22/200\n",
      "42/42 [==============================] - 0s 4ms/step - loss: 0.5566 - accuracy: 0.7165 - val_loss: 0.6296 - val_accuracy: 0.6387\n",
      "Epoch 23/200\n",
      "42/42 [==============================] - 0s 5ms/step - loss: 0.5495 - accuracy: 0.7158 - val_loss: 0.6255 - val_accuracy: 0.6492\n",
      "Epoch 24/200\n",
      "42/42 [==============================] - 0s 4ms/step - loss: 0.5443 - accuracy: 0.7210 - val_loss: 0.6611 - val_accuracy: 0.6265\n",
      "Epoch 25/200\n",
      "42/42 [==============================] - 0s 4ms/step - loss: 0.5500 - accuracy: 0.7061 - val_loss: 0.6306 - val_accuracy: 0.6283\n",
      "Epoch 26/200\n",
      "42/42 [==============================] - 0s 4ms/step - loss: 0.5333 - accuracy: 0.7240 - val_loss: 0.6305 - val_accuracy: 0.6387\n",
      "Epoch 27/200\n",
      "42/42 [==============================] - 0s 4ms/step - loss: 0.5297 - accuracy: 0.7330 - val_loss: 0.6379 - val_accuracy: 0.6195\n",
      "Epoch 28/200\n",
      "42/42 [==============================] - 0s 4ms/step - loss: 0.5245 - accuracy: 0.7307 - val_loss: 0.6183 - val_accuracy: 0.6510\n",
      "Epoch 29/200\n",
      "42/42 [==============================] - 0s 7ms/step - loss: 0.5251 - accuracy: 0.7375 - val_loss: 0.6362 - val_accuracy: 0.6405\n",
      "Epoch 30/200\n",
      "42/42 [==============================] - 0s 5ms/step - loss: 0.5155 - accuracy: 0.7435 - val_loss: 0.6445 - val_accuracy: 0.6422\n",
      "Epoch 31/200\n",
      "42/42 [==============================] - 0s 5ms/step - loss: 0.5176 - accuracy: 0.7390 - val_loss: 0.6334 - val_accuracy: 0.6353\n",
      "Epoch 32/200\n",
      "42/42 [==============================] - 0s 5ms/step - loss: 0.5042 - accuracy: 0.7502 - val_loss: 0.6155 - val_accuracy: 0.6527\n",
      "Epoch 33/200\n",
      "42/42 [==============================] - 0s 5ms/step - loss: 0.4980 - accuracy: 0.7472 - val_loss: 0.6278 - val_accuracy: 0.6562\n",
      "Epoch 34/200\n",
      "42/42 [==============================] - 0s 4ms/step - loss: 0.4986 - accuracy: 0.7532 - val_loss: 0.6490 - val_accuracy: 0.6230\n",
      "Epoch 35/200\n",
      "42/42 [==============================] - 0s 4ms/step - loss: 0.4896 - accuracy: 0.7554 - val_loss: 0.6189 - val_accuracy: 0.6545\n",
      "Epoch 36/200\n",
      "42/42 [==============================] - 0s 5ms/step - loss: 0.4814 - accuracy: 0.7592 - val_loss: 0.6087 - val_accuracy: 0.6405\n",
      "Epoch 37/200\n",
      "42/42 [==============================] - 0s 6ms/step - loss: 0.4674 - accuracy: 0.7831 - val_loss: 0.6200 - val_accuracy: 0.6422\n",
      "Epoch 38/200\n",
      "42/42 [==============================] - 0s 6ms/step - loss: 0.4686 - accuracy: 0.7749 - val_loss: 0.6416 - val_accuracy: 0.6649\n",
      "Epoch 39/200\n",
      "42/42 [==============================] - 0s 6ms/step - loss: 0.4676 - accuracy: 0.7749 - val_loss: 0.6141 - val_accuracy: 0.6684\n",
      "Epoch 40/200\n",
      "42/42 [==============================] - 0s 5ms/step - loss: 0.4654 - accuracy: 0.7749 - val_loss: 0.6305 - val_accuracy: 0.6492\n",
      "Epoch 41/200\n",
      "42/42 [==============================] - 0s 5ms/step - loss: 0.4603 - accuracy: 0.7756 - val_loss: 0.6041 - val_accuracy: 0.6702\n",
      "Epoch 42/200\n",
      "42/42 [==============================] - 0s 5ms/step - loss: 0.4505 - accuracy: 0.7809 - val_loss: 0.6072 - val_accuracy: 0.6545\n",
      "Epoch 43/200\n",
      "42/42 [==============================] - 0s 4ms/step - loss: 0.4452 - accuracy: 0.7936 - val_loss: 0.6110 - val_accuracy: 0.6545\n",
      "Epoch 44/200\n",
      "42/42 [==============================] - 0s 5ms/step - loss: 0.4482 - accuracy: 0.7809 - val_loss: 0.6095 - val_accuracy: 0.6632\n",
      "Epoch 45/200\n",
      "42/42 [==============================] - 0s 5ms/step - loss: 0.4430 - accuracy: 0.7906 - val_loss: 0.5823 - val_accuracy: 0.6859\n",
      "Epoch 46/200\n",
      "42/42 [==============================] - 0s 5ms/step - loss: 0.4332 - accuracy: 0.8018 - val_loss: 0.6100 - val_accuracy: 0.6667\n",
      "Epoch 47/200\n",
      "42/42 [==============================] - 0s 5ms/step - loss: 0.4251 - accuracy: 0.8025 - val_loss: 0.5976 - val_accuracy: 0.6719\n",
      "Epoch 48/200\n",
      "42/42 [==============================] - 0s 4ms/step - loss: 0.4168 - accuracy: 0.8085 - val_loss: 0.6074 - val_accuracy: 0.6841\n",
      "Epoch 49/200\n",
      "42/42 [==============================] - 0s 5ms/step - loss: 0.4110 - accuracy: 0.8123 - val_loss: 0.6098 - val_accuracy: 0.6719\n",
      "Epoch 50/200\n",
      "42/42 [==============================] - 0s 5ms/step - loss: 0.4153 - accuracy: 0.8048 - val_loss: 0.6556 - val_accuracy: 0.6702\n",
      "Epoch 51/200\n",
      "42/42 [==============================] - 0s 5ms/step - loss: 0.4241 - accuracy: 0.7936 - val_loss: 0.6535 - val_accuracy: 0.6527\n",
      "Epoch 52/200\n",
      "42/42 [==============================] - 0s 5ms/step - loss: 0.4068 - accuracy: 0.8138 - val_loss: 0.6352 - val_accuracy: 0.6649\n",
      "Epoch 53/200\n",
      "42/42 [==============================] - 0s 4ms/step - loss: 0.4061 - accuracy: 0.8160 - val_loss: 0.6119 - val_accuracy: 0.6824\n",
      "Epoch 54/200\n",
      "42/42 [==============================] - 0s 5ms/step - loss: 0.3937 - accuracy: 0.8280 - val_loss: 0.5979 - val_accuracy: 0.6841\n",
      "Epoch 55/200\n",
      "42/42 [==============================] - 0s 5ms/step - loss: 0.3923 - accuracy: 0.8212 - val_loss: 0.5802 - val_accuracy: 0.7173\n",
      "Epoch 56/200\n",
      "42/42 [==============================] - 0s 4ms/step - loss: 0.3889 - accuracy: 0.8295 - val_loss: 0.5803 - val_accuracy: 0.6998\n",
      "Epoch 57/200\n",
      "42/42 [==============================] - 0s 5ms/step - loss: 0.3714 - accuracy: 0.8347 - val_loss: 0.5939 - val_accuracy: 0.7033\n",
      "Epoch 58/200\n",
      "42/42 [==============================] - 0s 5ms/step - loss: 0.3677 - accuracy: 0.8437 - val_loss: 0.5839 - val_accuracy: 0.7277\n",
      "Epoch 59/200\n",
      "42/42 [==============================] - 0s 5ms/step - loss: 0.3592 - accuracy: 0.8549 - val_loss: 0.5668 - val_accuracy: 0.7190\n",
      "Epoch 60/200\n",
      "42/42 [==============================] - 0s 5ms/step - loss: 0.3700 - accuracy: 0.8377 - val_loss: 0.6038 - val_accuracy: 0.6946\n",
      "Epoch 61/200\n",
      "42/42 [==============================] - 0s 5ms/step - loss: 0.3653 - accuracy: 0.8459 - val_loss: 0.5762 - val_accuracy: 0.7277\n",
      "Epoch 62/200\n",
      "42/42 [==============================] - 0s 5ms/step - loss: 0.3574 - accuracy: 0.8392 - val_loss: 0.5746 - val_accuracy: 0.7190\n",
      "Epoch 63/200\n",
      "42/42 [==============================] - 0s 5ms/step - loss: 0.3389 - accuracy: 0.8631 - val_loss: 0.5795 - val_accuracy: 0.7225\n",
      "Epoch 64/200\n",
      "42/42 [==============================] - 0s 6ms/step - loss: 0.3380 - accuracy: 0.8489 - val_loss: 0.5867 - val_accuracy: 0.7033\n",
      "Epoch 65/200\n",
      "42/42 [==============================] - 0s 4ms/step - loss: 0.3438 - accuracy: 0.8497 - val_loss: 0.6548 - val_accuracy: 0.6894\n",
      "Epoch 66/200\n",
      "42/42 [==============================] - 0s 4ms/step - loss: 0.3507 - accuracy: 0.8519 - val_loss: 0.5983 - val_accuracy: 0.7068\n",
      "Epoch 67/200\n",
      "42/42 [==============================] - 0s 4ms/step - loss: 0.3358 - accuracy: 0.8564 - val_loss: 0.5982 - val_accuracy: 0.7295\n",
      "Epoch 68/200\n",
      "42/42 [==============================] - 0s 5ms/step - loss: 0.3510 - accuracy: 0.8362 - val_loss: 0.5795 - val_accuracy: 0.7277\n",
      "Epoch 69/200\n",
      "42/42 [==============================] - 0s 5ms/step - loss: 0.3389 - accuracy: 0.8467 - val_loss: 0.5835 - val_accuracy: 0.7225\n",
      "Epoch 70/200\n",
      "42/42 [==============================] - 0s 5ms/step - loss: 0.3260 - accuracy: 0.8624 - val_loss: 0.5743 - val_accuracy: 0.7452\n",
      "Epoch 71/200\n",
      "42/42 [==============================] - 0s 6ms/step - loss: 0.3215 - accuracy: 0.8579 - val_loss: 0.5928 - val_accuracy: 0.7033\n",
      "Epoch 72/200\n",
      "42/42 [==============================] - 0s 4ms/step - loss: 0.3246 - accuracy: 0.8564 - val_loss: 0.5811 - val_accuracy: 0.7225\n",
      "Epoch 73/200\n",
      "42/42 [==============================] - 0s 4ms/step - loss: 0.3147 - accuracy: 0.8721 - val_loss: 0.5928 - val_accuracy: 0.7208\n",
      "Epoch 74/200\n",
      "42/42 [==============================] - 0s 4ms/step - loss: 0.3098 - accuracy: 0.8781 - val_loss: 0.5786 - val_accuracy: 0.7277\n",
      "Epoch 75/200\n",
      "42/42 [==============================] - 0s 5ms/step - loss: 0.3009 - accuracy: 0.8743 - val_loss: 0.6141 - val_accuracy: 0.6998\n",
      "Epoch 76/200\n",
      "42/42 [==============================] - 0s 5ms/step - loss: 0.3132 - accuracy: 0.8639 - val_loss: 0.5757 - val_accuracy: 0.7365\n",
      "Epoch 77/200\n",
      "42/42 [==============================] - 0s 6ms/step - loss: 0.3117 - accuracy: 0.8639 - val_loss: 0.5650 - val_accuracy: 0.7365\n",
      "Epoch 78/200\n",
      "42/42 [==============================] - 0s 5ms/step - loss: 0.2896 - accuracy: 0.8788 - val_loss: 0.5959 - val_accuracy: 0.7155\n",
      "Epoch 79/200\n",
      "42/42 [==============================] - 0s 4ms/step - loss: 0.2964 - accuracy: 0.8788 - val_loss: 0.5856 - val_accuracy: 0.7504\n",
      "Epoch 80/200\n",
      "42/42 [==============================] - 0s 5ms/step - loss: 0.2961 - accuracy: 0.8714 - val_loss: 0.5725 - val_accuracy: 0.7417\n",
      "Epoch 81/200\n",
      "42/42 [==============================] - 0s 4ms/step - loss: 0.2775 - accuracy: 0.8893 - val_loss: 0.5978 - val_accuracy: 0.7365\n",
      "Epoch 82/200\n",
      "42/42 [==============================] - 0s 4ms/step - loss: 0.2773 - accuracy: 0.8856 - val_loss: 0.5643 - val_accuracy: 0.7627\n",
      "Epoch 83/200\n",
      "42/42 [==============================] - 0s 5ms/step - loss: 0.2793 - accuracy: 0.8878 - val_loss: 0.6299 - val_accuracy: 0.7173\n",
      "Epoch 84/200\n",
      "42/42 [==============================] - 0s 4ms/step - loss: 0.2819 - accuracy: 0.8863 - val_loss: 0.5813 - val_accuracy: 0.7452\n",
      "Epoch 85/200\n",
      "42/42 [==============================] - 0s 4ms/step - loss: 0.2717 - accuracy: 0.8856 - val_loss: 0.5916 - val_accuracy: 0.7452\n",
      "Epoch 86/200\n",
      "42/42 [==============================] - 0s 5ms/step - loss: 0.2665 - accuracy: 0.8923 - val_loss: 0.6159 - val_accuracy: 0.7452\n",
      "Epoch 87/200\n",
      "42/42 [==============================] - 0s 4ms/step - loss: 0.2823 - accuracy: 0.8796 - val_loss: 0.5545 - val_accuracy: 0.7504\n",
      "Epoch 88/200\n",
      "42/42 [==============================] - 0s 4ms/step - loss: 0.2886 - accuracy: 0.8714 - val_loss: 0.6027 - val_accuracy: 0.7382\n",
      "Epoch 89/200\n",
      "42/42 [==============================] - 0s 4ms/step - loss: 0.2648 - accuracy: 0.8953 - val_loss: 0.5800 - val_accuracy: 0.7679\n",
      "Epoch 90/200\n",
      "42/42 [==============================] - 0s 5ms/step - loss: 0.2573 - accuracy: 0.8983 - val_loss: 0.6005 - val_accuracy: 0.7260\n",
      "Epoch 91/200\n",
      "42/42 [==============================] - 0s 4ms/step - loss: 0.2531 - accuracy: 0.8983 - val_loss: 0.5861 - val_accuracy: 0.7714\n",
      "Epoch 92/200\n",
      "42/42 [==============================] - 0s 4ms/step - loss: 0.2407 - accuracy: 0.9080 - val_loss: 0.5769 - val_accuracy: 0.7522\n",
      "Epoch 93/200\n",
      "42/42 [==============================] - 0s 5ms/step - loss: 0.2468 - accuracy: 0.9035 - val_loss: 0.5975 - val_accuracy: 0.7609\n",
      "Epoch 94/200\n",
      "42/42 [==============================] - 0s 4ms/step - loss: 0.2401 - accuracy: 0.9132 - val_loss: 0.5955 - val_accuracy: 0.7557\n",
      "Epoch 95/200\n",
      "42/42 [==============================] - 0s 4ms/step - loss: 0.2456 - accuracy: 0.9028 - val_loss: 0.6045 - val_accuracy: 0.7557\n",
      "Epoch 96/200\n",
      "42/42 [==============================] - 0s 5ms/step - loss: 0.2516 - accuracy: 0.8975 - val_loss: 0.6058 - val_accuracy: 0.7714\n",
      "Epoch 97/200\n",
      "42/42 [==============================] - 0s 5ms/step - loss: 0.2471 - accuracy: 0.9005 - val_loss: 0.5970 - val_accuracy: 0.7539\n",
      "Epoch 98/200\n",
      "42/42 [==============================] - 0s 4ms/step - loss: 0.2301 - accuracy: 0.9043 - val_loss: 0.6253 - val_accuracy: 0.7469\n",
      "Epoch 99/200\n",
      "42/42 [==============================] - 0s 4ms/step - loss: 0.2331 - accuracy: 0.9110 - val_loss: 0.6345 - val_accuracy: 0.7487\n",
      "Epoch 100/200\n",
      "42/42 [==============================] - 0s 5ms/step - loss: 0.2492 - accuracy: 0.9035 - val_loss: 0.5685 - val_accuracy: 0.7731\n",
      "Epoch 101/200\n",
      "42/42 [==============================] - 0s 4ms/step - loss: 0.2387 - accuracy: 0.9028 - val_loss: 0.5922 - val_accuracy: 0.7679\n",
      "Epoch 102/200\n",
      "42/42 [==============================] - 0s 4ms/step - loss: 0.2226 - accuracy: 0.9065 - val_loss: 0.6106 - val_accuracy: 0.7592\n",
      "Epoch 103/200\n",
      "42/42 [==============================] - 0s 4ms/step - loss: 0.2314 - accuracy: 0.9162 - val_loss: 0.5893 - val_accuracy: 0.7784\n",
      "Epoch 104/200\n",
      "42/42 [==============================] - 0s 6ms/step - loss: 0.2291 - accuracy: 0.9095 - val_loss: 0.6156 - val_accuracy: 0.7679\n",
      "Epoch 105/200\n",
      "42/42 [==============================] - 0s 5ms/step - loss: 0.2162 - accuracy: 0.9162 - val_loss: 0.6117 - val_accuracy: 0.7487\n",
      "Epoch 106/200\n",
      "42/42 [==============================] - 0s 5ms/step - loss: 0.2270 - accuracy: 0.9147 - val_loss: 0.5564 - val_accuracy: 0.8045\n",
      "Epoch 107/200\n",
      "42/42 [==============================] - 0s 6ms/step - loss: 0.2104 - accuracy: 0.9222 - val_loss: 0.6131 - val_accuracy: 0.7749\n",
      "Epoch 108/200\n",
      "42/42 [==============================] - 0s 5ms/step - loss: 0.2096 - accuracy: 0.9207 - val_loss: 0.5757 - val_accuracy: 0.7818\n",
      "Epoch 109/200\n",
      "42/42 [==============================] - 0s 7ms/step - loss: 0.1996 - accuracy: 0.9207 - val_loss: 0.6187 - val_accuracy: 0.7766\n",
      "Epoch 110/200\n",
      "42/42 [==============================] - 0s 5ms/step - loss: 0.1973 - accuracy: 0.9207 - val_loss: 0.5831 - val_accuracy: 0.7801\n",
      "Epoch 111/200\n",
      "42/42 [==============================] - 0s 6ms/step - loss: 0.2046 - accuracy: 0.9267 - val_loss: 0.5928 - val_accuracy: 0.7661\n",
      "Epoch 112/200\n",
      "42/42 [==============================] - 0s 5ms/step - loss: 0.2238 - accuracy: 0.9125 - val_loss: 0.6370 - val_accuracy: 0.7784\n",
      "Epoch 113/200\n",
      "42/42 [==============================] - 0s 5ms/step - loss: 0.2321 - accuracy: 0.8998 - val_loss: 0.5828 - val_accuracy: 0.7679\n",
      "Epoch 114/200\n",
      "42/42 [==============================] - 0s 6ms/step - loss: 0.2027 - accuracy: 0.9274 - val_loss: 0.5851 - val_accuracy: 0.7766\n",
      "Epoch 115/200\n",
      "42/42 [==============================] - 0s 8ms/step - loss: 0.1960 - accuracy: 0.9237 - val_loss: 0.5612 - val_accuracy: 0.7818\n",
      "Epoch 116/200\n",
      "42/42 [==============================] - 0s 5ms/step - loss: 0.1986 - accuracy: 0.9252 - val_loss: 0.5944 - val_accuracy: 0.7993\n",
      "Epoch 117/200\n",
      "42/42 [==============================] - 0s 5ms/step - loss: 0.2040 - accuracy: 0.9177 - val_loss: 0.6364 - val_accuracy: 0.7644\n",
      "Epoch 118/200\n",
      "42/42 [==============================] - 0s 5ms/step - loss: 0.1932 - accuracy: 0.9282 - val_loss: 0.6179 - val_accuracy: 0.7871\n",
      "Epoch 119/200\n",
      "42/42 [==============================] - 0s 5ms/step - loss: 0.2165 - accuracy: 0.9110 - val_loss: 0.5906 - val_accuracy: 0.7784\n",
      "Epoch 120/200\n",
      "42/42 [==============================] - 0s 5ms/step - loss: 0.2053 - accuracy: 0.9177 - val_loss: 0.6433 - val_accuracy: 0.7749\n",
      "Epoch 121/200\n",
      "42/42 [==============================] - 0s 6ms/step - loss: 0.1879 - accuracy: 0.9260 - val_loss: 0.6042 - val_accuracy: 0.8028\n",
      "Epoch 122/200\n",
      "42/42 [==============================] - 0s 5ms/step - loss: 0.1851 - accuracy: 0.9297 - val_loss: 0.5889 - val_accuracy: 0.7906\n",
      "Epoch 123/200\n",
      "42/42 [==============================] - 0s 6ms/step - loss: 0.1751 - accuracy: 0.9357 - val_loss: 0.6348 - val_accuracy: 0.7958\n",
      "Epoch 124/200\n",
      "42/42 [==============================] - 0s 6ms/step - loss: 0.1798 - accuracy: 0.9297 - val_loss: 0.6479 - val_accuracy: 0.7818\n",
      "Epoch 125/200\n",
      "42/42 [==============================] - 0s 6ms/step - loss: 0.1674 - accuracy: 0.9379 - val_loss: 0.6159 - val_accuracy: 0.7871\n",
      "Epoch 126/200\n",
      "42/42 [==============================] - 0s 5ms/step - loss: 0.1728 - accuracy: 0.9319 - val_loss: 0.6199 - val_accuracy: 0.8010\n",
      "Epoch 127/200\n",
      "42/42 [==============================] - 0s 4ms/step - loss: 0.1723 - accuracy: 0.9334 - val_loss: 0.6187 - val_accuracy: 0.7871\n",
      "Epoch 128/200\n",
      "42/42 [==============================] - 0s 5ms/step - loss: 0.1709 - accuracy: 0.9372 - val_loss: 0.6061 - val_accuracy: 0.7993\n",
      "Epoch 129/200\n",
      "42/42 [==============================] - 0s 5ms/step - loss: 0.1610 - accuracy: 0.9402 - val_loss: 0.6059 - val_accuracy: 0.7888\n",
      "Epoch 130/200\n",
      "42/42 [==============================] - 0s 5ms/step - loss: 0.1554 - accuracy: 0.9469 - val_loss: 0.6686 - val_accuracy: 0.7923\n",
      "Epoch 131/200\n",
      "42/42 [==============================] - 0s 4ms/step - loss: 0.1620 - accuracy: 0.9357 - val_loss: 0.5925 - val_accuracy: 0.8045\n",
      "Epoch 132/200\n",
      "42/42 [==============================] - 0s 5ms/step - loss: 0.1599 - accuracy: 0.9364 - val_loss: 0.6116 - val_accuracy: 0.8045\n",
      "Epoch 133/200\n",
      "42/42 [==============================] - 0s 6ms/step - loss: 0.1587 - accuracy: 0.9372 - val_loss: 0.6822 - val_accuracy: 0.7888\n",
      "Epoch 134/200\n",
      "42/42 [==============================] - 0s 5ms/step - loss: 0.1676 - accuracy: 0.9364 - val_loss: 0.6352 - val_accuracy: 0.7906\n",
      "Epoch 135/200\n",
      "42/42 [==============================] - 0s 5ms/step - loss: 0.1655 - accuracy: 0.9357 - val_loss: 0.6047 - val_accuracy: 0.8150\n",
      "Epoch 136/200\n",
      "42/42 [==============================] - 0s 6ms/step - loss: 0.1527 - accuracy: 0.9424 - val_loss: 0.6256 - val_accuracy: 0.8098\n",
      "Epoch 137/200\n",
      "42/42 [==============================] - 0s 6ms/step - loss: 0.1556 - accuracy: 0.9461 - val_loss: 0.6355 - val_accuracy: 0.8010\n",
      "Epoch 138/200\n",
      "42/42 [==============================] - 0s 6ms/step - loss: 0.1532 - accuracy: 0.9461 - val_loss: 0.6132 - val_accuracy: 0.8098\n",
      "Epoch 139/200\n",
      "42/42 [==============================] - 0s 5ms/step - loss: 0.1439 - accuracy: 0.9476 - val_loss: 0.6409 - val_accuracy: 0.7993\n",
      "Epoch 140/200\n",
      "42/42 [==============================] - 0s 5ms/step - loss: 0.1624 - accuracy: 0.9364 - val_loss: 0.6108 - val_accuracy: 0.8028\n",
      "Epoch 141/200\n",
      "42/42 [==============================] - 0s 5ms/step - loss: 0.1629 - accuracy: 0.9364 - val_loss: 0.6762 - val_accuracy: 0.7853\n",
      "Epoch 142/200\n",
      "42/42 [==============================] - 0s 6ms/step - loss: 0.1681 - accuracy: 0.9342 - val_loss: 0.6487 - val_accuracy: 0.8045\n",
      "Epoch 143/200\n",
      "42/42 [==============================] - 0s 5ms/step - loss: 0.1529 - accuracy: 0.9394 - val_loss: 0.6773 - val_accuracy: 0.8028\n",
      "Epoch 144/200\n",
      "42/42 [==============================] - 0s 5ms/step - loss: 0.1474 - accuracy: 0.9476 - val_loss: 0.6600 - val_accuracy: 0.8098\n",
      "Epoch 145/200\n",
      "42/42 [==============================] - 0s 5ms/step - loss: 0.1490 - accuracy: 0.9439 - val_loss: 0.6429 - val_accuracy: 0.8080\n",
      "Epoch 146/200\n",
      "42/42 [==============================] - 0s 5ms/step - loss: 0.1530 - accuracy: 0.9417 - val_loss: 0.6458 - val_accuracy: 0.8063\n",
      "Epoch 147/200\n",
      "42/42 [==============================] - 0s 5ms/step - loss: 0.1526 - accuracy: 0.9432 - val_loss: 0.6339 - val_accuracy: 0.8115\n",
      "Epoch 148/200\n",
      "42/42 [==============================] - 0s 4ms/step - loss: 0.1596 - accuracy: 0.9379 - val_loss: 0.6892 - val_accuracy: 0.7941\n",
      "Epoch 149/200\n",
      "42/42 [==============================] - 0s 6ms/step - loss: 0.1737 - accuracy: 0.9297 - val_loss: 0.6677 - val_accuracy: 0.7923\n",
      "Epoch 150/200\n",
      "42/42 [==============================] - 0s 5ms/step - loss: 0.1481 - accuracy: 0.9469 - val_loss: 0.6377 - val_accuracy: 0.8080\n",
      "Epoch 151/200\n",
      "42/42 [==============================] - 0s 5ms/step - loss: 0.1262 - accuracy: 0.9619 - val_loss: 0.6443 - val_accuracy: 0.8133\n",
      "Epoch 152/200\n",
      "42/42 [==============================] - 0s 6ms/step - loss: 0.1412 - accuracy: 0.9484 - val_loss: 0.6649 - val_accuracy: 0.8168\n",
      "Epoch 153/200\n",
      "42/42 [==============================] - 0s 5ms/step - loss: 0.1711 - accuracy: 0.9357 - val_loss: 0.7094 - val_accuracy: 0.7853\n",
      "Epoch 154/200\n",
      "42/42 [==============================] - 0s 4ms/step - loss: 0.1940 - accuracy: 0.9252 - val_loss: 0.7475 - val_accuracy: 0.7644\n",
      "Epoch 155/200\n",
      "42/42 [==============================] - 0s 5ms/step - loss: 0.1521 - accuracy: 0.9372 - val_loss: 0.7069 - val_accuracy: 0.7941\n",
      "Epoch 156/200\n",
      "42/42 [==============================] - 0s 5ms/step - loss: 0.1290 - accuracy: 0.9506 - val_loss: 0.7037 - val_accuracy: 0.8185\n",
      "Epoch 157/200\n",
      "42/42 [==============================] - 0s 4ms/step - loss: 0.1412 - accuracy: 0.9447 - val_loss: 0.6864 - val_accuracy: 0.8133\n",
      "Epoch 158/200\n",
      "42/42 [==============================] - 0s 4ms/step - loss: 0.1291 - accuracy: 0.9521 - val_loss: 0.6782 - val_accuracy: 0.8028\n",
      "Epoch 159/200\n",
      "42/42 [==============================] - 0s 5ms/step - loss: 0.1313 - accuracy: 0.9506 - val_loss: 0.7021 - val_accuracy: 0.7906\n",
      "Epoch 160/200\n",
      "42/42 [==============================] - 0s 5ms/step - loss: 0.1262 - accuracy: 0.9536 - val_loss: 0.6646 - val_accuracy: 0.8133\n",
      "Epoch 161/200\n",
      "42/42 [==============================] - 0s 4ms/step - loss: 0.1176 - accuracy: 0.9574 - val_loss: 0.6785 - val_accuracy: 0.8098\n",
      "Epoch 162/200\n",
      "42/42 [==============================] - 0s 4ms/step - loss: 0.1347 - accuracy: 0.9476 - val_loss: 0.6772 - val_accuracy: 0.8168\n",
      "Epoch 163/200\n",
      "42/42 [==============================] - 0s 5ms/step - loss: 0.1292 - accuracy: 0.9536 - val_loss: 0.6728 - val_accuracy: 0.8290\n",
      "Epoch 164/200\n",
      "42/42 [==============================] - 0s 5ms/step - loss: 0.1418 - accuracy: 0.9424 - val_loss: 0.6903 - val_accuracy: 0.8272\n",
      "Epoch 165/200\n",
      "42/42 [==============================] - 0s 4ms/step - loss: 0.1365 - accuracy: 0.9454 - val_loss: 0.6862 - val_accuracy: 0.8220\n",
      "Epoch 166/200\n",
      "42/42 [==============================] - 0s 4ms/step - loss: 0.1267 - accuracy: 0.9581 - val_loss: 0.6824 - val_accuracy: 0.8325\n",
      "Epoch 167/200\n",
      "42/42 [==============================] - 0s 7ms/step - loss: 0.1327 - accuracy: 0.9469 - val_loss: 0.8055 - val_accuracy: 0.7993\n",
      "Epoch 168/200\n",
      "42/42 [==============================] - 0s 4ms/step - loss: 0.1256 - accuracy: 0.9581 - val_loss: 0.6693 - val_accuracy: 0.8168\n",
      "Epoch 169/200\n",
      "42/42 [==============================] - 0s 6ms/step - loss: 0.1366 - accuracy: 0.9491 - val_loss: 0.7488 - val_accuracy: 0.7958\n",
      "Epoch 170/200\n",
      "42/42 [==============================] - 0s 6ms/step - loss: 0.1719 - accuracy: 0.9454 - val_loss: 0.7173 - val_accuracy: 0.8272\n",
      "Epoch 171/200\n",
      "42/42 [==============================] - 0s 5ms/step - loss: 0.1195 - accuracy: 0.9559 - val_loss: 0.7393 - val_accuracy: 0.8150\n",
      "Epoch 172/200\n",
      "42/42 [==============================] - 0s 5ms/step - loss: 0.1063 - accuracy: 0.9619 - val_loss: 0.6759 - val_accuracy: 0.8290\n",
      "Epoch 173/200\n",
      "42/42 [==============================] - 0s 4ms/step - loss: 0.1309 - accuracy: 0.9521 - val_loss: 0.7142 - val_accuracy: 0.8080\n",
      "Epoch 174/200\n",
      "42/42 [==============================] - 0s 5ms/step - loss: 0.1106 - accuracy: 0.9529 - val_loss: 0.7035 - val_accuracy: 0.8360\n",
      "Epoch 175/200\n",
      "42/42 [==============================] - 0s 4ms/step - loss: 0.1045 - accuracy: 0.9641 - val_loss: 0.6851 - val_accuracy: 0.8290\n",
      "Epoch 176/200\n",
      "42/42 [==============================] - 0s 5ms/step - loss: 0.1242 - accuracy: 0.9499 - val_loss: 0.7410 - val_accuracy: 0.7923\n",
      "Epoch 177/200\n",
      "42/42 [==============================] - 0s 6ms/step - loss: 0.1132 - accuracy: 0.9611 - val_loss: 0.6753 - val_accuracy: 0.8360\n",
      "Epoch 178/200\n",
      "42/42 [==============================] - 0s 6ms/step - loss: 0.1009 - accuracy: 0.9663 - val_loss: 0.7297 - val_accuracy: 0.8237\n",
      "Epoch 179/200\n",
      "42/42 [==============================] - 0s 5ms/step - loss: 0.1127 - accuracy: 0.9536 - val_loss: 0.7304 - val_accuracy: 0.8325\n",
      "Epoch 180/200\n",
      "42/42 [==============================] - 0s 5ms/step - loss: 0.1090 - accuracy: 0.9596 - val_loss: 0.6884 - val_accuracy: 0.8325\n",
      "Epoch 181/200\n",
      "42/42 [==============================] - 0s 6ms/step - loss: 0.0953 - accuracy: 0.9656 - val_loss: 0.7333 - val_accuracy: 0.8220\n",
      "Epoch 182/200\n",
      "42/42 [==============================] - 0s 5ms/step - loss: 0.1114 - accuracy: 0.9619 - val_loss: 0.7300 - val_accuracy: 0.8098\n",
      "Epoch 183/200\n",
      "42/42 [==============================] - 0s 6ms/step - loss: 0.1051 - accuracy: 0.9641 - val_loss: 0.7084 - val_accuracy: 0.8237\n",
      "Epoch 184/200\n",
      "42/42 [==============================] - 0s 6ms/step - loss: 0.1116 - accuracy: 0.9604 - val_loss: 0.7370 - val_accuracy: 0.8098\n",
      "Epoch 185/200\n",
      "42/42 [==============================] - 0s 5ms/step - loss: 0.1055 - accuracy: 0.9663 - val_loss: 0.7076 - val_accuracy: 0.8307\n",
      "Epoch 186/200\n",
      "42/42 [==============================] - 0s 5ms/step - loss: 0.0938 - accuracy: 0.9708 - val_loss: 0.7340 - val_accuracy: 0.8412\n",
      "Epoch 187/200\n",
      "42/42 [==============================] - 0s 5ms/step - loss: 0.0927 - accuracy: 0.9708 - val_loss: 0.6987 - val_accuracy: 0.8447\n",
      "Epoch 188/200\n",
      "42/42 [==============================] - 0s 6ms/step - loss: 0.0994 - accuracy: 0.9663 - val_loss: 0.7462 - val_accuracy: 0.8272\n",
      "Epoch 189/200\n",
      "42/42 [==============================] - 0s 5ms/step - loss: 0.1067 - accuracy: 0.9581 - val_loss: 0.7324 - val_accuracy: 0.8342\n",
      "Epoch 190/200\n",
      "42/42 [==============================] - 0s 5ms/step - loss: 0.0947 - accuracy: 0.9708 - val_loss: 0.7773 - val_accuracy: 0.8202\n",
      "Epoch 191/200\n",
      "42/42 [==============================] - 0s 6ms/step - loss: 0.0984 - accuracy: 0.9656 - val_loss: 0.7190 - val_accuracy: 0.8255\n",
      "Epoch 192/200\n",
      "42/42 [==============================] - 0s 5ms/step - loss: 0.1033 - accuracy: 0.9604 - val_loss: 0.7147 - val_accuracy: 0.8377\n",
      "Epoch 193/200\n",
      "42/42 [==============================] - 0s 5ms/step - loss: 0.0989 - accuracy: 0.9626 - val_loss: 0.7234 - val_accuracy: 0.8255\n",
      "Epoch 194/200\n",
      "42/42 [==============================] - 0s 7ms/step - loss: 0.0999 - accuracy: 0.9678 - val_loss: 0.7525 - val_accuracy: 0.8220\n",
      "Epoch 195/200\n",
      "42/42 [==============================] - 0s 5ms/step - loss: 0.1049 - accuracy: 0.9604 - val_loss: 0.7174 - val_accuracy: 0.8255\n",
      "Epoch 196/200\n",
      "42/42 [==============================] - 0s 5ms/step - loss: 0.0892 - accuracy: 0.9671 - val_loss: 0.8225 - val_accuracy: 0.8010\n",
      "Epoch 197/200\n",
      "42/42 [==============================] - 0s 5ms/step - loss: 0.0998 - accuracy: 0.9648 - val_loss: 0.8482 - val_accuracy: 0.8133\n",
      "Epoch 198/200\n",
      "42/42 [==============================] - 0s 6ms/step - loss: 0.1605 - accuracy: 0.9424 - val_loss: 0.8350 - val_accuracy: 0.8220\n",
      "Epoch 199/200\n",
      "42/42 [==============================] - 0s 6ms/step - loss: 0.1728 - accuracy: 0.9312 - val_loss: 0.9571 - val_accuracy: 0.7818\n",
      "Epoch 200/200\n",
      "42/42 [==============================] - 0s 5ms/step - loss: 0.3038 - accuracy: 0.8953 - val_loss: 0.9115 - val_accuracy: 0.7923\n"
     ]
    }
   ],
   "source": [
    "X_train, X_test, y_train, y_test = split_data(features_pca_5, target)\n",
    "y_train_dummies = pd.get_dummies(y_train)\n",
    "y_test_dummies  = pd.get_dummies(y_test)\n",
    "pca_5_model     = neural_network(X_train)\n",
    "pca_5_history   = pca_5_model.fit(X_train, y_train_dummies, validation_data = (X_test, y_test_dummies), epochs = 200, batch_size = 32)"
   ]
  },
  {
   "cell_type": "code",
   "execution_count": 30,
   "id": "1319d590-6e94-432b-9338-6b5c8df8f26a",
   "metadata": {},
   "outputs": [
    {
     "name": "stdout",
     "output_type": "stream",
     "text": [
      "Model: \"sequential\"\n",
      "_________________________________________________________________\n",
      " Layer (type)                Output Shape              Param #   \n",
      "=================================================================\n",
      " dense (Dense)               (None, 128)               768       \n",
      "                                                                 \n",
      " dense_1 (Dense)             (None, 64)                8256      \n",
      "                                                                 \n",
      " dense_2 (Dense)             (None, 32)                2080      \n",
      "                                                                 \n",
      " dense_3 (Dense)             (None, 2)                 66        \n",
      "                                                                 \n",
      "=================================================================\n",
      "Total params: 11170 (43.63 KB)\n",
      "Trainable params: 11170 (43.63 KB)\n",
      "Non-trainable params: 0 (0.00 Byte)\n",
      "_________________________________________________________________\n"
     ]
    }
   ],
   "source": [
    "pca_5_model.summary()"
   ]
  },
  {
   "cell_type": "code",
   "execution_count": 31,
   "id": "06fa5c9b-50fb-4265-8b7f-d586c84882d9",
   "metadata": {},
   "outputs": [
    {
     "data": {
      "image/png": "[encoded data removed]",
      "text/plain": [
       "<Figure size 800x400 with 1 Axes>"
      ]
     },
     "metadata": {},
     "output_type": "display_data"
    }
   ],
   "source": [
    "plt.figure(figsize = (8,4))\n",
    "plt.plot(pca_5_history.history[\"accuracy\"], label = \"Training Accuracy\")\n",
    "plt.plot(pca_5_history.history[\"val_accuracy\"], label = \"Validation Accuracy\")\n",
    "plt.title(\"Training VS Validation Accuracy for 5-PCA Model\", fontsize = 12)\n",
    "plt.xlabel(\"Epochs\")\n",
    "plt.ylabel(\"Data\")\n",
    "plt.legend()\n",
    "plt.show()"
   ]
  },
  {
   "cell_type": "markdown",
   "id": "9179797b-850e-4188-928a-3baf4b16f3f5",
   "metadata": {
    "tags": []
   },
   "source": [
    "### 7.3.3 Model Evaluation "
   ]
  },
  {
   "cell_type": "code",
   "execution_count": 32,
   "id": "2bd44f18-dd5b-4771-a937-b82434ef8ced",
   "metadata": {},
   "outputs": [
    {
     "name": "stdout",
     "output_type": "stream",
     "text": [
      "18/18 [==============================] - 0s 3ms/step\n",
      "42/42 [==============================] - 0s 3ms/step\n"
     ]
    }
   ],
   "source": [
    "pca_5_prediction_test  = pca_5_model.predict(X_test)\n",
    "pca_5_prediction_train = pca_5_model.predict(X_train)"
   ]
  },
  {
   "cell_type": "markdown",
   "id": "4d9af19c-c181-49f4-a17f-372d37f6c932",
   "metadata": {
    "tags": []
   },
   "source": [
    "#### 7.3.4.1 Classification Report"
   ]
  },
  {
   "cell_type": "code",
   "execution_count": 33,
   "id": "288c3305-5757-4e6d-8cfd-eaddc98f0b67",
   "metadata": {},
   "outputs": [
    {
     "name": "stdout",
     "output_type": "stream",
     "text": [
      "              precision    recall  f1-score   support\n",
      "\n",
      "    Invasive       0.83      0.70      0.76       267\n",
      "Non-Invasive       0.77      0.88      0.82       306\n",
      "\n",
      "    accuracy                           0.79       573\n",
      "   macro avg       0.80      0.79      0.79       573\n",
      "weighted avg       0.80      0.79      0.79       573\n",
      "\n"
     ]
    }
   ],
   "source": [
    "class_labels     = ['Invasive', 'Non-Invasive']\n",
    "pca_5_prediction_test  = [class_labels[label] for label in np.argmax(pca_5_prediction_test, axis=1)]\n",
    "pca_5_prediction_train = [class_labels[label] for label in np.argmax(pca_5_prediction_train, axis=1)]\n",
    "print(classification_report(y_test, pca_5_prediction_test))"
   ]
  },
  {
   "cell_type": "markdown",
   "id": "a2807dee-50fe-4f8d-99f8-6a88d4089a7f",
   "metadata": {
    "tags": []
   },
   "source": [
    "#### 7.3.4.2 Confusion Matrix"
   ]
  },
  {
   "cell_type": "code",
   "execution_count": 34,
   "id": "8af52d23-7fc2-47f8-8d1f-b41a83de4365",
   "metadata": {},
   "outputs": [
    {
     "data": {
      "text/plain": [
       "<Figure size 800x400 with 0 Axes>"
      ]
     },
     "metadata": {},
     "output_type": "display_data"
    },
    {
     "data": {
      "image/png": "[encoded data removed]",
      "text/plain": [
       "<Figure size 640x480 with 2 Axes>"
      ]
     },
     "metadata": {},
     "output_type": "display_data"
    }
   ],
   "source": [
    "pca_5_cm     = confusion_matrix(y_test, pca_5_prediction_test)\n",
    "pca_5_cm_dip = ConfusionMatrixDisplay(confusion_matrix = pca_5_cm,\n",
    "                                       display_labels=['0','1'])\n",
    "plt.figure(figsize = (8,4))\n",
    "pca_5_cm_dip.plot()\n",
    "plt.show()"
   ]
  },
  {
   "cell_type": "markdown",
   "id": "1b8b5bd8-d3e0-42cb-9f5a-5faec5586edc",
   "metadata": {
    "tags": []
   },
   "source": [
    "#### 7.3.4.3 Evaludation on Training Set"
   ]
  },
  {
   "cell_type": "code",
   "execution_count": 36,
   "id": "904a749b-2ae4-46d0-acc3-8322e90961bc",
   "metadata": {},
   "outputs": [
    {
     "name": "stdout",
     "output_type": "stream",
     "text": [
      "Evaludation on Training Set \n",
      "\n",
      "Accuracy :\t 0.9065\n",
      "Recall :\t 0.9065\n",
      "Precision :\t 0.9065\n",
      "F1 - Score :\t 0.9065\n"
     ]
    }
   ],
   "source": [
    "pca_5_accuracy_train   = accuracy_score(y_train, pca_5_prediction_train)\n",
    "pca_5_recall_train     = recall_score(y_train, pca_5_prediction_train, average='micro')\n",
    "pca_5_precision_train  = precision_score(y_train, pca_5_prediction_train, average='micro')\n",
    "pca_5_f1_Score_train   = f1_score(y_train, pca_5_prediction_train, average='micro')\n",
    "\n",
    "print(\"Evaludation on Training Set \\n\")\n",
    "print(\"Accuracy :\\t\", round(pca_5_accuracy_train, 4))\n",
    "print(\"Recall :\\t\", round(pca_5_recall_train, 4))\n",
    "print(\"Precision :\\t\", round(pca_5_precision_train, 4))\n",
    "print(\"F1 - Score :\\t\", round(pca_5_f1_Score_train, 4))"
   ]
  },
  {
   "cell_type": "markdown",
   "id": "49409da9-2ef8-4e72-920f-2e4bc36fabdf",
   "metadata": {
    "jp-MarkdownHeadingCollapsed": true,
    "tags": []
   },
   "source": [
    "#### 7.3.4.4 Evaludation on Testing Set"
   ]
  },
  {
   "cell_type": "code",
   "execution_count": 37,
   "id": "176aea47-b42c-4698-b88d-ac381258d836",
   "metadata": {},
   "outputs": [
    {
     "name": "stdout",
     "output_type": "stream",
     "text": [
      "Evaludation on Training Set \n",
      "\n",
      "Accuracy :\t 0.7923\n",
      "Recall :\t 0.7923\n",
      "Precision :\t 0.7923\n",
      "F1 - Score :\t 0.7923\n"
     ]
    }
   ],
   "source": [
    "pca_5_accuracy_test   = accuracy_score(y_test, pca_5_prediction_test)\n",
    "pca_5_recall_test     = recall_score(y_test, pca_5_prediction_test, average='micro')\n",
    "pca_5_precision_test  = precision_score(y_test, pca_5_prediction_test, average='micro')\n",
    "pca_5_f1_Score_test   = f1_score(y_test, pca_5_prediction_test, average='micro')\n",
    "\n",
    "print(\"Evaludation on Training Set \\n\")\n",
    "print(\"Accuracy :\\t\", round(pca_5_accuracy_test, 4))\n",
    "print(\"Recall :\\t\", round(pca_5_recall_test, 4))\n",
    "print(\"Precision :\\t\", round(pca_5_precision_test, 4))\n",
    "print(\"F1 - Score :\\t\", round(pca_5_f1_Score_test, 4))"
   ]
  },
  {
   "cell_type": "markdown",
   "id": "c1d9884d-4a26-4a89-9575-70fe3c3f4aca",
   "metadata": {
    "tags": []
   },
   "source": [
    "## 7.4. 7-PCA"
   ]
  },
  {
   "cell_type": "markdown",
   "id": "ab010254-d6b1-43bf-839d-54efd9ce0487",
   "metadata": {
    "tags": []
   },
   "source": [
    "### 7.4.1 PCA Analysis with 7 Principle Components"
   ]
  },
  {
   "cell_type": "code",
   "execution_count": 38,
   "id": "1bb06d98-e226-48c3-ae36-133984794725",
   "metadata": {},
   "outputs": [
    {
     "data": {
      "text/html": [
       "<style>#sk-container-id-5 {color: black;background-color: white;}#sk-container-id-5 pre{padding: 0;}#sk-container-id-5 div.sk-toggleable {background-color: white;}#sk-container-id-5 label.sk-toggleable__label {cursor: pointer;display: block;width: 100%;margin-bottom: 0;padding: 0.3em;box-sizing: border-box;text-align: center;}#sk-container-id-5 label.sk-toggleable__label-arrow:before {content: \"▸\";float: left;margin-right: 0.25em;color: #696969;}#sk-container-id-5 label.sk-toggleable__label-arrow:hover:before {color: black;}#sk-container-id-5 div.sk-estimator:hover label.sk-toggleable__label-arrow:before {color: black;}#sk-container-id-5 div.sk-toggleable__content {max-height: 0;max-width: 0;overflow: hidden;text-align: left;background-color: #f0f8ff;}#sk-container-id-5 div.sk-toggleable__content pre {margin: 0.2em;color: black;border-radius: 0.25em;background-color: #f0f8ff;}#sk-container-id-5 input.sk-toggleable__control:checked~div.sk-toggleable__content {max-height: 200px;max-width: 100%;overflow: auto;}#sk-container-id-5 input.sk-toggleable__control:checked~label.sk-toggleable__label-arrow:before {content: \"▾\";}#sk-container-id-5 div.sk-estimator input.sk-toggleable__control:checked~label.sk-toggleable__label {background-color: #d4ebff;}#sk-container-id-5 div.sk-label input.sk-toggleable__control:checked~label.sk-toggleable__label {background-color: #d4ebff;}#sk-container-id-5 input.sk-hidden--visually {border: 0;clip: rect(1px 1px 1px 1px);clip: rect(1px, 1px, 1px, 1px);height: 1px;margin: -1px;overflow: hidden;padding: 0;position: absolute;width: 1px;}#sk-container-id-5 div.sk-estimator {font-family: monospace;background-color: #f0f8ff;border: 1px dotted black;border-radius: 0.25em;box-sizing: border-box;margin-bottom: 0.5em;}#sk-container-id-5 div.sk-estimator:hover {background-color: #d4ebff;}#sk-container-id-5 div.sk-parallel-item::after {content: \"\";width: 100%;border-bottom: 1px solid gray;flex-grow: 1;}#sk-container-id-5 div.sk-label:hover label.sk-toggleable__label {background-color: #d4ebff;}#sk-container-id-5 div.sk-serial::before {content: \"\";position: absolute;border-left: 1px solid gray;box-sizing: border-box;top: 0;bottom: 0;left: 50%;z-index: 0;}#sk-container-id-5 div.sk-serial {display: flex;flex-direction: column;align-items: center;background-color: white;padding-right: 0.2em;padding-left: 0.2em;position: relative;}#sk-container-id-5 div.sk-item {position: relative;z-index: 1;}#sk-container-id-5 div.sk-parallel {display: flex;align-items: stretch;justify-content: center;background-color: white;position: relative;}#sk-container-id-5 div.sk-item::before, #sk-container-id-5 div.sk-parallel-item::before {content: \"\";position: absolute;border-left: 1px solid gray;box-sizing: border-box;top: 0;bottom: 0;left: 50%;z-index: -1;}#sk-container-id-5 div.sk-parallel-item {display: flex;flex-direction: column;z-index: 1;position: relative;background-color: white;}#sk-container-id-5 div.sk-parallel-item:first-child::after {align-self: flex-end;width: 50%;}#sk-container-id-5 div.sk-parallel-item:last-child::after {align-self: flex-start;width: 50%;}#sk-container-id-5 div.sk-parallel-item:only-child::after {width: 0;}#sk-container-id-5 div.sk-dashed-wrapped {border: 1px dashed gray;margin: 0 0.4em 0.5em 0.4em;box-sizing: border-box;padding-bottom: 0.4em;background-color: white;}#sk-container-id-5 div.sk-label label {font-family: monospace;font-weight: bold;display: inline-block;line-height: 1.2em;}#sk-container-id-5 div.sk-label-container {text-align: center;}#sk-container-id-5 div.sk-container {/* jupyter's `normalize.less` sets `[hidden] { display: none; }` but bootstrap.min.css set `[hidden] { display: none !important; }` so we also need the `!important` here to be able to override the default hidden behavior on the sphinx rendered scikit-learn.org. See: https://github.com/scikit-learn/scikit-learn/issues/21755 */display: inline-block !important;position: relative;}#sk-container-id-5 div.sk-text-repr-fallback {display: none;}</style><div id=\"sk-container-id-5\" class=\"sk-top-container\"><div class=\"sk-text-repr-fallback\"><pre>Pipeline(steps=[(&#x27;preprocessor&#x27;,\n",
       "                 ColumnTransformer(transformers=[(&#x27;num&#x27;, StandardScaler(),\n",
       "                                                  [&#x27;days_to_last_follow_up&#x27;,\n",
       "                                                   &#x27;age_at_diagnosis&#x27;,\n",
       "                                                   &#x27;year_of_diagnosis&#x27;,\n",
       "                                                   &#x27;cigarettes_per_day&#x27;,\n",
       "                                                   &#x27;pack_years_smoked&#x27;,\n",
       "                                                   &#x27;age_at_index&#x27;]),\n",
       "                                                 (&#x27;cat&#x27;,\n",
       "                                                  OneHotEncoder(drop=&#x27;first&#x27;,\n",
       "                                                                sparse=False),\n",
       "                                                  [&#x27;synchronous_malignancy&#x27;,\n",
       "                                                   &#x27;tissue_or_organ_of_origin&#x27;,\n",
       "                                                   &#x27;prior_malignancy&#x27;,\n",
       "                                                   &#x27;prior_treatment&#x27;,\n",
       "                                                   &#x27;ajcc_staging_system_edition&#x27;,\n",
       "                                                   &#x27;ajcc_pathologic_t&#x27;,\n",
       "                                                   &#x27;ajcc_pathologic_n&#x27;,\n",
       "                                                   &#x27;ajcc_pathologic_m&#x27;,\n",
       "                                                   &#x27;site_of_resection_or_biopsy&#x27;,\n",
       "                                                   &#x27;race&#x27;, &#x27;gender&#x27;,\n",
       "                                                   &#x27;ethnicity&#x27;, &#x27;vital_status&#x27;,\n",
       "                                                   &#x27;treatments_pharmaceutical_treatment_or_therapy&#x27;,\n",
       "                                                   &#x27;treatments_radiation_treatment_or_therapy&#x27;])])),\n",
       "                (&#x27;pca&#x27;, PCA(n_components=7))])</pre><b>In a Jupyter environment, please rerun this cell to show the HTML representation or trust the notebook. <br />On GitHub, the HTML representation is unable to render, please try loading this page with nbviewer.org.</b></div><div class=\"sk-container\" hidden><div class=\"sk-item sk-dashed-wrapped\"><div class=\"sk-label-container\"><div class=\"sk-label sk-toggleable\"><input class=\"sk-toggleable__control sk-hidden--visually\" id=\"sk-estimator-id-20\" type=\"checkbox\" ><label for=\"sk-estimator-id-20\" class=\"sk-toggleable__label sk-toggleable__label-arrow\">Pipeline</label><div class=\"sk-toggleable__content\"><pre>Pipeline(steps=[(&#x27;preprocessor&#x27;,\n",
       "                 ColumnTransformer(transformers=[(&#x27;num&#x27;, StandardScaler(),\n",
       "                                                  [&#x27;days_to_last_follow_up&#x27;,\n",
       "                                                   &#x27;age_at_diagnosis&#x27;,\n",
       "                                                   &#x27;year_of_diagnosis&#x27;,\n",
       "                                                   &#x27;cigarettes_per_day&#x27;,\n",
       "                                                   &#x27;pack_years_smoked&#x27;,\n",
       "                                                   &#x27;age_at_index&#x27;]),\n",
       "                                                 (&#x27;cat&#x27;,\n",
       "                                                  OneHotEncoder(drop=&#x27;first&#x27;,\n",
       "                                                                sparse=False),\n",
       "                                                  [&#x27;synchronous_malignancy&#x27;,\n",
       "                                                   &#x27;tissue_or_organ_of_origin&#x27;,\n",
       "                                                   &#x27;prior_malignancy&#x27;,\n",
       "                                                   &#x27;prior_treatment&#x27;,\n",
       "                                                   &#x27;ajcc_staging_system_edition&#x27;,\n",
       "                                                   &#x27;ajcc_pathologic_t&#x27;,\n",
       "                                                   &#x27;ajcc_pathologic_n&#x27;,\n",
       "                                                   &#x27;ajcc_pathologic_m&#x27;,\n",
       "                                                   &#x27;site_of_resection_or_biopsy&#x27;,\n",
       "                                                   &#x27;race&#x27;, &#x27;gender&#x27;,\n",
       "                                                   &#x27;ethnicity&#x27;, &#x27;vital_status&#x27;,\n",
       "                                                   &#x27;treatments_pharmaceutical_treatment_or_therapy&#x27;,\n",
       "                                                   &#x27;treatments_radiation_treatment_or_therapy&#x27;])])),\n",
       "                (&#x27;pca&#x27;, PCA(n_components=7))])</pre></div></div></div><div class=\"sk-serial\"><div class=\"sk-item sk-dashed-wrapped\"><div class=\"sk-label-container\"><div class=\"sk-label sk-toggleable\"><input class=\"sk-toggleable__control sk-hidden--visually\" id=\"sk-estimator-id-21\" type=\"checkbox\" ><label for=\"sk-estimator-id-21\" class=\"sk-toggleable__label sk-toggleable__label-arrow\">preprocessor: ColumnTransformer</label><div class=\"sk-toggleable__content\"><pre>ColumnTransformer(transformers=[(&#x27;num&#x27;, StandardScaler(),\n",
       "                                 [&#x27;days_to_last_follow_up&#x27;, &#x27;age_at_diagnosis&#x27;,\n",
       "                                  &#x27;year_of_diagnosis&#x27;, &#x27;cigarettes_per_day&#x27;,\n",
       "                                  &#x27;pack_years_smoked&#x27;, &#x27;age_at_index&#x27;]),\n",
       "                                (&#x27;cat&#x27;,\n",
       "                                 OneHotEncoder(drop=&#x27;first&#x27;, sparse=False),\n",
       "                                 [&#x27;synchronous_malignancy&#x27;,\n",
       "                                  &#x27;tissue_or_organ_of_origin&#x27;,\n",
       "                                  &#x27;prior_malignancy&#x27;, &#x27;prior_treatment&#x27;,\n",
       "                                  &#x27;ajcc_staging_system_edition&#x27;,\n",
       "                                  &#x27;ajcc_pathologic_t&#x27;, &#x27;ajcc_pathologic_n&#x27;,\n",
       "                                  &#x27;ajcc_pathologic_m&#x27;,\n",
       "                                  &#x27;site_of_resection_or_biopsy&#x27;, &#x27;race&#x27;,\n",
       "                                  &#x27;gender&#x27;, &#x27;ethnicity&#x27;, &#x27;vital_status&#x27;,\n",
       "                                  &#x27;treatments_pharmaceutical_treatment_or_therapy&#x27;,\n",
       "                                  &#x27;treatments_radiation_treatment_or_therapy&#x27;])])</pre></div></div></div><div class=\"sk-parallel\"><div class=\"sk-parallel-item\"><div class=\"sk-item\"><div class=\"sk-label-container\"><div class=\"sk-label sk-toggleable\"><input class=\"sk-toggleable__control sk-hidden--visually\" id=\"sk-estimator-id-22\" type=\"checkbox\" ><label for=\"sk-estimator-id-22\" class=\"sk-toggleable__label sk-toggleable__label-arrow\">num</label><div class=\"sk-toggleable__content\"><pre>[&#x27;days_to_last_follow_up&#x27;, &#x27;age_at_diagnosis&#x27;, &#x27;year_of_diagnosis&#x27;, &#x27;cigarettes_per_day&#x27;, &#x27;pack_years_smoked&#x27;, &#x27;age_at_index&#x27;]</pre></div></div></div><div class=\"sk-serial\"><div class=\"sk-item\"><div class=\"sk-estimator sk-toggleable\"><input class=\"sk-toggleable__control sk-hidden--visually\" id=\"sk-estimator-id-23\" type=\"checkbox\" ><label for=\"sk-estimator-id-23\" class=\"sk-toggleable__label sk-toggleable__label-arrow\">StandardScaler</label><div class=\"sk-toggleable__content\"><pre>StandardScaler()</pre></div></div></div></div></div></div><div class=\"sk-parallel-item\"><div class=\"sk-item\"><div class=\"sk-label-container\"><div class=\"sk-label sk-toggleable\"><input class=\"sk-toggleable__control sk-hidden--visually\" id=\"sk-estimator-id-24\" type=\"checkbox\" ><label for=\"sk-estimator-id-24\" class=\"sk-toggleable__label sk-toggleable__label-arrow\">cat</label><div class=\"sk-toggleable__content\"><pre>[&#x27;synchronous_malignancy&#x27;, &#x27;tissue_or_organ_of_origin&#x27;, &#x27;prior_malignancy&#x27;, &#x27;prior_treatment&#x27;, &#x27;ajcc_staging_system_edition&#x27;, &#x27;ajcc_pathologic_t&#x27;, &#x27;ajcc_pathologic_n&#x27;, &#x27;ajcc_pathologic_m&#x27;, &#x27;site_of_resection_or_biopsy&#x27;, &#x27;race&#x27;, &#x27;gender&#x27;, &#x27;ethnicity&#x27;, &#x27;vital_status&#x27;, &#x27;treatments_pharmaceutical_treatment_or_therapy&#x27;, &#x27;treatments_radiation_treatment_or_therapy&#x27;]</pre></div></div></div><div class=\"sk-serial\"><div class=\"sk-item\"><div class=\"sk-estimator sk-toggleable\"><input class=\"sk-toggleable__control sk-hidden--visually\" id=\"sk-estimator-id-25\" type=\"checkbox\" ><label for=\"sk-estimator-id-25\" class=\"sk-toggleable__label sk-toggleable__label-arrow\">OneHotEncoder</label><div class=\"sk-toggleable__content\"><pre>OneHotEncoder(drop=&#x27;first&#x27;, sparse=False)</pre></div></div></div></div></div></div></div></div><div class=\"sk-item\"><div class=\"sk-estimator sk-toggleable\"><input class=\"sk-toggleable__control sk-hidden--visually\" id=\"sk-estimator-id-26\" type=\"checkbox\" ><label for=\"sk-estimator-id-26\" class=\"sk-toggleable__label sk-toggleable__label-arrow\">PCA</label><div class=\"sk-toggleable__content\"><pre>PCA(n_components=7)</pre></div></div></div></div></div></div></div>"
      ],
      "text/plain": [
       "Pipeline(steps=[('preprocessor',\n",
       "                 ColumnTransformer(transformers=[('num', StandardScaler(),\n",
       "                                                  ['days_to_last_follow_up',\n",
       "                                                   'age_at_diagnosis',\n",
       "                                                   'year_of_diagnosis',\n",
       "                                                   'cigarettes_per_day',\n",
       "                                                   'pack_years_smoked',\n",
       "                                                   'age_at_index']),\n",
       "                                                 ('cat',\n",
       "                                                  OneHotEncoder(drop='first',\n",
       "                                                                sparse=False),\n",
       "                                                  ['synchronous_malignancy',\n",
       "                                                   'tissue_or_organ_of_origin',\n",
       "                                                   'prior_malignancy',\n",
       "                                                   'prior_treatment',\n",
       "                                                   'ajcc_staging_system_edition',\n",
       "                                                   'ajcc_pathologic_t',\n",
       "                                                   'ajcc_pathologic_n',\n",
       "                                                   'ajcc_pathologic_m',\n",
       "                                                   'site_of_resection_or_biopsy',\n",
       "                                                   'race', 'gender',\n",
       "                                                   'ethnicity', 'vital_status',\n",
       "                                                   'treatments_pharmaceutical_treatment_or_therapy',\n",
       "                                                   'treatments_radiation_treatment_or_therapy'])])),\n",
       "                ('pca', PCA(n_components=7))])"
      ]
     },
     "execution_count": 38,
     "metadata": {},
     "output_type": "execute_result"
    }
   ],
   "source": [
    "pca_7 = PCA(n_components=7)\n",
    "# Define the pipeline with PCA\n",
    "pca_pipeline_7 = Pipeline(steps=[\n",
    "    ('preprocessor', PCA_preprocessor),\n",
    "    ('pca', pca_7)\n",
    "])\n",
    "pca_pipeline_7"
   ]
  },
  {
   "cell_type": "code",
   "execution_count": 39,
   "id": "66df267d-dbde-4415-a0f0-b4d2716bdfd7",
   "metadata": {},
   "outputs": [
    {
     "data": {
      "text/plain": [
       "array([[ 1.11499438, -1.32824777, -1.28031212, ...,  0.81393489,\n",
       "        -0.06307935,  0.29460778],\n",
       "       [-1.09275438,  0.59521544, -1.01275722, ...,  0.94905829,\n",
       "         0.21632232,  0.922351  ],\n",
       "       [-1.09275438,  0.59521544, -1.01275722, ...,  0.94905829,\n",
       "         0.21632232,  0.922351  ],\n",
       "       ...,\n",
       "       [-1.78744052,  0.73850551,  1.3119579 , ...,  0.77207614,\n",
       "         0.53229347, -0.74139232],\n",
       "       [-1.78744052,  0.73850551,  1.3119579 , ...,  0.77207614,\n",
       "         0.53229347, -0.74139232],\n",
       "       [-1.51956185,  1.6321431 , -0.60065427, ...,  0.9008707 ,\n",
       "         0.3004711 , -0.06104505]])"
      ]
     },
     "execution_count": 39,
     "metadata": {},
     "output_type": "execute_result"
    }
   ],
   "source": [
    "features_pca_7 = pca_pipeline_7.fit_transform(features)\n",
    "features_pca_7"
   ]
  },
  {
   "cell_type": "markdown",
   "id": "4c2a71f6-b591-4b65-8a8e-6264d2a15357",
   "metadata": {
    "jp-MarkdownHeadingCollapsed": true,
    "tags": []
   },
   "source": [
    "### 7.4.2 Model Training"
   ]
  },
  {
   "cell_type": "code",
   "execution_count": 40,
   "id": "9ec6b892-f98f-4e51-9aef-e4a3cb2ebf65",
   "metadata": {},
   "outputs": [
    {
     "name": "stdout",
     "output_type": "stream",
     "text": [
      "Epoch 1/200\n",
      "42/42 [==============================] - 2s 10ms/step - loss: 0.6196 - accuracy: 0.6724 - val_loss: 0.5414 - val_accuracy: 0.7574\n",
      "Epoch 2/200\n",
      "42/42 [==============================] - 0s 5ms/step - loss: 0.4855 - accuracy: 0.7756 - val_loss: 0.5137 - val_accuracy: 0.7487\n",
      "Epoch 3/200\n",
      "42/42 [==============================] - 0s 5ms/step - loss: 0.4505 - accuracy: 0.7988 - val_loss: 0.5051 - val_accuracy: 0.7522\n",
      "Epoch 4/200\n",
      "42/42 [==============================] - 0s 5ms/step - loss: 0.4355 - accuracy: 0.7966 - val_loss: 0.5031 - val_accuracy: 0.7627\n",
      "Epoch 5/200\n",
      "42/42 [==============================] - 0s 5ms/step - loss: 0.4182 - accuracy: 0.8063 - val_loss: 0.4977 - val_accuracy: 0.7661\n",
      "Epoch 6/200\n",
      "42/42 [==============================] - 0s 4ms/step - loss: 0.4113 - accuracy: 0.8108 - val_loss: 0.4945 - val_accuracy: 0.7469\n",
      "Epoch 7/200\n",
      "42/42 [==============================] - 0s 5ms/step - loss: 0.3999 - accuracy: 0.8138 - val_loss: 0.4925 - val_accuracy: 0.7766\n",
      "Epoch 8/200\n",
      "42/42 [==============================] - 0s 5ms/step - loss: 0.3908 - accuracy: 0.8242 - val_loss: 0.4755 - val_accuracy: 0.7888\n",
      "Epoch 9/200\n",
      "42/42 [==============================] - 0s 5ms/step - loss: 0.3823 - accuracy: 0.8250 - val_loss: 0.4783 - val_accuracy: 0.7784\n",
      "Epoch 10/200\n",
      "42/42 [==============================] - 0s 5ms/step - loss: 0.3840 - accuracy: 0.8235 - val_loss: 0.4750 - val_accuracy: 0.7801\n",
      "Epoch 11/200\n",
      "42/42 [==============================] - 0s 6ms/step - loss: 0.3673 - accuracy: 0.8347 - val_loss: 0.4740 - val_accuracy: 0.7644\n",
      "Epoch 12/200\n",
      "42/42 [==============================] - 0s 5ms/step - loss: 0.3570 - accuracy: 0.8422 - val_loss: 0.4726 - val_accuracy: 0.7714\n",
      "Epoch 13/200\n",
      "42/42 [==============================] - 0s 5ms/step - loss: 0.3453 - accuracy: 0.8474 - val_loss: 0.4652 - val_accuracy: 0.7836\n",
      "Epoch 14/200\n",
      "42/42 [==============================] - 0s 5ms/step - loss: 0.3395 - accuracy: 0.8527 - val_loss: 0.4779 - val_accuracy: 0.7609\n",
      "Epoch 15/200\n",
      "42/42 [==============================] - 0s 4ms/step - loss: 0.3366 - accuracy: 0.8519 - val_loss: 0.4708 - val_accuracy: 0.7784\n",
      "Epoch 16/200\n",
      "42/42 [==============================] - 0s 5ms/step - loss: 0.3367 - accuracy: 0.8527 - val_loss: 0.4672 - val_accuracy: 0.7836\n",
      "Epoch 17/200\n",
      "42/42 [==============================] - 0s 4ms/step - loss: 0.3210 - accuracy: 0.8661 - val_loss: 0.4701 - val_accuracy: 0.7941\n",
      "Epoch 18/200\n",
      "42/42 [==============================] - 0s 4ms/step - loss: 0.3217 - accuracy: 0.8564 - val_loss: 0.4696 - val_accuracy: 0.7836\n",
      "Epoch 19/200\n",
      "42/42 [==============================] - 0s 4ms/step - loss: 0.3033 - accuracy: 0.8706 - val_loss: 0.4500 - val_accuracy: 0.7888\n",
      "Epoch 20/200\n",
      "42/42 [==============================] - 0s 4ms/step - loss: 0.2999 - accuracy: 0.8721 - val_loss: 0.4563 - val_accuracy: 0.7906\n",
      "Epoch 21/200\n",
      "42/42 [==============================] - 0s 4ms/step - loss: 0.2857 - accuracy: 0.8833 - val_loss: 0.4722 - val_accuracy: 0.7976\n",
      "Epoch 22/200\n",
      "42/42 [==============================] - 0s 4ms/step - loss: 0.2851 - accuracy: 0.8856 - val_loss: 0.4850 - val_accuracy: 0.7923\n",
      "Epoch 23/200\n",
      "42/42 [==============================] - 0s 5ms/step - loss: 0.2732 - accuracy: 0.8788 - val_loss: 0.4948 - val_accuracy: 0.7941\n",
      "Epoch 24/200\n",
      "42/42 [==============================] - 0s 5ms/step - loss: 0.2688 - accuracy: 0.8893 - val_loss: 0.4711 - val_accuracy: 0.7941\n",
      "Epoch 25/200\n",
      "42/42 [==============================] - 0s 5ms/step - loss: 0.2985 - accuracy: 0.8728 - val_loss: 0.5266 - val_accuracy: 0.7836\n",
      "Epoch 26/200\n",
      "42/42 [==============================] - 0s 5ms/step - loss: 0.2785 - accuracy: 0.8826 - val_loss: 0.4806 - val_accuracy: 0.8080\n",
      "Epoch 27/200\n",
      "42/42 [==============================] - 0s 5ms/step - loss: 0.2492 - accuracy: 0.8975 - val_loss: 0.4591 - val_accuracy: 0.8098\n",
      "Epoch 28/200\n",
      "42/42 [==============================] - 0s 4ms/step - loss: 0.2350 - accuracy: 0.9117 - val_loss: 0.4605 - val_accuracy: 0.8010\n",
      "Epoch 29/200\n",
      "42/42 [==============================] - 0s 5ms/step - loss: 0.2272 - accuracy: 0.9080 - val_loss: 0.4746 - val_accuracy: 0.7993\n",
      "Epoch 30/200\n",
      "42/42 [==============================] - 0s 5ms/step - loss: 0.2296 - accuracy: 0.9117 - val_loss: 0.4467 - val_accuracy: 0.8185\n",
      "Epoch 31/200\n",
      "42/42 [==============================] - 0s 4ms/step - loss: 0.2226 - accuracy: 0.9102 - val_loss: 0.4418 - val_accuracy: 0.8150\n",
      "Epoch 32/200\n",
      "42/42 [==============================] - 0s 5ms/step - loss: 0.2079 - accuracy: 0.9260 - val_loss: 0.4497 - val_accuracy: 0.8185\n",
      "Epoch 33/200\n",
      "42/42 [==============================] - 0s 4ms/step - loss: 0.2055 - accuracy: 0.9177 - val_loss: 0.4779 - val_accuracy: 0.8063\n",
      "Epoch 34/200\n",
      "42/42 [==============================] - 0s 5ms/step - loss: 0.1957 - accuracy: 0.9215 - val_loss: 0.4549 - val_accuracy: 0.8255\n",
      "Epoch 35/200\n",
      "42/42 [==============================] - 0s 5ms/step - loss: 0.1878 - accuracy: 0.9289 - val_loss: 0.4722 - val_accuracy: 0.8255\n",
      "Epoch 36/200\n",
      "42/42 [==============================] - 0s 4ms/step - loss: 0.1817 - accuracy: 0.9274 - val_loss: 0.5047 - val_accuracy: 0.8168\n",
      "Epoch 37/200\n",
      "42/42 [==============================] - 0s 6ms/step - loss: 0.2222 - accuracy: 0.9095 - val_loss: 0.4808 - val_accuracy: 0.8325\n",
      "Epoch 38/200\n",
      "42/42 [==============================] - 0s 4ms/step - loss: 0.1926 - accuracy: 0.9252 - val_loss: 0.4560 - val_accuracy: 0.8447\n",
      "Epoch 39/200\n",
      "42/42 [==============================] - 0s 4ms/step - loss: 0.2266 - accuracy: 0.9028 - val_loss: 0.4651 - val_accuracy: 0.8325\n",
      "Epoch 40/200\n",
      "42/42 [==============================] - 0s 5ms/step - loss: 0.1878 - accuracy: 0.9274 - val_loss: 0.4491 - val_accuracy: 0.8360\n",
      "Epoch 41/200\n",
      "42/42 [==============================] - 0s 4ms/step - loss: 0.1686 - accuracy: 0.9334 - val_loss: 0.4651 - val_accuracy: 0.8202\n",
      "Epoch 42/200\n",
      "42/42 [==============================] - 0s 4ms/step - loss: 0.1587 - accuracy: 0.9461 - val_loss: 0.4751 - val_accuracy: 0.8325\n",
      "Epoch 43/200\n",
      "42/42 [==============================] - 0s 5ms/step - loss: 0.1687 - accuracy: 0.9319 - val_loss: 0.5018 - val_accuracy: 0.8168\n",
      "Epoch 44/200\n",
      "42/42 [==============================] - 0s 4ms/step - loss: 0.1610 - accuracy: 0.9319 - val_loss: 0.4480 - val_accuracy: 0.8429\n",
      "Epoch 45/200\n",
      "42/42 [==============================] - 0s 4ms/step - loss: 0.1513 - accuracy: 0.9387 - val_loss: 0.4524 - val_accuracy: 0.8569\n",
      "Epoch 46/200\n",
      "42/42 [==============================] - 0s 5ms/step - loss: 0.1310 - accuracy: 0.9574 - val_loss: 0.4784 - val_accuracy: 0.8255\n",
      "Epoch 47/200\n",
      "42/42 [==============================] - 0s 4ms/step - loss: 0.1374 - accuracy: 0.9544 - val_loss: 0.4720 - val_accuracy: 0.8517\n",
      "Epoch 48/200\n",
      "42/42 [==============================] - 0s 5ms/step - loss: 0.1403 - accuracy: 0.9476 - val_loss: 0.4728 - val_accuracy: 0.8499\n",
      "Epoch 49/200\n",
      "42/42 [==============================] - 0s 5ms/step - loss: 0.1373 - accuracy: 0.9536 - val_loss: 0.5020 - val_accuracy: 0.8325\n",
      "Epoch 50/200\n",
      "42/42 [==============================] - 0s 5ms/step - loss: 0.1237 - accuracy: 0.9566 - val_loss: 0.4516 - val_accuracy: 0.8621\n",
      "Epoch 51/200\n",
      "42/42 [==============================] - 0s 4ms/step - loss: 0.1112 - accuracy: 0.9641 - val_loss: 0.4848 - val_accuracy: 0.8639\n",
      "Epoch 52/200\n",
      "42/42 [==============================] - 0s 4ms/step - loss: 0.1055 - accuracy: 0.9656 - val_loss: 0.4651 - val_accuracy: 0.8674\n",
      "Epoch 53/200\n",
      "42/42 [==============================] - 0s 5ms/step - loss: 0.0955 - accuracy: 0.9723 - val_loss: 0.4703 - val_accuracy: 0.8604\n",
      "Epoch 54/200\n",
      "42/42 [==============================] - 0s 5ms/step - loss: 0.1023 - accuracy: 0.9641 - val_loss: 0.4690 - val_accuracy: 0.8656\n",
      "Epoch 55/200\n",
      "42/42 [==============================] - 0s 8ms/step - loss: 0.0924 - accuracy: 0.9708 - val_loss: 0.4876 - val_accuracy: 0.8743\n",
      "Epoch 56/200\n",
      "42/42 [==============================] - 0s 5ms/step - loss: 0.1029 - accuracy: 0.9648 - val_loss: 0.5603 - val_accuracy: 0.8429\n",
      "Epoch 57/200\n",
      "42/42 [==============================] - 0s 6ms/step - loss: 0.1096 - accuracy: 0.9596 - val_loss: 0.4561 - val_accuracy: 0.8726\n",
      "Epoch 58/200\n",
      "42/42 [==============================] - 0s 5ms/step - loss: 0.1019 - accuracy: 0.9619 - val_loss: 0.5243 - val_accuracy: 0.8551\n",
      "Epoch 59/200\n",
      "42/42 [==============================] - 0s 5ms/step - loss: 0.0864 - accuracy: 0.9716 - val_loss: 0.4829 - val_accuracy: 0.8848\n",
      "Epoch 60/200\n",
      "42/42 [==============================] - 0s 5ms/step - loss: 0.0824 - accuracy: 0.9731 - val_loss: 0.5682 - val_accuracy: 0.8394\n",
      "Epoch 61/200\n",
      "42/42 [==============================] - 0s 4ms/step - loss: 0.0921 - accuracy: 0.9671 - val_loss: 0.4996 - val_accuracy: 0.8639\n",
      "Epoch 62/200\n",
      "42/42 [==============================] - 0s 5ms/step - loss: 0.0823 - accuracy: 0.9783 - val_loss: 0.5498 - val_accuracy: 0.8447\n",
      "Epoch 63/200\n",
      "42/42 [==============================] - 0s 6ms/step - loss: 0.0769 - accuracy: 0.9768 - val_loss: 0.4938 - val_accuracy: 0.8691\n",
      "Epoch 64/200\n",
      "42/42 [==============================] - 0s 6ms/step - loss: 0.0820 - accuracy: 0.9723 - val_loss: 0.5179 - val_accuracy: 0.8778\n",
      "Epoch 65/200\n",
      "42/42 [==============================] - 0s 5ms/step - loss: 0.1072 - accuracy: 0.9746 - val_loss: 0.5212 - val_accuracy: 0.8586\n",
      "Epoch 66/200\n",
      "42/42 [==============================] - 0s 6ms/step - loss: 0.0879 - accuracy: 0.9686 - val_loss: 0.5244 - val_accuracy: 0.8691\n",
      "Epoch 67/200\n",
      "42/42 [==============================] - 0s 5ms/step - loss: 0.0690 - accuracy: 0.9776 - val_loss: 0.5113 - val_accuracy: 0.8778\n",
      "Epoch 68/200\n",
      "42/42 [==============================] - 0s 5ms/step - loss: 0.0647 - accuracy: 0.9820 - val_loss: 0.5406 - val_accuracy: 0.8848\n",
      "Epoch 69/200\n",
      "42/42 [==============================] - 0s 5ms/step - loss: 0.0645 - accuracy: 0.9783 - val_loss: 0.5053 - val_accuracy: 0.8726\n",
      "Epoch 70/200\n",
      "42/42 [==============================] - 0s 5ms/step - loss: 0.0585 - accuracy: 0.9813 - val_loss: 0.5533 - val_accuracy: 0.8551\n",
      "Epoch 71/200\n",
      "42/42 [==============================] - 0s 5ms/step - loss: 0.0636 - accuracy: 0.9783 - val_loss: 0.5410 - val_accuracy: 0.8848\n",
      "Epoch 72/200\n",
      "42/42 [==============================] - 0s 6ms/step - loss: 0.0606 - accuracy: 0.9835 - val_loss: 0.5824 - val_accuracy: 0.8831\n",
      "Epoch 73/200\n",
      "42/42 [==============================] - 0s 5ms/step - loss: 0.0611 - accuracy: 0.9813 - val_loss: 0.4951 - val_accuracy: 0.8866\n",
      "Epoch 74/200\n",
      "42/42 [==============================] - 0s 5ms/step - loss: 0.0617 - accuracy: 0.9776 - val_loss: 0.6260 - val_accuracy: 0.8674\n",
      "Epoch 75/200\n",
      "42/42 [==============================] - 0s 5ms/step - loss: 0.0534 - accuracy: 0.9858 - val_loss: 0.5101 - val_accuracy: 0.8796\n",
      "Epoch 76/200\n",
      "42/42 [==============================] - 0s 6ms/step - loss: 0.0448 - accuracy: 0.9858 - val_loss: 0.5470 - val_accuracy: 0.8935\n",
      "Epoch 77/200\n",
      "42/42 [==============================] - 0s 6ms/step - loss: 0.0424 - accuracy: 0.9865 - val_loss: 0.5601 - val_accuracy: 0.8848\n",
      "Epoch 78/200\n",
      "42/42 [==============================] - 0s 5ms/step - loss: 0.0444 - accuracy: 0.9888 - val_loss: 0.5385 - val_accuracy: 0.8901\n",
      "Epoch 79/200\n",
      "42/42 [==============================] - 0s 6ms/step - loss: 0.0375 - accuracy: 0.9895 - val_loss: 0.5878 - val_accuracy: 0.8883\n",
      "Epoch 80/200\n",
      "42/42 [==============================] - 0s 5ms/step - loss: 0.0430 - accuracy: 0.9873 - val_loss: 0.5727 - val_accuracy: 0.8901\n",
      "Epoch 81/200\n",
      "42/42 [==============================] - 0s 5ms/step - loss: 0.0367 - accuracy: 0.9895 - val_loss: 0.5824 - val_accuracy: 0.8796\n",
      "Epoch 82/200\n",
      "42/42 [==============================] - 0s 5ms/step - loss: 0.0384 - accuracy: 0.9895 - val_loss: 0.5509 - val_accuracy: 0.8901\n",
      "Epoch 83/200\n",
      "42/42 [==============================] - 0s 5ms/step - loss: 0.0347 - accuracy: 0.9933 - val_loss: 0.5733 - val_accuracy: 0.8883\n",
      "Epoch 84/200\n",
      "42/42 [==============================] - 0s 6ms/step - loss: 0.0301 - accuracy: 0.9925 - val_loss: 0.5991 - val_accuracy: 0.8953\n",
      "Epoch 85/200\n",
      "42/42 [==============================] - 0s 5ms/step - loss: 0.0311 - accuracy: 0.9925 - val_loss: 0.6276 - val_accuracy: 0.8953\n",
      "Epoch 86/200\n",
      "42/42 [==============================] - 0s 5ms/step - loss: 0.0377 - accuracy: 0.9865 - val_loss: 0.6198 - val_accuracy: 0.8848\n",
      "Epoch 87/200\n",
      "42/42 [==============================] - 0s 5ms/step - loss: 0.0340 - accuracy: 0.9880 - val_loss: 0.6585 - val_accuracy: 0.8988\n",
      "Epoch 88/200\n",
      "42/42 [==============================] - 0s 5ms/step - loss: 0.0462 - accuracy: 0.9850 - val_loss: 0.6490 - val_accuracy: 0.8743\n",
      "Epoch 89/200\n",
      "42/42 [==============================] - 0s 6ms/step - loss: 0.1687 - accuracy: 0.9506 - val_loss: 1.0872 - val_accuracy: 0.8168\n",
      "Epoch 90/200\n",
      "42/42 [==============================] - 0s 5ms/step - loss: 0.1689 - accuracy: 0.9506 - val_loss: 0.6672 - val_accuracy: 0.8482\n",
      "Epoch 91/200\n",
      "42/42 [==============================] - 0s 6ms/step - loss: 0.1000 - accuracy: 0.9678 - val_loss: 0.6267 - val_accuracy: 0.8743\n",
      "Epoch 92/200\n",
      "42/42 [==============================] - 0s 5ms/step - loss: 0.0752 - accuracy: 0.9693 - val_loss: 0.5999 - val_accuracy: 0.8726\n",
      "Epoch 93/200\n",
      "42/42 [==============================] - 0s 5ms/step - loss: 0.0375 - accuracy: 0.9910 - val_loss: 0.6060 - val_accuracy: 0.8813\n",
      "Epoch 94/200\n",
      "42/42 [==============================] - 0s 6ms/step - loss: 0.0252 - accuracy: 0.9963 - val_loss: 0.6288 - val_accuracy: 0.8901\n",
      "Epoch 95/200\n",
      "42/42 [==============================] - 0s 6ms/step - loss: 0.0227 - accuracy: 0.9955 - val_loss: 0.6053 - val_accuracy: 0.8866\n",
      "Epoch 96/200\n",
      "42/42 [==============================] - 0s 5ms/step - loss: 0.0224 - accuracy: 0.9948 - val_loss: 0.6332 - val_accuracy: 0.8813\n",
      "Epoch 97/200\n",
      "42/42 [==============================] - 0s 5ms/step - loss: 0.0264 - accuracy: 0.9940 - val_loss: 0.6727 - val_accuracy: 0.8778\n",
      "Epoch 98/200\n",
      "42/42 [==============================] - 0s 5ms/step - loss: 0.0237 - accuracy: 0.9940 - val_loss: 0.6479 - val_accuracy: 0.8901\n",
      "Epoch 99/200\n",
      "42/42 [==============================] - 0s 5ms/step - loss: 0.0261 - accuracy: 0.9948 - val_loss: 0.6834 - val_accuracy: 0.8796\n",
      "Epoch 100/200\n",
      "42/42 [==============================] - 0s 6ms/step - loss: 0.0237 - accuracy: 0.9948 - val_loss: 0.6326 - val_accuracy: 0.8988\n",
      "Epoch 101/200\n",
      "42/42 [==============================] - 0s 5ms/step - loss: 0.0362 - accuracy: 0.9880 - val_loss: 0.6777 - val_accuracy: 0.8761\n",
      "Epoch 102/200\n",
      "42/42 [==============================] - 0s 5ms/step - loss: 0.0400 - accuracy: 0.9888 - val_loss: 0.6540 - val_accuracy: 0.8883\n",
      "Epoch 103/200\n",
      "42/42 [==============================] - 0s 5ms/step - loss: 0.0275 - accuracy: 0.9940 - val_loss: 0.7077 - val_accuracy: 0.8866\n",
      "Epoch 104/200\n",
      "42/42 [==============================] - 0s 5ms/step - loss: 0.0194 - accuracy: 0.9970 - val_loss: 0.6676 - val_accuracy: 0.8918\n",
      "Epoch 105/200\n",
      "42/42 [==============================] - 0s 5ms/step - loss: 0.0156 - accuracy: 0.9970 - val_loss: 0.6619 - val_accuracy: 0.8988\n",
      "Epoch 106/200\n",
      "42/42 [==============================] - 0s 4ms/step - loss: 0.0149 - accuracy: 0.9978 - val_loss: 0.6883 - val_accuracy: 0.9023\n",
      "Epoch 107/200\n",
      "42/42 [==============================] - 0s 5ms/step - loss: 0.0154 - accuracy: 0.9978 - val_loss: 0.7245 - val_accuracy: 0.8866\n",
      "Epoch 108/200\n",
      "42/42 [==============================] - 0s 5ms/step - loss: 0.0305 - accuracy: 0.9910 - val_loss: 0.6973 - val_accuracy: 0.8848\n",
      "Epoch 109/200\n",
      "42/42 [==============================] - 0s 5ms/step - loss: 0.0353 - accuracy: 0.9925 - val_loss: 0.6808 - val_accuracy: 0.8866\n",
      "Epoch 110/200\n",
      "42/42 [==============================] - 0s 4ms/step - loss: 0.0317 - accuracy: 0.9895 - val_loss: 0.6947 - val_accuracy: 0.8901\n",
      "Epoch 111/200\n",
      "42/42 [==============================] - 0s 4ms/step - loss: 0.0228 - accuracy: 0.9925 - val_loss: 0.6697 - val_accuracy: 0.8935\n",
      "Epoch 112/200\n",
      "42/42 [==============================] - 0s 4ms/step - loss: 0.0167 - accuracy: 0.9963 - val_loss: 0.7337 - val_accuracy: 0.8970\n",
      "Epoch 113/200\n",
      "42/42 [==============================] - 0s 5ms/step - loss: 0.0152 - accuracy: 0.9963 - val_loss: 0.7278 - val_accuracy: 0.8918\n",
      "Epoch 114/200\n",
      "42/42 [==============================] - 0s 5ms/step - loss: 0.0204 - accuracy: 0.9933 - val_loss: 0.6926 - val_accuracy: 0.8970\n",
      "Epoch 115/200\n",
      "42/42 [==============================] - 0s 4ms/step - loss: 0.0198 - accuracy: 0.9948 - val_loss: 0.6978 - val_accuracy: 0.8883\n",
      "Epoch 116/200\n",
      "42/42 [==============================] - 0s 4ms/step - loss: 0.0213 - accuracy: 0.9933 - val_loss: 0.7089 - val_accuracy: 0.8918\n",
      "Epoch 117/200\n",
      "42/42 [==============================] - 0s 4ms/step - loss: 0.0132 - accuracy: 0.9970 - val_loss: 0.7228 - val_accuracy: 0.8935\n",
      "Epoch 118/200\n",
      "42/42 [==============================] - 0s 5ms/step - loss: 0.0109 - accuracy: 0.9993 - val_loss: 0.7250 - val_accuracy: 0.8988\n",
      "Epoch 119/200\n",
      "42/42 [==============================] - 0s 5ms/step - loss: 0.0085 - accuracy: 0.9993 - val_loss: 0.7400 - val_accuracy: 0.8953\n",
      "Epoch 120/200\n",
      "42/42 [==============================] - 0s 5ms/step - loss: 0.0129 - accuracy: 0.9963 - val_loss: 0.7600 - val_accuracy: 0.8918\n",
      "Epoch 121/200\n",
      "42/42 [==============================] - 0s 5ms/step - loss: 0.0156 - accuracy: 0.9963 - val_loss: 0.8333 - val_accuracy: 0.8901\n",
      "Epoch 122/200\n",
      "42/42 [==============================] - 0s 5ms/step - loss: 0.0240 - accuracy: 0.9888 - val_loss: 0.7983 - val_accuracy: 0.8953\n",
      "Epoch 123/200\n",
      "42/42 [==============================] - 0s 4ms/step - loss: 0.0386 - accuracy: 0.9843 - val_loss: 0.8924 - val_accuracy: 0.8743\n",
      "Epoch 124/200\n",
      "42/42 [==============================] - 0s 5ms/step - loss: 0.1315 - accuracy: 0.9559 - val_loss: 1.2637 - val_accuracy: 0.8185\n",
      "Epoch 125/200\n",
      "42/42 [==============================] - 0s 5ms/step - loss: 0.2676 - accuracy: 0.9364 - val_loss: 0.8604 - val_accuracy: 0.8604\n",
      "Epoch 126/200\n",
      "42/42 [==============================] - 0s 5ms/step - loss: 0.0738 - accuracy: 0.9776 - val_loss: 0.7674 - val_accuracy: 0.8883\n",
      "Epoch 127/200\n",
      "42/42 [==============================] - 0s 5ms/step - loss: 0.0356 - accuracy: 0.9925 - val_loss: 0.6749 - val_accuracy: 0.9023\n",
      "Epoch 128/200\n",
      "42/42 [==============================] - 0s 7ms/step - loss: 0.0177 - accuracy: 0.9978 - val_loss: 0.7020 - val_accuracy: 0.8831\n",
      "Epoch 129/200\n",
      "42/42 [==============================] - 0s 5ms/step - loss: 0.0142 - accuracy: 0.9985 - val_loss: 0.7047 - val_accuracy: 0.8970\n",
      "Epoch 130/200\n",
      "42/42 [==============================] - 0s 8ms/step - loss: 0.0118 - accuracy: 0.9985 - val_loss: 0.7304 - val_accuracy: 0.8935\n",
      "Epoch 131/200\n",
      "42/42 [==============================] - 0s 5ms/step - loss: 0.0167 - accuracy: 0.9955 - val_loss: 0.7328 - val_accuracy: 0.9023\n",
      "Epoch 132/200\n",
      "42/42 [==============================] - 0s 6ms/step - loss: 0.0192 - accuracy: 0.9940 - val_loss: 0.7534 - val_accuracy: 0.8970\n",
      "Epoch 133/200\n",
      "42/42 [==============================] - 0s 6ms/step - loss: 0.0312 - accuracy: 0.9888 - val_loss: 0.7725 - val_accuracy: 0.8831\n",
      "Epoch 134/200\n",
      "42/42 [==============================] - 0s 6ms/step - loss: 0.0243 - accuracy: 0.9933 - val_loss: 0.8087 - val_accuracy: 0.8970\n",
      "Epoch 135/200\n",
      "42/42 [==============================] - 0s 6ms/step - loss: 0.0192 - accuracy: 0.9955 - val_loss: 0.7436 - val_accuracy: 0.8918\n",
      "Epoch 136/200\n",
      "42/42 [==============================] - 0s 5ms/step - loss: 0.0113 - accuracy: 0.9985 - val_loss: 0.7450 - val_accuracy: 0.8970\n",
      "Epoch 137/200\n",
      "42/42 [==============================] - 0s 5ms/step - loss: 0.0080 - accuracy: 0.9985 - val_loss: 0.7796 - val_accuracy: 0.8953\n",
      "Epoch 138/200\n",
      "42/42 [==============================] - 0s 6ms/step - loss: 0.0073 - accuracy: 0.9993 - val_loss: 0.7753 - val_accuracy: 0.8953\n",
      "Epoch 139/200\n",
      "42/42 [==============================] - 0s 5ms/step - loss: 0.0062 - accuracy: 0.9985 - val_loss: 0.7752 - val_accuracy: 0.8970\n",
      "Epoch 140/200\n",
      "42/42 [==============================] - 0s 5ms/step - loss: 0.0072 - accuracy: 0.9985 - val_loss: 0.7617 - val_accuracy: 0.8970\n",
      "Epoch 141/200\n",
      "42/42 [==============================] - 0s 6ms/step - loss: 0.0078 - accuracy: 0.9985 - val_loss: 0.7849 - val_accuracy: 0.8953\n",
      "Epoch 142/200\n",
      "42/42 [==============================] - 0s 6ms/step - loss: 0.0078 - accuracy: 0.9985 - val_loss: 0.7968 - val_accuracy: 0.8970\n",
      "Epoch 143/200\n",
      "42/42 [==============================] - 0s 5ms/step - loss: 0.0084 - accuracy: 0.9970 - val_loss: 0.7787 - val_accuracy: 0.8970\n",
      "Epoch 144/200\n",
      "42/42 [==============================] - 0s 5ms/step - loss: 0.0089 - accuracy: 0.9985 - val_loss: 0.7938 - val_accuracy: 0.8953\n",
      "Epoch 145/200\n",
      "42/42 [==============================] - 0s 6ms/step - loss: 0.0069 - accuracy: 0.9993 - val_loss: 0.7869 - val_accuracy: 0.8953\n",
      "Epoch 146/200\n",
      "42/42 [==============================] - 0s 6ms/step - loss: 0.0066 - accuracy: 0.9985 - val_loss: 0.8299 - val_accuracy: 0.8918\n",
      "Epoch 147/200\n",
      "42/42 [==============================] - 0s 5ms/step - loss: 0.0057 - accuracy: 0.9985 - val_loss: 0.8326 - val_accuracy: 0.8883\n",
      "Epoch 148/200\n",
      "42/42 [==============================] - 0s 6ms/step - loss: 0.0072 - accuracy: 0.9985 - val_loss: 0.8272 - val_accuracy: 0.8953\n",
      "Epoch 149/200\n",
      "42/42 [==============================] - 0s 6ms/step - loss: 0.0058 - accuracy: 0.9978 - val_loss: 0.8201 - val_accuracy: 0.8988\n",
      "Epoch 150/200\n",
      "42/42 [==============================] - 0s 5ms/step - loss: 0.0054 - accuracy: 0.9985 - val_loss: 0.8306 - val_accuracy: 0.8988\n",
      "Epoch 151/200\n",
      "42/42 [==============================] - 0s 6ms/step - loss: 0.0049 - accuracy: 0.9985 - val_loss: 0.8261 - val_accuracy: 0.8953\n",
      "Epoch 152/200\n",
      "42/42 [==============================] - 0s 5ms/step - loss: 0.0056 - accuracy: 0.9985 - val_loss: 0.8439 - val_accuracy: 0.8953\n",
      "Epoch 153/200\n",
      "42/42 [==============================] - 0s 6ms/step - loss: 0.0053 - accuracy: 0.9985 - val_loss: 0.8514 - val_accuracy: 0.8953\n",
      "Epoch 154/200\n",
      "42/42 [==============================] - 0s 6ms/step - loss: 0.0057 - accuracy: 0.9993 - val_loss: 0.8732 - val_accuracy: 0.8918\n",
      "Epoch 155/200\n",
      "42/42 [==============================] - 0s 5ms/step - loss: 0.0066 - accuracy: 0.9985 - val_loss: 0.8568 - val_accuracy: 0.8988\n",
      "Epoch 156/200\n",
      "42/42 [==============================] - 0s 5ms/step - loss: 0.0062 - accuracy: 0.9985 - val_loss: 0.8556 - val_accuracy: 0.8901\n",
      "Epoch 157/200\n",
      "42/42 [==============================] - 0s 6ms/step - loss: 0.0061 - accuracy: 0.9985 - val_loss: 0.8228 - val_accuracy: 0.8953\n",
      "Epoch 158/200\n",
      "42/42 [==============================] - 0s 6ms/step - loss: 0.0204 - accuracy: 0.9955 - val_loss: 0.8755 - val_accuracy: 0.8778\n",
      "Epoch 159/200\n",
      "42/42 [==============================] - 0s 5ms/step - loss: 0.0222 - accuracy: 0.9940 - val_loss: 0.9094 - val_accuracy: 0.8709\n",
      "Epoch 160/200\n",
      "42/42 [==============================] - 0s 6ms/step - loss: 0.2939 - accuracy: 0.9334 - val_loss: 0.9823 - val_accuracy: 0.8569\n",
      "Epoch 161/200\n",
      "42/42 [==============================] - 0s 6ms/step - loss: 0.2085 - accuracy: 0.9297 - val_loss: 0.7556 - val_accuracy: 0.8447\n",
      "Epoch 162/200\n",
      "42/42 [==============================] - 0s 5ms/step - loss: 0.0682 - accuracy: 0.9753 - val_loss: 0.7883 - val_accuracy: 0.8831\n",
      "Epoch 163/200\n",
      "42/42 [==============================] - 0s 5ms/step - loss: 0.0388 - accuracy: 0.9880 - val_loss: 0.6967 - val_accuracy: 0.8935\n",
      "Epoch 164/200\n",
      "42/42 [==============================] - 0s 6ms/step - loss: 0.0185 - accuracy: 0.9978 - val_loss: 0.7735 - val_accuracy: 0.8883\n",
      "Epoch 165/200\n",
      "42/42 [==============================] - 0s 6ms/step - loss: 0.0121 - accuracy: 1.0000 - val_loss: 0.7774 - val_accuracy: 0.8935\n",
      "Epoch 166/200\n",
      "42/42 [==============================] - 0s 5ms/step - loss: 0.0092 - accuracy: 0.9978 - val_loss: 0.7553 - val_accuracy: 0.8796\n",
      "Epoch 167/200\n",
      "42/42 [==============================] - 0s 5ms/step - loss: 0.0077 - accuracy: 0.9993 - val_loss: 0.7740 - val_accuracy: 0.8918\n",
      "Epoch 168/200\n",
      "42/42 [==============================] - 0s 5ms/step - loss: 0.0070 - accuracy: 0.9993 - val_loss: 0.7807 - val_accuracy: 0.8953\n",
      "Epoch 169/200\n",
      "42/42 [==============================] - 0s 5ms/step - loss: 0.0078 - accuracy: 0.9993 - val_loss: 0.7986 - val_accuracy: 0.8953\n",
      "Epoch 170/200\n",
      "42/42 [==============================] - 0s 5ms/step - loss: 0.0065 - accuracy: 0.9993 - val_loss: 0.8147 - val_accuracy: 0.8918\n",
      "Epoch 171/200\n",
      "42/42 [==============================] - 0s 5ms/step - loss: 0.0054 - accuracy: 1.0000 - val_loss: 0.8276 - val_accuracy: 0.8918\n",
      "Epoch 172/200\n",
      "42/42 [==============================] - 0s 5ms/step - loss: 0.0055 - accuracy: 0.9993 - val_loss: 0.8318 - val_accuracy: 0.8918\n",
      "Epoch 173/200\n",
      "42/42 [==============================] - 0s 5ms/step - loss: 0.0057 - accuracy: 0.9985 - val_loss: 0.8264 - val_accuracy: 0.8953\n",
      "Epoch 174/200\n",
      "42/42 [==============================] - 0s 5ms/step - loss: 0.0049 - accuracy: 0.9993 - val_loss: 0.8389 - val_accuracy: 0.8953\n",
      "Epoch 175/200\n",
      "42/42 [==============================] - 0s 5ms/step - loss: 0.0047 - accuracy: 0.9993 - val_loss: 0.8599 - val_accuracy: 0.8883\n",
      "Epoch 176/200\n",
      "42/42 [==============================] - 0s 4ms/step - loss: 0.0060 - accuracy: 0.9985 - val_loss: 0.8939 - val_accuracy: 0.8866\n",
      "Epoch 177/200\n",
      "42/42 [==============================] - 0s 5ms/step - loss: 0.0061 - accuracy: 0.9978 - val_loss: 0.8418 - val_accuracy: 0.8918\n",
      "Epoch 178/200\n",
      "42/42 [==============================] - 0s 5ms/step - loss: 0.0058 - accuracy: 0.9993 - val_loss: 0.8525 - val_accuracy: 0.8883\n",
      "Epoch 179/200\n",
      "42/42 [==============================] - 0s 5ms/step - loss: 0.0043 - accuracy: 0.9993 - val_loss: 0.8707 - val_accuracy: 0.8918\n",
      "Epoch 180/200\n",
      "42/42 [==============================] - 0s 6ms/step - loss: 0.0044 - accuracy: 0.9985 - val_loss: 0.8960 - val_accuracy: 0.8848\n",
      "Epoch 181/200\n",
      "42/42 [==============================] - 0s 5ms/step - loss: 0.0050 - accuracy: 0.9985 - val_loss: 0.8878 - val_accuracy: 0.8901\n",
      "Epoch 182/200\n",
      "42/42 [==============================] - 0s 4ms/step - loss: 0.0041 - accuracy: 0.9985 - val_loss: 0.8826 - val_accuracy: 0.8883\n",
      "Epoch 183/200\n",
      "42/42 [==============================] - 0s 5ms/step - loss: 0.0043 - accuracy: 0.9993 - val_loss: 0.8970 - val_accuracy: 0.8953\n",
      "Epoch 184/200\n",
      "42/42 [==============================] - 0s 7ms/step - loss: 0.0058 - accuracy: 0.9978 - val_loss: 0.8791 - val_accuracy: 0.8953\n",
      "Epoch 185/200\n",
      "42/42 [==============================] - 0s 6ms/step - loss: 0.0042 - accuracy: 0.9993 - val_loss: 0.9259 - val_accuracy: 0.8883\n",
      "Epoch 186/200\n",
      "42/42 [==============================] - 0s 4ms/step - loss: 0.0041 - accuracy: 1.0000 - val_loss: 0.9226 - val_accuracy: 0.8918\n",
      "Epoch 187/200\n",
      "42/42 [==============================] - 0s 5ms/step - loss: 0.0039 - accuracy: 1.0000 - val_loss: 0.9228 - val_accuracy: 0.8883\n",
      "Epoch 188/200\n",
      "42/42 [==============================] - 0s 5ms/step - loss: 0.0058 - accuracy: 0.9978 - val_loss: 0.9425 - val_accuracy: 0.8883\n",
      "Epoch 189/200\n",
      "42/42 [==============================] - 0s 5ms/step - loss: 0.0060 - accuracy: 0.9985 - val_loss: 0.9376 - val_accuracy: 0.8901\n",
      "Epoch 190/200\n",
      "42/42 [==============================] - 0s 7ms/step - loss: 0.0104 - accuracy: 0.9963 - val_loss: 0.9665 - val_accuracy: 0.8866\n",
      "Epoch 191/200\n",
      "42/42 [==============================] - 0s 5ms/step - loss: 0.0070 - accuracy: 0.9985 - val_loss: 0.9307 - val_accuracy: 0.8918\n",
      "Epoch 192/200\n",
      "42/42 [==============================] - 0s 5ms/step - loss: 0.0056 - accuracy: 0.9985 - val_loss: 0.9344 - val_accuracy: 0.8918\n",
      "Epoch 193/200\n",
      "42/42 [==============================] - 0s 5ms/step - loss: 0.0036 - accuracy: 1.0000 - val_loss: 0.9360 - val_accuracy: 0.8918\n",
      "Epoch 194/200\n",
      "42/42 [==============================] - 0s 5ms/step - loss: 0.0036 - accuracy: 0.9993 - val_loss: 0.9215 - val_accuracy: 0.8918\n",
      "Epoch 195/200\n",
      "42/42 [==============================] - 0s 4ms/step - loss: 0.0047 - accuracy: 0.9978 - val_loss: 0.9353 - val_accuracy: 0.8918\n",
      "Epoch 196/200\n",
      "42/42 [==============================] - 0s 6ms/step - loss: 0.0044 - accuracy: 0.9985 - val_loss: 0.9516 - val_accuracy: 0.8883\n",
      "Epoch 197/200\n",
      "42/42 [==============================] - 0s 6ms/step - loss: 0.0173 - accuracy: 0.9955 - val_loss: 1.1265 - val_accuracy: 0.8726\n",
      "Epoch 198/200\n",
      "42/42 [==============================] - 0s 6ms/step - loss: 0.0672 - accuracy: 0.9753 - val_loss: 1.4701 - val_accuracy: 0.8429\n",
      "Epoch 199/200\n",
      "42/42 [==============================] - 0s 6ms/step - loss: 0.1434 - accuracy: 0.9581 - val_loss: 0.9956 - val_accuracy: 0.8412\n",
      "Epoch 200/200\n",
      "42/42 [==============================] - 0s 5ms/step - loss: 0.1744 - accuracy: 0.9476 - val_loss: 0.8452 - val_accuracy: 0.8743\n"
     ]
    }
   ],
   "source": [
    "X_train, X_test, y_train, y_test = split_data(features_pca_7, target)\n",
    "y_train_dummies = pd.get_dummies(y_train)\n",
    "y_test_dummies  = pd.get_dummies(y_test)\n",
    "pca_7_model     = neural_network(X_train)\n",
    "pca_7_history   = pca_7_model.fit(X_train, y_train_dummies, validation_data = (X_test, y_test_dummies), epochs = 200, batch_size = 32)"
   ]
  },
  {
   "cell_type": "code",
   "execution_count": 41,
   "id": "fa5b4c54-ae5a-450e-b8ab-60f36c78fcba",
   "metadata": {},
   "outputs": [
    {
     "name": "stdout",
     "output_type": "stream",
     "text": [
      "Model: \"sequential_1\"\n",
      "_________________________________________________________________\n",
      " Layer (type)                Output Shape              Param #   \n",
      "=================================================================\n",
      " dense_4 (Dense)             (None, 128)               1024      \n",
      "                                                                 \n",
      " dense_5 (Dense)             (None, 64)                8256      \n",
      "                                                                 \n",
      " dense_6 (Dense)             (None, 32)                2080      \n",
      "                                                                 \n",
      " dense_7 (Dense)             (None, 2)                 66        \n",
      "                                                                 \n",
      "=================================================================\n",
      "Total params: 11426 (44.63 KB)\n",
      "Trainable params: 11426 (44.63 KB)\n",
      "Non-trainable params: 0 (0.00 Byte)\n",
      "_________________________________________________________________\n"
     ]
    }
   ],
   "source": [
    "pca_7_model.summary()"
   ]
  },
  {
   "cell_type": "code",
   "execution_count": 42,
   "id": "992d3d9a-73fd-431e-a508-31cd4b23d0ec",
   "metadata": {},
   "outputs": [
    {
     "data": {
      "image/png": "[encoded data removed]",
      "text/plain": [
       "<Figure size 800x400 with 1 Axes>"
      ]
     },
     "metadata": {},
     "output_type": "display_data"
    }
   ],
   "source": [
    "plt.figure(figsize = (8,4))\n",
    "plt.plot(pca_7_history.history[\"accuracy\"], label = \"Training Accuracy\")\n",
    "plt.plot(pca_7_history.history[\"val_accuracy\"], label = \"Validation Accuracy\")\n",
    "plt.title(\"Training VS Validation Accuracy for 7-PCA Model\", fontsize = 12)\n",
    "plt.xlabel(\"Epochs\")\n",
    "plt.ylabel(\"Data\")\n",
    "plt.legend()\n",
    "plt.show()"
   ]
  },
  {
   "cell_type": "markdown",
   "id": "fffb1643-3e04-42d8-886e-b28b0d4c1bb8",
   "metadata": {
    "tags": []
   },
   "source": [
    "### 7.4.3 Model Evaluation"
   ]
  },
  {
   "cell_type": "code",
   "execution_count": 43,
   "id": "d59836a8-2783-4aeb-b88b-06a39884d371",
   "metadata": {},
   "outputs": [
    {
     "name": "stdout",
     "output_type": "stream",
     "text": [
      "18/18 [==============================] - 0s 3ms/step\n",
      "42/42 [==============================] - 0s 2ms/step\n"
     ]
    }
   ],
   "source": [
    "pca_7_prediction_test  = pca_7_model.predict(X_test)\n",
    "pca_7_prediction_train = pca_7_model.predict(X_train)\n",
    "pca_7_prediction_test  = [class_labels[label] for label in np.argmax(pca_7_prediction_test, axis=1)]\n",
    "pca_7_prediction_train = [class_labels[label] for label in np.argmax(pca_7_prediction_train, axis=1)]"
   ]
  },
  {
   "cell_type": "markdown",
   "id": "25cd7d05-6346-453b-8a3a-b45cdbb0b447",
   "metadata": {
    "tags": []
   },
   "source": [
    "#### 7.4.3.1 Classification Report"
   ]
  },
  {
   "cell_type": "code",
   "execution_count": 44,
   "id": "da3bedcc-e3cc-4121-afb2-c8aa51751e97",
   "metadata": {},
   "outputs": [
    {
     "name": "stdout",
     "output_type": "stream",
     "text": [
      "              precision    recall  f1-score   support\n",
      "\n",
      "    Invasive       0.86      0.88      0.87       267\n",
      "Non-Invasive       0.89      0.87      0.88       306\n",
      "\n",
      "    accuracy                           0.87       573\n",
      "   macro avg       0.87      0.87      0.87       573\n",
      "weighted avg       0.87      0.87      0.87       573\n",
      "\n"
     ]
    }
   ],
   "source": [
    "print(classification_report(y_test, pca_7_prediction_test))"
   ]
  },
  {
   "cell_type": "markdown",
   "id": "6c75afc0-075f-4e37-8924-52dd823772e9",
   "metadata": {
    "tags": []
   },
   "source": [
    "#### 7.4.3.2 Confusion Matrix"
   ]
  },
  {
   "cell_type": "code",
   "execution_count": 45,
   "id": "0e8f6d1a-a132-4a5a-895d-cc4249a7c4f1",
   "metadata": {},
   "outputs": [
    {
     "data": {
      "image/png": "[encoded data removed]",
      "text/plain": [
       "<Figure size 640x480 with 2 Axes>"
      ]
     },
     "metadata": {},
     "output_type": "display_data"
    }
   ],
   "source": [
    "pca_7_cm     = confusion_matrix(y_test, pca_7_prediction_test)\n",
    "pca_7_cm_dip = ConfusionMatrixDisplay(confusion_matrix = pca_7_cm,\n",
    "                                       display_labels=['0','1'])\n",
    "pca_7_cm_dip.plot()\n",
    "plt.show()"
   ]
  },
  {
   "cell_type": "markdown",
   "id": "74bcf59f-cc08-4d96-a703-c73d119e42cd",
   "metadata": {
    "jp-MarkdownHeadingCollapsed": true,
    "tags": []
   },
   "source": [
    "#### 7.4.3.3 Evaludation on Training Set"
   ]
  },
  {
   "cell_type": "code",
   "execution_count": 46,
   "id": "960b6c2c-5e31-438e-87aa-205426f5ca6d",
   "metadata": {},
   "outputs": [
    {
     "name": "stdout",
     "output_type": "stream",
     "text": [
      "Evaludation on Training Set \n",
      "\n",
      "Accuracy :\t 0.9566\n",
      "Recall :\t 0.9566\n",
      "Precision :\t 0.9566\n",
      "F1 - Score :\t 0.9566\n"
     ]
    }
   ],
   "source": [
    "pca_7_accuracy_train   = accuracy_score(y_train, pca_7_prediction_train)\n",
    "pca_7_recall_train     = recall_score(y_train, pca_7_prediction_train, average='micro')\n",
    "pca_7_precision_train  = precision_score(y_train, pca_7_prediction_train, average='micro')\n",
    "pca_7_f1_Score_train   = f1_score(y_train, pca_7_prediction_train, average='micro')\n",
    "\n",
    "print(\"Evaludation on Training Set \\n\")\n",
    "print(\"Accuracy :\\t\", round(pca_7_accuracy_train, 4))\n",
    "print(\"Recall :\\t\", round(pca_7_accuracy_train, 4))\n",
    "print(\"Precision :\\t\", round(pca_7_accuracy_train, 4))\n",
    "print(\"F1 - Score :\\t\", round(pca_7_accuracy_train, 4))"
   ]
  },
  {
   "cell_type": "markdown",
   "id": "61079740-d247-4585-920a-4f7bdb7fa4d1",
   "metadata": {
    "jp-MarkdownHeadingCollapsed": true,
    "tags": []
   },
   "source": [
    "#### 7.4.3.4 Evaludation on Testing Set"
   ]
  },
  {
   "cell_type": "code",
   "execution_count": 47,
   "id": "eee38071-0060-4c35-b000-266404ad0360",
   "metadata": {},
   "outputs": [
    {
     "name": "stdout",
     "output_type": "stream",
     "text": [
      "Evaludation on Training Set \n",
      "\n",
      "Accuracy :\t 0.8743\n",
      "Recall :\t 0.8743\n",
      "Precision :\t 0.8743\n",
      "F1 - Score :\t 0.8743\n"
     ]
    }
   ],
   "source": [
    "pca_7_accuracy_test   = accuracy_score(y_test, pca_7_prediction_test)\n",
    "pca_7_recall_test     = recall_score(y_test, pca_7_prediction_test, average='micro')\n",
    "pca_7_precision_test  = precision_score(y_test, pca_7_prediction_test, average='micro')\n",
    "pca_7_f1_Score_test   = f1_score(y_test, pca_7_prediction_test, average='micro')\n",
    "\n",
    "print(\"Evaludation on Training Set \\n\")\n",
    "print(\"Accuracy :\\t\", round(pca_7_accuracy_test, 4))\n",
    "print(\"Recall :\\t\", round(pca_7_recall_test, 4))\n",
    "print(\"Precision :\\t\", round(pca_7_precision_test, 4))\n",
    "print(\"F1 - Score :\\t\", round(pca_7_f1_Score_test, 4))"
   ]
  },
  {
   "cell_type": "markdown",
   "id": "bc5d82e0-de60-45ff-9d59-1ce12289b978",
   "metadata": {
    "tags": []
   },
   "source": [
    "## 7.5. 9-PCA"
   ]
  },
  {
   "cell_type": "markdown",
   "id": "3ab924f6-4689-4cb7-9750-ed660505e439",
   "metadata": {
    "jp-MarkdownHeadingCollapsed": true,
    "tags": []
   },
   "source": [
    "### 7.5.1 PCA Analysis with 9 Principle Components"
   ]
  },
  {
   "cell_type": "code",
   "execution_count": 48,
   "id": "db3c3bed-225f-460c-9d0d-3a8f52a3825b",
   "metadata": {},
   "outputs": [
    {
     "data": {
      "text/html": [
       "<style>#sk-container-id-6 {color: black;background-color: white;}#sk-container-id-6 pre{padding: 0;}#sk-container-id-6 div.sk-toggleable {background-color: white;}#sk-container-id-6 label.sk-toggleable__label {cursor: pointer;display: block;width: 100%;margin-bottom: 0;padding: 0.3em;box-sizing: border-box;text-align: center;}#sk-container-id-6 label.sk-toggleable__label-arrow:before {content: \"▸\";float: left;margin-right: 0.25em;color: #696969;}#sk-container-id-6 label.sk-toggleable__label-arrow:hover:before {color: black;}#sk-container-id-6 div.sk-estimator:hover label.sk-toggleable__label-arrow:before {color: black;}#sk-container-id-6 div.sk-toggleable__content {max-height: 0;max-width: 0;overflow: hidden;text-align: left;background-color: #f0f8ff;}#sk-container-id-6 div.sk-toggleable__content pre {margin: 0.2em;color: black;border-radius: 0.25em;background-color: #f0f8ff;}#sk-container-id-6 input.sk-toggleable__control:checked~div.sk-toggleable__content {max-height: 200px;max-width: 100%;overflow: auto;}#sk-container-id-6 input.sk-toggleable__control:checked~label.sk-toggleable__label-arrow:before {content: \"▾\";}#sk-container-id-6 div.sk-estimator input.sk-toggleable__control:checked~label.sk-toggleable__label {background-color: #d4ebff;}#sk-container-id-6 div.sk-label input.sk-toggleable__control:checked~label.sk-toggleable__label {background-color: #d4ebff;}#sk-container-id-6 input.sk-hidden--visually {border: 0;clip: rect(1px 1px 1px 1px);clip: rect(1px, 1px, 1px, 1px);height: 1px;margin: -1px;overflow: hidden;padding: 0;position: absolute;width: 1px;}#sk-container-id-6 div.sk-estimator {font-family: monospace;background-color: #f0f8ff;border: 1px dotted black;border-radius: 0.25em;box-sizing: border-box;margin-bottom: 0.5em;}#sk-container-id-6 div.sk-estimator:hover {background-color: #d4ebff;}#sk-container-id-6 div.sk-parallel-item::after {content: \"\";width: 100%;border-bottom: 1px solid gray;flex-grow: 1;}#sk-container-id-6 div.sk-label:hover label.sk-toggleable__label {background-color: #d4ebff;}#sk-container-id-6 div.sk-serial::before {content: \"\";position: absolute;border-left: 1px solid gray;box-sizing: border-box;top: 0;bottom: 0;left: 50%;z-index: 0;}#sk-container-id-6 div.sk-serial {display: flex;flex-direction: column;align-items: center;background-color: white;padding-right: 0.2em;padding-left: 0.2em;position: relative;}#sk-container-id-6 div.sk-item {position: relative;z-index: 1;}#sk-container-id-6 div.sk-parallel {display: flex;align-items: stretch;justify-content: center;background-color: white;position: relative;}#sk-container-id-6 div.sk-item::before, #sk-container-id-6 div.sk-parallel-item::before {content: \"\";position: absolute;border-left: 1px solid gray;box-sizing: border-box;top: 0;bottom: 0;left: 50%;z-index: -1;}#sk-container-id-6 div.sk-parallel-item {display: flex;flex-direction: column;z-index: 1;position: relative;background-color: white;}#sk-container-id-6 div.sk-parallel-item:first-child::after {align-self: flex-end;width: 50%;}#sk-container-id-6 div.sk-parallel-item:last-child::after {align-self: flex-start;width: 50%;}#sk-container-id-6 div.sk-parallel-item:only-child::after {width: 0;}#sk-container-id-6 div.sk-dashed-wrapped {border: 1px dashed gray;margin: 0 0.4em 0.5em 0.4em;box-sizing: border-box;padding-bottom: 0.4em;background-color: white;}#sk-container-id-6 div.sk-label label {font-family: monospace;font-weight: bold;display: inline-block;line-height: 1.2em;}#sk-container-id-6 div.sk-label-container {text-align: center;}#sk-container-id-6 div.sk-container {/* jupyter's `normalize.less` sets `[hidden] { display: none; }` but bootstrap.min.css set `[hidden] { display: none !important; }` so we also need the `!important` here to be able to override the default hidden behavior on the sphinx rendered scikit-learn.org. See: https://github.com/scikit-learn/scikit-learn/issues/21755 */display: inline-block !important;position: relative;}#sk-container-id-6 div.sk-text-repr-fallback {display: none;}</style><div id=\"sk-container-id-6\" class=\"sk-top-container\"><div class=\"sk-text-repr-fallback\"><pre>Pipeline(steps=[(&#x27;preprocessor&#x27;,\n",
       "                 ColumnTransformer(transformers=[(&#x27;num&#x27;, StandardScaler(),\n",
       "                                                  [&#x27;days_to_last_follow_up&#x27;,\n",
       "                                                   &#x27;age_at_diagnosis&#x27;,\n",
       "                                                   &#x27;year_of_diagnosis&#x27;,\n",
       "                                                   &#x27;cigarettes_per_day&#x27;,\n",
       "                                                   &#x27;pack_years_smoked&#x27;,\n",
       "                                                   &#x27;age_at_index&#x27;]),\n",
       "                                                 (&#x27;cat&#x27;,\n",
       "                                                  OneHotEncoder(drop=&#x27;first&#x27;,\n",
       "                                                                sparse=False),\n",
       "                                                  [&#x27;synchronous_malignancy&#x27;,\n",
       "                                                   &#x27;tissue_or_organ_of_origin&#x27;,\n",
       "                                                   &#x27;prior_malignancy&#x27;,\n",
       "                                                   &#x27;prior_treatment&#x27;,\n",
       "                                                   &#x27;ajcc_staging_system_edition&#x27;,\n",
       "                                                   &#x27;ajcc_pathologic_t&#x27;,\n",
       "                                                   &#x27;ajcc_pathologic_n&#x27;,\n",
       "                                                   &#x27;ajcc_pathologic_m&#x27;,\n",
       "                                                   &#x27;site_of_resection_or_biopsy&#x27;,\n",
       "                                                   &#x27;race&#x27;, &#x27;gender&#x27;,\n",
       "                                                   &#x27;ethnicity&#x27;, &#x27;vital_status&#x27;,\n",
       "                                                   &#x27;treatments_pharmaceutical_treatment_or_therapy&#x27;,\n",
       "                                                   &#x27;treatments_radiation_treatment_or_therapy&#x27;])])),\n",
       "                (&#x27;pca&#x27;, PCA(n_components=9))])</pre><b>In a Jupyter environment, please rerun this cell to show the HTML representation or trust the notebook. <br />On GitHub, the HTML representation is unable to render, please try loading this page with nbviewer.org.</b></div><div class=\"sk-container\" hidden><div class=\"sk-item sk-dashed-wrapped\"><div class=\"sk-label-container\"><div class=\"sk-label sk-toggleable\"><input class=\"sk-toggleable__control sk-hidden--visually\" id=\"sk-estimator-id-27\" type=\"checkbox\" ><label for=\"sk-estimator-id-27\" class=\"sk-toggleable__label sk-toggleable__label-arrow\">Pipeline</label><div class=\"sk-toggleable__content\"><pre>Pipeline(steps=[(&#x27;preprocessor&#x27;,\n",
       "                 ColumnTransformer(transformers=[(&#x27;num&#x27;, StandardScaler(),\n",
       "                                                  [&#x27;days_to_last_follow_up&#x27;,\n",
       "                                                   &#x27;age_at_diagnosis&#x27;,\n",
       "                                                   &#x27;year_of_diagnosis&#x27;,\n",
       "                                                   &#x27;cigarettes_per_day&#x27;,\n",
       "                                                   &#x27;pack_years_smoked&#x27;,\n",
       "                                                   &#x27;age_at_index&#x27;]),\n",
       "                                                 (&#x27;cat&#x27;,\n",
       "                                                  OneHotEncoder(drop=&#x27;first&#x27;,\n",
       "                                                                sparse=False),\n",
       "                                                  [&#x27;synchronous_malignancy&#x27;,\n",
       "                                                   &#x27;tissue_or_organ_of_origin&#x27;,\n",
       "                                                   &#x27;prior_malignancy&#x27;,\n",
       "                                                   &#x27;prior_treatment&#x27;,\n",
       "                                                   &#x27;ajcc_staging_system_edition&#x27;,\n",
       "                                                   &#x27;ajcc_pathologic_t&#x27;,\n",
       "                                                   &#x27;ajcc_pathologic_n&#x27;,\n",
       "                                                   &#x27;ajcc_pathologic_m&#x27;,\n",
       "                                                   &#x27;site_of_resection_or_biopsy&#x27;,\n",
       "                                                   &#x27;race&#x27;, &#x27;gender&#x27;,\n",
       "                                                   &#x27;ethnicity&#x27;, &#x27;vital_status&#x27;,\n",
       "                                                   &#x27;treatments_pharmaceutical_treatment_or_therapy&#x27;,\n",
       "                                                   &#x27;treatments_radiation_treatment_or_therapy&#x27;])])),\n",
       "                (&#x27;pca&#x27;, PCA(n_components=9))])</pre></div></div></div><div class=\"sk-serial\"><div class=\"sk-item sk-dashed-wrapped\"><div class=\"sk-label-container\"><div class=\"sk-label sk-toggleable\"><input class=\"sk-toggleable__control sk-hidden--visually\" id=\"sk-estimator-id-28\" type=\"checkbox\" ><label for=\"sk-estimator-id-28\" class=\"sk-toggleable__label sk-toggleable__label-arrow\">preprocessor: ColumnTransformer</label><div class=\"sk-toggleable__content\"><pre>ColumnTransformer(transformers=[(&#x27;num&#x27;, StandardScaler(),\n",
       "                                 [&#x27;days_to_last_follow_up&#x27;, &#x27;age_at_diagnosis&#x27;,\n",
       "                                  &#x27;year_of_diagnosis&#x27;, &#x27;cigarettes_per_day&#x27;,\n",
       "                                  &#x27;pack_years_smoked&#x27;, &#x27;age_at_index&#x27;]),\n",
       "                                (&#x27;cat&#x27;,\n",
       "                                 OneHotEncoder(drop=&#x27;first&#x27;, sparse=False),\n",
       "                                 [&#x27;synchronous_malignancy&#x27;,\n",
       "                                  &#x27;tissue_or_organ_of_origin&#x27;,\n",
       "                                  &#x27;prior_malignancy&#x27;, &#x27;prior_treatment&#x27;,\n",
       "                                  &#x27;ajcc_staging_system_edition&#x27;,\n",
       "                                  &#x27;ajcc_pathologic_t&#x27;, &#x27;ajcc_pathologic_n&#x27;,\n",
       "                                  &#x27;ajcc_pathologic_m&#x27;,\n",
       "                                  &#x27;site_of_resection_or_biopsy&#x27;, &#x27;race&#x27;,\n",
       "                                  &#x27;gender&#x27;, &#x27;ethnicity&#x27;, &#x27;vital_status&#x27;,\n",
       "                                  &#x27;treatments_pharmaceutical_treatment_or_therapy&#x27;,\n",
       "                                  &#x27;treatments_radiation_treatment_or_therapy&#x27;])])</pre></div></div></div><div class=\"sk-parallel\"><div class=\"sk-parallel-item\"><div class=\"sk-item\"><div class=\"sk-label-container\"><div class=\"sk-label sk-toggleable\"><input class=\"sk-toggleable__control sk-hidden--visually\" id=\"sk-estimator-id-29\" type=\"checkbox\" ><label for=\"sk-estimator-id-29\" class=\"sk-toggleable__label sk-toggleable__label-arrow\">num</label><div class=\"sk-toggleable__content\"><pre>[&#x27;days_to_last_follow_up&#x27;, &#x27;age_at_diagnosis&#x27;, &#x27;year_of_diagnosis&#x27;, &#x27;cigarettes_per_day&#x27;, &#x27;pack_years_smoked&#x27;, &#x27;age_at_index&#x27;]</pre></div></div></div><div class=\"sk-serial\"><div class=\"sk-item\"><div class=\"sk-estimator sk-toggleable\"><input class=\"sk-toggleable__control sk-hidden--visually\" id=\"sk-estimator-id-30\" type=\"checkbox\" ><label for=\"sk-estimator-id-30\" class=\"sk-toggleable__label sk-toggleable__label-arrow\">StandardScaler</label><div class=\"sk-toggleable__content\"><pre>StandardScaler()</pre></div></div></div></div></div></div><div class=\"sk-parallel-item\"><div class=\"sk-item\"><div class=\"sk-label-container\"><div class=\"sk-label sk-toggleable\"><input class=\"sk-toggleable__control sk-hidden--visually\" id=\"sk-estimator-id-31\" type=\"checkbox\" ><label for=\"sk-estimator-id-31\" class=\"sk-toggleable__label sk-toggleable__label-arrow\">cat</label><div class=\"sk-toggleable__content\"><pre>[&#x27;synchronous_malignancy&#x27;, &#x27;tissue_or_organ_of_origin&#x27;, &#x27;prior_malignancy&#x27;, &#x27;prior_treatment&#x27;, &#x27;ajcc_staging_system_edition&#x27;, &#x27;ajcc_pathologic_t&#x27;, &#x27;ajcc_pathologic_n&#x27;, &#x27;ajcc_pathologic_m&#x27;, &#x27;site_of_resection_or_biopsy&#x27;, &#x27;race&#x27;, &#x27;gender&#x27;, &#x27;ethnicity&#x27;, &#x27;vital_status&#x27;, &#x27;treatments_pharmaceutical_treatment_or_therapy&#x27;, &#x27;treatments_radiation_treatment_or_therapy&#x27;]</pre></div></div></div><div class=\"sk-serial\"><div class=\"sk-item\"><div class=\"sk-estimator sk-toggleable\"><input class=\"sk-toggleable__control sk-hidden--visually\" id=\"sk-estimator-id-32\" type=\"checkbox\" ><label for=\"sk-estimator-id-32\" class=\"sk-toggleable__label sk-toggleable__label-arrow\">OneHotEncoder</label><div class=\"sk-toggleable__content\"><pre>OneHotEncoder(drop=&#x27;first&#x27;, sparse=False)</pre></div></div></div></div></div></div></div></div><div class=\"sk-item\"><div class=\"sk-estimator sk-toggleable\"><input class=\"sk-toggleable__control sk-hidden--visually\" id=\"sk-estimator-id-33\" type=\"checkbox\" ><label for=\"sk-estimator-id-33\" class=\"sk-toggleable__label sk-toggleable__label-arrow\">PCA</label><div class=\"sk-toggleable__content\"><pre>PCA(n_components=9)</pre></div></div></div></div></div></div></div>"
      ],
      "text/plain": [
       "Pipeline(steps=[('preprocessor',\n",
       "                 ColumnTransformer(transformers=[('num', StandardScaler(),\n",
       "                                                  ['days_to_last_follow_up',\n",
       "                                                   'age_at_diagnosis',\n",
       "                                                   'year_of_diagnosis',\n",
       "                                                   'cigarettes_per_day',\n",
       "                                                   'pack_years_smoked',\n",
       "                                                   'age_at_index']),\n",
       "                                                 ('cat',\n",
       "                                                  OneHotEncoder(drop='first',\n",
       "                                                                sparse=False),\n",
       "                                                  ['synchronous_malignancy',\n",
       "                                                   'tissue_or_organ_of_origin',\n",
       "                                                   'prior_malignancy',\n",
       "                                                   'prior_treatment',\n",
       "                                                   'ajcc_staging_system_edition',\n",
       "                                                   'ajcc_pathologic_t',\n",
       "                                                   'ajcc_pathologic_n',\n",
       "                                                   'ajcc_pathologic_m',\n",
       "                                                   'site_of_resection_or_biopsy',\n",
       "                                                   'race', 'gender',\n",
       "                                                   'ethnicity', 'vital_status',\n",
       "                                                   'treatments_pharmaceutical_treatment_or_therapy',\n",
       "                                                   'treatments_radiation_treatment_or_therapy'])])),\n",
       "                ('pca', PCA(n_components=9))])"
      ]
     },
     "execution_count": 48,
     "metadata": {},
     "output_type": "execute_result"
    }
   ],
   "source": [
    "pca_9 = PCA(n_components=9)\n",
    "# Define the pipeline with PCA\n",
    "pca_pipeline_9 = Pipeline(steps=[\n",
    "    ('preprocessor', PCA_preprocessor),\n",
    "    ('pca', pca_9)\n",
    "])\n",
    "pca_pipeline_9"
   ]
  },
  {
   "cell_type": "code",
   "execution_count": 49,
   "id": "f3e40567-049f-4346-9c02-4b9af9f007c7",
   "metadata": {},
   "outputs": [
    {
     "data": {
      "text/plain": [
       "array([[ 1.11499377, -1.32824592, -1.28030561, ...,  0.29277155,\n",
       "         0.87328163,  0.1047245 ],\n",
       "       [-1.09275474,  0.59521339, -1.01275617, ...,  0.92447905,\n",
       "        -0.32850399, -0.0995093 ],\n",
       "       [-1.09275474,  0.59521339, -1.01275617, ...,  0.92447905,\n",
       "        -0.32850399, -0.0995093 ],\n",
       "       ...,\n",
       "       [-1.78744035,  0.73850411,  1.31195582, ..., -0.74065188,\n",
       "         0.23836645, -0.50300583],\n",
       "       [-1.78744035,  0.73850411,  1.31195582, ..., -0.74065188,\n",
       "         0.23836645, -0.50300583],\n",
       "       [-1.51956148,  1.63214056, -0.60065952, ..., -0.05959015,\n",
       "        -0.285406  ,  0.34936346]])"
      ]
     },
     "execution_count": 49,
     "metadata": {},
     "output_type": "execute_result"
    }
   ],
   "source": [
    "features_pca_9 = pca_pipeline_9.fit_transform(features)\n",
    "features_pca_9"
   ]
  },
  {
   "cell_type": "markdown",
   "id": "f2a672c5-5cd0-44e3-90b6-029a9ce0ef75",
   "metadata": {
    "jp-MarkdownHeadingCollapsed": true,
    "tags": []
   },
   "source": [
    "### 7.5.2 Model Training"
   ]
  },
  {
   "cell_type": "code",
   "execution_count": 50,
   "id": "e57fc02b-4eb4-4862-9990-b0deadc939f4",
   "metadata": {},
   "outputs": [
    {
     "name": "stdout",
     "output_type": "stream",
     "text": [
      "Epoch 1/200\n",
      "42/42 [==============================] - 2s 11ms/step - loss: 0.6037 - accuracy: 0.7158 - val_loss: 0.5417 - val_accuracy: 0.7400\n",
      "Epoch 2/200\n",
      "42/42 [==============================] - 0s 5ms/step - loss: 0.4667 - accuracy: 0.8010 - val_loss: 0.5136 - val_accuracy: 0.7435\n",
      "Epoch 3/200\n",
      "42/42 [==============================] - 0s 4ms/step - loss: 0.4449 - accuracy: 0.8070 - val_loss: 0.4937 - val_accuracy: 0.7661\n",
      "Epoch 4/200\n",
      "42/42 [==============================] - 0s 4ms/step - loss: 0.4220 - accuracy: 0.8108 - val_loss: 0.4777 - val_accuracy: 0.7818\n",
      "Epoch 5/200\n",
      "42/42 [==============================] - 0s 5ms/step - loss: 0.3985 - accuracy: 0.8242 - val_loss: 0.4740 - val_accuracy: 0.7801\n",
      "Epoch 6/200\n",
      "42/42 [==============================] - 0s 5ms/step - loss: 0.3823 - accuracy: 0.8340 - val_loss: 0.4708 - val_accuracy: 0.7906\n",
      "Epoch 7/200\n",
      "42/42 [==============================] - 0s 5ms/step - loss: 0.3624 - accuracy: 0.8384 - val_loss: 0.4569 - val_accuracy: 0.7836\n",
      "Epoch 8/200\n",
      "42/42 [==============================] - 0s 5ms/step - loss: 0.3494 - accuracy: 0.8444 - val_loss: 0.4490 - val_accuracy: 0.7976\n",
      "Epoch 9/200\n",
      "42/42 [==============================] - 0s 5ms/step - loss: 0.3346 - accuracy: 0.8542 - val_loss: 0.4423 - val_accuracy: 0.8028\n",
      "Epoch 10/200\n",
      "42/42 [==============================] - 0s 5ms/step - loss: 0.3192 - accuracy: 0.8586 - val_loss: 0.4332 - val_accuracy: 0.8080\n",
      "Epoch 11/200\n",
      "42/42 [==============================] - 0s 6ms/step - loss: 0.3017 - accuracy: 0.8699 - val_loss: 0.4270 - val_accuracy: 0.8185\n",
      "Epoch 12/200\n",
      "42/42 [==============================] - 0s 5ms/step - loss: 0.2937 - accuracy: 0.8788 - val_loss: 0.4230 - val_accuracy: 0.8202\n",
      "Epoch 13/200\n",
      "42/42 [==============================] - 0s 6ms/step - loss: 0.2790 - accuracy: 0.8863 - val_loss: 0.4147 - val_accuracy: 0.8237\n",
      "Epoch 14/200\n",
      "42/42 [==============================] - 0s 5ms/step - loss: 0.2650 - accuracy: 0.8908 - val_loss: 0.4113 - val_accuracy: 0.8307\n",
      "Epoch 15/200\n",
      "42/42 [==============================] - 0s 5ms/step - loss: 0.2463 - accuracy: 0.8983 - val_loss: 0.4199 - val_accuracy: 0.8255\n",
      "Epoch 16/200\n",
      "42/42 [==============================] - 0s 6ms/step - loss: 0.2368 - accuracy: 0.9073 - val_loss: 0.4235 - val_accuracy: 0.8202\n",
      "Epoch 17/200\n",
      "42/42 [==============================] - 0s 5ms/step - loss: 0.2268 - accuracy: 0.9065 - val_loss: 0.4337 - val_accuracy: 0.8255\n",
      "Epoch 18/200\n",
      "42/42 [==============================] - 0s 6ms/step - loss: 0.2180 - accuracy: 0.9102 - val_loss: 0.4108 - val_accuracy: 0.8342\n",
      "Epoch 19/200\n",
      "42/42 [==============================] - 0s 5ms/step - loss: 0.1971 - accuracy: 0.9289 - val_loss: 0.4178 - val_accuracy: 0.8412\n",
      "Epoch 20/200\n",
      "42/42 [==============================] - 0s 5ms/step - loss: 0.1875 - accuracy: 0.9372 - val_loss: 0.4199 - val_accuracy: 0.8377\n",
      "Epoch 21/200\n",
      "42/42 [==============================] - 0s 5ms/step - loss: 0.1793 - accuracy: 0.9327 - val_loss: 0.4123 - val_accuracy: 0.8360\n",
      "Epoch 22/200\n",
      "42/42 [==============================] - 0s 5ms/step - loss: 0.1678 - accuracy: 0.9417 - val_loss: 0.4294 - val_accuracy: 0.8412\n",
      "Epoch 23/200\n",
      "42/42 [==============================] - 0s 5ms/step - loss: 0.1597 - accuracy: 0.9417 - val_loss: 0.4169 - val_accuracy: 0.8325\n",
      "Epoch 24/200\n",
      "42/42 [==============================] - 0s 6ms/step - loss: 0.1662 - accuracy: 0.9402 - val_loss: 0.4028 - val_accuracy: 0.8534\n",
      "Epoch 25/200\n",
      "42/42 [==============================] - 0s 5ms/step - loss: 0.1457 - accuracy: 0.9529 - val_loss: 0.4559 - val_accuracy: 0.8447\n",
      "Epoch 26/200\n",
      "42/42 [==============================] - 0s 5ms/step - loss: 0.1398 - accuracy: 0.9566 - val_loss: 0.4129 - val_accuracy: 0.8569\n",
      "Epoch 27/200\n",
      "42/42 [==============================] - 0s 5ms/step - loss: 0.1212 - accuracy: 0.9596 - val_loss: 0.4067 - val_accuracy: 0.8743\n",
      "Epoch 28/200\n",
      "42/42 [==============================] - 0s 5ms/step - loss: 0.1229 - accuracy: 0.9581 - val_loss: 0.4371 - val_accuracy: 0.8639\n",
      "Epoch 29/200\n",
      "42/42 [==============================] - 0s 5ms/step - loss: 0.1210 - accuracy: 0.9596 - val_loss: 0.4428 - val_accuracy: 0.8639\n",
      "Epoch 30/200\n",
      "42/42 [==============================] - 0s 5ms/step - loss: 0.1081 - accuracy: 0.9663 - val_loss: 0.4311 - val_accuracy: 0.8656\n",
      "Epoch 31/200\n",
      "42/42 [==============================] - 0s 5ms/step - loss: 0.0933 - accuracy: 0.9753 - val_loss: 0.4512 - val_accuracy: 0.8691\n",
      "Epoch 32/200\n",
      "42/42 [==============================] - 0s 5ms/step - loss: 0.0876 - accuracy: 0.9731 - val_loss: 0.4177 - val_accuracy: 0.8848\n",
      "Epoch 33/200\n",
      "42/42 [==============================] - 0s 5ms/step - loss: 0.0836 - accuracy: 0.9776 - val_loss: 0.4269 - val_accuracy: 0.8743\n",
      "Epoch 34/200\n",
      "42/42 [==============================] - 0s 5ms/step - loss: 0.0727 - accuracy: 0.9820 - val_loss: 0.4556 - val_accuracy: 0.8918\n",
      "Epoch 35/200\n",
      "42/42 [==============================] - 0s 5ms/step - loss: 0.0712 - accuracy: 0.9783 - val_loss: 0.4470 - val_accuracy: 0.8761\n",
      "Epoch 36/200\n",
      "42/42 [==============================] - 0s 5ms/step - loss: 0.0660 - accuracy: 0.9850 - val_loss: 0.4514 - val_accuracy: 0.8831\n",
      "Epoch 37/200\n",
      "42/42 [==============================] - 0s 5ms/step - loss: 0.0633 - accuracy: 0.9820 - val_loss: 0.4456 - val_accuracy: 0.8743\n",
      "Epoch 38/200\n",
      "42/42 [==============================] - 0s 5ms/step - loss: 0.0558 - accuracy: 0.9865 - val_loss: 0.4495 - val_accuracy: 0.8970\n",
      "Epoch 39/200\n",
      "42/42 [==============================] - 0s 5ms/step - loss: 0.0496 - accuracy: 0.9903 - val_loss: 0.4822 - val_accuracy: 0.8796\n",
      "Epoch 40/200\n",
      "42/42 [==============================] - 0s 5ms/step - loss: 0.0580 - accuracy: 0.9806 - val_loss: 0.4796 - val_accuracy: 0.8935\n",
      "Epoch 41/200\n",
      "42/42 [==============================] - 0s 4ms/step - loss: 0.0434 - accuracy: 0.9910 - val_loss: 0.4635 - val_accuracy: 0.8918\n",
      "Epoch 42/200\n",
      "42/42 [==============================] - 0s 5ms/step - loss: 0.0436 - accuracy: 0.9873 - val_loss: 0.5202 - val_accuracy: 0.8935\n",
      "Epoch 43/200\n",
      "42/42 [==============================] - 0s 5ms/step - loss: 0.0397 - accuracy: 0.9918 - val_loss: 0.5072 - val_accuracy: 0.8953\n",
      "Epoch 44/200\n",
      "42/42 [==============================] - 0s 5ms/step - loss: 0.0402 - accuracy: 0.9895 - val_loss: 0.5266 - val_accuracy: 0.9040\n",
      "Epoch 45/200\n",
      "42/42 [==============================] - 0s 5ms/step - loss: 0.0314 - accuracy: 0.9933 - val_loss: 0.5399 - val_accuracy: 0.8935\n",
      "Epoch 46/200\n",
      "42/42 [==============================] - 0s 5ms/step - loss: 0.0292 - accuracy: 0.9933 - val_loss: 0.5417 - val_accuracy: 0.9023\n",
      "Epoch 47/200\n",
      "42/42 [==============================] - 0s 5ms/step - loss: 0.0257 - accuracy: 0.9955 - val_loss: 0.5533 - val_accuracy: 0.8970\n",
      "Epoch 48/200\n",
      "42/42 [==============================] - 0s 5ms/step - loss: 0.0217 - accuracy: 0.9948 - val_loss: 0.5431 - val_accuracy: 0.9023\n",
      "Epoch 49/200\n",
      "42/42 [==============================] - 0s 4ms/step - loss: 0.0251 - accuracy: 0.9940 - val_loss: 0.5664 - val_accuracy: 0.9005\n",
      "Epoch 50/200\n",
      "42/42 [==============================] - 0s 5ms/step - loss: 0.0283 - accuracy: 0.9918 - val_loss: 0.5660 - val_accuracy: 0.8935\n",
      "Epoch 51/200\n",
      "42/42 [==============================] - 0s 4ms/step - loss: 0.0316 - accuracy: 0.9910 - val_loss: 0.5853 - val_accuracy: 0.8953\n",
      "Epoch 52/200\n",
      "42/42 [==============================] - 0s 8ms/step - loss: 0.0224 - accuracy: 0.9955 - val_loss: 0.5970 - val_accuracy: 0.9023\n",
      "Epoch 53/200\n",
      "42/42 [==============================] - 0s 5ms/step - loss: 0.0177 - accuracy: 0.9978 - val_loss: 0.6141 - val_accuracy: 0.8988\n",
      "Epoch 54/200\n",
      "42/42 [==============================] - 0s 5ms/step - loss: 0.0159 - accuracy: 0.9978 - val_loss: 0.6060 - val_accuracy: 0.9040\n",
      "Epoch 55/200\n",
      "42/42 [==============================] - 0s 4ms/step - loss: 0.0175 - accuracy: 0.9970 - val_loss: 0.6309 - val_accuracy: 0.8883\n",
      "Epoch 56/200\n",
      "42/42 [==============================] - 0s 5ms/step - loss: 0.0183 - accuracy: 0.9963 - val_loss: 0.6935 - val_accuracy: 0.8901\n",
      "Epoch 57/200\n",
      "42/42 [==============================] - 0s 5ms/step - loss: 0.0307 - accuracy: 0.9910 - val_loss: 0.7130 - val_accuracy: 0.8848\n",
      "Epoch 58/200\n",
      "42/42 [==============================] - 0s 4ms/step - loss: 0.0274 - accuracy: 0.9933 - val_loss: 0.6902 - val_accuracy: 0.8866\n",
      "Epoch 59/200\n",
      "42/42 [==============================] - 0s 4ms/step - loss: 0.0229 - accuracy: 0.9948 - val_loss: 0.6455 - val_accuracy: 0.9110\n",
      "Epoch 60/200\n",
      "42/42 [==============================] - 0s 5ms/step - loss: 0.0223 - accuracy: 0.9955 - val_loss: 0.6772 - val_accuracy: 0.8970\n",
      "Epoch 61/200\n",
      "42/42 [==============================] - 0s 4ms/step - loss: 0.0175 - accuracy: 0.9955 - val_loss: 0.6350 - val_accuracy: 0.9023\n",
      "Epoch 62/200\n",
      "42/42 [==============================] - 0s 4ms/step - loss: 0.0501 - accuracy: 0.9925 - val_loss: 0.6904 - val_accuracy: 0.8988\n",
      "Epoch 63/200\n",
      "42/42 [==============================] - 0s 5ms/step - loss: 0.0668 - accuracy: 0.9723 - val_loss: 0.7180 - val_accuracy: 0.8918\n",
      "Epoch 64/200\n",
      "42/42 [==============================] - 0s 5ms/step - loss: 0.0321 - accuracy: 0.9888 - val_loss: 0.7344 - val_accuracy: 0.8918\n",
      "Epoch 65/200\n",
      "42/42 [==============================] - 0s 5ms/step - loss: 0.0153 - accuracy: 0.9985 - val_loss: 0.7230 - val_accuracy: 0.9005\n",
      "Epoch 66/200\n",
      "42/42 [==============================] - 0s 4ms/step - loss: 0.0100 - accuracy: 0.9978 - val_loss: 0.7109 - val_accuracy: 0.9005\n",
      "Epoch 67/200\n",
      "42/42 [==============================] - 0s 5ms/step - loss: 0.0139 - accuracy: 0.9963 - val_loss: 0.7564 - val_accuracy: 0.9005\n",
      "Epoch 68/200\n",
      "42/42 [==============================] - 0s 5ms/step - loss: 0.0072 - accuracy: 0.9993 - val_loss: 0.7360 - val_accuracy: 0.9005\n",
      "Epoch 69/200\n",
      "42/42 [==============================] - 0s 5ms/step - loss: 0.0077 - accuracy: 1.0000 - val_loss: 0.7419 - val_accuracy: 0.8970\n",
      "Epoch 70/200\n",
      "42/42 [==============================] - 0s 6ms/step - loss: 0.0052 - accuracy: 0.9993 - val_loss: 0.7542 - val_accuracy: 0.9023\n",
      "Epoch 71/200\n",
      "42/42 [==============================] - 0s 6ms/step - loss: 0.0049 - accuracy: 0.9985 - val_loss: 0.7820 - val_accuracy: 0.8970\n",
      "Epoch 72/200\n",
      "42/42 [==============================] - 0s 6ms/step - loss: 0.0047 - accuracy: 0.9993 - val_loss: 0.7640 - val_accuracy: 0.9040\n",
      "Epoch 73/200\n",
      "42/42 [==============================] - 0s 6ms/step - loss: 0.0040 - accuracy: 0.9993 - val_loss: 0.7758 - val_accuracy: 0.9023\n",
      "Epoch 74/200\n",
      "42/42 [==============================] - 0s 5ms/step - loss: 0.0032 - accuracy: 1.0000 - val_loss: 0.7806 - val_accuracy: 0.9023\n",
      "Epoch 75/200\n",
      "42/42 [==============================] - 0s 6ms/step - loss: 0.0030 - accuracy: 1.0000 - val_loss: 0.7938 - val_accuracy: 0.9023\n",
      "Epoch 76/200\n",
      "42/42 [==============================] - 0s 7ms/step - loss: 0.0029 - accuracy: 1.0000 - val_loss: 0.7933 - val_accuracy: 0.9040\n",
      "Epoch 77/200\n",
      "42/42 [==============================] - 0s 6ms/step - loss: 0.0029 - accuracy: 1.0000 - val_loss: 0.7961 - val_accuracy: 0.9023\n",
      "Epoch 78/200\n",
      "42/42 [==============================] - 0s 7ms/step - loss: 0.0024 - accuracy: 1.0000 - val_loss: 0.8068 - val_accuracy: 0.9023\n",
      "Epoch 79/200\n",
      "42/42 [==============================] - 0s 8ms/step - loss: 0.0025 - accuracy: 1.0000 - val_loss: 0.8165 - val_accuracy: 0.8970\n",
      "Epoch 80/200\n",
      "42/42 [==============================] - 0s 6ms/step - loss: 0.0022 - accuracy: 1.0000 - val_loss: 0.8259 - val_accuracy: 0.9040\n",
      "Epoch 81/200\n",
      "42/42 [==============================] - 0s 8ms/step - loss: 0.0022 - accuracy: 1.0000 - val_loss: 0.8215 - val_accuracy: 0.9023\n",
      "Epoch 82/200\n",
      "42/42 [==============================] - 0s 6ms/step - loss: 0.0021 - accuracy: 1.0000 - val_loss: 0.8247 - val_accuracy: 0.9023\n",
      "Epoch 83/200\n",
      "42/42 [==============================] - 0s 6ms/step - loss: 0.0019 - accuracy: 1.0000 - val_loss: 0.8293 - val_accuracy: 0.9040\n",
      "Epoch 84/200\n",
      "42/42 [==============================] - 0s 6ms/step - loss: 0.0017 - accuracy: 1.0000 - val_loss: 0.8414 - val_accuracy: 0.9023\n",
      "Epoch 85/200\n",
      "42/42 [==============================] - 0s 6ms/step - loss: 0.0017 - accuracy: 1.0000 - val_loss: 0.8330 - val_accuracy: 0.9023\n",
      "Epoch 86/200\n",
      "42/42 [==============================] - 0s 6ms/step - loss: 0.0016 - accuracy: 1.0000 - val_loss: 0.8589 - val_accuracy: 0.9023\n",
      "Epoch 87/200\n",
      "42/42 [==============================] - 0s 6ms/step - loss: 0.0016 - accuracy: 1.0000 - val_loss: 0.8560 - val_accuracy: 0.8988\n",
      "Epoch 88/200\n",
      "42/42 [==============================] - 0s 6ms/step - loss: 0.0014 - accuracy: 1.0000 - val_loss: 0.8539 - val_accuracy: 0.9023\n",
      "Epoch 89/200\n",
      "42/42 [==============================] - 0s 7ms/step - loss: 0.0014 - accuracy: 1.0000 - val_loss: 0.8676 - val_accuracy: 0.9023\n",
      "Epoch 90/200\n",
      "42/42 [==============================] - 0s 7ms/step - loss: 0.0014 - accuracy: 1.0000 - val_loss: 0.8551 - val_accuracy: 0.9023\n",
      "Epoch 91/200\n",
      "42/42 [==============================] - 0s 6ms/step - loss: 0.0017 - accuracy: 1.0000 - val_loss: 0.8734 - val_accuracy: 0.8970\n",
      "Epoch 92/200\n",
      "42/42 [==============================] - 0s 7ms/step - loss: 0.0047 - accuracy: 0.9970 - val_loss: 0.9119 - val_accuracy: 0.9040\n",
      "Epoch 93/200\n",
      "42/42 [==============================] - 0s 6ms/step - loss: 0.0037 - accuracy: 0.9993 - val_loss: 0.8225 - val_accuracy: 0.9023\n",
      "Epoch 94/200\n",
      "42/42 [==============================] - 0s 6ms/step - loss: 0.0090 - accuracy: 0.9970 - val_loss: 0.8845 - val_accuracy: 0.9058\n",
      "Epoch 95/200\n",
      "42/42 [==============================] - 0s 6ms/step - loss: 0.0138 - accuracy: 0.9970 - val_loss: 0.8884 - val_accuracy: 0.8988\n",
      "Epoch 96/200\n",
      "42/42 [==============================] - 0s 6ms/step - loss: 0.0624 - accuracy: 0.9820 - val_loss: 0.9718 - val_accuracy: 0.8604\n",
      "Epoch 97/200\n",
      "42/42 [==============================] - 0s 6ms/step - loss: 0.1017 - accuracy: 0.9753 - val_loss: 0.8615 - val_accuracy: 0.8778\n",
      "Epoch 98/200\n",
      "42/42 [==============================] - 0s 6ms/step - loss: 0.0874 - accuracy: 0.9746 - val_loss: 0.7686 - val_accuracy: 0.8831\n",
      "Epoch 99/200\n",
      "42/42 [==============================] - 0s 6ms/step - loss: 0.0761 - accuracy: 0.9686 - val_loss: 0.8524 - val_accuracy: 0.8796\n",
      "Epoch 100/200\n",
      "42/42 [==============================] - 0s 6ms/step - loss: 0.0312 - accuracy: 0.9903 - val_loss: 0.6993 - val_accuracy: 0.9005\n",
      "Epoch 101/200\n",
      "42/42 [==============================] - 0s 7ms/step - loss: 0.0131 - accuracy: 0.9970 - val_loss: 0.7714 - val_accuracy: 0.8988\n",
      "Epoch 102/200\n",
      "42/42 [==============================] - 0s 6ms/step - loss: 0.0055 - accuracy: 1.0000 - val_loss: 0.7653 - val_accuracy: 0.8970\n",
      "Epoch 103/200\n",
      "42/42 [==============================] - 0s 6ms/step - loss: 0.0043 - accuracy: 0.9993 - val_loss: 0.7908 - val_accuracy: 0.8953\n",
      "Epoch 104/200\n",
      "42/42 [==============================] - 0s 6ms/step - loss: 0.0030 - accuracy: 1.0000 - val_loss: 0.7913 - val_accuracy: 0.8988\n",
      "Epoch 105/200\n",
      "42/42 [==============================] - 0s 7ms/step - loss: 0.0023 - accuracy: 1.0000 - val_loss: 0.7909 - val_accuracy: 0.8970\n",
      "Epoch 106/200\n",
      "42/42 [==============================] - 0s 7ms/step - loss: 0.0021 - accuracy: 1.0000 - val_loss: 0.8062 - val_accuracy: 0.8988\n",
      "Epoch 107/200\n",
      "42/42 [==============================] - 0s 7ms/step - loss: 0.0019 - accuracy: 1.0000 - val_loss: 0.8164 - val_accuracy: 0.8988\n",
      "Epoch 108/200\n",
      "42/42 [==============================] - 0s 7ms/step - loss: 0.0018 - accuracy: 1.0000 - val_loss: 0.8292 - val_accuracy: 0.8970\n",
      "Epoch 109/200\n",
      "42/42 [==============================] - 0s 6ms/step - loss: 0.0017 - accuracy: 1.0000 - val_loss: 0.8278 - val_accuracy: 0.8970\n",
      "Epoch 110/200\n",
      "42/42 [==============================] - 0s 9ms/step - loss: 0.0016 - accuracy: 1.0000 - val_loss: 0.8301 - val_accuracy: 0.8970\n",
      "Epoch 111/200\n",
      "42/42 [==============================] - 0s 7ms/step - loss: 0.0014 - accuracy: 1.0000 - val_loss: 0.8426 - val_accuracy: 0.8970\n",
      "Epoch 112/200\n",
      "42/42 [==============================] - 0s 8ms/step - loss: 0.0013 - accuracy: 1.0000 - val_loss: 0.8447 - val_accuracy: 0.8970\n",
      "Epoch 113/200\n",
      "42/42 [==============================] - 0s 7ms/step - loss: 0.0013 - accuracy: 1.0000 - val_loss: 0.8577 - val_accuracy: 0.8970\n",
      "Epoch 114/200\n",
      "42/42 [==============================] - 0s 6ms/step - loss: 0.0012 - accuracy: 1.0000 - val_loss: 0.8595 - val_accuracy: 0.8970\n",
      "Epoch 115/200\n",
      "42/42 [==============================] - 0s 6ms/step - loss: 0.0012 - accuracy: 1.0000 - val_loss: 0.8638 - val_accuracy: 0.8970\n",
      "Epoch 116/200\n",
      "42/42 [==============================] - 0s 5ms/step - loss: 0.0011 - accuracy: 1.0000 - val_loss: 0.8735 - val_accuracy: 0.8970\n",
      "Epoch 117/200\n",
      "42/42 [==============================] - 0s 5ms/step - loss: 0.0010 - accuracy: 1.0000 - val_loss: 0.8804 - val_accuracy: 0.8970\n",
      "Epoch 118/200\n",
      "42/42 [==============================] - 0s 6ms/step - loss: 0.0010 - accuracy: 1.0000 - val_loss: 0.8861 - val_accuracy: 0.8970\n",
      "Epoch 119/200\n",
      "42/42 [==============================] - 0s 6ms/step - loss: 9.8310e-04 - accuracy: 1.0000 - val_loss: 0.8890 - val_accuracy: 0.8970\n",
      "Epoch 120/200\n",
      "42/42 [==============================] - 0s 6ms/step - loss: 9.1900e-04 - accuracy: 1.0000 - val_loss: 0.8932 - val_accuracy: 0.8970\n",
      "Epoch 121/200\n",
      "42/42 [==============================] - 0s 7ms/step - loss: 8.8881e-04 - accuracy: 1.0000 - val_loss: 0.9007 - val_accuracy: 0.8970\n",
      "Epoch 122/200\n",
      "42/42 [==============================] - 0s 6ms/step - loss: 8.5739e-04 - accuracy: 1.0000 - val_loss: 0.9042 - val_accuracy: 0.8970\n",
      "Epoch 123/200\n",
      "42/42 [==============================] - 0s 6ms/step - loss: 8.2121e-04 - accuracy: 1.0000 - val_loss: 0.9118 - val_accuracy: 0.8970\n",
      "Epoch 124/200\n",
      "42/42 [==============================] - 0s 5ms/step - loss: 7.9608e-04 - accuracy: 1.0000 - val_loss: 0.9137 - val_accuracy: 0.8970\n",
      "Epoch 125/200\n",
      "42/42 [==============================] - 0s 6ms/step - loss: 7.5374e-04 - accuracy: 1.0000 - val_loss: 0.9152 - val_accuracy: 0.8970\n",
      "Epoch 126/200\n",
      "42/42 [==============================] - 0s 5ms/step - loss: 7.3459e-04 - accuracy: 1.0000 - val_loss: 0.9196 - val_accuracy: 0.8988\n",
      "Epoch 127/200\n",
      "42/42 [==============================] - 0s 5ms/step - loss: 7.0446e-04 - accuracy: 1.0000 - val_loss: 0.9245 - val_accuracy: 0.8970\n",
      "Epoch 128/200\n",
      "42/42 [==============================] - 0s 6ms/step - loss: 6.7542e-04 - accuracy: 1.0000 - val_loss: 0.9299 - val_accuracy: 0.8970\n",
      "Epoch 129/200\n",
      "42/42 [==============================] - 0s 5ms/step - loss: 6.5741e-04 - accuracy: 1.0000 - val_loss: 0.9392 - val_accuracy: 0.8970\n",
      "Epoch 130/200\n",
      "42/42 [==============================] - 0s 5ms/step - loss: 6.4431e-04 - accuracy: 1.0000 - val_loss: 0.9360 - val_accuracy: 0.8970\n",
      "Epoch 131/200\n",
      "42/42 [==============================] - 0s 5ms/step - loss: 6.2183e-04 - accuracy: 1.0000 - val_loss: 0.9418 - val_accuracy: 0.8970\n",
      "Epoch 132/200\n",
      "42/42 [==============================] - 0s 5ms/step - loss: 6.0148e-04 - accuracy: 1.0000 - val_loss: 0.9499 - val_accuracy: 0.8970\n",
      "Epoch 133/200\n",
      "42/42 [==============================] - 0s 6ms/step - loss: 5.9785e-04 - accuracy: 1.0000 - val_loss: 0.9453 - val_accuracy: 0.8970\n",
      "Epoch 134/200\n",
      "42/42 [==============================] - 0s 5ms/step - loss: 5.5855e-04 - accuracy: 1.0000 - val_loss: 0.9555 - val_accuracy: 0.8970\n",
      "Epoch 135/200\n",
      "42/42 [==============================] - 0s 5ms/step - loss: 5.4308e-04 - accuracy: 1.0000 - val_loss: 0.9508 - val_accuracy: 0.8970\n",
      "Epoch 136/200\n",
      "42/42 [==============================] - 0s 6ms/step - loss: 5.3007e-04 - accuracy: 1.0000 - val_loss: 0.9559 - val_accuracy: 0.8970\n",
      "Epoch 137/200\n",
      "42/42 [==============================] - 0s 6ms/step - loss: 5.2088e-04 - accuracy: 1.0000 - val_loss: 0.9631 - val_accuracy: 0.8988\n",
      "Epoch 138/200\n",
      "42/42 [==============================] - 0s 6ms/step - loss: 4.9324e-04 - accuracy: 1.0000 - val_loss: 0.9702 - val_accuracy: 0.8970\n",
      "Epoch 139/200\n",
      "42/42 [==============================] - 0s 7ms/step - loss: 4.8524e-04 - accuracy: 1.0000 - val_loss: 0.9664 - val_accuracy: 0.8970\n",
      "Epoch 140/200\n",
      "42/42 [==============================] - 0s 6ms/step - loss: 4.8698e-04 - accuracy: 1.0000 - val_loss: 0.9788 - val_accuracy: 0.8970\n",
      "Epoch 141/200\n",
      "42/42 [==============================] - 0s 6ms/step - loss: 4.6080e-04 - accuracy: 1.0000 - val_loss: 0.9759 - val_accuracy: 0.8970\n",
      "Epoch 142/200\n",
      "42/42 [==============================] - 0s 6ms/step - loss: 4.4524e-04 - accuracy: 1.0000 - val_loss: 0.9814 - val_accuracy: 0.8988\n",
      "Epoch 143/200\n",
      "42/42 [==============================] - 0s 6ms/step - loss: 4.3580e-04 - accuracy: 1.0000 - val_loss: 0.9826 - val_accuracy: 0.8988\n",
      "Epoch 144/200\n",
      "42/42 [==============================] - 0s 7ms/step - loss: 4.1840e-04 - accuracy: 1.0000 - val_loss: 0.9890 - val_accuracy: 0.8988\n",
      "Epoch 145/200\n",
      "42/42 [==============================] - 0s 7ms/step - loss: 4.0860e-04 - accuracy: 1.0000 - val_loss: 0.9974 - val_accuracy: 0.8970\n",
      "Epoch 146/200\n",
      "42/42 [==============================] - 0s 6ms/step - loss: 3.9308e-04 - accuracy: 1.0000 - val_loss: 0.9973 - val_accuracy: 0.8970\n",
      "Epoch 147/200\n",
      "42/42 [==============================] - 0s 5ms/step - loss: 3.8225e-04 - accuracy: 1.0000 - val_loss: 0.9944 - val_accuracy: 0.8988\n",
      "Epoch 148/200\n",
      "42/42 [==============================] - 0s 6ms/step - loss: 3.7543e-04 - accuracy: 1.0000 - val_loss: 1.0058 - val_accuracy: 0.8970\n",
      "Epoch 149/200\n",
      "42/42 [==============================] - 0s 7ms/step - loss: 3.5325e-04 - accuracy: 1.0000 - val_loss: 1.0054 - val_accuracy: 0.8970\n",
      "Epoch 150/200\n",
      "42/42 [==============================] - 0s 7ms/step - loss: 3.4724e-04 - accuracy: 1.0000 - val_loss: 1.0128 - val_accuracy: 0.8970\n",
      "Epoch 151/200\n",
      "42/42 [==============================] - 0s 5ms/step - loss: 3.4683e-04 - accuracy: 1.0000 - val_loss: 1.0224 - val_accuracy: 0.8970\n",
      "Epoch 152/200\n",
      "42/42 [==============================] - 0s 6ms/step - loss: 3.4308e-04 - accuracy: 1.0000 - val_loss: 1.0252 - val_accuracy: 0.8970\n",
      "Epoch 153/200\n",
      "42/42 [==============================] - 0s 6ms/step - loss: 3.2723e-04 - accuracy: 1.0000 - val_loss: 1.0182 - val_accuracy: 0.8988\n",
      "Epoch 154/200\n",
      "42/42 [==============================] - 0s 7ms/step - loss: 3.1167e-04 - accuracy: 1.0000 - val_loss: 1.0225 - val_accuracy: 0.8988\n",
      "Epoch 155/200\n",
      "42/42 [==============================] - 0s 6ms/step - loss: 3.0585e-04 - accuracy: 1.0000 - val_loss: 1.0212 - val_accuracy: 0.8988\n",
      "Epoch 156/200\n",
      "42/42 [==============================] - 0s 6ms/step - loss: 3.0148e-04 - accuracy: 1.0000 - val_loss: 1.0331 - val_accuracy: 0.8970\n",
      "Epoch 157/200\n",
      "42/42 [==============================] - 0s 7ms/step - loss: 2.8709e-04 - accuracy: 1.0000 - val_loss: 1.0319 - val_accuracy: 0.8988\n",
      "Epoch 158/200\n",
      "42/42 [==============================] - 0s 6ms/step - loss: 2.7914e-04 - accuracy: 1.0000 - val_loss: 1.0377 - val_accuracy: 0.8988\n",
      "Epoch 159/200\n",
      "42/42 [==============================] - 0s 7ms/step - loss: 2.7046e-04 - accuracy: 1.0000 - val_loss: 1.0417 - val_accuracy: 0.8970\n",
      "Epoch 160/200\n",
      "42/42 [==============================] - 0s 6ms/step - loss: 2.6579e-04 - accuracy: 1.0000 - val_loss: 1.0411 - val_accuracy: 0.8988\n",
      "Epoch 161/200\n",
      "42/42 [==============================] - 0s 6ms/step - loss: 2.6508e-04 - accuracy: 1.0000 - val_loss: 1.0449 - val_accuracy: 0.8970\n",
      "Epoch 162/200\n",
      "42/42 [==============================] - 0s 7ms/step - loss: 2.5619e-04 - accuracy: 1.0000 - val_loss: 1.0491 - val_accuracy: 0.8988\n",
      "Epoch 163/200\n",
      "42/42 [==============================] - 0s 6ms/step - loss: 2.4537e-04 - accuracy: 1.0000 - val_loss: 1.0537 - val_accuracy: 0.8970\n",
      "Epoch 164/200\n",
      "42/42 [==============================] - 0s 6ms/step - loss: 2.4590e-04 - accuracy: 1.0000 - val_loss: 1.0539 - val_accuracy: 0.8988\n",
      "Epoch 165/200\n",
      "42/42 [==============================] - 0s 7ms/step - loss: 2.4393e-04 - accuracy: 1.0000 - val_loss: 1.0605 - val_accuracy: 0.8970\n",
      "Epoch 166/200\n",
      "42/42 [==============================] - 0s 5ms/step - loss: 2.2980e-04 - accuracy: 1.0000 - val_loss: 1.0638 - val_accuracy: 0.8988\n",
      "Epoch 167/200\n",
      "42/42 [==============================] - 0s 6ms/step - loss: 2.2394e-04 - accuracy: 1.0000 - val_loss: 1.0654 - val_accuracy: 0.8970\n",
      "Epoch 168/200\n",
      "42/42 [==============================] - 0s 7ms/step - loss: 2.2539e-04 - accuracy: 1.0000 - val_loss: 1.0630 - val_accuracy: 0.8988\n",
      "Epoch 169/200\n",
      "42/42 [==============================] - 0s 6ms/step - loss: 2.0684e-04 - accuracy: 1.0000 - val_loss: 1.0751 - val_accuracy: 0.8988\n",
      "Epoch 170/200\n",
      "42/42 [==============================] - 0s 6ms/step - loss: 2.0256e-04 - accuracy: 1.0000 - val_loss: 1.0749 - val_accuracy: 0.8970\n",
      "Epoch 171/200\n",
      "42/42 [==============================] - 0s 6ms/step - loss: 1.9940e-04 - accuracy: 1.0000 - val_loss: 1.0797 - val_accuracy: 0.8970\n",
      "Epoch 172/200\n",
      "42/42 [==============================] - 0s 9ms/step - loss: 1.9446e-04 - accuracy: 1.0000 - val_loss: 1.0845 - val_accuracy: 0.8970\n",
      "Epoch 173/200\n",
      "42/42 [==============================] - 0s 7ms/step - loss: 1.8605e-04 - accuracy: 1.0000 - val_loss: 1.0870 - val_accuracy: 0.8970\n",
      "Epoch 174/200\n",
      "42/42 [==============================] - 0s 7ms/step - loss: 1.8329e-04 - accuracy: 1.0000 - val_loss: 1.0919 - val_accuracy: 0.8970\n",
      "Epoch 175/200\n",
      "42/42 [==============================] - 0s 7ms/step - loss: 1.7911e-04 - accuracy: 1.0000 - val_loss: 1.0863 - val_accuracy: 0.8988\n",
      "Epoch 176/200\n",
      "42/42 [==============================] - 0s 8ms/step - loss: 1.7372e-04 - accuracy: 1.0000 - val_loss: 1.0961 - val_accuracy: 0.8988\n",
      "Epoch 177/200\n",
      "42/42 [==============================] - 0s 6ms/step - loss: 1.7154e-04 - accuracy: 1.0000 - val_loss: 1.0996 - val_accuracy: 0.8988\n",
      "Epoch 178/200\n",
      "42/42 [==============================] - 0s 6ms/step - loss: 1.6492e-04 - accuracy: 1.0000 - val_loss: 1.1039 - val_accuracy: 0.8970\n",
      "Epoch 179/200\n",
      "42/42 [==============================] - 0s 7ms/step - loss: 1.6146e-04 - accuracy: 1.0000 - val_loss: 1.1029 - val_accuracy: 0.8988\n",
      "Epoch 180/200\n",
      "42/42 [==============================] - 0s 6ms/step - loss: 1.5444e-04 - accuracy: 1.0000 - val_loss: 1.1065 - val_accuracy: 0.8988\n",
      "Epoch 181/200\n",
      "42/42 [==============================] - 0s 6ms/step - loss: 1.5510e-04 - accuracy: 1.0000 - val_loss: 1.1067 - val_accuracy: 0.8988\n",
      "Epoch 182/200\n",
      "42/42 [==============================] - 0s 5ms/step - loss: 1.5286e-04 - accuracy: 1.0000 - val_loss: 1.1125 - val_accuracy: 0.8988\n",
      "Epoch 183/200\n",
      "42/42 [==============================] - 0s 5ms/step - loss: 1.4886e-04 - accuracy: 1.0000 - val_loss: 1.1201 - val_accuracy: 0.8988\n",
      "Epoch 184/200\n",
      "42/42 [==============================] - 0s 6ms/step - loss: 1.4030e-04 - accuracy: 1.0000 - val_loss: 1.1181 - val_accuracy: 0.8970\n",
      "Epoch 185/200\n",
      "42/42 [==============================] - 0s 5ms/step - loss: 1.4139e-04 - accuracy: 1.0000 - val_loss: 1.1211 - val_accuracy: 0.8970\n",
      "Epoch 186/200\n",
      "42/42 [==============================] - 0s 5ms/step - loss: 1.3371e-04 - accuracy: 1.0000 - val_loss: 1.1220 - val_accuracy: 0.8988\n",
      "Epoch 187/200\n",
      "42/42 [==============================] - 0s 5ms/step - loss: 1.2980e-04 - accuracy: 1.0000 - val_loss: 1.1297 - val_accuracy: 0.8988\n",
      "Epoch 188/200\n",
      "42/42 [==============================] - 0s 5ms/step - loss: 1.2773e-04 - accuracy: 1.0000 - val_loss: 1.1219 - val_accuracy: 0.8988\n",
      "Epoch 189/200\n",
      "42/42 [==============================] - 0s 5ms/step - loss: 1.2664e-04 - accuracy: 1.0000 - val_loss: 1.1287 - val_accuracy: 0.8988\n",
      "Epoch 190/200\n",
      "42/42 [==============================] - 0s 4ms/step - loss: 1.2177e-04 - accuracy: 1.0000 - val_loss: 1.1372 - val_accuracy: 0.8988\n",
      "Epoch 191/200\n",
      "42/42 [==============================] - 0s 6ms/step - loss: 1.1784e-04 - accuracy: 1.0000 - val_loss: 1.1356 - val_accuracy: 0.8988\n",
      "Epoch 192/200\n",
      "42/42 [==============================] - 0s 6ms/step - loss: 1.1376e-04 - accuracy: 1.0000 - val_loss: 1.1428 - val_accuracy: 0.8988\n",
      "Epoch 193/200\n",
      "42/42 [==============================] - 0s 5ms/step - loss: 1.1336e-04 - accuracy: 1.0000 - val_loss: 1.1428 - val_accuracy: 0.8988\n",
      "Epoch 194/200\n",
      "42/42 [==============================] - 0s 4ms/step - loss: 1.0964e-04 - accuracy: 1.0000 - val_loss: 1.1495 - val_accuracy: 0.8988\n",
      "Epoch 195/200\n",
      "42/42 [==============================] - 0s 4ms/step - loss: 1.1080e-04 - accuracy: 1.0000 - val_loss: 1.1588 - val_accuracy: 0.8970\n",
      "Epoch 196/200\n",
      "42/42 [==============================] - 0s 5ms/step - loss: 1.0863e-04 - accuracy: 1.0000 - val_loss: 1.1532 - val_accuracy: 0.8988\n",
      "Epoch 197/200\n",
      "42/42 [==============================] - 0s 5ms/step - loss: 1.0040e-04 - accuracy: 1.0000 - val_loss: 1.1628 - val_accuracy: 0.8988\n",
      "Epoch 198/200\n",
      "42/42 [==============================] - 0s 4ms/step - loss: 9.9444e-05 - accuracy: 1.0000 - val_loss: 1.1571 - val_accuracy: 0.8988\n",
      "Epoch 199/200\n",
      "42/42 [==============================] - 0s 4ms/step - loss: 9.5463e-05 - accuracy: 1.0000 - val_loss: 1.1636 - val_accuracy: 0.8988\n",
      "Epoch 200/200\n",
      "42/42 [==============================] - 0s 5ms/step - loss: 9.4589e-05 - accuracy: 1.0000 - val_loss: 1.1628 - val_accuracy: 0.8988\n"
     ]
    }
   ],
   "source": [
    "X_train, X_test, y_train, y_test = split_data(features_pca_9, target)\n",
    "y_train_dummies = pd.get_dummies(y_train)\n",
    "y_test_dummies  = pd.get_dummies(y_test)\n",
    "pca_9_model     = neural_network(X_train)\n",
    "pca_9_history   = pca_9_model.fit(X_train, y_train_dummies, validation_data = (X_test, y_test_dummies), epochs = 200, batch_size = 32)"
   ]
  },
  {
   "cell_type": "code",
   "execution_count": 51,
   "id": "b2dbcc04-bf93-4f81-87d3-e8fa53230202",
   "metadata": {},
   "outputs": [
    {
     "name": "stdout",
     "output_type": "stream",
     "text": [
      "Model: \"sequential_2\"\n",
      "_________________________________________________________________\n",
      " Layer (type)                Output Shape              Param #   \n",
      "=================================================================\n",
      " dense_8 (Dense)             (None, 128)               1280      \n",
      "                                                                 \n",
      " dense_9 (Dense)             (None, 64)                8256      \n",
      "                                                                 \n",
      " dense_10 (Dense)            (None, 32)                2080      \n",
      "                                                                 \n",
      " dense_11 (Dense)            (None, 2)                 66        \n",
      "                                                                 \n",
      "=================================================================\n",
      "Total params: 11682 (45.63 KB)\n",
      "Trainable params: 11682 (45.63 KB)\n",
      "Non-trainable params: 0 (0.00 Byte)\n",
      "_________________________________________________________________\n"
     ]
    }
   ],
   "source": [
    "pca_9_model.summary()"
   ]
  },
  {
   "cell_type": "code",
   "execution_count": 52,
   "id": "fe9f002a-c388-4aee-8fc5-984f4c407e7d",
   "metadata": {},
   "outputs": [
    {
     "data": {
      "image/png": "[encoded data removed]",
      "text/plain": [
       "<Figure size 800x400 with 1 Axes>"
      ]
     },
     "metadata": {},
     "output_type": "display_data"
    }
   ],
   "source": [
    "plt.figure(figsize = (8,4))\n",
    "plt.plot(pca_9_history.history[\"accuracy\"], label = \"Training Accuracy\")\n",
    "plt.plot(pca_9_history.history[\"val_accuracy\"], label = \"Validation Accuracy\")\n",
    "plt.title(\"Training VS Validation Accuracy for 9-PCA Model\", fontsize = 12)\n",
    "plt.xlabel(\"Epochs\")\n",
    "plt.ylabel(\"Data\")\n",
    "plt.legend()\n",
    "plt.show()"
   ]
  },
  {
   "cell_type": "markdown",
   "id": "f9384878-fcf2-464c-b928-28ae495fcc37",
   "metadata": {},
   "source": [
    "### 7.5.3 Model Evaluation"
   ]
  },
  {
   "cell_type": "code",
   "execution_count": 53,
   "id": "57d9eeb7-607d-4250-b25f-872e251cc1cd",
   "metadata": {},
   "outputs": [
    {
     "name": "stdout",
     "output_type": "stream",
     "text": [
      "18/18 [==============================] - 0s 2ms/step\n",
      "42/42 [==============================] - 0s 2ms/step\n"
     ]
    }
   ],
   "source": [
    "pca_9_prediction_test  = pca_9_model.predict(X_test)\n",
    "pca_9_prediction_train = pca_9_model.predict(X_train)\n",
    "pca_9_prediction_test  = [class_labels[label] for label in np.argmax(pca_9_prediction_test, axis=1)]\n",
    "pca_9_prediction_train = [class_labels[label] for label in np.argmax(pca_9_prediction_train, axis=1)]"
   ]
  },
  {
   "cell_type": "markdown",
   "id": "dedbb90a-d9dd-469c-b25c-ade5172ff41a",
   "metadata": {},
   "source": [
    "#### 7.5.3.1 Classification Report"
   ]
  },
  {
   "cell_type": "code",
   "execution_count": 54,
   "id": "5814cf31-8c2c-4353-93bc-7619b066d4da",
   "metadata": {},
   "outputs": [
    {
     "name": "stdout",
     "output_type": "stream",
     "text": [
      "              precision    recall  f1-score   support\n",
      "\n",
      "    Invasive       0.92      0.86      0.89       267\n",
      "Non-Invasive       0.89      0.93      0.91       306\n",
      "\n",
      "    accuracy                           0.90       573\n",
      "   macro avg       0.90      0.90      0.90       573\n",
      "weighted avg       0.90      0.90      0.90       573\n",
      "\n"
     ]
    }
   ],
   "source": [
    "print(classification_report(y_test, pca_9_prediction_test))"
   ]
  },
  {
   "cell_type": "markdown",
   "id": "92b9880e-4525-451c-b306-3291d1ff426b",
   "metadata": {},
   "source": [
    "#### 7.5.3.2 Confusion Matrix"
   ]
  },
  {
   "cell_type": "code",
   "execution_count": 55,
   "id": "afb5e9c7-df5b-49d2-a51f-3f57f453bdbb",
   "metadata": {},
   "outputs": [
    {
     "data": {
      "image/png": "[encoded data removed]",
      "text/plain": [
       "<Figure size 640x480 with 2 Axes>"
      ]
     },
     "metadata": {},
     "output_type": "display_data"
    }
   ],
   "source": [
    "pca_9_cm     = confusion_matrix(y_test, pca_9_prediction_test)\n",
    "pca_9_cm_dip = ConfusionMatrixDisplay(confusion_matrix = pca_9_cm,\n",
    "                                       display_labels=['0','1'])\n",
    "pca_9_cm_dip.plot()\n",
    "plt.show()"
   ]
  },
  {
   "cell_type": "markdown",
   "id": "d600b41b-1a3b-46b0-8d8e-9e59ce00dda6",
   "metadata": {
    "jp-MarkdownHeadingCollapsed": true,
    "tags": []
   },
   "source": [
    "#### 7.5.3.3 Evaludation on Training Set"
   ]
  },
  {
   "cell_type": "code",
   "execution_count": 56,
   "id": "2630c04c-b741-4e42-b365-d2f7d597f071",
   "metadata": {},
   "outputs": [
    {
     "name": "stdout",
     "output_type": "stream",
     "text": [
      "Evaludation on Training Set \n",
      "\n",
      "Accuracy :\t 1.0\n",
      "Recall :\t 1.0\n",
      "Precision :\t 1.0\n",
      "F1 - Score :\t 1.0\n"
     ]
    }
   ],
   "source": [
    "pca_9_accuracy_train   = accuracy_score(y_train, pca_9_prediction_train)\n",
    "pca_9_recall_train     = recall_score(y_train, pca_9_prediction_train, average='micro')\n",
    "pca_9_precision_train  = precision_score(y_train, pca_9_prediction_train, average='micro')\n",
    "pca_9_f1_Score_train   = f1_score(y_train, pca_9_prediction_train, average='micro')\n",
    "\n",
    "print(\"Evaludation on Training Set \\n\")\n",
    "print(\"Accuracy :\\t\", round(pca_9_accuracy_train, 4))\n",
    "print(\"Recall :\\t\", round(pca_9_recall_train, 4))\n",
    "print(\"Precision :\\t\", round(pca_9_precision_train, 4))\n",
    "print(\"F1 - Score :\\t\", round(pca_9_f1_Score_train, 4))"
   ]
  },
  {
   "cell_type": "markdown",
   "id": "b6e3897f-8566-46e2-b290-a43bb0e877a1",
   "metadata": {
    "jp-MarkdownHeadingCollapsed": true,
    "tags": []
   },
   "source": [
    "#### 7.5.3.4 Evaludation on Testing Set"
   ]
  },
  {
   "cell_type": "code",
   "execution_count": 57,
   "id": "d48229b7-2ed8-4546-b79a-f0e226cae67c",
   "metadata": {},
   "outputs": [
    {
     "name": "stdout",
     "output_type": "stream",
     "text": [
      "Evaludation on Training Set \n",
      "\n",
      "Accuracy :\t 0.8988\n",
      "Recall :\t 0.8988\n",
      "Precision :\t 0.8988\n",
      "F1 - Score :\t 0.8988\n"
     ]
    }
   ],
   "source": [
    "pca_9_accuracy_test   = accuracy_score(y_test, pca_9_prediction_test)\n",
    "pca_9_recall_test     = recall_score(y_test, pca_9_prediction_test, average='micro')\n",
    "pca_9_precision_test  = precision_score(y_test, pca_9_prediction_test, average='micro')\n",
    "pca_9_f1_Score_test   = f1_score(y_test, pca_9_prediction_test, average='micro')\n",
    "\n",
    "print(\"Evaludation on Training Set \\n\")\n",
    "print(\"Accuracy :\\t\", round(pca_9_accuracy_test, 4))\n",
    "print(\"Recall :\\t\", round(pca_9_recall_test, 4))\n",
    "print(\"Precision :\\t\", round(pca_9_precision_test, 4))\n",
    "print(\"F1 - Score :\\t\", round(pca_9_f1_Score_test, 4))"
   ]
  },
  {
   "cell_type": "markdown",
   "id": "fbe745ab-4bad-4456-bbe3-df8146362fbf",
   "metadata": {},
   "source": [
    "# 8. Model Comparison"
   ]
  },
  {
   "cell_type": "code",
   "execution_count": 58,
   "id": "ff01dc21-aca1-49d4-9b28-661739e17187",
   "metadata": {},
   "outputs": [
    {
     "data": {
      "image/png": "[encoded data removed]",
      "text/plain": [
       "<Figure size 800x400 with 1 Axes>"
      ]
     },
     "metadata": {},
     "output_type": "display_data"
    }
   ],
   "source": [
    "plt.figure(figsize = (8,4))\n",
    "plt.plot(pca_5_history.history[\"val_accuracy\"], label = \"5-PCA Validation Accuracy\")\n",
    "plt.plot(pca_7_history.history[\"val_accuracy\"], label = \"7-PCA Validation Accuracy\")\n",
    "plt.plot(pca_9_history.history[\"val_accuracy\"], label = \"9-PCA Validation Accuracy\")\n",
    "plt.title(\"Validation Accuracy between 5-PCA, 7-PCA, & 9-PCA\", fontsize = 12)\n",
    "plt.xlabel(\"Epochs\")\n",
    "plt.ylabel(\"Data\")\n",
    "plt.legend()\n",
    "plt.show()"
   ]
  }
 ],
 "metadata": {
  "kernelspec": {
   "display_name": "Python 3 (ipykernel)",
   "language": "python",
   "name": "python3"
  },
  "language_info": {
   "codemirror_mode": {
    "name": "ipython",
    "version": 3
   },
   "file_extension": ".py",
   "mimetype": "text/x-python",
   "name": "python",
   "nbconvert_exporter": "python",
   "pygments_lexer": "ipython3",
   "version": "3.10.9"
  }
 },
 "nbformat": 4,
 "nbformat_minor": 5
}
