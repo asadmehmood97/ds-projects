{
 "cells": [
  {
   "cell_type": "markdown",
   "id": "3a509533",
   "metadata": {},
   "source": [
    "# Heart Disease Prediction Using Machine Learning Algorithms "
   ]
  },
  {
   "cell_type": "markdown",
   "id": "4b63e912",
   "metadata": {},
   "source": [
    "## <b>1 <span style='color:#0386f7de'>|</span> Introduction</b>"
   ]
  },
  {
   "cell_type": "markdown",
   "id": "392eafca",
   "metadata": {},
   "source": [
    "<p style=\"text-align: justify\";>\n",
    "    As stated by the CDC (Center of Disease Control and Prevention), part of the Department of Health and Human Services (DHHS), heart disease is one of the most common causes of mortality among the major races in the USA (American Indians, Alaska Natives, African Americans, and white people). About half the citizens in America have no less than 1 out of 3 key risk factors for heart disease: high blood pressure, high cholesterol level, and smoking. Besides diabetes, obesity (high BMI), physical inactivity and excessive alcohol consumption are also important indicators. Heart diseases are often traded for cardiovascular diseases and the majority of these diseases are caused by narrowed or blocked blood vessels, resulting in strokes, chest pain, and heart attacks. In addition to heart diseases, there are other types of heart conditions, such as those that affect the heart's rhythm, valve, or muscle. \n",
    "<p>\n",
    "<p style=\"text-align: justify\";>    \n",
    "Machine learning is crucial for deciding whether or not someone has suffered from heart disease. Regardless of the case, doctors would have an easier time diagnosing and treating patients if these conditions were predicted beforehand. Through this project, I have analysed the Heart disease dataset and performed computational analysis on the dataset to detect patterns that can predict a patient's condition. \n",
    "<p>"
   ]
  },
  {
   "cell_type": "markdown",
   "id": "efcd88d0",
   "metadata": {},
   "source": [
    "## <b>2 <span style='color:#0386f7de'>|</span> Methods</b>"
   ]
  },
  {
   "cell_type": "markdown",
   "id": "a1515626",
   "metadata": {},
   "source": [
    "### 2.1. Dataset Explaination"
   ]
  },
  {
   "cell_type": "markdown",
   "id": "8f8fb594",
   "metadata": {},
   "source": [
    "I have used the heart disease dataset for this project, and the explanation of the variables is as follows:\n",
    "\n",
    "<table>\n",
    "    <caption> heart disease dataset explaination <caption>\n",
    "    <tr> \n",
    "        <th style=\"text-align: center\"> # <th>\n",
    "        <th style=\"text-align: center\"> Name <th>\n",
    "        <th style=\"text-align: center\"> Explaination <tr>\n",
    "    <tr>\n",
    "    <tr>\n",
    "        <td style=\"text-align: left\"> 1 <td>\n",
    "        <td style=\"text-align: left\"> HeartDisease <td>\n",
    "        <td style=\"text-align: left\"> Reported coronary heart disease (CHD) or myocardial infarction (MI). <td>\n",
    "    <tr>\n",
    "    <tr>\n",
    "        <td style=\"text-align: left\"> 2 <td>\n",
    "        <td style=\"text-align: left\"> BMI <td>\n",
    "        <td style=\"text-align: left\"> Body Mass Index (BMI). <td>\n",
    "    <tr>\n",
    "    <tr>\n",
    "        <td style=\"text-align: left\"> 3 <td>\n",
    "        <td style=\"text-align: left\"> Smoking <td>\n",
    "        <td style=\"text-align: left\"> Smoked at 100 cigarettes in your entire life? (Yes or No) <td>\n",
    "    <tr>\n",
    "    <tr>\n",
    "        <td style=\"text-align: left\"> 4 <td>\n",
    "        <td style=\"text-align: left\"> AlcoholDrinking <td>\n",
    "        <td style=\"text-align: left\"> Heavy drinkers (adult men having more than 14 drinks per week and adult women having more than 7 drinks per week) <td>\n",
    "    <tr>\n",
    "    <tr>\n",
    "        <td style=\"text-align: left\"> 5 <td>\n",
    "        <td style=\"text-align: left\"> Stroke <td>\n",
    "        <td style=\"text-align: left\"> (Ever told) (you had) a stroke? <td>\n",
    "    <tr>\n",
    "    <tr>\n",
    "        <td style=\"text-align: left\"> 6 <td>\n",
    "        <td style=\"text-align: left\"> PhysicalHealth <td>\n",
    "        <td style=\"text-align: left\"> For how many days during the past 30 days was your physical health not good? (0-30 days). <td>\n",
    "    <tr>\n",
    "    <tr>\n",
    "        <td style=\"text-align: left\"> 7 <td>\n",
    "        <td style=\"text-align: left\"> MentalHealth <td>\n",
    "        <td style=\"text-align: left\"> For how many days during the past 30 days was your mental health not good? (0-30 days). <td>\n",
    "    <tr>\n",
    "    <tr>\n",
    "        <td style=\"text-align: left\"> 8 <td>\n",
    "        <td style=\"text-align: left\"> DiffWalking <td>\n",
    "        <td style=\"text-align: left\"> Do you have serious difficulty walking or climbing stairs? <td>\n",
    "    <tr>\n",
    "    <tr>\n",
    "        <td style=\"text-align: left\"> 9 <td>\n",
    "        <td style=\"text-align: left\"> Sex <td>\n",
    "        <td style=\"text-align: left\"> Are you male or female? <td>\n",
    "    <tr>\n",
    "    <tr>\n",
    "        <td style=\"text-align: left\"> 10 <td>\n",
    "        <td style=\"text-align: left\"> AgeCategory <td>\n",
    "        <td style=\"text-align: left\"> Fourteen-level age category. <td>\n",
    "    <tr>\n",
    "    <tr>\n",
    "        <td style=\"text-align: left\"> 11 <td>\n",
    "        <td style=\"text-align: left\"> Race <td>\n",
    "        <td style=\"text-align: left\"> Imputed race/ethnicity value. <td>\n",
    "    <tr>\n",
    "    <tr>\n",
    "        <td style=\"text-align: left\"> 12 <td>\n",
    "        <td style=\"text-align: left\"> Diabetic <td>\n",
    "        <td style=\"text-align: left\"> (Ever told) (you had) diabetes? <td>\n",
    "    <tr>\n",
    "    <tr>\n",
    "        <td style=\"text-align: left\"> 13 <td>\n",
    "        <td style=\"text-align: left\"> PhysicalActivity <td>\n",
    "        <td style=\"text-align: left\"> Adults who reported doing physical activity or exercise during the past 30 days other than their regular job. <td>\n",
    "    <tr>\n",
    "    <tr>\n",
    "        <td style=\"text-align: left\"> 14 <td>\n",
    "        <td style=\"text-align: left\"> GenHealth <td>\n",
    "        <td style=\"text-align: left\"> What Would you say that in general your health is... <td>\n",
    "    <tr>\n",
    "    <tr>\n",
    "        <td style=\"text-align: left\"> 15 <td>\n",
    "        <td style=\"text-align: left\"> SleepTime <td>\n",
    "        <td style=\"text-align: left\"> On average, how many hours of sleep do you get in a 24-hour period? <td>\n",
    "    <tr>\n",
    "    <tr>\n",
    "        <td style=\"text-align: left\"> 16 <td>\n",
    "        <td style=\"text-align: left\"> Asthma <td>\n",
    "        <td style=\"text-align: left\"> (Ever told) (you had) asthma? <td>\n",
    "    <tr>\n",
    "    <tr>\n",
    "        <td style=\"text-align: left\"> 17 <td>\n",
    "        <td style=\"text-align: left\"> KidneyDisease <td>\n",
    "        <td style=\"text-align: left\"> Not including kidney stones, bladder infection or incontinence, were you ever told you had kidney disease? <td>\n",
    "    <tr>\n",
    "    <tr>\n",
    "        <td style=\"text-align: left\"> 18 <td>\n",
    "        <td style=\"text-align: left\"> SkinCancer <td>\n",
    "        <td style=\"text-align: left\"> (Ever told) (you had) skin cancer? <td>\n",
    "    <tr>\n",
    "<table>"
   ]
  },
  {
   "cell_type": "markdown",
   "id": "b5d3463b",
   "metadata": {},
   "source": [
    "### 2.2. Machine Learning Algorithms"
   ]
  },
  {
   "cell_type": "markdown",
   "id": "1aec461f",
   "metadata": {},
   "source": [
    "<p style=\"text-align: justify;\">\n",
    "The concept of supervised learning refers to the process of training an algorithm using input data that has been labeled for a particular output. In order to produce accurate labeling results when presented with never-before-seen data, the model must be trained to identify the underlying patterns and relationships between the input data and the output labels.\n",
    "<p>\n",
    "<p style=\"text-align: justify;\">\n",
    "As a result, I used supervised learning algorithms because they are good at classification and regression, since supervised learning aims to make sense of data in the context of specific questions. The data in this project was derived from a heart disease dataset to predict whether the person has heart disease or not, so I use supervised learning algorithms.\n",
    "<p>\n",
    "I have used the following supervised machine learning algorthims: \n",
    "\n",
    "1. K-Nearest Neighbors (KNN).\n",
    "<p style=\"text-align: justify;\">\n",
    "    The KNN algorithm makes highly accurate predictions because the quality of the predictions depends on the distance measures. Although this algorithm increases the computation cost, however; this is still a better choice where accuracy is much more important. Therefore, the KNN algorithm is highly suitable for this project.\n",
    "<p>    \n",
    "\n",
    "2. Decision Tree.\n",
    "<p style=\"text-align: justify;\">\n",
    "    The decision tree algorithm can also be used for solving regression and classification problem and it can also capture the non-linear data so that the transformation of the features are not necessary. In addition to this, the computation cost of this algorithm is very low as compared to the KNN, and normalization of the data is also not required.\n",
    "<p>    \n",
    "\n",
    "3. Random Forest.\n",
    "<p style=\"text-align: justify;\">\n",
    "    A random forest algorithm is primarily used to solve regression and classification problems. It consists of many decision trees and establishes the outcome based on the predictions of the decision trees by taking the mean of the output from various trees. If we increase the number of trees then the precision of the outcome will also increase. In addition to this, it also eradicates the limitations of decision tree algorithms because it solves the issue of overfitting in decision trees.\n",
    "<p> \n",
    "\n",
    "<p style=\"text-align: justify;\">\n",
    "In the end, I compared the results for all three supervised machine learning algorithms and showed which has better accuracy and best-fitted values.\n",
    "<p>"
   ]
  },
  {
   "cell_type": "markdown",
   "id": "724f8e5c-ad9f-4ff9-8f6a-fbdb56d730b5",
   "metadata": {},
   "source": [
    "## <b>3 <span style='color:#0386f7de'>|</span> Preliminary Analysis</b>"
   ]
  },
  {
   "cell_type": "markdown",
   "id": "2b35171f-725d-403b-b4e8-98abf7101a79",
   "metadata": {},
   "source": [
    "<p style=\"text-align: justify;\">\n",
    "The heart disease dataset was loaded and cleaned before I applied the supervised machine learning algorithms, and a preliminary analysis was performed for a better understanding of the data distribution.\n",
    "<p>"
   ]
  },
  {
   "cell_type": "markdown",
   "id": "a8ff43cb-e337-4bb4-90e6-d7a7c1698266",
   "metadata": {},
   "source": [
    "### 3.1. Importing libraries"
   ]
  },
  {
   "cell_type": "code",
   "execution_count": 5,
   "id": "d79763af-8589-4b8a-a8bb-8310a2251fd2",
   "metadata": {},
   "outputs": [],
   "source": [
    "import pandas as pd \n",
    "import numpy as np\n",
    "\n",
    "%matplotlib inline\n",
    "import seaborn as sns\n",
    "import matplotlib.pyplot as plt\n",
    "\n",
    "from sklearn.neighbors import KNeighborsClassifier\n",
    "from sklearn.ensemble import RandomForestClassifier\n",
    "from sklearn import tree\n",
    "from sklearn.metrics import classification_report,confusion_matrix,accuracy_score\n",
    "\n",
    "from imblearn.over_sampling import RandomOverSampler\n",
    "from sklearn.model_selection import train_test_split\n",
    "from sklearn.compose import make_column_transformer\n",
    "from sklearn.preprocessing import OneHotEncoder\n",
    "from sklearn.compose import make_column_transformer\n",
    "from sklearn.preprocessing import StandardScaler \n",
    "from sklearn import metrics\n",
    "from sklearn.model_selection import cross_val_score\n",
    "from collections import Counter\n",
    "import math"
   ]
  },
  {
   "cell_type": "markdown",
   "id": "c88a644f-186f-42d0-8439-64ddc51390fd",
   "metadata": {},
   "source": [
    "### 3.2. Loading dataset"
   ]
  },
  {
   "cell_type": "code",
   "execution_count": 6,
   "id": "1454de65-42d7-48cd-9508-010cd09c4f94",
   "metadata": {},
   "outputs": [
    {
     "data": {
      "text/html": [
       "<div>\n",
       "<style scoped>\n",
       "    .dataframe tbody tr th:only-of-type {\n",
       "        vertical-align: middle;\n",
       "    }\n",
       "\n",
       "    .dataframe tbody tr th {\n",
       "        vertical-align: top;\n",
       "    }\n",
       "\n",
       "    .dataframe thead th {\n",
       "        text-align: right;\n",
       "    }\n",
       "</style>\n",
       "<table border=\"1\" class=\"dataframe\">\n",
       "  <thead>\n",
       "    <tr style=\"text-align: right;\">\n",
       "      <th></th>\n",
       "      <th>HeartDisease</th>\n",
       "      <th>BMI</th>\n",
       "      <th>Smoking</th>\n",
       "      <th>AlcoholDrinking</th>\n",
       "      <th>Stroke</th>\n",
       "      <th>PhysicalHealth</th>\n",
       "      <th>MentalHealth</th>\n",
       "      <th>DiffWalking</th>\n",
       "      <th>Sex</th>\n",
       "      <th>AgeCategory</th>\n",
       "      <th>Race</th>\n",
       "      <th>Diabetic</th>\n",
       "      <th>PhysicalActivity</th>\n",
       "      <th>GenHealth</th>\n",
       "      <th>SleepTime</th>\n",
       "      <th>Asthma</th>\n",
       "      <th>KidneyDisease</th>\n",
       "      <th>SkinCancer</th>\n",
       "    </tr>\n",
       "  </thead>\n",
       "  <tbody>\n",
       "    <tr>\n",
       "      <th>0</th>\n",
       "      <td>No</td>\n",
       "      <td>16.60</td>\n",
       "      <td>Yes</td>\n",
       "      <td>No</td>\n",
       "      <td>No</td>\n",
       "      <td>3.0</td>\n",
       "      <td>30.0</td>\n",
       "      <td>No</td>\n",
       "      <td>Female</td>\n",
       "      <td>55-59</td>\n",
       "      <td>White</td>\n",
       "      <td>Yes</td>\n",
       "      <td>Yes</td>\n",
       "      <td>Very good</td>\n",
       "      <td>5.0</td>\n",
       "      <td>Yes</td>\n",
       "      <td>No</td>\n",
       "      <td>Yes</td>\n",
       "    </tr>\n",
       "    <tr>\n",
       "      <th>1</th>\n",
       "      <td>No</td>\n",
       "      <td>20.34</td>\n",
       "      <td>No</td>\n",
       "      <td>No</td>\n",
       "      <td>Yes</td>\n",
       "      <td>0.0</td>\n",
       "      <td>0.0</td>\n",
       "      <td>No</td>\n",
       "      <td>Female</td>\n",
       "      <td>80 or older</td>\n",
       "      <td>White</td>\n",
       "      <td>No</td>\n",
       "      <td>Yes</td>\n",
       "      <td>Very good</td>\n",
       "      <td>7.0</td>\n",
       "      <td>No</td>\n",
       "      <td>No</td>\n",
       "      <td>No</td>\n",
       "    </tr>\n",
       "    <tr>\n",
       "      <th>2</th>\n",
       "      <td>No</td>\n",
       "      <td>26.58</td>\n",
       "      <td>Yes</td>\n",
       "      <td>No</td>\n",
       "      <td>No</td>\n",
       "      <td>20.0</td>\n",
       "      <td>30.0</td>\n",
       "      <td>No</td>\n",
       "      <td>Male</td>\n",
       "      <td>65-69</td>\n",
       "      <td>White</td>\n",
       "      <td>Yes</td>\n",
       "      <td>Yes</td>\n",
       "      <td>Fair</td>\n",
       "      <td>8.0</td>\n",
       "      <td>Yes</td>\n",
       "      <td>No</td>\n",
       "      <td>No</td>\n",
       "    </tr>\n",
       "    <tr>\n",
       "      <th>3</th>\n",
       "      <td>No</td>\n",
       "      <td>24.21</td>\n",
       "      <td>No</td>\n",
       "      <td>No</td>\n",
       "      <td>No</td>\n",
       "      <td>0.0</td>\n",
       "      <td>0.0</td>\n",
       "      <td>No</td>\n",
       "      <td>Female</td>\n",
       "      <td>75-79</td>\n",
       "      <td>White</td>\n",
       "      <td>No</td>\n",
       "      <td>No</td>\n",
       "      <td>Good</td>\n",
       "      <td>6.0</td>\n",
       "      <td>No</td>\n",
       "      <td>No</td>\n",
       "      <td>Yes</td>\n",
       "    </tr>\n",
       "    <tr>\n",
       "      <th>4</th>\n",
       "      <td>No</td>\n",
       "      <td>23.71</td>\n",
       "      <td>No</td>\n",
       "      <td>No</td>\n",
       "      <td>No</td>\n",
       "      <td>28.0</td>\n",
       "      <td>0.0</td>\n",
       "      <td>Yes</td>\n",
       "      <td>Female</td>\n",
       "      <td>40-44</td>\n",
       "      <td>White</td>\n",
       "      <td>No</td>\n",
       "      <td>Yes</td>\n",
       "      <td>Very good</td>\n",
       "      <td>8.0</td>\n",
       "      <td>No</td>\n",
       "      <td>No</td>\n",
       "      <td>No</td>\n",
       "    </tr>\n",
       "    <tr>\n",
       "      <th>5</th>\n",
       "      <td>Yes</td>\n",
       "      <td>28.87</td>\n",
       "      <td>Yes</td>\n",
       "      <td>No</td>\n",
       "      <td>No</td>\n",
       "      <td>6.0</td>\n",
       "      <td>0.0</td>\n",
       "      <td>Yes</td>\n",
       "      <td>Female</td>\n",
       "      <td>75-79</td>\n",
       "      <td>Black</td>\n",
       "      <td>No</td>\n",
       "      <td>No</td>\n",
       "      <td>Fair</td>\n",
       "      <td>12.0</td>\n",
       "      <td>No</td>\n",
       "      <td>No</td>\n",
       "      <td>No</td>\n",
       "    </tr>\n",
       "    <tr>\n",
       "      <th>6</th>\n",
       "      <td>No</td>\n",
       "      <td>21.63</td>\n",
       "      <td>No</td>\n",
       "      <td>No</td>\n",
       "      <td>No</td>\n",
       "      <td>15.0</td>\n",
       "      <td>0.0</td>\n",
       "      <td>No</td>\n",
       "      <td>Female</td>\n",
       "      <td>70-74</td>\n",
       "      <td>White</td>\n",
       "      <td>No</td>\n",
       "      <td>Yes</td>\n",
       "      <td>Fair</td>\n",
       "      <td>4.0</td>\n",
       "      <td>Yes</td>\n",
       "      <td>No</td>\n",
       "      <td>Yes</td>\n",
       "    </tr>\n",
       "    <tr>\n",
       "      <th>7</th>\n",
       "      <td>No</td>\n",
       "      <td>31.64</td>\n",
       "      <td>Yes</td>\n",
       "      <td>No</td>\n",
       "      <td>No</td>\n",
       "      <td>5.0</td>\n",
       "      <td>0.0</td>\n",
       "      <td>Yes</td>\n",
       "      <td>Female</td>\n",
       "      <td>80 or older</td>\n",
       "      <td>White</td>\n",
       "      <td>Yes</td>\n",
       "      <td>No</td>\n",
       "      <td>Good</td>\n",
       "      <td>9.0</td>\n",
       "      <td>Yes</td>\n",
       "      <td>No</td>\n",
       "      <td>No</td>\n",
       "    </tr>\n",
       "    <tr>\n",
       "      <th>8</th>\n",
       "      <td>No</td>\n",
       "      <td>26.45</td>\n",
       "      <td>No</td>\n",
       "      <td>No</td>\n",
       "      <td>No</td>\n",
       "      <td>0.0</td>\n",
       "      <td>0.0</td>\n",
       "      <td>No</td>\n",
       "      <td>Female</td>\n",
       "      <td>80 or older</td>\n",
       "      <td>White</td>\n",
       "      <td>No, borderline diabetes</td>\n",
       "      <td>No</td>\n",
       "      <td>Fair</td>\n",
       "      <td>5.0</td>\n",
       "      <td>No</td>\n",
       "      <td>Yes</td>\n",
       "      <td>No</td>\n",
       "    </tr>\n",
       "    <tr>\n",
       "      <th>9</th>\n",
       "      <td>No</td>\n",
       "      <td>40.69</td>\n",
       "      <td>No</td>\n",
       "      <td>No</td>\n",
       "      <td>No</td>\n",
       "      <td>0.0</td>\n",
       "      <td>0.0</td>\n",
       "      <td>Yes</td>\n",
       "      <td>Male</td>\n",
       "      <td>65-69</td>\n",
       "      <td>White</td>\n",
       "      <td>No</td>\n",
       "      <td>Yes</td>\n",
       "      <td>Good</td>\n",
       "      <td>10.0</td>\n",
       "      <td>No</td>\n",
       "      <td>No</td>\n",
       "      <td>No</td>\n",
       "    </tr>\n",
       "  </tbody>\n",
       "</table>\n",
       "</div>"
      ],
      "text/plain": [
       "  HeartDisease    BMI Smoking AlcoholDrinking Stroke  PhysicalHealth  \\\n",
       "0           No  16.60     Yes              No     No             3.0   \n",
       "1           No  20.34      No              No    Yes             0.0   \n",
       "2           No  26.58     Yes              No     No            20.0   \n",
       "3           No  24.21      No              No     No             0.0   \n",
       "4           No  23.71      No              No     No            28.0   \n",
       "5          Yes  28.87     Yes              No     No             6.0   \n",
       "6           No  21.63      No              No     No            15.0   \n",
       "7           No  31.64     Yes              No     No             5.0   \n",
       "8           No  26.45      No              No     No             0.0   \n",
       "9           No  40.69      No              No     No             0.0   \n",
       "\n",
       "   MentalHealth DiffWalking     Sex  AgeCategory   Race  \\\n",
       "0          30.0          No  Female        55-59  White   \n",
       "1           0.0          No  Female  80 or older  White   \n",
       "2          30.0          No    Male        65-69  White   \n",
       "3           0.0          No  Female        75-79  White   \n",
       "4           0.0         Yes  Female        40-44  White   \n",
       "5           0.0         Yes  Female        75-79  Black   \n",
       "6           0.0          No  Female        70-74  White   \n",
       "7           0.0         Yes  Female  80 or older  White   \n",
       "8           0.0          No  Female  80 or older  White   \n",
       "9           0.0         Yes    Male        65-69  White   \n",
       "\n",
       "                  Diabetic PhysicalActivity  GenHealth  SleepTime Asthma  \\\n",
       "0                      Yes              Yes  Very good        5.0    Yes   \n",
       "1                       No              Yes  Very good        7.0     No   \n",
       "2                      Yes              Yes       Fair        8.0    Yes   \n",
       "3                       No               No       Good        6.0     No   \n",
       "4                       No              Yes  Very good        8.0     No   \n",
       "5                       No               No       Fair       12.0     No   \n",
       "6                       No              Yes       Fair        4.0    Yes   \n",
       "7                      Yes               No       Good        9.0    Yes   \n",
       "8  No, borderline diabetes               No       Fair        5.0     No   \n",
       "9                       No              Yes       Good       10.0     No   \n",
       "\n",
       "  KidneyDisease SkinCancer  \n",
       "0            No        Yes  \n",
       "1            No         No  \n",
       "2            No         No  \n",
       "3            No        Yes  \n",
       "4            No         No  \n",
       "5            No         No  \n",
       "6            No        Yes  \n",
       "7            No         No  \n",
       "8           Yes         No  \n",
       "9            No         No  "
      ]
     },
     "execution_count": 6,
     "metadata": {},
     "output_type": "execute_result"
    }
   ],
   "source": [
    "data = pd.read_csv('dataset.csv')\n",
    "data.head(10)"
   ]
  },
  {
   "cell_type": "markdown",
   "id": "e1cceddb-d0b9-4fdd-bf2e-ed8fd78594c1",
   "metadata": {},
   "source": [
    "### 3.3. Description of Data"
   ]
  },
  {
   "cell_type": "code",
   "execution_count": 7,
   "id": "1953c81f-c0a4-4126-914f-5f0cf97c3080",
   "metadata": {},
   "outputs": [
    {
     "name": "stdout",
     "output_type": "stream",
     "text": [
      "<class 'pandas.core.frame.DataFrame'>\n",
      "RangeIndex: 319795 entries, 0 to 319794\n",
      "Data columns (total 18 columns):\n",
      " #   Column            Non-Null Count   Dtype  \n",
      "---  ------            --------------   -----  \n",
      " 0   HeartDisease      319795 non-null  object \n",
      " 1   BMI               319795 non-null  float64\n",
      " 2   Smoking           319795 non-null  object \n",
      " 3   AlcoholDrinking   319795 non-null  object \n",
      " 4   Stroke            319795 non-null  object \n",
      " 5   PhysicalHealth    319795 non-null  float64\n",
      " 6   MentalHealth      319795 non-null  float64\n",
      " 7   DiffWalking       319795 non-null  object \n",
      " 8   Sex               319795 non-null  object \n",
      " 9   AgeCategory       319795 non-null  object \n",
      " 10  Race              319795 non-null  object \n",
      " 11  Diabetic          319795 non-null  object \n",
      " 12  PhysicalActivity  319795 non-null  object \n",
      " 13  GenHealth         319795 non-null  object \n",
      " 14  SleepTime         319795 non-null  float64\n",
      " 15  Asthma            319795 non-null  object \n",
      " 16  KidneyDisease     319795 non-null  object \n",
      " 17  SkinCancer        319795 non-null  object \n",
      "dtypes: float64(4), object(14)\n",
      "memory usage: 43.9+ MB\n"
     ]
    }
   ],
   "source": [
    "data.info()"
   ]
  },
  {
   "cell_type": "markdown",
   "id": "358dc6c0-532d-40d2-a384-dc33db58c151",
   "metadata": {},
   "source": [
    "<p style=\"text-align: justify;\">\n",
    "Based on the output, there are 319795 rows and 18 columns in the heart disease dataset. Moreover, it contains 14 categorical variables and 4 numerical variables with no null values. In addition, there are 17 features, and HeartDisease is a target variable.\n",
    "<p>"
   ]
  },
  {
   "cell_type": "markdown",
   "id": "b9e9176e-a46d-4501-bdaa-ff1b873f1f24",
   "metadata": {},
   "source": [
    "### 3.4. Summary of Continuous Varibales"
   ]
  },
  {
   "cell_type": "markdown",
   "id": "461532e7-a086-448b-951a-00bbade4aaa4",
   "metadata": {},
   "source": [
    "<p style=\"text-align: justify;\">\n",
    "After successfully loading the dataset, the below chunk showed some statistical details like percentile, average, and standard deviation for the continuous variables of the heart disease dataset.\n",
    "<p>"
   ]
  },
  {
   "cell_type": "code",
   "execution_count": 8,
   "id": "08bc0d92-e94f-49bc-b0df-63ae9eabd284",
   "metadata": {},
   "outputs": [
    {
     "data": {
      "text/html": [
       "<div>\n",
       "<style scoped>\n",
       "    .dataframe tbody tr th:only-of-type {\n",
       "        vertical-align: middle;\n",
       "    }\n",
       "\n",
       "    .dataframe tbody tr th {\n",
       "        vertical-align: top;\n",
       "    }\n",
       "\n",
       "    .dataframe thead th {\n",
       "        text-align: right;\n",
       "    }\n",
       "</style>\n",
       "<table border=\"1\" class=\"dataframe\">\n",
       "  <thead>\n",
       "    <tr style=\"text-align: right;\">\n",
       "      <th></th>\n",
       "      <th>count</th>\n",
       "      <th>mean</th>\n",
       "      <th>std</th>\n",
       "      <th>min</th>\n",
       "      <th>25%</th>\n",
       "      <th>50%</th>\n",
       "      <th>75%</th>\n",
       "      <th>max</th>\n",
       "    </tr>\n",
       "  </thead>\n",
       "  <tbody>\n",
       "    <tr>\n",
       "      <th>BMI</th>\n",
       "      <td>319795.0</td>\n",
       "      <td>28.33</td>\n",
       "      <td>6.36</td>\n",
       "      <td>12.02</td>\n",
       "      <td>24.03</td>\n",
       "      <td>27.34</td>\n",
       "      <td>31.42</td>\n",
       "      <td>94.85</td>\n",
       "    </tr>\n",
       "    <tr>\n",
       "      <th>PhysicalHealth</th>\n",
       "      <td>319795.0</td>\n",
       "      <td>3.37</td>\n",
       "      <td>7.95</td>\n",
       "      <td>0.00</td>\n",
       "      <td>0.00</td>\n",
       "      <td>0.00</td>\n",
       "      <td>2.00</td>\n",
       "      <td>30.00</td>\n",
       "    </tr>\n",
       "    <tr>\n",
       "      <th>MentalHealth</th>\n",
       "      <td>319795.0</td>\n",
       "      <td>3.90</td>\n",
       "      <td>7.96</td>\n",
       "      <td>0.00</td>\n",
       "      <td>0.00</td>\n",
       "      <td>0.00</td>\n",
       "      <td>3.00</td>\n",
       "      <td>30.00</td>\n",
       "    </tr>\n",
       "    <tr>\n",
       "      <th>SleepTime</th>\n",
       "      <td>319795.0</td>\n",
       "      <td>7.10</td>\n",
       "      <td>1.44</td>\n",
       "      <td>1.00</td>\n",
       "      <td>6.00</td>\n",
       "      <td>7.00</td>\n",
       "      <td>8.00</td>\n",
       "      <td>24.00</td>\n",
       "    </tr>\n",
       "  </tbody>\n",
       "</table>\n",
       "</div>"
      ],
      "text/plain": [
       "                   count   mean   std    min    25%    50%    75%    max\n",
       "BMI             319795.0  28.33  6.36  12.02  24.03  27.34  31.42  94.85\n",
       "PhysicalHealth  319795.0   3.37  7.95   0.00   0.00   0.00   2.00  30.00\n",
       "MentalHealth    319795.0   3.90  7.96   0.00   0.00   0.00   3.00  30.00\n",
       "SleepTime       319795.0   7.10  1.44   1.00   6.00   7.00   8.00  24.00"
      ]
     },
     "execution_count": 8,
     "metadata": {},
     "output_type": "execute_result"
    }
   ],
   "source": [
    "data.describe().round(2).T"
   ]
  },
  {
   "cell_type": "markdown",
   "id": "655024a8-f74e-4f91-8c57-696e5e4550e4",
   "metadata": {},
   "source": [
    "### 3.5. Summary of Categorical Varibales"
   ]
  },
  {
   "cell_type": "code",
   "execution_count": 9,
   "id": "7fea9584-eb31-46c3-9619-f93e347e6a4c",
   "metadata": {},
   "outputs": [
    {
     "data": {
      "text/html": [
       "<div>\n",
       "<style scoped>\n",
       "    .dataframe tbody tr th:only-of-type {\n",
       "        vertical-align: middle;\n",
       "    }\n",
       "\n",
       "    .dataframe tbody tr th {\n",
       "        vertical-align: top;\n",
       "    }\n",
       "\n",
       "    .dataframe thead th {\n",
       "        text-align: right;\n",
       "    }\n",
       "</style>\n",
       "<table border=\"1\" class=\"dataframe\">\n",
       "  <thead>\n",
       "    <tr style=\"text-align: right;\">\n",
       "      <th></th>\n",
       "      <th>HeartDisease</th>\n",
       "      <th>Smoking</th>\n",
       "      <th>AlcoholDrinking</th>\n",
       "      <th>Stroke</th>\n",
       "      <th>DiffWalking</th>\n",
       "      <th>Sex</th>\n",
       "      <th>AgeCategory</th>\n",
       "      <th>Race</th>\n",
       "      <th>Diabetic</th>\n",
       "      <th>PhysicalActivity</th>\n",
       "      <th>GenHealth</th>\n",
       "      <th>Asthma</th>\n",
       "      <th>KidneyDisease</th>\n",
       "      <th>SkinCancer</th>\n",
       "    </tr>\n",
       "  </thead>\n",
       "  <tbody>\n",
       "    <tr>\n",
       "      <th>count</th>\n",
       "      <td>319795</td>\n",
       "      <td>319795</td>\n",
       "      <td>319795</td>\n",
       "      <td>319795</td>\n",
       "      <td>319795</td>\n",
       "      <td>319795</td>\n",
       "      <td>319795</td>\n",
       "      <td>319795</td>\n",
       "      <td>319795</td>\n",
       "      <td>319795</td>\n",
       "      <td>319795</td>\n",
       "      <td>319795</td>\n",
       "      <td>319795</td>\n",
       "      <td>319795</td>\n",
       "    </tr>\n",
       "    <tr>\n",
       "      <th>unique</th>\n",
       "      <td>2</td>\n",
       "      <td>2</td>\n",
       "      <td>2</td>\n",
       "      <td>2</td>\n",
       "      <td>2</td>\n",
       "      <td>2</td>\n",
       "      <td>13</td>\n",
       "      <td>6</td>\n",
       "      <td>4</td>\n",
       "      <td>2</td>\n",
       "      <td>5</td>\n",
       "      <td>2</td>\n",
       "      <td>2</td>\n",
       "      <td>2</td>\n",
       "    </tr>\n",
       "    <tr>\n",
       "      <th>top</th>\n",
       "      <td>No</td>\n",
       "      <td>No</td>\n",
       "      <td>No</td>\n",
       "      <td>No</td>\n",
       "      <td>No</td>\n",
       "      <td>Female</td>\n",
       "      <td>65-69</td>\n",
       "      <td>White</td>\n",
       "      <td>No</td>\n",
       "      <td>Yes</td>\n",
       "      <td>Very good</td>\n",
       "      <td>No</td>\n",
       "      <td>No</td>\n",
       "      <td>No</td>\n",
       "    </tr>\n",
       "    <tr>\n",
       "      <th>freq</th>\n",
       "      <td>292422</td>\n",
       "      <td>187887</td>\n",
       "      <td>298018</td>\n",
       "      <td>307726</td>\n",
       "      <td>275385</td>\n",
       "      <td>167805</td>\n",
       "      <td>34151</td>\n",
       "      <td>245212</td>\n",
       "      <td>269653</td>\n",
       "      <td>247957</td>\n",
       "      <td>113858</td>\n",
       "      <td>276923</td>\n",
       "      <td>308016</td>\n",
       "      <td>289976</td>\n",
       "    </tr>\n",
       "  </tbody>\n",
       "</table>\n",
       "</div>"
      ],
      "text/plain": [
       "       HeartDisease Smoking AlcoholDrinking  Stroke DiffWalking     Sex  \\\n",
       "count        319795  319795          319795  319795      319795  319795   \n",
       "unique            2       2               2       2           2       2   \n",
       "top              No      No              No      No          No  Female   \n",
       "freq         292422  187887          298018  307726      275385  167805   \n",
       "\n",
       "       AgeCategory    Race Diabetic PhysicalActivity  GenHealth  Asthma  \\\n",
       "count       319795  319795   319795           319795     319795  319795   \n",
       "unique          13       6        4                2          5       2   \n",
       "top          65-69   White       No              Yes  Very good      No   \n",
       "freq         34151  245212   269653           247957     113858  276923   \n",
       "\n",
       "       KidneyDisease SkinCancer  \n",
       "count         319795     319795  \n",
       "unique             2          2  \n",
       "top               No         No  \n",
       "freq          308016     289976  "
      ]
     },
     "execution_count": 9,
     "metadata": {},
     "output_type": "execute_result"
    }
   ],
   "source": [
    "data.describe(include = 'object')"
   ]
  },
  {
   "cell_type": "markdown",
   "id": "7f84c5c9-8bf9-4457-b6a9-6e63b4d6f0ab",
   "metadata": {},
   "source": [
    "<p style=\"text-align: justify;\">\n",
    "The output above summarizes the categorical variables in the dataset. The majority of categorical data can be classified into two classes, either \"yes\" or \"no,\" while \"AgeCategory\", \"Race\", \"Diabetic\", and \"GenHealth\" are classified into multiple classes. Furthermore, it is evident from the above output that there are more females than males in the dataset. However, there are more white people than people of all other races. Furthermore, there is a low percentage of patients with heart diseases in the dataset, which can lead to problems with class imbalance.\n",
    "<p>"
   ]
  },
  {
   "cell_type": "markdown",
   "id": "967909bb-3ad3-4cbe-8ade-77814be6f32b",
   "metadata": {},
   "source": [
    "## <b>4 <span style='color:#0386f7de'>|</span> Exploratory Data Analysis (EDA)</b>"
   ]
  },
  {
   "cell_type": "markdown",
   "id": "32efa4e7-45ff-4008-a871-8e179e8706d9",
   "metadata": {},
   "source": [
    "<p style=\"text-align: justify;\">\n",
    "It is very helpful to perform exploratory data analysis before applying machine learning models to the data set. This enables us to understand the underlying structure of the dataset and uncover trends, patterns, and relationships that might be overlooked. Additionally, it allows us to remove any features that are redundant or irrelevant.\n",
    "\n",
    "    \n",
    "### 4.1. Visualization Of Categorical Features    \n",
    "Let's plot the number of patients who have heart disease with respect to each gender (female or male).\n",
    "<p>"
   ]
  },
  {
   "cell_type": "code",
   "execution_count": 10,
   "id": "d410f0ff-1481-441e-984d-368c8178ed51",
   "metadata": {},
   "outputs": [
    {
     "data": {
      "image/png": "[encoded data removed]",
      "text/plain": [
       "<Figure size 720x432 with 1 Axes>"
      ]
     },
     "metadata": {
      "needs_background": "light"
     },
     "output_type": "display_data"
    }
   ],
   "source": [
    "fig, ax = plt.subplots(figsize = (10,6))\n",
    "\n",
    "ax.hist(data[data[\"HeartDisease\"]=='Yes'][\"Sex\"], bins=5, alpha=0.5, color=\"red\", label=\"HeartDisease\")\n",
    "ax.hist(data[data[\"HeartDisease\"]=='No'][\"Sex\"], bins=5, alpha=0.5, color=\"#fccc79\", label=\"Normal\")\n",
    "\n",
    "ax.set_xlabel(\"Sex\")\n",
    "ax.set_ylabel(\"Frequency\")\n",
    "\n",
    "fig.suptitle(\"Distribution of Cases with Yes/No heartdisease according to Sex\")\n",
    "\n",
    "ax.legend();"
   ]
  },
  {
   "cell_type": "markdown",
   "id": "32f94e65-f40e-4e7d-afd1-478b38bedc1f",
   "metadata": {},
   "source": [
    "As shown in the above graph, men are more likely to suffer from heart disease than women. \n",
    "\n",
    "Now, lets find out the number of heart disease patients who are smokers and non-smokers."
   ]
  },
  {
   "cell_type": "code",
   "execution_count": 11,
   "id": "0373e402-9ed0-411f-9e77-457b32c54867",
   "metadata": {},
   "outputs": [
    {
     "data": {
      "image/png": "[encoded data removed]",
      "text/plain": [
       "<Figure size 720x432 with 1 Axes>"
      ]
     },
     "metadata": {
      "needs_background": "light"
     },
     "output_type": "display_data"
    }
   ],
   "source": [
    "fig, ax = plt.subplots(figsize = (10,6))\n",
    "\n",
    "ax.hist(data[data[\"HeartDisease\"]=='Yes'][\"Smoking\"], bins=5, alpha=0.5, color=\"red\", label=\"HeartDisease\")\n",
    "ax.hist(data[data[\"HeartDisease\"]=='No'][\"Smoking\"], bins=5, alpha=0.5, color=\"#fccc79\", label=\"Normal\")\n",
    "\n",
    "ax.set_xlabel(\"Smoking\")\n",
    "ax.set_ylabel(\"Frequency\")\n",
    "\n",
    "fig.suptitle(\"Distribution of Cases with Yes/No heartdisease according to Smoking\")\n",
    "\n",
    "ax.legend();"
   ]
  },
  {
   "cell_type": "markdown",
   "id": "aaaa0764-6ee3-49ce-a9cf-c07e1c8717a8",
   "metadata": {},
   "source": [
    "<p style=\"text-align: justify;\">\n",
    "As shown in the above graph, the smokers have more likely to have heart disease as compare to non-smokers. Although, there are also cases of heart disease in non-smokers as this might be related to other factors.\n",
    "    \n",
    "The next analysis is to find out the number of heart disease patient accross each race.\n",
    "<p>"
   ]
  },
  {
   "cell_type": "code",
   "execution_count": 12,
   "id": "fc5738ac-21bd-405f-a11c-d08cb986aaef",
   "metadata": {},
   "outputs": [
    {
     "data": {
      "image/png": "[encoded data removed]",
      "text/plain": [
       "<Figure size 720x432 with 1 Axes>"
      ]
     },
     "metadata": {
      "needs_background": "light"
     },
     "output_type": "display_data"
    }
   ],
   "source": [
    "plt.figure(figsize = (10,6))\n",
    "sns.countplot( x= data['Race'], hue = 'HeartDisease', data = data, palette = 'Paired')\n",
    "plt.xlabel('Race')\n",
    "plt.legend(['Normal','HeartDisease'])\n",
    "plt.ylabel('Frequency')\n",
    "plt.suptitle('Distribution of Cases with Yes/No heartdisease accross each Race')\n",
    "plt.show()"
   ]
  },
  {
   "cell_type": "markdown",
   "id": "f7827be2-69a9-4cd8-bed3-8d620e62d17d",
   "metadata": {},
   "source": [
    "As can be seen from the graph above, white people are more likely to suffer from heart disease than other races.\n",
    "\n",
    "In the next step, we will determine how many people have heart disease according to their age group."
   ]
  },
  {
   "cell_type": "code",
   "execution_count": 13,
   "id": "ead90e1a-78e9-4faa-a1cd-72b417cfce04",
   "metadata": {},
   "outputs": [
    {
     "data": {
      "image/png": "[encoded data removed]",
      "text/plain": [
       "<Figure size 936x432 with 1 Axes>"
      ]
     },
     "metadata": {
      "needs_background": "light"
     },
     "output_type": "display_data"
    }
   ],
   "source": [
    "plt.figure(figsize = (13,6))\n",
    "sns.countplot(x = data['AgeCategory'], hue = 'HeartDisease', data = data, palette = 'Paired')\n",
    "fig.suptitle(\"Distribution of Cases with Yes/No heartdisease w.r.t Age Category\")\n",
    "plt.xlabel('AgeCategory')\n",
    "plt.legend(['Normal','HeartDisease'])\n",
    "plt.ylabel('Frequency')\n",
    "plt.show()"
   ]
  },
  {
   "cell_type": "markdown",
   "id": "55d3f65c-13af-4fce-ae5b-36daf71073e8",
   "metadata": {},
   "source": [
    "<p style=\"text-align: justify;\">\n",
    "Based on the graph above, it is evident that those who are older than 80 are at a higher risk for heart disease. Meanwhile, younger people between the ages of 25 and 29 are less likely to get heart cancer.\n",
    "    \n",
    "Now, it will be determined next how many people who have heart disease are also suffering from kidney disease.\n",
    "<p>"
   ]
  },
  {
   "cell_type": "code",
   "execution_count": 14,
   "id": "7f5693c4-c09e-4376-8dc0-201d13baa67e",
   "metadata": {},
   "outputs": [
    {
     "data": {
      "image/png": "[encoded data removed]",
      "text/plain": [
       "<Figure size 720x432 with 1 Axes>"
      ]
     },
     "metadata": {
      "needs_background": "light"
     },
     "output_type": "display_data"
    }
   ],
   "source": [
    "fig, ax = plt.subplots(figsize = (10,6))\n",
    "\n",
    "ax.hist(data[data[\"HeartDisease\"]==\"Yes\"][\"KidneyDisease\"], bins=5, alpha=0.5, color=\"red\", label=\"HeartDisease\")\n",
    "ax.hist(data[data[\"HeartDisease\"]==\"No\"][\"KidneyDisease\"], bins=5, alpha=0.5, color=\"#fccc79\", label=\"Normal\")\n",
    "\n",
    "ax.set_xlabel(\"Kidney Disease\")\n",
    "ax.set_ylabel(\"Frequency\")\n",
    "\n",
    "fig.suptitle(\"Distribution of Cases with Yes/No heartdisease according to kidney disease\")\n",
    "\n",
    "ax.legend();"
   ]
  },
  {
   "cell_type": "markdown",
   "id": "729937cd-e856-4d4c-ae6d-efa044a53f9e",
   "metadata": {},
   "source": [
    "<p style=\"text-align: justify;\">\n",
    "Based on the output in the graph above, it is evident that the heart disease are not likely linked with the kidney disease.\n",
    "    \n",
    "Now, let's find out how many people's have heart disease and they have exposed to skin cancer before.\n",
    "<p>"
   ]
  },
  {
   "cell_type": "code",
   "execution_count": 15,
   "id": "f735b80e-45ca-4b95-9bbe-d4a9443b105e",
   "metadata": {},
   "outputs": [
    {
     "data": {
      "image/png": "[encoded data removed]",
      "text/plain": [
       "<Figure size 720x432 with 1 Axes>"
      ]
     },
     "metadata": {
      "needs_background": "light"
     },
     "output_type": "display_data"
    }
   ],
   "source": [
    "fig, ax = plt.subplots(figsize = (10,6))\n",
    "\n",
    "ax.hist(data[data[\"HeartDisease\"]==\"Yes\"][\"SkinCancer\"], bins=5, alpha=0.5, color=\"red\", label=\"HeartDisease\")\n",
    "ax.hist(data[data[\"HeartDisease\"]==\"No\"][\"SkinCancer\"], bins=5, alpha=0.5, color=\"#fccc79\", label=\"Normal\")\n",
    "\n",
    "ax.set_xlabel(\"Skin Cancer\")\n",
    "ax.set_ylabel(\"Frequency\")\n",
    "\n",
    "fig.suptitle(\"Distribution of Cases with Yes/No heartdisease based on previous exposure to skin cancer\")\n",
    "\n",
    "ax.legend();"
   ]
  },
  {
   "cell_type": "markdown",
   "id": "fab0a285-a2c7-4fb1-91a4-ab95a692f8ed",
   "metadata": {},
   "source": [
    "<p style=\"text-align: justify;margin-right: 100px;\">\n",
    "Based on the graph above, it is clearly evident that the patient's who have skin cancer are not likely to be a heart patient.\n",
    "    \n",
    "Now, the next analysis is to determined how many people's have heart disease and they have exposed to Stroke.\n",
    "<p>"
   ]
  },
  {
   "cell_type": "code",
   "execution_count": 16,
   "id": "d8731f5b-ac9a-4577-9525-c2058bb9857d",
   "metadata": {},
   "outputs": [
    {
     "data": {
      "image/png": "[encoded data removed]",
      "text/plain": [
       "<Figure size 720x432 with 1 Axes>"
      ]
     },
     "metadata": {
      "needs_background": "light"
     },
     "output_type": "display_data"
    }
   ],
   "source": [
    "fig, ax = plt.subplots(figsize = (10,6))\n",
    "\n",
    "ax.hist(data[data[\"HeartDisease\"]==\"Yes\"][\"Stroke\"], bins=5, alpha=0.5, color=\"red\", label=\"HeartDisease\")\n",
    "ax.hist(data[data[\"HeartDisease\"]==\"No\"][\"Stroke\"], bins=5, alpha=0.5, color=\"#fccc79\", label=\"Normal\")\n",
    "\n",
    "ax.set_xlabel(\"Stroke\")\n",
    "ax.set_ylabel(\"Frequency\")\n",
    "\n",
    "fig.suptitle(\"Distribution of Cases with Yes/No heartdisease based on previous exposure to Stroke\")\n",
    "\n",
    "ax.legend();"
   ]
  },
  {
   "cell_type": "markdown",
   "id": "9459a767-c280-47d4-b243-af8253105799",
   "metadata": {},
   "source": [
    "<p style=\"text-align: justify;\">\n",
    "In the above grape, it is clearly indicated that patients who have previously suffered strokes are less likely to suffer a heart attack. \n",
    "<p>"
   ]
  },
  {
   "cell_type": "code",
   "execution_count": 17,
   "id": "f5b81366-5cc5-40ca-b4d8-d6f45ba025ef",
   "metadata": {},
   "outputs": [
    {
     "data": {
      "image/png": "[encoded data removed]",
      "text/plain": [
       "<Figure size 720x432 with 1 Axes>"
      ]
     },
     "metadata": {
      "needs_background": "light"
     },
     "output_type": "display_data"
    }
   ],
   "source": [
    "fig, ax = plt.subplots(figsize = (10,6))\n",
    "\n",
    "ax.hist(data[data[\"HeartDisease\"]==\"Yes\"][\"Diabetic\"], bins=10, alpha=0.5, color=\"red\", label=\"HeartDisease\")\n",
    "ax.hist(data[data[\"HeartDisease\"]==\"No\"][\"Diabetic\"], bins=10, alpha=0.5, color=\"#fccc79\", label=\"Normal\")\n",
    "\n",
    "ax.set_xlabel(\"Diabetic\")\n",
    "ax.set_ylabel(\"Frequency\")\n",
    "\n",
    "fig.suptitle(\"Distribution of Cases with Yes/No heartdisease based on previous exposure to Diabetic\")\n",
    "\n",
    "ax.legend();"
   ]
  },
  {
   "cell_type": "markdown",
   "id": "b9882681-971d-4618-8ac8-e68f5ad124df",
   "metadata": {},
   "source": [
    "In the above grape, it is clearly indicated that patients who have previously suffered strokes are less likely to have a dibeties."
   ]
  },
  {
   "cell_type": "markdown",
   "id": "9cc90876-34c1-4404-9af4-86b3b92f8303",
   "metadata": {},
   "source": [
    "### 4.2. Visualization of Numerical Features"
   ]
  },
  {
   "cell_type": "code",
   "execution_count": 18,
   "id": "703144e1-2ec7-4571-aed3-83df407e2328",
   "metadata": {},
   "outputs": [
    {
     "data": {
      "text/plain": [
       "<AxesSubplot:>"
      ]
     },
     "execution_count": 18,
     "metadata": {},
     "output_type": "execute_result"
    },
    {
     "data": {
      "image/png": "[encoded data removed]",
      "text/plain": [
       "<Figure size 1008x504 with 2 Axes>"
      ]
     },
     "metadata": {
      "needs_background": "light"
     },
     "output_type": "display_data"
    }
   ],
   "source": [
    "correlation = data.corr().round(2)\n",
    "plt.figure(figsize = (14,7))\n",
    "sns.heatmap(correlation, annot = True, cmap = 'YlOrBr')"
   ]
  },
  {
   "cell_type": "code",
   "execution_count": 19,
   "id": "a5889b23-2f19-456e-8623-c47846583d66",
   "metadata": {},
   "outputs": [
    {
     "data": {
      "image/png": "[encoded data removed]",
      "text/plain": [
       "<Figure size 936x432 with 1 Axes>"
      ]
     },
     "metadata": {},
     "output_type": "display_data"
    }
   ],
   "source": [
    "sns.set_style('white')\n",
    "sns.set_palette('YlOrBr')\n",
    "plt.figure(figsize = (13,6))\n",
    "plt.title('Distribution of correlation of features')\n",
    "abs(correlation['BMI']).sort_values().plot.barh()\n",
    "plt.show()"
   ]
  },
  {
   "cell_type": "code",
   "execution_count": 20,
   "id": "fb81a950-270f-409c-acaf-509d30e366a2",
   "metadata": {},
   "outputs": [
    {
     "data": {
      "image/png": "[encoded data removed]",
      "text/plain": [
       "<Figure size 936x432 with 1 Axes>"
      ]
     },
     "metadata": {},
     "output_type": "display_data"
    }
   ],
   "source": [
    "sns.set_style('white')\n",
    "sns.set_palette('YlOrBr')\n",
    "plt.figure(figsize = (13,6))\n",
    "plt.title('Boxplot Visualization')\n",
    "sns.boxplot(data=data, orient=\"h\", palette=\"Set2\")\n",
    "plt.show()"
   ]
  },
  {
   "cell_type": "markdown",
   "id": "97d194c0-52a1-4fb2-843c-7ae40ecbcf04",
   "metadata": {},
   "source": [
    "<p style=\"text-align: justify;\">\n",
    "The above plot displays the boxplot visualization of numerical columns of the heart disease dataset. The boxplot visualization generally shows the interquartile range, minimum, and maximum values of the columns. It can easily be inferred from the above boxplot that the BMI column has a lot of outlier values, however; the other three numerical columns do have outliers but we couldn't remove them because these columns are derived from categorical variables and these will be useful in building machine learning models.\n",
    "<p>"
   ]
  },
  {
   "cell_type": "markdown",
   "id": "5bca9d1b-f16f-4d32-b183-d51fb155f197",
   "metadata": {},
   "source": [
    "## <b>5 <span style='color:#0386f7de'>|</span> Data Preprocessing</b>"
   ]
  },
  {
   "cell_type": "markdown",
   "id": "70072dcd-cc53-48ef-8532-228f109c6d62",
   "metadata": {},
   "source": [
    "### 5.1. Normalization of categorical data"
   ]
  },
  {
   "cell_type": "markdown",
   "id": "24573610-577b-4657-b417-9f47cdd07086",
   "metadata": {},
   "source": [
    "<p style=\"text-align: justify;\">\n",
    "After the preliminary analysis, the further step is to perform preprocessing of the dataset. First of all, replace all categorical values in each column with binary values (1 and 0 only).\n",
    "<p>"
   ]
  },
  {
   "cell_type": "code",
   "execution_count": 21,
   "id": "b689a160-059f-41d5-848b-4cd97b288ad8",
   "metadata": {},
   "outputs": [
    {
     "data": {
      "text/html": [
       "<div>\n",
       "<style scoped>\n",
       "    .dataframe tbody tr th:only-of-type {\n",
       "        vertical-align: middle;\n",
       "    }\n",
       "\n",
       "    .dataframe tbody tr th {\n",
       "        vertical-align: top;\n",
       "    }\n",
       "\n",
       "    .dataframe thead th {\n",
       "        text-align: right;\n",
       "    }\n",
       "</style>\n",
       "<table border=\"1\" class=\"dataframe\">\n",
       "  <thead>\n",
       "    <tr style=\"text-align: right;\">\n",
       "      <th></th>\n",
       "      <th>HeartDisease</th>\n",
       "      <th>BMI</th>\n",
       "      <th>Smoking</th>\n",
       "      <th>AlcoholDrinking</th>\n",
       "      <th>Stroke</th>\n",
       "      <th>PhysicalHealth</th>\n",
       "      <th>MentalHealth</th>\n",
       "      <th>DiffWalking</th>\n",
       "      <th>Sex</th>\n",
       "      <th>AgeCategory</th>\n",
       "      <th>Race</th>\n",
       "      <th>Diabetic</th>\n",
       "      <th>PhysicalActivity</th>\n",
       "      <th>GenHealth</th>\n",
       "      <th>SleepTime</th>\n",
       "      <th>Asthma</th>\n",
       "      <th>KidneyDisease</th>\n",
       "      <th>SkinCancer</th>\n",
       "    </tr>\n",
       "  </thead>\n",
       "  <tbody>\n",
       "    <tr>\n",
       "      <th>0</th>\n",
       "      <td>0</td>\n",
       "      <td>16.60</td>\n",
       "      <td>1</td>\n",
       "      <td>0</td>\n",
       "      <td>0</td>\n",
       "      <td>3.0</td>\n",
       "      <td>30.0</td>\n",
       "      <td>0</td>\n",
       "      <td>0</td>\n",
       "      <td>55-59</td>\n",
       "      <td>White</td>\n",
       "      <td>1</td>\n",
       "      <td>1</td>\n",
       "      <td>Very good</td>\n",
       "      <td>5.0</td>\n",
       "      <td>1</td>\n",
       "      <td>0</td>\n",
       "      <td>1</td>\n",
       "    </tr>\n",
       "    <tr>\n",
       "      <th>1</th>\n",
       "      <td>0</td>\n",
       "      <td>20.34</td>\n",
       "      <td>0</td>\n",
       "      <td>0</td>\n",
       "      <td>1</td>\n",
       "      <td>0.0</td>\n",
       "      <td>0.0</td>\n",
       "      <td>0</td>\n",
       "      <td>0</td>\n",
       "      <td>80 or older</td>\n",
       "      <td>White</td>\n",
       "      <td>0</td>\n",
       "      <td>1</td>\n",
       "      <td>Very good</td>\n",
       "      <td>7.0</td>\n",
       "      <td>0</td>\n",
       "      <td>0</td>\n",
       "      <td>0</td>\n",
       "    </tr>\n",
       "    <tr>\n",
       "      <th>2</th>\n",
       "      <td>0</td>\n",
       "      <td>26.58</td>\n",
       "      <td>1</td>\n",
       "      <td>0</td>\n",
       "      <td>0</td>\n",
       "      <td>20.0</td>\n",
       "      <td>30.0</td>\n",
       "      <td>0</td>\n",
       "      <td>1</td>\n",
       "      <td>65-69</td>\n",
       "      <td>White</td>\n",
       "      <td>1</td>\n",
       "      <td>1</td>\n",
       "      <td>Fair</td>\n",
       "      <td>8.0</td>\n",
       "      <td>1</td>\n",
       "      <td>0</td>\n",
       "      <td>0</td>\n",
       "    </tr>\n",
       "    <tr>\n",
       "      <th>3</th>\n",
       "      <td>0</td>\n",
       "      <td>24.21</td>\n",
       "      <td>0</td>\n",
       "      <td>0</td>\n",
       "      <td>0</td>\n",
       "      <td>0.0</td>\n",
       "      <td>0.0</td>\n",
       "      <td>0</td>\n",
       "      <td>0</td>\n",
       "      <td>75-79</td>\n",
       "      <td>White</td>\n",
       "      <td>0</td>\n",
       "      <td>0</td>\n",
       "      <td>Good</td>\n",
       "      <td>6.0</td>\n",
       "      <td>0</td>\n",
       "      <td>0</td>\n",
       "      <td>1</td>\n",
       "    </tr>\n",
       "    <tr>\n",
       "      <th>4</th>\n",
       "      <td>0</td>\n",
       "      <td>23.71</td>\n",
       "      <td>0</td>\n",
       "      <td>0</td>\n",
       "      <td>0</td>\n",
       "      <td>28.0</td>\n",
       "      <td>0.0</td>\n",
       "      <td>1</td>\n",
       "      <td>0</td>\n",
       "      <td>40-44</td>\n",
       "      <td>White</td>\n",
       "      <td>0</td>\n",
       "      <td>1</td>\n",
       "      <td>Very good</td>\n",
       "      <td>8.0</td>\n",
       "      <td>0</td>\n",
       "      <td>0</td>\n",
       "      <td>0</td>\n",
       "    </tr>\n",
       "  </tbody>\n",
       "</table>\n",
       "</div>"
      ],
      "text/plain": [
       "   HeartDisease    BMI  Smoking  AlcoholDrinking  Stroke  PhysicalHealth  \\\n",
       "0             0  16.60        1                0       0             3.0   \n",
       "1             0  20.34        0                0       1             0.0   \n",
       "2             0  26.58        1                0       0            20.0   \n",
       "3             0  24.21        0                0       0             0.0   \n",
       "4             0  23.71        0                0       0            28.0   \n",
       "\n",
       "   MentalHealth  DiffWalking  Sex  AgeCategory   Race  Diabetic  \\\n",
       "0          30.0            0    0        55-59  White         1   \n",
       "1           0.0            0    0  80 or older  White         0   \n",
       "2          30.0            0    1        65-69  White         1   \n",
       "3           0.0            0    0        75-79  White         0   \n",
       "4           0.0            1    0        40-44  White         0   \n",
       "\n",
       "   PhysicalActivity  GenHealth  SleepTime  Asthma  KidneyDisease  SkinCancer  \n",
       "0                 1  Very good        5.0       1              0           1  \n",
       "1                 1  Very good        7.0       0              0           0  \n",
       "2                 1       Fair        8.0       1              0           0  \n",
       "3                 0       Good        6.0       0              0           1  \n",
       "4                 1  Very good        8.0       0              0           0  "
      ]
     },
     "execution_count": 21,
     "metadata": {},
     "output_type": "execute_result"
    }
   ],
   "source": [
    "data =  data[data.columns].replace({'Yes':1, 'No':0, 'Male':1,'Female':0,'No, borderline diabetes':0,'Yes (during pregnancy)':1})\n",
    "data.head()"
   ]
  },
  {
   "cell_type": "markdown",
   "id": "9251e18b-4d51-417b-a0ad-5a09a7af12b4",
   "metadata": {},
   "source": [
    "<p style=\"text-align: justify;\">\n",
    "A tidy dataframe is displayed with obeservations in rows and features and target variables in columns. All the categorical data is now being transformed with the binary values. \n",
    "<p>"
   ]
  },
  {
   "cell_type": "markdown",
   "id": "a0e0300a-bf6d-4f4a-824a-e05385deb6f2",
   "metadata": {},
   "source": [
    "Let's calculate the probability of HeartDisease without using any feature information:"
   ]
  },
  {
   "cell_type": "code",
   "execution_count": 22,
   "id": "5a1ae3b4-23bf-470c-9215-8c0e2a4186fb",
   "metadata": {},
   "outputs": [
    {
     "name": "stdout",
     "output_type": "stream",
     "text": [
      "Probability of HeartDisease is: 0.09\n"
     ]
    }
   ],
   "source": [
    "heart_disease_prob = sum(data.HeartDisease) / len(data)\n",
    "print('Probability of HeartDisease is:', np.round(heart_disease_prob,2))"
   ]
  },
  {
   "cell_type": "code",
   "execution_count": 23,
   "id": "7150fcc5-0582-49aa-8611-18a5facb0acf",
   "metadata": {},
   "outputs": [
    {
     "name": "stdout",
     "output_type": "stream",
     "text": [
      "0.91\n"
     ]
    }
   ],
   "source": [
    "print(round(1-heart_disease_prob,2))"
   ]
  },
  {
   "cell_type": "markdown",
   "id": "917498d3-9478-4a51-98f2-a35e6fa2f47b",
   "metadata": {},
   "source": [
    "This result indicates that this dataset has a moderate class imbalance (1-20%)."
   ]
  },
  {
   "cell_type": "markdown",
   "id": "9a4ff091-9d1e-4169-8270-2c0a4189abe9",
   "metadata": {},
   "source": [
    "### 5.2. Null Value Check"
   ]
  },
  {
   "cell_type": "code",
   "execution_count": 24,
   "id": "f85a0e3f-398c-4565-b108-a36fd17ebf03",
   "metadata": {},
   "outputs": [
    {
     "data": {
      "text/plain": [
       "HeartDisease        0\n",
       "BMI                 0\n",
       "Smoking             0\n",
       "AlcoholDrinking     0\n",
       "Stroke              0\n",
       "PhysicalHealth      0\n",
       "MentalHealth        0\n",
       "DiffWalking         0\n",
       "Sex                 0\n",
       "AgeCategory         0\n",
       "Race                0\n",
       "Diabetic            0\n",
       "PhysicalActivity    0\n",
       "GenHealth           0\n",
       "SleepTime           0\n",
       "Asthma              0\n",
       "KidneyDisease       0\n",
       "SkinCancer          0\n",
       "dtype: int64"
      ]
     },
     "execution_count": 24,
     "metadata": {},
     "output_type": "execute_result"
    }
   ],
   "source": [
    "data.isnull().sum()"
   ]
  },
  {
   "cell_type": "markdown",
   "id": "3dbc723a-2481-40b9-89f0-69a620505d93",
   "metadata": {},
   "source": [
    "### 5.3. Split dataset into training and testing"
   ]
  },
  {
   "cell_type": "code",
   "execution_count": 25,
   "id": "61375568-4ebd-4faa-b9c9-b4779a0f2f55",
   "metadata": {},
   "outputs": [
    {
     "name": "stdout",
     "output_type": "stream",
     "text": [
      "Diamention of a training Features (255836, 17) | Diamention of training Label (255836,)\n",
      "Diamention of a testing Features (63959, 17)   | Diamention of testing Label (63959,)\n"
     ]
    }
   ],
   "source": [
    "# Select all features except Heartdisease\n",
    "features = data.drop(columns =['HeartDisease'], axis = 1)\n",
    "\n",
    "# Select Target varibale \n",
    "target = data['HeartDisease']\n",
    "\n",
    "X_train, X_test, Y_train, Y_test = train_test_split(features, target, shuffle = True, test_size = .2,train_size = .8, random_state = 50) \n",
    "\n",
    "# Diamention of testing and training Dataset\n",
    "\n",
    "print('Diamention of a training Features', X_train.shape, '|' , 'Diamention of training Label', Y_train.shape)\n",
    "print('Diamention of a testing Features' , X_test.shape, '  |' , 'Diamention of testing Label',Y_test.shape)"
   ]
  },
  {
   "cell_type": "markdown",
   "id": "11c4b4c2-bce9-4955-933e-3c57b04671eb",
   "metadata": {},
   "source": [
    "### 5.4. Remove Class Imbalance "
   ]
  },
  {
   "cell_type": "markdown",
   "id": "e098f356-3846-41e7-86c0-204149d19fff",
   "metadata": {},
   "source": [
    "<p style=\"text-align: justify;\">\n",
    "In light of the above observation, the dataset has a moderate class imbalance problem, so the training dataset needs to be adjusted accordingly. I have used oversampling to minimize the class imbalance problem, but there can also be undersampling.\n",
    "<p>"
   ]
  },
  {
   "cell_type": "code",
   "execution_count": 26,
   "id": "314224d5-c7fa-47c5-a9a3-89dbf48ac963",
   "metadata": {},
   "outputs": [
    {
     "name": "stdout",
     "output_type": "stream",
     "text": [
      "Original dataset shape Counter({0: 233943, 1: 21893})\n",
      "Resample dataset shape Counter({0: 233943, 1: 233943})\n"
     ]
    }
   ],
   "source": [
    "ros = RandomOverSampler(random_state=42)\n",
    "\n",
    "x_ros, y_ros = ros.fit_resample(X_train, Y_train)\n",
    "\n",
    "print('Original dataset shape', Counter(Y_train))\n",
    "print('Resample dataset shape', Counter(y_ros))"
   ]
  },
  {
   "cell_type": "markdown",
   "id": "e08dabde-81e8-40ba-b683-b034632c90f6",
   "metadata": {},
   "source": [
    "### 5.5. Encoding"
   ]
  },
  {
   "cell_type": "markdown",
   "id": "634cce02-d46f-4028-bc57-0e9b89e1d452",
   "metadata": {},
   "source": [
    "<p style=\"text-align: justify;\">\n",
    "Since there are still multiple columns with categorical values in the dataset, we must convert them into numerical values before applying machine learning algorithms. The reason for this is that machine learning models need only numerical data columns. \n",
    "<p>"
   ]
  },
  {
   "cell_type": "code",
   "execution_count": 27,
   "id": "b3f2aba7-1b37-4664-9301-76ecd2e80e0b",
   "metadata": {},
   "outputs": [],
   "source": [
    "X_train = pd.DataFrame(x_ros)\n",
    "Y_train = pd.DataFrame(y_ros)\n",
    "\n",
    "transformer = make_column_transformer(\n",
    "    (OneHotEncoder(sparse=False), ['AgeCategory', 'Race', 'GenHealth']),\n",
    "    remainder='passthrough')\n",
    "\n",
    "transformed_train = transformer.fit_transform(X_train)\n",
    "transformed_train_data = pd.DataFrame(transformed_train, columns=transformer.get_feature_names_out())\n",
    "\n",
    "transformed_train_data.reset_index(drop=True, inplace=True)\n",
    "X_train.reset_index(drop=True, inplace=True)\n",
    "X_train = pd.concat([transformed_train_data, X_train], axis=1)\n",
    "\n",
    "X_train.drop(['AgeCategory', 'Race', 'GenHealth'], axis = 1, inplace = True)\n",
    "\n",
    "transformed_test = transformer.fit_transform(X_test)\n",
    "transformed_test_data = pd.DataFrame(transformed_test, columns=transformer.get_feature_names_out())\n",
    "\n",
    "transformed_test_data.reset_index(drop=True, inplace=True)\n",
    "X_test.reset_index(drop=True, inplace=True)\n",
    "X_test = pd.concat([transformed_test_data, X_test], axis=1)\n",
    "\n",
    "X_test.drop(['AgeCategory', 'Race', 'GenHealth'], axis = 1, inplace = True)"
   ]
  },
  {
   "cell_type": "markdown",
   "id": "87722d10-31bf-46ae-92d0-9096b457c8d0",
   "metadata": {},
   "source": [
    "### 5.6. Standardization"
   ]
  },
  {
   "cell_type": "code",
   "execution_count": 28,
   "id": "b7d55f7f-4387-49ce-bbc8-c715b5733d7c",
   "metadata": {},
   "outputs": [],
   "source": [
    "scaler = StandardScaler()\n",
    "\n",
    "X_train = scaler.fit_transform(X_train) # Scale Training Dataset\n",
    "\n",
    "X_test = scaler.fit_transform(X_test) # Scale Testing Dataset"
   ]
  },
  {
   "cell_type": "markdown",
   "id": "2c950237-847e-4d33-a258-a9d7954a9984",
   "metadata": {},
   "source": [
    "## <b>6 <span style='color:#0386f7de'>|</span> Results</b>"
   ]
  },
  {
   "cell_type": "markdown",
   "id": "10cf0773-09a8-4f20-98fe-5ef493d88be0",
   "metadata": {},
   "source": [
    "### 6.1. K-Neighbors Classifier "
   ]
  },
  {
   "cell_type": "code",
   "execution_count": 29,
   "id": "902fec15-5211-49bb-b870-3ed8fc8eaabf",
   "metadata": {},
   "outputs": [
    {
     "name": "stdout",
     "output_type": "stream",
     "text": [
      "Classification Report (At K = 5) :\n",
      "              precision    recall  f1-score   support\n",
      "\n",
      "           0       0.95      0.82      0.88     58479\n",
      "           1       0.21      0.51      0.30      5480\n",
      "\n",
      "    accuracy                           0.80     63959\n",
      "   macro avg       0.58      0.67      0.59     63959\n",
      "weighted avg       0.88      0.80      0.83     63959\n",
      "\n",
      "Confusion Matrix (At K = 5) :\n",
      "[[48078 10401]\n",
      " [ 2658  2822]]\n",
      "Area Under the Curve At (K = 5) :  0.71\n"
     ]
    }
   ],
   "source": [
    "knn_5 = KNeighborsClassifier(n_neighbors = 5)\n",
    "\n",
    "knn_5.fit(X_train, Y_train.values.ravel())\n",
    "\n",
    "# Evaluate Model\n",
    "pred_5 = knn_5.predict(X_test)\n",
    "print('Classification Report (At K = 5) :')\n",
    "knn_classification_report_5 = classification_report(Y_test,pred_5,output_dict = True)\n",
    "print(classification_report(Y_test,pred_5))\n",
    "print('Confusion Matrix (At K = 5) :')\n",
    "knn_confusion_matrix_5 = confusion_matrix(Y_test,pred_5)\n",
    "print(knn_confusion_matrix_5)\n",
    "y_pred_proba_5 = knn_5.predict_proba(X_test)[::,1]\n",
    "fpr_5, tpr_5, _ = metrics.roc_curve(Y_test, y_pred_proba_5)\n",
    "auc_5 = metrics.roc_auc_score(Y_test, y_pred_proba_5)\n",
    "print (\"Area Under the Curve At (K = 5) : \",np.round(auc_5,2))"
   ]
  },
  {
   "cell_type": "markdown",
   "id": "47318413-ee2c-49f0-b1e5-5e182c83dc1c",
   "metadata": {},
   "source": [
    "<p style=\"text-align: justify;\">\n",
    "The above output descibes the classification report and confusion matrix at n_neighbors 5. The precision score is 0.21, f-1 score is 0.30, and accuracy of the model is 0.80 on testing dataset.\n",
    "<p>"
   ]
  },
  {
   "cell_type": "code",
   "execution_count": 39,
   "id": "cb76ff5a-6866-4cac-9270-0140b4386050",
   "metadata": {},
   "outputs": [
    {
     "name": "stdout",
     "output_type": "stream",
     "text": [
      "Classification Report (At K = 3):\n",
      "              precision    recall  f1-score   support\n",
      "\n",
      "           0       0.94      0.87      0.90     58479\n",
      "           1       0.22      0.40      0.29      5480\n",
      "\n",
      "    accuracy                           0.83     63959\n",
      "   macro avg       0.58      0.64      0.60     63959\n",
      "weighted avg       0.88      0.83      0.85     63959\n",
      "\n",
      "Confusion Matrix (At K = 3):\n",
      "[[50813  7666]\n",
      " [ 3264  2216]]\n",
      "Area Under the Curve (At K = 3) :  0.67\n"
     ]
    }
   ],
   "source": [
    "knn_3 = KNeighborsClassifier(n_neighbors = 3)\n",
    "\n",
    "knn_3.fit(X_train, Y_train.values.ravel())\n",
    "\n",
    "# Evaluate Model\n",
    "pred_3 = knn_3.predict(X_test)\n",
    "print('Classification Report (At K = 3):')\n",
    "knn_classification_report_3 = classification_report (Y_test,pred_3,output_dict = True)\n",
    "print(classification_report (Y_test,pred_3))\n",
    "print('Confusion Matrix (At K = 3):')\n",
    "knn_confusion_matrix_3 = confusion_matrix(Y_test,pred_3)\n",
    "print(knn_confusion_matrix_3)\n",
    "y_pred_proba_3 = knn_3.predict_proba(X_test)[::,1]\n",
    "fpr_3, tpr_3, _ = metrics.roc_curve(Y_test, y_pred_proba_3)\n",
    "auc_3 = metrics.roc_auc_score(Y_test, y_pred_proba_3)\n",
    "print (\"Area Under the Curve (At K = 3) : \", np.round(auc_3,2))"
   ]
  },
  {
   "cell_type": "markdown",
   "id": "d7cad657-fa90-411d-8780-b370ee2c12ca",
   "metadata": {},
   "source": [
    "<p style=\"text-align: justify;\">\n",
    "In the analysis above, I reduced the size of n_neighbors to 3, and then the accuracy becomes increased from 0.80 to 0.83 on the testing dataset. \n",
    "<p>"
   ]
  },
  {
   "cell_type": "markdown",
   "id": "59ae047d-8752-468a-8ae1-b757e84eb8ac",
   "metadata": {},
   "source": [
    "### 6.2. Decision Tree Classifier"
   ]
  },
  {
   "cell_type": "code",
   "execution_count": 40,
   "id": "99886482-3c30-4987-b12b-daf0d91a0206",
   "metadata": {},
   "outputs": [
    {
     "name": "stdout",
     "output_type": "stream",
     "text": [
      "Classification Report :\n",
      "              precision    recall  f1-score   support\n",
      "\n",
      "           0       0.93      0.92      0.93     58479\n",
      "           1       0.22      0.23      0.23      5480\n",
      "\n",
      "    accuracy                           0.86     63959\n",
      "   macro avg       0.58      0.58      0.58     63959\n",
      "weighted avg       0.87      0.86      0.87     63959\n",
      "\n",
      "Confusion Matrix :\n",
      "[[56316  2163]\n",
      " [ 4383  1097]]\n",
      "Area Under the Curve :  0.58\n"
     ]
    }
   ],
   "source": [
    "# Building Decision Tree model \n",
    "clf = tree.DecisionTreeClassifier(random_state=7)\n",
    "clf.fit(X_train, Y_train.values.ravel())\n",
    "\n",
    "# Evaluate Model\n",
    "clf_pred = clf.predict(X_test)\n",
    "print('Classification Report :')\n",
    "clf_classification_report = classification_report(Y_test,clf_pred,output_dict=True)\n",
    "print(classification_report(Y_test,clf_pred))\n",
    "print('Confusion Matrix :')\n",
    "clf_confusion_matrix = confusion_matrix(Y_test,pred)\n",
    "print(clf_confusion_matrix)\n",
    "\n",
    "y_pred_proba_clf = clf.predict_proba(X_test)[::,1]\n",
    "fpr_clf, tpr_clf, _ = metrics.roc_curve(Y_test, y_pred_proba_clf)\n",
    "auc_clf = metrics.roc_auc_score(Y_test, y_pred_proba_clf)\n",
    "print (\"Area Under the Curve : \", np.round(auc_clf,2))"
   ]
  },
  {
   "cell_type": "markdown",
   "id": "b8ed01f0-2cc5-418b-b3b9-86e9b0fe55b3",
   "metadata": {},
   "source": [
    "<p style=\"text-align: justify\">\n",
    "The above output descibes the classification report and confusion matrix for decision tree classifier. The precision score is 0.22, f-1 score is 0.22, and accuracy of the model is 0.86 on testing dataset. \n",
    "<p>"
   ]
  },
  {
   "cell_type": "markdown",
   "id": "d466ce7b-05f7-44b7-aeb1-5486f1fe5e78",
   "metadata": {},
   "source": [
    "#### 6.2.1. Feature Importance"
   ]
  },
  {
   "cell_type": "code",
   "execution_count": 47,
   "id": "1f608313-81e9-4bdc-96c6-1cc433814e14",
   "metadata": {},
   "outputs": [
    {
     "data": {
      "image/png": "[encoded data removed]",
      "text/plain": [
       "<Figure size 1800x432 with 1 Axes>"
      ]
     },
     "metadata": {},
     "output_type": "display_data"
    }
   ],
   "source": [
    "feature_names = data.columns.tolist()\n",
    "feature_names = feature_names[1:]\n",
    "\n",
    "# Print out the feature importances\n",
    "feature_importances_dict = {}\n",
    "for i, name in enumerate(feature_names): feature_importances_dict.update({name : clf.feature_importances_[i]})\n",
    "\n",
    "# Sort features in descending order of importance (need to use reverse=True for descending)  \n",
    "feature_importances_sorted = dict(sorted(feature_importances_dict.items(), key=lambda x:x[1], reverse=True)) \n",
    "\n",
    "sns.set_style('white')\n",
    "plt.figure(figsize = (25,6))\n",
    "color=['#187BF2', '#0EA8F0', '#087A72', '#6D8381', '#3FEDC0','#1C9C51','#DA8E6D','#E85110','#892F08','#892F08','#D9D11F','#6C6708','#07DCF1','#0679C3','#0D02F5','#742F60','#9E033E']\n",
    "plt.bar(range(len(feature_importances_sorted)), feature_importances_sorted.values(), align='center',color=color)\n",
    "plt.xticks(range(len(feature_importances_sorted)), feature_importances_sorted.keys())\n",
    "plt.xlabel(\"Features\",fontsize=20)\n",
    "plt.ylabel(\"Importance\",fontsize=20)\n",
    "plt.title('Feature Importances',fontsize=20)\n",
    "plt.show()"
   ]
  },
  {
   "cell_type": "markdown",
   "id": "10495008-88e5-4316-ba28-4be8947b7221",
   "metadata": {},
   "source": [
    "<p style=\"text-align: justify;\">\n",
    "The graph above shows that the GenHealth has highest importance among all features whereas the BMI and Smoking are least important features in this model. As a result, GenHealth, PhysicalActivity, and Diabetes are the leading causes of heart disease.\n",
    "<p>"
   ]
  },
  {
   "cell_type": "markdown",
   "id": "767389fe-36c3-49a8-99ec-fb4c64a6a299",
   "metadata": {},
   "source": [
    "#### 6.2.2. Plot accuracy against tree depth (hold-out method)"
   ]
  },
  {
   "cell_type": "code",
   "execution_count": 17,
   "id": "dc867287-9f36-4db2-8726-aee5e0587a71",
   "metadata": {},
   "outputs": [
    {
     "data": {
      "image/png": "[encoded data removed]",
      "text/plain": [
       "<Figure size 432x288 with 1 Axes>"
      ]
     },
     "metadata": {
      "needs_background": "light"
     },
     "output_type": "display_data"
    }
   ],
   "source": [
    "# Plot accuracy as a function of max_depth \n",
    "max_depth_values = [2,3,4,5,6,7,8,9,10,15,20]\n",
    "accuracy_train_list=[]\n",
    "accuracy_test_list=[]\n",
    "\n",
    "for i in range(0,len(max_depth_values)):\n",
    "    \n",
    "    decision_tree = tree.DecisionTreeClassifier(max_depth=max_depth_values[i], random_state=i)\n",
    "    decision_tree.fit(X_train, Y_train.values.ravel())\n",
    "    \n",
    "    # Training set\n",
    "    Y_train_pred = decision_tree.predict(X_train)\n",
    "    accuracy_train = metrics.accuracy_score(Y_train, Y_train_pred)\n",
    "    accuracy_train_list.append(accuracy_train)\n",
    "    \n",
    "    # Test set\n",
    "    Y_test_pred = decision_tree.predict(X_test)\n",
    "    accuracy_test = metrics.accuracy_score(Y_test, Y_test_pred)\n",
    "    accuracy_test_list.append(accuracy_test)\n",
    "\n",
    "# Plot accuracy as a function of max_depth\n",
    "fig = plt.figure()\n",
    "ax = plt.axes()\n",
    "line1, = ax.plot(max_depth_values,accuracy_train_list,color='blue',label='Training Set')\n",
    "line2, = ax.plot(max_depth_values,accuracy_test_list,color='purple',label='Testing Set')\n",
    "plt.legend(handles=[line1, line2])\n",
    "plt.title(\"Overfitting\")\n",
    "plt.xlabel(\"Tree depth (max_depth)\")\n",
    "plt.ylabel(\"Accuracy\")\n",
    "plt.show()"
   ]
  },
  {
   "cell_type": "markdown",
   "id": "2e3573fc-25d2-4b54-bf51-67b54a76f9a5",
   "metadata": {},
   "source": [
    "<p style=\"text-align: justify;\">\n",
    "When *max_depth* is increased, the predictions on the training set are more accurate, but for depths greater than about 7, the test set predictions become less accurate as the tree \"overfits\" to the training set.\n",
    "<p>"
   ]
  },
  {
   "cell_type": "markdown",
   "id": "55dc0f8e-e29f-41f9-b39e-bd7587c66627",
   "metadata": {},
   "source": [
    "#### 6.2.3. Plot accuracy against tree depth using k-fold cross-validation"
   ]
  },
  {
   "cell_type": "code",
   "execution_count": 20,
   "id": "f15a731b-d449-47db-8e05-6e92d64e84d2",
   "metadata": {},
   "outputs": [
    {
     "data": {
      "image/png": "[encoded data removed]",
      "text/plain": [
       "<Figure size 432x288 with 1 Axes>"
      ]
     },
     "metadata": {
      "needs_background": "light"
     },
     "output_type": "display_data"
    }
   ],
   "source": [
    "max_depth_values = [2,3,4,5,6,7,8,9,10,15,20]\n",
    "mean_accuracy_cv = [] # mean accuracy over the k folds for each tree depth\n",
    "sd_cv = [] # standard deviation of accuracy scores over the k folds for each tree depth\n",
    "k=5\n",
    "for i in range(0,len(max_depth_values)):\n",
    "    decision_tree = tree.DecisionTreeClassifier(max_depth=max_depth_values[i], random_state=i)\n",
    "    cv_scores = cross_val_score(decision_tree, X_train, Y_train, cv=k)\n",
    "    avg = sum(cv_scores)/len(cv_scores)\n",
    "    sd = math.sqrt(sum((cv_scores-avg)**2)/(len(cv_scores)-1))\n",
    "    mean_accuracy_cv.append(avg)\n",
    "    sd_cv.append(sd)\n",
    "    \n",
    "# Make the plot\n",
    "fig = plt.figure()\n",
    "plt.errorbar(max_depth_values,mean_accuracy_cv,yerr=sd_cv)\n",
    "plt.title(str(k)+\"-fold cross-validation accuracy as a function of max_depth\")\n",
    "plt.xlabel(\"Tree depth (max_depth)\")\n",
    "plt.ylabel(\"Mean accuracy\")\n",
    "plt.show()"
   ]
  },
  {
   "cell_type": "markdown",
   "id": "553f0a4e-a3ec-46af-931b-4e02d30e4d59",
   "metadata": {},
   "source": [
    "Based on the above graph, we can see that accuracy peaks at depth 5.0, and error bars are extremely small."
   ]
  },
  {
   "cell_type": "markdown",
   "id": "e144ddf1-a88b-4d13-9f6b-cd669a66e51b",
   "metadata": {},
   "source": [
    "### 6.3. Random Forest Classifier"
   ]
  },
  {
   "cell_type": "markdown",
   "id": "ee417c1c-22eb-459e-8e16-2d6bbc4b1e33",
   "metadata": {},
   "source": [
    "<p style=\"text-align: justify;\">\n",
    "Overfitting is a danger with individual decision trees, especially if they are grown too deeply. As Random Forests rely on \"majority vote\" rather than individuals, they can grow trees deeper as a result of less exposure to training data peculiarities\n",
    "<p>"
   ]
  },
  {
   "cell_type": "code",
   "execution_count": 41,
   "id": "507391ec-8df8-4576-802f-e6493678dfb6",
   "metadata": {},
   "outputs": [
    {
     "name": "stdout",
     "output_type": "stream",
     "text": [
      "Classification Report :\n",
      "              precision    recall  f1-score   support\n",
      "\n",
      "           0       0.93      0.96      0.95     58479\n",
      "           1       0.34      0.20      0.25      5480\n",
      "\n",
      "    accuracy                           0.90     63959\n",
      "   macro avg       0.63      0.58      0.60     63959\n",
      "weighted avg       0.88      0.90      0.89     63959\n",
      "\n",
      "Confusion Matrix :\n",
      "[[56316  2163]\n",
      " [ 4383  1097]]\n",
      "Area Under the Curve :  0.8\n"
     ]
    }
   ],
   "source": [
    "forest = RandomForestClassifier(n_estimators=100,bootstrap=True,criterion='gini',max_depth=None,random_state=3,oob_score=True)\n",
    "forest.fit(X_train, Y_train.values.ravel())\n",
    "\n",
    "# Evaluate Model\n",
    "pred = forest.predict(X_test)\n",
    "print('Classification Report :')\n",
    "forest_classification_report = classification_report(Y_test,pred,output_dict=True)\n",
    "print(classification_report(Y_test,pred))\n",
    "print('Confusion Matrix :')\n",
    "forest_confusion_matrix = confusion_matrix(Y_test,pred)\n",
    "print(forest_confusion_matrix)\n",
    "\n",
    "y_pred_proba_forest = forest.predict_proba(X_test)[::,1]\n",
    "fpr_forest, tpr_forest, _ = metrics.roc_curve(Y_test, y_pred_proba_forest)\n",
    "auc_forest = metrics.roc_auc_score(Y_test, y_pred_proba_forest)\n",
    "print (\"Area Under the Curve : \", np.round(auc_forest,2))"
   ]
  },
  {
   "cell_type": "markdown",
   "id": "46118e9c-e330-4d17-b309-2d8ac82f30cc",
   "metadata": {},
   "source": [
    "<p style=\"text-align: justify;\">\n",
    "The above output descibes the classification report and confusion matrix for random forest classifier. The precision score is 0.34, f-1 score is 0.25, and accuracy of the model is 0.90 on testing dataset. \n",
    "<p>"
   ]
  },
  {
   "cell_type": "markdown",
   "id": "56e52e98-9b9c-4eae-8b69-51cc86a2bf4f",
   "metadata": {},
   "source": [
    "#### 6.3.1. Mean Accuracy at different tree depths"
   ]
  },
  {
   "cell_type": "code",
   "execution_count": 57,
   "id": "1a4daa9a-de3f-41c0-a21f-623b5382d330",
   "metadata": {},
   "outputs": [
    {
     "data": {
      "image/png": "[encoded data removed]",
      "text/plain": [
       "<Figure size 432x288 with 1 Axes>"
      ]
     },
     "metadata": {},
     "output_type": "display_data"
    }
   ],
   "source": [
    "max_depth_values = [2,3,4,5,6,7,8,9,10,15,20]\n",
    "n_estimators_values = [10,100]\n",
    "mean_accuracy_score = []\n",
    "sd_accuracy_score = []\n",
    "k=5\n",
    "for i, value in enumerate(n_estimators_values):\n",
    "    mean_accuracy_cv = []\n",
    "    sd_cv = []\n",
    "    for val in max_depth_values:\n",
    "        forest = RandomForestClassifier(n_estimators=value,bootstrap=True,criterion='gini',max_depth=val,random_state=i,oob_score=False)\n",
    "        cv_scores = cross_val_score(forest, X_train, Y_train.values.ravel(), cv=k)\n",
    "        avg = sum(cv_scores)/len(cv_scores)\n",
    "        sd = math.sqrt(sum((cv_scores-avg)**2)/(len(cv_scores)-1))\n",
    "        mean_accuracy_cv.append(avg)\n",
    "        sd_cv.append(sd)\n",
    "    mean_accuracy_score.append(mean_accuracy_cv)\n",
    "    sd_accuracy_score.append(sd_cv)\n",
    "\n",
    "fig = plt.figure()\n",
    "ax = plt.axes()\n",
    "line2, = ax.plot(max_depth_values,mean_accuracy_score[0],color='black',label='10 trees')\n",
    "line3, = ax.plot(max_depth_values,mean_accuracy_score[1],color='red',label='100 trees')\n",
    "\n",
    "# Now find accuracy scores as a function of tree depth for a single decision tree\n",
    "mean_accuracy_cv = []\n",
    "for i in range(0,len(max_depth_values)):\n",
    "    decision_tree = tree.DecisionTreeClassifier(max_depth=max_depth_values[i], random_state=3)\n",
    "    cv_scores = cross_val_score(decision_tree, X_train, Y_train.values.ravel(), cv=k)\n",
    "    avg = sum(cv_scores)/len(cv_scores)\n",
    "    mean_accuracy_cv.append(avg)\n",
    "    \n",
    "line1, = ax.plot(max_depth_values,mean_accuracy_cv,color='green',label='1 tree')\n",
    "\n",
    "\n",
    "plt.legend(handles=[line1, line2, line3])\n",
    "plt.xlabel(\"Tree depth\")\n",
    "plt.ylabel(\"Mean accuracy\")\n",
    "plt.title(\"Mean Accuracy at different tree depths using Random Forest\")\n",
    "plt.show()"
   ]
  },
  {
   "cell_type": "markdown",
   "id": "3767d776-2f73-4e3b-aa9e-8a3e92e266ed",
   "metadata": {},
   "source": [
    "This plot demonstrates that classification by \"majority vote\" using ensemble learners allows individual trees to grow deeper and achieve higher accuracy."
   ]
  },
  {
   "cell_type": "markdown",
   "id": "ae17ba40-63ae-4e02-93f0-e041b110fe05",
   "metadata": {},
   "source": [
    "## <b>7 <span style='color:#0386f7de'>|</span> Comparison</b>"
   ]
  },
  {
   "cell_type": "markdown",
   "id": "8e30ff63-2f0d-4fc7-8b6a-c4bfefa3987f",
   "metadata": {},
   "source": [
    "Below is the compaison of matrics for all three supervised machine learning models."
   ]
  },
  {
   "cell_type": "code",
   "execution_count": 55,
   "id": "834db49c-a186-4643-90d7-b323678314d6",
   "metadata": {},
   "outputs": [
    {
     "data": {
      "text/plain": [
       "<matplotlib.legend.Legend at 0x23a0e2d5f70>"
      ]
     },
     "execution_count": 55,
     "metadata": {},
     "output_type": "execute_result"
    },
    {
     "data": {
      "image/png": "[encoded data removed]",
      "text/plain": [
       "<Figure size 720x432 with 1 Axes>"
      ]
     },
     "metadata": {},
     "output_type": "display_data"
    }
   ],
   "source": [
    "fig, ax = plt.subplots(figsize = (10,6))\n",
    "\n",
    "knn_scores = [knn_classification_report_3['macro avg']['precision'],\n",
    "              knn_classification_report_3['macro avg']['recall'],\n",
    "              knn_classification_report_3['macro avg']['f1-score'],\n",
    "              knn_classification_report_3['accuracy']]\n",
    "\n",
    "clf_scores = [clf_classification_report['macro avg']['precision'],\n",
    "              clf_classification_report['macro avg']['recall'],\n",
    "              clf_classification_report['macro avg']['f1-score'],\n",
    "              clf_classification_report['accuracy']]\n",
    "\n",
    "forest_scores = [forest_classification_report['macro avg']['precision'],\n",
    "                 forest_classification_report['macro avg']['recall'],\n",
    "                 forest_classification_report['macro avg']['f1-score'],\n",
    "                 forest_classification_report['accuracy']]\n",
    "\n",
    "## Set position of bar on X axis\n",
    "barWidth = 0.2\n",
    "r1 = np.arange(len(clf_scores))\n",
    "r2 = [x + barWidth for x in r1]\n",
    "r3 = [x + barWidth for x in r2]\n",
    "\n",
    "## Make the plot\n",
    "ax.bar(r1, knn_scores, width=barWidth, edgecolor='white', label='K-Nearest Neighbors',color = \"red\")\n",
    "ax.bar(r2, clf_scores, width=barWidth, edgecolor='white', label='Decision Tree',color = \"blue\")\n",
    "ax.bar(r3, forest_scores, width=barWidth, edgecolor='white', label='Random Forest',color = \"green\")\n",
    "\n",
    "## Configure x and y axis\n",
    "ax.set_xlabel('Metrics', fontweight='bold')\n",
    "labels = ['Precision', 'Recall', 'F1-Score', 'Accuracy']\n",
    "ax.set_xticks([r + (barWidth * 1.5) for r in range(len(clf_scores))], )\n",
    "ax.set_xticklabels(labels)\n",
    "ax.set_ylabel('Score', fontweight='bold')\n",
    "ax.set_ylim(0, 1)\n",
    "ax.set_title('Evaluation Metrics', fontsize=14, fontweight='bold')\n",
    "ax.legend()"
   ]
  },
  {
   "cell_type": "markdown",
   "id": "4295b8e1-9749-438c-bd3a-3c49a571a3fa",
   "metadata": {},
   "source": [
    "<p style=\"text-align: justify;\">\n",
    "All three machine learning models have shown in the above graph with their precision, recall, F1-Score, and accuracy. The accuracy and precision of the random forest classifier is slightly better than those of the other two supervised machine learning models. In fact, the recall value is higher for knn, however, it has almost same value for decision tree and random forest.\n",
    "<p>"
   ]
  },
  {
   "cell_type": "markdown",
   "id": "d504788b-c89a-4a34-9816-1900a89c21d6",
   "metadata": {},
   "source": [
    "## <b>8 <span style='color:#0386f7de'>|</span> Conclusion</b>"
   ]
  },
  {
   "cell_type": "markdown",
   "id": "fb6eb61b-806e-4d11-a57c-15177d502970",
   "metadata": {},
   "source": [
    "<p style=\"text-align: justify;\">\n",
    "Among people of different races and ethnicities in the United States, heart disease is the most common cause of death. In 2020, about 697,000 Americans are expected to die from cardiovascular disease, according to a recent survey. To protect so many patients, it would be beneficial if heart disease could be predicted earlier. In this project, the heart disease dataset has been analyzed to predict whether a patient has heart disease or not.\n",
    "<p>   \n",
    "<p style=\"text-align: justify;\">\n",
    "First of all, exploratory data analysis has been applied to find the hidden patterns and relationships of features. According to exploratory data analysis, we have found that men have more likely to have heart disease in comparison with females. Moreover, it is also identified that the white race people have more chances to have heart disease as compared to other races peoples, however; patients who are smokers have fewer chances to get heart disease with relation to non-smoker patients. In addition to this clear point, it is also evident that the heart disease of any patient depends on three main features: general health, physical health and diabetes.\n",
    "<p> \n",
    "<p style=\"text-align: justify;\">\n",
    "Finally, the supervised machine learning models have been applied to analyze the heart disease dataset to predict the heart disease in a patient. To analyze the heart disease dataset, three supervised machine learning models (K-Neighbors Classifier, Decision Tree Classifier, and Random Forest Classifier) were applied, and all of them were highly accurate (above 80%). In fact, the random forest classifier reached 90% accuracy, which is evident since it uses decision trees in depths. In addition to this, the F1 scores for random forest and K-Nearest Neighbors are higher than the F1-Score of the decision tree. Overall, the random forest machine learning model is much better than the other two supervised machine learning models.  \n",
    "<p>"
   ]
  }
 ],
 "metadata": {
  "kernelspec": {
   "display_name": "Python 3 (ipykernel)",
   "language": "python",
   "name": "python3"
  },
  "language_info": {
   "codemirror_mode": {
    "name": "ipython",
    "version": 3
   },
   "file_extension": ".py",
   "mimetype": "text/x-python",
   "name": "python",
   "nbconvert_exporter": "python",
   "pygments_lexer": "ipython3",
   "version": "3.8.13"
  }
 },
 "nbformat": 4,
 "nbformat_minor": 5
}
