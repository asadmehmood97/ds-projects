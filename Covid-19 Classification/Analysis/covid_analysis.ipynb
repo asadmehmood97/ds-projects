{
 "cells": [
  {
   "cell_type": "markdown",
   "id": "fb40e0bb-c518-4f6b-8cc5-c356c383dc7e",
   "metadata": {},
   "source": [
    "# Corona Cases Classification Using Ensemble Learning Classifiers "
   ]
  },
  {
   "cell_type": "markdown",
   "id": "0ec1eb2d-612b-4e2b-b4ca-210c01114569",
   "metadata": {},
   "source": [
    "## Import Required Libraries "
   ]
  },
  {
   "cell_type": "code",
   "execution_count": 1,
   "id": "bfb48f8b-163a-4bff-ab7b-1b809312092b",
   "metadata": {},
   "outputs": [],
   "source": [
    "import pandas as panda\n",
    "import seaborn as seaBorn \n",
    "import matplotlib.pyplot as plot\n",
    "plot.style.use('default')\n",
    "\n",
    "from imblearn.over_sampling import SMOTE\n",
    "from sklearn.preprocessing import LabelEncoder, MinMaxScaler\n",
    "\n",
    "from sklearn.model_selection import train_test_split\n",
    "from sklearn.ensemble import RandomForestClassifier, GradientBoostingClassifier\n",
    "from sklearn.svm import SVC\n",
    "from sklearn.metrics import classification_report, accuracy_score, recall_score, precision_score, f1_score, confusion_matrix, roc_curve, auc\n",
    "\n",
    "import keras\n",
    "from keras.models import Sequential\n",
    "from keras.layers import Dense, Dropout, Activation, BatchNormalization\n",
    "from keras.optimizers import Adam\n",
    "from tensorflow.keras.callbacks import EarlyStopping\n",
    "import warnings\n",
    "warnings.filterwarnings(\"ignore\")"
   ]
  },
  {
   "cell_type": "markdown",
   "id": "fbb77e2b-8314-429f-a648-7eca1b7a1090",
   "metadata": {
    "tags": []
   },
   "source": [
    "## Load Dataset and Dataset Overview"
   ]
  },
  {
   "cell_type": "code",
   "execution_count": 2,
   "id": "3ca73904-516e-4306-8248-1797b814f8b5",
   "metadata": {},
   "outputs": [
    {
     "data": {
      "text/html": [
       "<div>\n",
       "<style scoped>\n",
       "    .dataframe tbody tr th:only-of-type {\n",
       "        vertical-align: middle;\n",
       "    }\n",
       "\n",
       "    .dataframe tbody tr th {\n",
       "        vertical-align: top;\n",
       "    }\n",
       "\n",
       "    .dataframe thead th {\n",
       "        text-align: right;\n",
       "    }\n",
       "</style>\n",
       "<table border=\"1\" class=\"dataframe\">\n",
       "  <thead>\n",
       "    <tr style=\"text-align: right;\">\n",
       "      <th></th>\n",
       "      <th>Ind_ID</th>\n",
       "      <th>Test_date</th>\n",
       "      <th>Cough_symptoms</th>\n",
       "      <th>Fever</th>\n",
       "      <th>Sore_throat</th>\n",
       "      <th>Shortness_of_breath</th>\n",
       "      <th>Headache</th>\n",
       "      <th>Corona</th>\n",
       "      <th>Age_60_above</th>\n",
       "      <th>Sex</th>\n",
       "      <th>Known_contact</th>\n",
       "    </tr>\n",
       "  </thead>\n",
       "  <tbody>\n",
       "    <tr>\n",
       "      <th>0</th>\n",
       "      <td>1</td>\n",
       "      <td>11-03-2020</td>\n",
       "      <td>True</td>\n",
       "      <td>False</td>\n",
       "      <td>True</td>\n",
       "      <td>False</td>\n",
       "      <td>False</td>\n",
       "      <td>negative</td>\n",
       "      <td>NaN</td>\n",
       "      <td>NaN</td>\n",
       "      <td>Abroad</td>\n",
       "    </tr>\n",
       "    <tr>\n",
       "      <th>1</th>\n",
       "      <td>2</td>\n",
       "      <td>11-03-2020</td>\n",
       "      <td>False</td>\n",
       "      <td>True</td>\n",
       "      <td>False</td>\n",
       "      <td>False</td>\n",
       "      <td>False</td>\n",
       "      <td>positive</td>\n",
       "      <td>NaN</td>\n",
       "      <td>NaN</td>\n",
       "      <td>Abroad</td>\n",
       "    </tr>\n",
       "    <tr>\n",
       "      <th>2</th>\n",
       "      <td>3</td>\n",
       "      <td>11-03-2020</td>\n",
       "      <td>False</td>\n",
       "      <td>True</td>\n",
       "      <td>False</td>\n",
       "      <td>False</td>\n",
       "      <td>False</td>\n",
       "      <td>positive</td>\n",
       "      <td>NaN</td>\n",
       "      <td>NaN</td>\n",
       "      <td>Abroad</td>\n",
       "    </tr>\n",
       "    <tr>\n",
       "      <th>3</th>\n",
       "      <td>4</td>\n",
       "      <td>11-03-2020</td>\n",
       "      <td>True</td>\n",
       "      <td>False</td>\n",
       "      <td>False</td>\n",
       "      <td>False</td>\n",
       "      <td>False</td>\n",
       "      <td>negative</td>\n",
       "      <td>NaN</td>\n",
       "      <td>NaN</td>\n",
       "      <td>Abroad</td>\n",
       "    </tr>\n",
       "    <tr>\n",
       "      <th>4</th>\n",
       "      <td>5</td>\n",
       "      <td>11-03-2020</td>\n",
       "      <td>True</td>\n",
       "      <td>False</td>\n",
       "      <td>False</td>\n",
       "      <td>False</td>\n",
       "      <td>False</td>\n",
       "      <td>negative</td>\n",
       "      <td>NaN</td>\n",
       "      <td>NaN</td>\n",
       "      <td>Contact with confirmed</td>\n",
       "    </tr>\n",
       "  </tbody>\n",
       "</table>\n",
       "</div>"
      ],
      "text/plain": [
       "   Ind_ID   Test_date Cough_symptoms  Fever Sore_throat Shortness_of_breath  \\\n",
       "0       1  11-03-2020           True  False        True               False   \n",
       "1       2  11-03-2020          False   True       False               False   \n",
       "2       3  11-03-2020          False   True       False               False   \n",
       "3       4  11-03-2020           True  False       False               False   \n",
       "4       5  11-03-2020           True  False       False               False   \n",
       "\n",
       "  Headache    Corona Age_60_above  Sex           Known_contact  \n",
       "0    False  negative          NaN  NaN                  Abroad  \n",
       "1    False  positive          NaN  NaN                  Abroad  \n",
       "2    False  positive          NaN  NaN                  Abroad  \n",
       "3    False  negative          NaN  NaN                  Abroad  \n",
       "4    False  negative          NaN  NaN  Contact with confirmed  "
      ]
     },
     "execution_count": 2,
     "metadata": {},
     "output_type": "execute_result"
    }
   ],
   "source": [
    "coronaDT = panda.read_csv(\"corona-dataset.csv\", na_values=['None'])\n",
    "coronaDT.head(5)"
   ]
  },
  {
   "cell_type": "code",
   "execution_count": 3,
   "id": "55ab9b56-2b61-4c47-9080-79b318ea92a7",
   "metadata": {},
   "outputs": [
    {
     "name": "stdout",
     "output_type": "stream",
     "text": [
      "<class 'pandas.core.frame.DataFrame'>\n",
      "RangeIndex: 278848 entries, 0 to 278847\n",
      "Data columns (total 11 columns):\n",
      " #   Column               Non-Null Count   Dtype \n",
      "---  ------               --------------   ----- \n",
      " 0   Ind_ID               278848 non-null  int64 \n",
      " 1   Test_date            278848 non-null  object\n",
      " 2   Cough_symptoms       278596 non-null  object\n",
      " 3   Fever                278596 non-null  object\n",
      " 4   Sore_throat          278847 non-null  object\n",
      " 5   Shortness_of_breath  278847 non-null  object\n",
      " 6   Headache             278847 non-null  object\n",
      " 7   Corona               278848 non-null  object\n",
      " 8   Age_60_above         151528 non-null  object\n",
      " 9   Sex                  259285 non-null  object\n",
      " 10  Known_contact        278848 non-null  object\n",
      "dtypes: int64(1), object(10)\n",
      "memory usage: 23.4+ MB\n"
     ]
    }
   ],
   "source": [
    "coronaDT.info()"
   ]
  },
  {
   "cell_type": "code",
   "execution_count": 4,
   "id": "1852e6b3-09bd-4aa7-b521-2ce431c4e98c",
   "metadata": {},
   "outputs": [
    {
     "data": {
      "text/plain": [
       "Ind_ID                      0\n",
       "Test_date                   0\n",
       "Cough_symptoms            252\n",
       "Fever                     252\n",
       "Sore_throat                 1\n",
       "Shortness_of_breath         1\n",
       "Headache                    1\n",
       "Corona                      0\n",
       "Age_60_above           127320\n",
       "Sex                     19563\n",
       "Known_contact               0\n",
       "dtype: int64"
      ]
     },
     "execution_count": 4,
     "metadata": {},
     "output_type": "execute_result"
    }
   ],
   "source": [
    "coronaDT.isnull().sum()"
   ]
  },
  {
   "cell_type": "code",
   "execution_count": 5,
   "id": "fd463694-17c4-4333-a8ed-236db1b5f9c4",
   "metadata": {},
   "outputs": [
    {
     "data": {
      "text/plain": [
       "0"
      ]
     },
     "execution_count": 5,
     "metadata": {},
     "output_type": "execute_result"
    }
   ],
   "source": [
    "coronaDT.duplicated().sum()"
   ]
  },
  {
   "cell_type": "markdown",
   "id": "ff4512cd-4353-4076-9431-b617d955d276",
   "metadata": {
    "tags": []
   },
   "source": [
    "## Data Cleaning"
   ]
  },
  {
   "cell_type": "markdown",
   "id": "a6e41366-1793-4c1c-ab52-290ae9164370",
   "metadata": {
    "tags": []
   },
   "source": [
    "### 1. Handle Null Values"
   ]
  },
  {
   "cell_type": "code",
   "execution_count": 6,
   "id": "6e23a491-f7b0-4dce-b3b4-546bd3de7def",
   "metadata": {},
   "outputs": [
    {
     "data": {
      "text/plain": [
       "Ind_ID                  0.000000\n",
       "Test_date               0.000000\n",
       "Cough_symptoms          0.090372\n",
       "Fever                   0.090372\n",
       "Sore_throat             0.000359\n",
       "Shortness_of_breath     0.000359\n",
       "Headache                0.000359\n",
       "Corona                  0.000000\n",
       "Age_60_above           45.659284\n",
       "Sex                     7.015650\n",
       "Known_contact           0.000000\n",
       "dtype: float64"
      ]
     },
     "execution_count": 6,
     "metadata": {},
     "output_type": "execute_result"
    }
   ],
   "source": [
    "(coronaDT.isnull().sum()/coronaDT.shape[0]) * 100"
   ]
  },
  {
   "cell_type": "markdown",
   "id": "6ab49d91-918b-4edc-a9e9-a95f1eab5b6f",
   "metadata": {},
   "source": [
    "Here, we drop column age_60_above because it has more than 40% NA values, and for the sex column, we will use the imputer technique to fill the NA values and drop NA rows from other columns. "
   ]
  },
  {
   "cell_type": "code",
   "execution_count": 7,
   "id": "7cd31dfe-b488-4c11-80de-b0a07e84b1f8",
   "metadata": {},
   "outputs": [
    {
     "data": {
      "text/plain": [
       "Cough_symptoms         0.0\n",
       "Fever                  0.0\n",
       "Sore_throat            0.0\n",
       "Shortness_of_breath    0.0\n",
       "Headache               0.0\n",
       "Corona                 0.0\n",
       "Sex                    0.0\n",
       "Known_contact          0.0\n",
       "dtype: float64"
      ]
     },
     "execution_count": 7,
     "metadata": {},
     "output_type": "execute_result"
    }
   ],
   "source": [
    "coronaDTCleaned = coronaDT.drop(['Age_60_above', 'Ind_ID', 'Test_date'], axis = 1)\n",
    "coronaDTCleaned['Sex'].fillna(coronaDTCleaned['Sex'].mode()[0], inplace = True)\n",
    "\n",
    "coronaDTCleaned.dropna(subset = ['Cough_symptoms','Fever','Sore_throat',\n",
    "                                 'Shortness_of_breath',\n",
    "                                 'Headache'], axis = 0, inplace = True)\n",
    "\n",
    "(coronaDTCleaned.isnull().sum()/coronaDTCleaned.shape[0]) * 100"
   ]
  },
  {
   "cell_type": "code",
   "execution_count": 8,
   "id": "33ae57e5-fccc-43f9-9e5f-3a3b2bc0761f",
   "metadata": {},
   "outputs": [],
   "source": [
    "coronaDTCleaned = coronaDTCleaned[coronaDTCleaned['Corona'].isin(['positive', 'negative'])]"
   ]
  },
  {
   "cell_type": "markdown",
   "id": "895e11a3-519d-4c62-88d9-64ff423c0aa2",
   "metadata": {
    "tags": []
   },
   "source": [
    "## Exploratory Data Analysis (EDA)"
   ]
  },
  {
   "cell_type": "code",
   "execution_count": 9,
   "id": "4b627287-83f8-49c2-8fa4-9e9947022be9",
   "metadata": {},
   "outputs": [
    {
     "data": {
      "image/png": "[encoded data removed]",
      "text/plain": [
       "<Figure size 400x400 with 1 Axes>"
      ]
     },
     "metadata": {},
     "output_type": "display_data"
    }
   ],
   "source": [
    "covidLevel = coronaDTCleaned['Corona'].value_counts()\n",
    "\n",
    "plot.figure(figsize=(4,4))\n",
    "plot.pie(covidLevel, labels = covidLevel.index, autopct='%1.1f%%')\n",
    "plot.title('Pie chart for Covid Level')\n",
    "plot.show()"
   ]
  },
  {
   "cell_type": "markdown",
   "id": "a038efc6-b515-4c98-be81-cd58c5668fc2",
   "metadata": {},
   "source": [
    "## Data Preprocessing"
   ]
  },
  {
   "cell_type": "markdown",
   "id": "e3ab99ca-5c35-4d06-91c7-87720e73d166",
   "metadata": {},
   "source": [
    "### 4. Encode Categorial Variables"
   ]
  },
  {
   "cell_type": "code",
   "execution_count": 10,
   "id": "89b210e9-56ec-4d52-b004-c98dec6f8725",
   "metadata": {},
   "outputs": [
    {
     "data": {
      "text/html": [
       "<div>\n",
       "<style scoped>\n",
       "    .dataframe tbody tr th:only-of-type {\n",
       "        vertical-align: middle;\n",
       "    }\n",
       "\n",
       "    .dataframe tbody tr th {\n",
       "        vertical-align: top;\n",
       "    }\n",
       "\n",
       "    .dataframe thead th {\n",
       "        text-align: right;\n",
       "    }\n",
       "</style>\n",
       "<table border=\"1\" class=\"dataframe\">\n",
       "  <thead>\n",
       "    <tr style=\"text-align: right;\">\n",
       "      <th></th>\n",
       "      <th>Corona</th>\n",
       "      <th>Cough_symptoms_False</th>\n",
       "      <th>Cough_symptoms_True</th>\n",
       "      <th>Fever_False</th>\n",
       "      <th>Fever_True</th>\n",
       "      <th>Sore_throat_False</th>\n",
       "      <th>Sore_throat_True</th>\n",
       "      <th>Shortness_of_breath_False</th>\n",
       "      <th>Shortness_of_breath_True</th>\n",
       "      <th>Headache_False</th>\n",
       "      <th>Headache_True</th>\n",
       "      <th>Sex_female</th>\n",
       "      <th>Sex_male</th>\n",
       "      <th>Known_contact_Abroad</th>\n",
       "      <th>Known_contact_Contact with confirmed</th>\n",
       "      <th>Known_contact_Other</th>\n",
       "    </tr>\n",
       "  </thead>\n",
       "  <tbody>\n",
       "    <tr>\n",
       "      <th>0</th>\n",
       "      <td>negative</td>\n",
       "      <td>0</td>\n",
       "      <td>1</td>\n",
       "      <td>1</td>\n",
       "      <td>0</td>\n",
       "      <td>0</td>\n",
       "      <td>1</td>\n",
       "      <td>1</td>\n",
       "      <td>0</td>\n",
       "      <td>1</td>\n",
       "      <td>0</td>\n",
       "      <td>1</td>\n",
       "      <td>0</td>\n",
       "      <td>1</td>\n",
       "      <td>0</td>\n",
       "      <td>0</td>\n",
       "    </tr>\n",
       "    <tr>\n",
       "      <th>1</th>\n",
       "      <td>positive</td>\n",
       "      <td>1</td>\n",
       "      <td>0</td>\n",
       "      <td>0</td>\n",
       "      <td>1</td>\n",
       "      <td>1</td>\n",
       "      <td>0</td>\n",
       "      <td>1</td>\n",
       "      <td>0</td>\n",
       "      <td>1</td>\n",
       "      <td>0</td>\n",
       "      <td>1</td>\n",
       "      <td>0</td>\n",
       "      <td>1</td>\n",
       "      <td>0</td>\n",
       "      <td>0</td>\n",
       "    </tr>\n",
       "    <tr>\n",
       "      <th>2</th>\n",
       "      <td>positive</td>\n",
       "      <td>1</td>\n",
       "      <td>0</td>\n",
       "      <td>0</td>\n",
       "      <td>1</td>\n",
       "      <td>1</td>\n",
       "      <td>0</td>\n",
       "      <td>1</td>\n",
       "      <td>0</td>\n",
       "      <td>1</td>\n",
       "      <td>0</td>\n",
       "      <td>1</td>\n",
       "      <td>0</td>\n",
       "      <td>1</td>\n",
       "      <td>0</td>\n",
       "      <td>0</td>\n",
       "    </tr>\n",
       "    <tr>\n",
       "      <th>3</th>\n",
       "      <td>negative</td>\n",
       "      <td>0</td>\n",
       "      <td>1</td>\n",
       "      <td>1</td>\n",
       "      <td>0</td>\n",
       "      <td>1</td>\n",
       "      <td>0</td>\n",
       "      <td>1</td>\n",
       "      <td>0</td>\n",
       "      <td>1</td>\n",
       "      <td>0</td>\n",
       "      <td>1</td>\n",
       "      <td>0</td>\n",
       "      <td>1</td>\n",
       "      <td>0</td>\n",
       "      <td>0</td>\n",
       "    </tr>\n",
       "    <tr>\n",
       "      <th>4</th>\n",
       "      <td>negative</td>\n",
       "      <td>0</td>\n",
       "      <td>1</td>\n",
       "      <td>1</td>\n",
       "      <td>0</td>\n",
       "      <td>1</td>\n",
       "      <td>0</td>\n",
       "      <td>1</td>\n",
       "      <td>0</td>\n",
       "      <td>1</td>\n",
       "      <td>0</td>\n",
       "      <td>1</td>\n",
       "      <td>0</td>\n",
       "      <td>0</td>\n",
       "      <td>1</td>\n",
       "      <td>0</td>\n",
       "    </tr>\n",
       "  </tbody>\n",
       "</table>\n",
       "</div>"
      ],
      "text/plain": [
       "     Corona  Cough_symptoms_False  Cough_symptoms_True  Fever_False  \\\n",
       "0  negative                     0                    1            1   \n",
       "1  positive                     1                    0            0   \n",
       "2  positive                     1                    0            0   \n",
       "3  negative                     0                    1            1   \n",
       "4  negative                     0                    1            1   \n",
       "\n",
       "   Fever_True  Sore_throat_False  Sore_throat_True  Shortness_of_breath_False  \\\n",
       "0           0                  0                 1                          1   \n",
       "1           1                  1                 0                          1   \n",
       "2           1                  1                 0                          1   \n",
       "3           0                  1                 0                          1   \n",
       "4           0                  1                 0                          1   \n",
       "\n",
       "   Shortness_of_breath_True  Headache_False  Headache_True  Sex_female  \\\n",
       "0                         0               1              0           1   \n",
       "1                         0               1              0           1   \n",
       "2                         0               1              0           1   \n",
       "3                         0               1              0           1   \n",
       "4                         0               1              0           1   \n",
       "\n",
       "   Sex_male  Known_contact_Abroad  Known_contact_Contact with confirmed  \\\n",
       "0         0                     1                                     0   \n",
       "1         0                     1                                     0   \n",
       "2         0                     1                                     0   \n",
       "3         0                     1                                     0   \n",
       "4         0                     0                                     1   \n",
       "\n",
       "   Known_contact_Other  \n",
       "0                    0  \n",
       "1                    0  \n",
       "2                    0  \n",
       "3                    0  \n",
       "4                    0  "
      ]
     },
     "execution_count": 10,
     "metadata": {},
     "output_type": "execute_result"
    }
   ],
   "source": [
    "modelData = coronaDTCleaned.copy(deep = True)\n",
    "modelData_Encoded = panda.get_dummies(modelData, columns=['Cough_symptoms', 'Fever', 'Sore_throat', 'Shortness_of_breath', 'Headache', 'Sex', 'Known_contact'])\n",
    "modelData_Encoded.head(5)"
   ]
  },
  {
   "cell_type": "markdown",
   "id": "9de1addc-f5e6-4b5a-91cc-85450ca25ce8",
   "metadata": {},
   "source": [
    "### 5. Extrat Features and Target"
   ]
  },
  {
   "cell_type": "code",
   "execution_count": 11,
   "id": "59f69e0b-c968-4db0-b159-5bdfd0670289",
   "metadata": {},
   "outputs": [],
   "source": [
    "features = modelData_Encoded.drop('Corona', axis=1)\n",
    "target   = modelData_Encoded['Corona']"
   ]
  },
  {
   "cell_type": "markdown",
   "id": "7060d8ea-8448-45ed-9594-12e49a6ef8cf",
   "metadata": {},
   "source": [
    "### 7. SMOTE for class imbalance"
   ]
  },
  {
   "cell_type": "code",
   "execution_count": 35,
   "id": "8aed9a28-a329-46c2-b129-809d751dcf52",
   "metadata": {},
   "outputs": [
    {
     "name": "stdout",
     "output_type": "stream",
     "text": [
      "Training Dataset size : (416012, 15) (416012,)\n",
      "Testing Dataset size : (104004, 15) (104004,)\n"
     ]
    }
   ],
   "source": [
    "# Employed Smote\n",
    "smote = SMOTE()\n",
    "featuresSmote, targetSmote = smote.fit_resample(features, target)\n",
    "\n",
    "# Split the data\n",
    "X_train, X_test, y_train, y_test = train_test_split(featuresSmote, targetSmote, test_size = 0.2, random_state = 42)\n",
    "\n",
    "print(\"Training Dataset size :\", X_train.shape, y_train.shape)\n",
    "print(\"Testing Dataset size :\", X_test.shape, y_test.shape)"
   ]
  },
  {
   "cell_type": "markdown",
   "id": "4717d485-d9fc-4baa-b69c-90ca54395562",
   "metadata": {
    "tags": []
   },
   "source": [
    "## Machine Learning Model's "
   ]
  },
  {
   "cell_type": "markdown",
   "id": "1e71c7d1-fd48-4203-a704-fb2467a335f4",
   "metadata": {
    "tags": []
   },
   "source": [
    "### 1. Random Forest Classifier"
   ]
  },
  {
   "cell_type": "code",
   "execution_count": 32,
   "id": "82c118c5-6a4c-4098-912d-e38ab71aa183",
   "metadata": {},
   "outputs": [
    {
     "data": {
      "text/html": [
       "<style>#sk-container-id-3 {color: black;background-color: white;}#sk-container-id-3 pre{padding: 0;}#sk-container-id-3 div.sk-toggleable {background-color: white;}#sk-container-id-3 label.sk-toggleable__label {cursor: pointer;display: block;width: 100%;margin-bottom: 0;padding: 0.3em;box-sizing: border-box;text-align: center;}#sk-container-id-3 label.sk-toggleable__label-arrow:before {content: \"▸\";float: left;margin-right: 0.25em;color: #696969;}#sk-container-id-3 label.sk-toggleable__label-arrow:hover:before {color: black;}#sk-container-id-3 div.sk-estimator:hover label.sk-toggleable__label-arrow:before {color: black;}#sk-container-id-3 div.sk-toggleable__content {max-height: 0;max-width: 0;overflow: hidden;text-align: left;background-color: #f0f8ff;}#sk-container-id-3 div.sk-toggleable__content pre {margin: 0.2em;color: black;border-radius: 0.25em;background-color: #f0f8ff;}#sk-container-id-3 input.sk-toggleable__control:checked~div.sk-toggleable__content {max-height: 200px;max-width: 100%;overflow: auto;}#sk-container-id-3 input.sk-toggleable__control:checked~label.sk-toggleable__label-arrow:before {content: \"▾\";}#sk-container-id-3 div.sk-estimator input.sk-toggleable__control:checked~label.sk-toggleable__label {background-color: #d4ebff;}#sk-container-id-3 div.sk-label input.sk-toggleable__control:checked~label.sk-toggleable__label {background-color: #d4ebff;}#sk-container-id-3 input.sk-hidden--visually {border: 0;clip: rect(1px 1px 1px 1px);clip: rect(1px, 1px, 1px, 1px);height: 1px;margin: -1px;overflow: hidden;padding: 0;position: absolute;width: 1px;}#sk-container-id-3 div.sk-estimator {font-family: monospace;background-color: #f0f8ff;border: 1px dotted black;border-radius: 0.25em;box-sizing: border-box;margin-bottom: 0.5em;}#sk-container-id-3 div.sk-estimator:hover {background-color: #d4ebff;}#sk-container-id-3 div.sk-parallel-item::after {content: \"\";width: 100%;border-bottom: 1px solid gray;flex-grow: 1;}#sk-container-id-3 div.sk-label:hover label.sk-toggleable__label {background-color: #d4ebff;}#sk-container-id-3 div.sk-serial::before {content: \"\";position: absolute;border-left: 1px solid gray;box-sizing: border-box;top: 0;bottom: 0;left: 50%;z-index: 0;}#sk-container-id-3 div.sk-serial {display: flex;flex-direction: column;align-items: center;background-color: white;padding-right: 0.2em;padding-left: 0.2em;position: relative;}#sk-container-id-3 div.sk-item {position: relative;z-index: 1;}#sk-container-id-3 div.sk-parallel {display: flex;align-items: stretch;justify-content: center;background-color: white;position: relative;}#sk-container-id-3 div.sk-item::before, #sk-container-id-3 div.sk-parallel-item::before {content: \"\";position: absolute;border-left: 1px solid gray;box-sizing: border-box;top: 0;bottom: 0;left: 50%;z-index: -1;}#sk-container-id-3 div.sk-parallel-item {display: flex;flex-direction: column;z-index: 1;position: relative;background-color: white;}#sk-container-id-3 div.sk-parallel-item:first-child::after {align-self: flex-end;width: 50%;}#sk-container-id-3 div.sk-parallel-item:last-child::after {align-self: flex-start;width: 50%;}#sk-container-id-3 div.sk-parallel-item:only-child::after {width: 0;}#sk-container-id-3 div.sk-dashed-wrapped {border: 1px dashed gray;margin: 0 0.4em 0.5em 0.4em;box-sizing: border-box;padding-bottom: 0.4em;background-color: white;}#sk-container-id-3 div.sk-label label {font-family: monospace;font-weight: bold;display: inline-block;line-height: 1.2em;}#sk-container-id-3 div.sk-label-container {text-align: center;}#sk-container-id-3 div.sk-container {/* jupyter's `normalize.less` sets `[hidden] { display: none; }` but bootstrap.min.css set `[hidden] { display: none !important; }` so we also need the `!important` here to be able to override the default hidden behavior on the sphinx rendered scikit-learn.org. See: https://github.com/scikit-learn/scikit-learn/issues/21755 */display: inline-block !important;position: relative;}#sk-container-id-3 div.sk-text-repr-fallback {display: none;}</style><div id=\"sk-container-id-3\" class=\"sk-top-container\"><div class=\"sk-text-repr-fallback\"><pre>RandomForestClassifier(max_depth=10, max_features=&#x27;auto&#x27;, n_jobs=-1,\n",
       "                       random_state=42)</pre><b>In a Jupyter environment, please rerun this cell to show the HTML representation or trust the notebook. <br />On GitHub, the HTML representation is unable to render, please try loading this page with nbviewer.org.</b></div><div class=\"sk-container\" hidden><div class=\"sk-item\"><div class=\"sk-estimator sk-toggleable\"><input class=\"sk-toggleable__control sk-hidden--visually\" id=\"sk-estimator-id-3\" type=\"checkbox\" checked><label for=\"sk-estimator-id-3\" class=\"sk-toggleable__label sk-toggleable__label-arrow\">RandomForestClassifier</label><div class=\"sk-toggleable__content\"><pre>RandomForestClassifier(max_depth=10, max_features=&#x27;auto&#x27;, n_jobs=-1,\n",
       "                       random_state=42)</pre></div></div></div></div></div>"
      ],
      "text/plain": [
       "RandomForestClassifier(max_depth=10, max_features='auto', n_jobs=-1,\n",
       "                       random_state=42)"
      ]
     },
     "execution_count": 32,
     "metadata": {},
     "output_type": "execute_result"
    }
   ],
   "source": [
    "# Create a Random Forest Classifier\n",
    "rf_classifier = RandomForestClassifier(n_estimators      = 100,  \n",
    "                                       criterion         ='gini',  \n",
    "                                       max_depth         = 10,  \n",
    "                                       min_samples_split = 2,  \n",
    "                                       min_samples_leaf  = 1,  \n",
    "                                       max_features      = 'auto',  \n",
    "                                       random_state      = 42,\n",
    "                                       n_jobs            = -1)\n",
    "rf_classifier.fit(X_train, y_train)"
   ]
  },
  {
   "cell_type": "code",
   "execution_count": 33,
   "id": "e7786ab1-1079-4665-9061-48cd43dbe96a",
   "metadata": {},
   "outputs": [],
   "source": [
    "rfPredicTest = rf_classifier.predict(X_test)\n",
    "rfPredicTrain = rf_classifier.predict(X_train)"
   ]
  },
  {
   "cell_type": "markdown",
   "id": "9362e723-3138-4471-b3a0-5e3ea488c0da",
   "metadata": {},
   "source": [
    "#### Evaluation on Training Dataset"
   ]
  },
  {
   "cell_type": "code",
   "execution_count": 34,
   "id": "0216d7ed-8a0f-4ac5-8ede-3bcf449f969c",
   "metadata": {},
   "outputs": [
    {
     "name": "stdout",
     "output_type": "stream",
     "text": [
      "Training Accuracy for Random Forest Model: 0.8504\n",
      "Training Recall for Random Forest Model: 0.8504\n",
      "Training Precision for Random Forest Model: 0.8504\n",
      "Training F1 Score for Random Forest Model: 0.8504\n"
     ]
    }
   ],
   "source": [
    "RF_accuracy_train  = accuracy_score(y_train, rfPredicTrain)\n",
    "RF_recall_train    = recall_score(y_train, rfPredicTrain, average='micro')\n",
    "RF_precision_train = precision_score(y_train, rfPredicTrain, average='micro')\n",
    "RF_f1_Score_train  = f1_score(y_train, rfPredicTrain, average='micro')\n",
    "\n",
    "print(\"Training Accuracy for Random Forest Model:\", round(RF_accuracy_train, 4))\n",
    "print(\"Training Recall for Random Forest Model:\", round(RF_recall_train, 4))\n",
    "print(\"Training Precision for Random Forest Model:\", round(RF_precision_train, 4))\n",
    "print(\"Training F1 Score for Random Forest Model:\", round(RF_f1_Score_train, 4))"
   ]
  },
  {
   "cell_type": "markdown",
   "id": "bd1a2e0d-2afd-45b7-9d6c-dac8148b32ea",
   "metadata": {},
   "source": [
    "#### Evaluation on Testing Dataset"
   ]
  },
  {
   "cell_type": "code",
   "execution_count": 36,
   "id": "db935806-d631-4050-a891-4d968d55fcc6",
   "metadata": {},
   "outputs": [
    {
     "name": "stdout",
     "output_type": "stream",
     "text": [
      "Accuracy for Random Forest Model: 0.85\n",
      "Recall for Random Forest Model: 0.85\n",
      "Precision for Random Forest Model: 0.85\n",
      "F1 Score for Random Forest Model: 0.85\n",
      "Classification Report for Random Forest Model \n",
      "\n",
      "               precision    recall  f1-score   support\n",
      "\n",
      "    negative       0.81      0.91      0.86     51916\n",
      "    positive       0.89      0.79      0.84     52088\n",
      "\n",
      "    accuracy                           0.85    104004\n",
      "   macro avg       0.85      0.85      0.85    104004\n",
      "weighted avg       0.85      0.85      0.85    104004\n",
      "\n"
     ]
    }
   ],
   "source": [
    "RF_accuracy_test  = accuracy_score(y_test, rfPredicTest)\n",
    "RF_recall_test    = recall_score(y_test, rfPredicTest, average='micro')\n",
    "RF_precision_test = precision_score(y_test, rfPredicTest, average='micro')\n",
    "RF_f1_Score_test  = f1_score(y_test, rfPredicTest, average='micro')\n",
    "RF_report_test    = classification_report(y_test, rfPredicTest)\n",
    "\n",
    "print(\"Accuracy for Random Forest Model:\", round(RF_accuracy_test, 3))\n",
    "print(\"Recall for Random Forest Model:\", round(RF_recall_test, 3))\n",
    "print(\"Precision for Random Forest Model:\", round(RF_precision_test, 3))\n",
    "print(\"F1 Score for Random Forest Model:\", round(RF_f1_Score_test, 3))\n",
    "print(\"Classification Report for Random Forest Model \\n\\n\", RF_report_test)"
   ]
  },
  {
   "cell_type": "code",
   "execution_count": 41,
   "id": "439bdd6a-926f-4800-b9c0-07364e3369d0",
   "metadata": {},
   "outputs": [
    {
     "data": {
      "image/png": "[encoded data removed]",
      "text/plain": [
       "<Figure size 500x500 with 2 Axes>"
      ]
     },
     "metadata": {},
     "output_type": "display_data"
    }
   ],
   "source": [
    "rf_confusionMatrix = panda.DataFrame(confusion_matrix(y_test, rfPredicTest), index=['Negative', 'Positive'], columns=['Negative', 'Positive'])\n",
    "plot.figure(figsize=(5,5))\n",
    "seaBorn.heatmap(rf_confusionMatrix, annot=True, fmt='g')\n",
    "plot.ylabel('Actual label')\n",
    "plot.xlabel('Predicted label')\n",
    "plot.show()"
   ]
  },
  {
   "cell_type": "code",
   "execution_count": 76,
   "id": "8bb0f06b-e260-489a-83eb-b46f6bdae89b",
   "metadata": {},
   "outputs": [
    {
     "data": {
      "image/png": "[encoded data removed]",
      "text/plain": [
       "<Figure size 600x600 with 1 Axes>"
      ]
     },
     "metadata": {},
     "output_type": "display_data"
    }
   ],
   "source": [
    "rfPredicTest_proba = rf_classifier.predict_proba(X_test)\n",
    "\n",
    "rfPredicTest_positive_proba = rfPredicTest_proba[:, 1]\n",
    "y_test_flat = y_test.replace({'positive': 1, 'negative': 0})\n",
    "fpr, tpr, thresholds = roc_curve(y_test_flat, rfPredicTest_positive_proba)\n",
    "roc_auc = auc(fpr, tpr)\n",
    "plot.figure(figsize=(6,6))\n",
    "plot.plot(fpr, tpr, color='darkorange', lw=2, label='ROC curve (area = %0.2f)' % roc_auc)\n",
    "plot.plot([0, 1], [0, 1], color='navy', lw=2, linestyle='--')\n",
    "plot.xlim([0.0, 1.0])\n",
    "plot.ylim([0.0, 1.05])\n",
    "plot.xlabel('False Positive Rate')\n",
    "plot.ylabel('True Positive Rate')\n",
    "plot.legend(loc=\"lower right\")\n",
    "plot.show()"
   ]
  },
  {
   "cell_type": "markdown",
   "id": "3b807241-54cc-406c-b332-adeaa605ccd4",
   "metadata": {
    "tags": []
   },
   "source": [
    "### 2. Gradient Boosting Classifier"
   ]
  },
  {
   "cell_type": "code",
   "execution_count": 16,
   "id": "7e6c64a7-17ff-4333-ba7b-bec65b843f5d",
   "metadata": {},
   "outputs": [
    {
     "data": {
      "text/html": [
       "<style>#sk-container-id-2 {color: black;background-color: white;}#sk-container-id-2 pre{padding: 0;}#sk-container-id-2 div.sk-toggleable {background-color: white;}#sk-container-id-2 label.sk-toggleable__label {cursor: pointer;display: block;width: 100%;margin-bottom: 0;padding: 0.3em;box-sizing: border-box;text-align: center;}#sk-container-id-2 label.sk-toggleable__label-arrow:before {content: \"▸\";float: left;margin-right: 0.25em;color: #696969;}#sk-container-id-2 label.sk-toggleable__label-arrow:hover:before {color: black;}#sk-container-id-2 div.sk-estimator:hover label.sk-toggleable__label-arrow:before {color: black;}#sk-container-id-2 div.sk-toggleable__content {max-height: 0;max-width: 0;overflow: hidden;text-align: left;background-color: #f0f8ff;}#sk-container-id-2 div.sk-toggleable__content pre {margin: 0.2em;color: black;border-radius: 0.25em;background-color: #f0f8ff;}#sk-container-id-2 input.sk-toggleable__control:checked~div.sk-toggleable__content {max-height: 200px;max-width: 100%;overflow: auto;}#sk-container-id-2 input.sk-toggleable__control:checked~label.sk-toggleable__label-arrow:before {content: \"▾\";}#sk-container-id-2 div.sk-estimator input.sk-toggleable__control:checked~label.sk-toggleable__label {background-color: #d4ebff;}#sk-container-id-2 div.sk-label input.sk-toggleable__control:checked~label.sk-toggleable__label {background-color: #d4ebff;}#sk-container-id-2 input.sk-hidden--visually {border: 0;clip: rect(1px 1px 1px 1px);clip: rect(1px, 1px, 1px, 1px);height: 1px;margin: -1px;overflow: hidden;padding: 0;position: absolute;width: 1px;}#sk-container-id-2 div.sk-estimator {font-family: monospace;background-color: #f0f8ff;border: 1px dotted black;border-radius: 0.25em;box-sizing: border-box;margin-bottom: 0.5em;}#sk-container-id-2 div.sk-estimator:hover {background-color: #d4ebff;}#sk-container-id-2 div.sk-parallel-item::after {content: \"\";width: 100%;border-bottom: 1px solid gray;flex-grow: 1;}#sk-container-id-2 div.sk-label:hover label.sk-toggleable__label {background-color: #d4ebff;}#sk-container-id-2 div.sk-serial::before {content: \"\";position: absolute;border-left: 1px solid gray;box-sizing: border-box;top: 0;bottom: 0;left: 50%;z-index: 0;}#sk-container-id-2 div.sk-serial {display: flex;flex-direction: column;align-items: center;background-color: white;padding-right: 0.2em;padding-left: 0.2em;position: relative;}#sk-container-id-2 div.sk-item {position: relative;z-index: 1;}#sk-container-id-2 div.sk-parallel {display: flex;align-items: stretch;justify-content: center;background-color: white;position: relative;}#sk-container-id-2 div.sk-item::before, #sk-container-id-2 div.sk-parallel-item::before {content: \"\";position: absolute;border-left: 1px solid gray;box-sizing: border-box;top: 0;bottom: 0;left: 50%;z-index: -1;}#sk-container-id-2 div.sk-parallel-item {display: flex;flex-direction: column;z-index: 1;position: relative;background-color: white;}#sk-container-id-2 div.sk-parallel-item:first-child::after {align-self: flex-end;width: 50%;}#sk-container-id-2 div.sk-parallel-item:last-child::after {align-self: flex-start;width: 50%;}#sk-container-id-2 div.sk-parallel-item:only-child::after {width: 0;}#sk-container-id-2 div.sk-dashed-wrapped {border: 1px dashed gray;margin: 0 0.4em 0.5em 0.4em;box-sizing: border-box;padding-bottom: 0.4em;background-color: white;}#sk-container-id-2 div.sk-label label {font-family: monospace;font-weight: bold;display: inline-block;line-height: 1.2em;}#sk-container-id-2 div.sk-label-container {text-align: center;}#sk-container-id-2 div.sk-container {/* jupyter's `normalize.less` sets `[hidden] { display: none; }` but bootstrap.min.css set `[hidden] { display: none !important; }` so we also need the `!important` here to be able to override the default hidden behavior on the sphinx rendered scikit-learn.org. See: https://github.com/scikit-learn/scikit-learn/issues/21755 */display: inline-block !important;position: relative;}#sk-container-id-2 div.sk-text-repr-fallback {display: none;}</style><div id=\"sk-container-id-2\" class=\"sk-top-container\"><div class=\"sk-text-repr-fallback\"><pre>GradientBoostingClassifier(loss=&#x27;deviance&#x27;)</pre><b>In a Jupyter environment, please rerun this cell to show the HTML representation or trust the notebook. <br />On GitHub, the HTML representation is unable to render, please try loading this page with nbviewer.org.</b></div><div class=\"sk-container\" hidden><div class=\"sk-item\"><div class=\"sk-estimator sk-toggleable\"><input class=\"sk-toggleable__control sk-hidden--visually\" id=\"sk-estimator-id-2\" type=\"checkbox\" checked><label for=\"sk-estimator-id-2\" class=\"sk-toggleable__label sk-toggleable__label-arrow\">GradientBoostingClassifier</label><div class=\"sk-toggleable__content\"><pre>GradientBoostingClassifier(loss=&#x27;deviance&#x27;)</pre></div></div></div></div></div>"
      ],
      "text/plain": [
       "GradientBoostingClassifier(loss='deviance')"
      ]
     },
     "execution_count": 16,
     "metadata": {},
     "output_type": "execute_result"
    }
   ],
   "source": [
    "gbClassifier = GradientBoostingClassifier(loss='deviance', learning_rate=0.1, n_estimators=100, subsample=1.0, \n",
    "                                      criterion='friedman_mse', min_samples_split=2, min_samples_leaf=1, max_depth=3, \n",
    "                                      max_features=None, random_state=None, warm_start=False, \n",
    "                                      validation_fraction=0.1, n_iter_no_change=None, tol=1e-4)\n",
    "gbClassifier.fit(X_train, y_train)"
   ]
  },
  {
   "cell_type": "code",
   "execution_count": 17,
   "id": "1129443a-d687-41fb-9383-6183647a5ec6",
   "metadata": {},
   "outputs": [],
   "source": [
    "gbPredicTest  = gbClassifier.predict(X_test)\n",
    "gbPredicTrain = gbClassifier.predict(X_train)"
   ]
  },
  {
   "cell_type": "markdown",
   "id": "2b3b8f38-6c99-4140-aea5-9233dd5af4e9",
   "metadata": {
    "tags": []
   },
   "source": [
    "#### Evaluation on Training Dataset"
   ]
  },
  {
   "cell_type": "code",
   "execution_count": 18,
   "id": "ecce1f3d-2848-4cd5-8d2c-21074bdc8d78",
   "metadata": {},
   "outputs": [
    {
     "name": "stdout",
     "output_type": "stream",
     "text": [
      "Training Accuracy for Gradient Boosting Model: 0.851\n",
      "Training Recall for Gradient Boosting Model: 0.851\n",
      "Training Precision for Gradient Boosting Model: 0.851\n",
      "Training F1 Score for Gradient Boosting Model: 0.851\n"
     ]
    }
   ],
   "source": [
    "GB_accuracy_train  = accuracy_score(y_train, gbPredicTrain)\n",
    "GB_recall_train    = recall_score(y_train, gbPredicTrain, average='micro')\n",
    "GB_precision_train = precision_score(y_train, gbPredicTrain, average='micro')\n",
    "GB_f1_Score_train  = f1_score(y_train, gbPredicTrain, average='micro')\n",
    "\n",
    "print(\"Training Accuracy for Gradient Boosting Model:\", round(GB_accuracy_train, 4))\n",
    "print(\"Training Recall for Gradient Boosting Model:\", round(GB_recall_train, 4))\n",
    "print(\"Training Precision for Gradient Boosting Model:\", round(GB_precision_train, 4))\n",
    "print(\"Training F1 Score for Gradient Boosting Model:\", round(GB_f1_Score_train, 4))"
   ]
  },
  {
   "cell_type": "markdown",
   "id": "fe45f9b3-7b1d-4d07-bd94-eac9b36b05fd",
   "metadata": {},
   "source": [
    "#### Evaluation on Testing Dataset"
   ]
  },
  {
   "cell_type": "code",
   "execution_count": 19,
   "id": "1cf08bf6-ef82-4cdb-a0b9-b5a7d4e3f76a",
   "metadata": {},
   "outputs": [
    {
     "name": "stdout",
     "output_type": "stream",
     "text": [
      "Accuracy for Gradient Boosting Classifier: 0.8504\n",
      "Recall for Gradient Boosting Classifier: 0.8504\n",
      "Precision for Gradient Boosting Classifier: 0.8504\n",
      "F1 Score for Gradient Boosting Classifier: 0.8504\n",
      "Classification Report for Gradient Boosting Classifier \n",
      "\n",
      "               precision    recall  f1-score   support\n",
      "\n",
      "    negative       0.81      0.91      0.86     51916\n",
      "    positive       0.90      0.79      0.84     52088\n",
      "\n",
      "    accuracy                           0.85    104004\n",
      "   macro avg       0.85      0.85      0.85    104004\n",
      "weighted avg       0.85      0.85      0.85    104004\n",
      "\n"
     ]
    }
   ],
   "source": [
    "gb_accuracy_test  = accuracy_score(y_test, gbPredicTest)\n",
    "gb_recall_test    = recall_score(y_test, gbPredicTest, average='micro')\n",
    "gb_precision_test = precision_score(y_test, gbPredicTest, average='micro')\n",
    "gb_f1_Score_test  = f1_score(y_test, gbPredicTest, average='micro')\n",
    "gb_report   = classification_report(y_test, gbPredicTest)\n",
    "\n",
    "print(\"Accuracy for Gradient Boosting Classifier:\", round(gb_accuracy_test, 4))\n",
    "print(\"Recall for Gradient Boosting Classifier:\", round(gb_recall_test, 4))\n",
    "print(\"Precision for Gradient Boosting Classifier:\", round(gb_precision_test, 4))\n",
    "print(\"F1 Score for Gradient Boosting Classifier:\", round(gb_f1_Score_test, 4))\n",
    "print(\"Classification Report for Gradient Boosting Classifier \\n\\n\", gb_report)"
   ]
  },
  {
   "cell_type": "code",
   "execution_count": 36,
   "id": "852f32a2-d372-4bdd-af9c-4b63e73c71f7",
   "metadata": {},
   "outputs": [
    {
     "data": {
      "image/png": "[encoded data removed]",
      "text/plain": [
       "<Figure size 600x500 with 2 Axes>"
      ]
     },
     "metadata": {},
     "output_type": "display_data"
    }
   ],
   "source": [
    "gb_confusionMatrix = panda.DataFrame(confusion_matrix(y_test, gbPredicTest), index=['Negative', 'Positive'], columns=['Negative', 'Positive'])\n",
    "plot.figure(figsize=(6,5))\n",
    "seaBorn.heatmap(gb_confusionMatrix, annot=True, fmt='g')\n",
    "plot.ylabel('Actual label')\n",
    "plot.xlabel('Predicted label')\n",
    "plot.show()"
   ]
  },
  {
   "cell_type": "code",
   "execution_count": 38,
   "id": "3f42c0a2-718a-4019-9854-b13aea9bfa7b",
   "metadata": {},
   "outputs": [
    {
     "data": {
      "image/png": "[encoded data removed]",
      "text/plain": [
       "<Figure size 600x400 with 1 Axes>"
      ]
     },
     "metadata": {},
     "output_type": "display_data"
    }
   ],
   "source": [
    "gbPredicTest_proba = gbClassifier.predict_proba(X_test)\n",
    "\n",
    "gbPredicTest_positive_proba = gbPredicTest_proba[:, 1]\n",
    "y_test_flat = y_test.replace({'positive': 1, 'negative': 0})\n",
    "fpr, tpr, thresholds = roc_curve(y_test_flat, gbPredicTest_positive_proba)\n",
    "roc_auc = auc(fpr, tpr)\n",
    "plot.figure(figsize=(6,4))\n",
    "plot.plot(fpr, tpr, color='darkorange', lw=2, label='ROC curve (area = %0.2f)' % roc_auc)\n",
    "plot.plot([0, 1], [0, 1], color='navy', lw=2, linestyle='--')\n",
    "plot.xlim([0.0, 1.0])\n",
    "plot.ylim([0.0, 1.05])\n",
    "plot.xlabel('False Positive Rate')\n",
    "plot.ylabel('True Positive Rate')\n",
    "plot.legend(loc=\"lower right\")\n",
    "plot.show()"
   ]
  },
  {
   "cell_type": "markdown",
   "id": "d12678fc-2334-4236-8a75-586cec251bfd",
   "metadata": {},
   "source": [
    "## Artificial Neural Network "
   ]
  },
  {
   "cell_type": "code",
   "execution_count": 25,
   "id": "08d39010-b8fc-45eb-b82e-c18413d09425",
   "metadata": {},
   "outputs": [
    {
     "name": "stdout",
     "output_type": "stream",
     "text": [
      "Training Dataset size : (219761, 15) (219761,)\n",
      "Testing Dataset size : (54941, 15) (54941,)\n"
     ]
    }
   ],
   "source": [
    "# Encode the categorical target variable\n",
    "label_encoder  = LabelEncoder()\n",
    "target_encoder = label_encoder.fit_transform(target)\n",
    "\n",
    "# Split the dataset into training and testing sets\n",
    "X_train, X_test, y_train, y_test = train_test_split(features, target_encoder, test_size=0.2, random_state=42)\n",
    "\n",
    "print(\"Training Dataset size :\", X_train.shape, y_train.shape)\n",
    "print(\"Testing Dataset size :\", X_test.shape, y_test.shape)"
   ]
  },
  {
   "cell_type": "code",
   "execution_count": 26,
   "id": "142c44b3-8ddd-460f-b68e-d69bfb6f9fbb",
   "metadata": {},
   "outputs": [],
   "source": [
    "scaler = MinMaxScaler()\n",
    "X_train = scaler.fit_transform(X_train)\n",
    "X_test  = scaler.transform(X_test)"
   ]
  },
  {
   "cell_type": "code",
   "execution_count": 27,
   "id": "f05db332-ca00-4e88-94e2-514f44849f2c",
   "metadata": {},
   "outputs": [],
   "source": [
    "model = Sequential()\n",
    "model.add(Dense(64, activation='relu', input_dim = X_train.shape[1]))\n",
    "model.add(Dropout(0.3))\n",
    "\n",
    "model.add(Dense(32, activation='relu'))\n",
    "model.add(Dropout(0.3))\n",
    "    \n",
    "model.add(Dense(16, activation='relu'))\n",
    "model.add(Dropout(0.3))\n",
    "    \n",
    "model.add(Dense(8, activation='relu'))\n",
    "model.add(Dropout(0.3))\n",
    "    \n",
    "model.add(Dense(1, activation='sigmoid'))  \n",
    "    \n",
    "optimizer = Adam(learning_rate=0.001)\n",
    "model.compile(optimizer=optimizer, loss='categorical_crossentropy', metrics=['accuracy'])"
   ]
  },
  {
   "cell_type": "code",
   "execution_count": 28,
   "id": "6102c06d-b8e8-4c87-bbd2-0a387dfb6eb7",
   "metadata": {},
   "outputs": [
    {
     "name": "stdout",
     "output_type": "stream",
     "text": [
      "Epoch 1/50\n",
      "3434/3434 [==============================] - 9s 2ms/step - loss: 0.0000e+00 - accuracy: 0.9451 - val_loss: 0.0000e+00 - val_accuracy: 0.9468\n",
      "Epoch 2/50\n",
      "3434/3434 [==============================] - 8s 2ms/step - loss: 0.0000e+00 - accuracy: 0.9464 - val_loss: 0.0000e+00 - val_accuracy: 0.9468\n",
      "Epoch 3/50\n",
      "3434/3434 [==============================] - 8s 2ms/step - loss: 0.0000e+00 - accuracy: 0.9464 - val_loss: 0.0000e+00 - val_accuracy: 0.9468\n",
      "Epoch 4/50\n",
      "3434/3434 [==============================] - 8s 2ms/step - loss: 0.0000e+00 - accuracy: 0.9464 - val_loss: 0.0000e+00 - val_accuracy: 0.9468\n",
      "Epoch 5/50\n",
      "3434/3434 [==============================] - 7s 2ms/step - loss: 0.0000e+00 - accuracy: 0.9464 - val_loss: 0.0000e+00 - val_accuracy: 0.9468\n",
      "Epoch 6/50\n",
      "3434/3434 [==============================] - 8s 2ms/step - loss: 0.0000e+00 - accuracy: 0.9464 - val_loss: 0.0000e+00 - val_accuracy: 0.9468\n",
      "Epoch 7/50\n",
      "3434/3434 [==============================] - 10s 3ms/step - loss: 0.0000e+00 - accuracy: 0.9464 - val_loss: 0.0000e+00 - val_accuracy: 0.9468\n",
      "Epoch 8/50\n",
      "3434/3434 [==============================] - 9s 3ms/step - loss: 0.0000e+00 - accuracy: 0.9464 - val_loss: 0.0000e+00 - val_accuracy: 0.9468\n",
      "Epoch 9/50\n",
      "3434/3434 [==============================] - 7s 2ms/step - loss: 0.0000e+00 - accuracy: 0.9464 - val_loss: 0.0000e+00 - val_accuracy: 0.9468\n",
      "Epoch 10/50\n",
      "3434/3434 [==============================] - 8s 2ms/step - loss: 0.0000e+00 - accuracy: 0.9464 - val_loss: 0.0000e+00 - val_accuracy: 0.9468\n",
      "Epoch 11/50\n",
      "3434/3434 [==============================] - 7s 2ms/step - loss: 0.0000e+00 - accuracy: 0.9464 - val_loss: 0.0000e+00 - val_accuracy: 0.9468\n"
     ]
    }
   ],
   "source": [
    "early_stopping = EarlyStopping(monitor = 'val_loss',\n",
    "                               patience = 10, \n",
    "                               restore_best_weights = True)\n",
    "\n",
    "history = model.fit(X_train, y_train,\n",
    "                    validation_data = (X_test, y_test), \n",
    "                    epochs     = 50, \n",
    "                    batch_size = 64,\n",
    "                    callbacks  = [early_stopping], \n",
    "                    verbose    = 1)"
   ]
  },
  {
   "cell_type": "code",
   "execution_count": 29,
   "id": "2a8f9444-a606-4755-a0b5-1c87408978d4",
   "metadata": {},
   "outputs": [
    {
     "name": "stdout",
     "output_type": "stream",
     "text": [
      "1717/1717 [==============================] - 1s 760us/step\n",
      "6868/6868 [==============================] - 7s 1ms/step\n"
     ]
    }
   ],
   "source": [
    "annPredicTest  = model.predict(X_test)\n",
    "annPredicTrain = model.predict(X_train)"
   ]
  },
  {
   "cell_type": "markdown",
   "id": "e2efccde-0da9-472f-9318-cb6925ad09e2",
   "metadata": {},
   "source": [
    "#### Evaluation on Training Dataset"
   ]
  },
  {
   "cell_type": "code",
   "execution_count": 30,
   "id": "1069e3e2-ef2b-4b0e-877e-15ae5685df92",
   "metadata": {},
   "outputs": [
    {
     "name": "stdout",
     "output_type": "stream",
     "text": [
      "Training Accuracy for Artificial Neutral Network Model: 0.9464\n",
      "Training Recall for Artificial Neutral Network Model: 0.9464\n",
      "Training Precision for Artificial Neutral Network Model: 0.9464\n",
      "Training F1 Score for Artificial Neutral Network Model: 0.9464\n"
     ]
    }
   ],
   "source": [
    "ANN_accuracy_train  = accuracy_score(y_train, annPredicTrain)\n",
    "ANN_recall_train    = recall_score(y_train, annPredicTrain, average='micro')\n",
    "ANN_precision_train = precision_score(y_train, annPredicTrain, average='micro')\n",
    "ANN_f1_Score_train  = f1_score(y_train, annPredicTrain, average='micro')\n",
    "\n",
    "print(\"Training Accuracy for Artificial Neutral Network Model:\", round(ANN_accuracy_train, 4))\n",
    "print(\"Training Recall for Artificial Neutral Network Model:\", round(ANN_recall_train, 4))\n",
    "print(\"Training Precision for Artificial Neutral Network Model:\", round(ANN_precision_train, 4))\n",
    "print(\"Training F1 Score for Artificial Neutral Network Model:\", round(ANN_f1_Score_train, 4))"
   ]
  },
  {
   "cell_type": "markdown",
   "id": "d72e2650-4a96-4147-8a60-198f8d740777",
   "metadata": {},
   "source": [
    "#### Evaluation on Testing Dataset"
   ]
  },
  {
   "cell_type": "code",
   "execution_count": 31,
   "id": "8870447f-256c-4e37-9d41-ea84bf6c68f3",
   "metadata": {},
   "outputs": [
    {
     "name": "stdout",
     "output_type": "stream",
     "text": [
      "Accuracy for Artificial Neutral Network Model: 0.9468\n",
      "Recall for Artificial Neutral Network Model: 0.9468\n",
      "Precision for Artificial Neutral Network Model: 0.9468\n",
      "F1 Score for Artificial Neutral Network Model: 0.9468\n",
      "Classification Report for Artificial Neutral Network Model \n",
      "\n",
      "               precision    recall  f1-score   support\n",
      "\n",
      "           0       0.95      1.00      0.97     52020\n",
      "           1       0.00      0.00      0.00      2921\n",
      "\n",
      "    accuracy                           0.95     54941\n",
      "   macro avg       0.47      0.50      0.49     54941\n",
      "weighted avg       0.90      0.95      0.92     54941\n",
      "\n"
     ]
    }
   ],
   "source": [
    "ANN_accuracy_test  = accuracy_score(y_test, annPredicTest)\n",
    "ANN_recall_test    = recall_score(y_test, annPredicTest, average='micro')\n",
    "ANN_precision_test = precision_score(y_test, annPredicTest, average='micro')\n",
    "ANN_f1_Score_test  = f1_score(y_test, annPredicTest, average='micro')\n",
    "ANN_report         = classification_report(y_test, annPredicTest)\n",
    "\n",
    "print(\"Accuracy for Artificial Neutral Network Model:\", round(ANN_accuracy_test, 4))\n",
    "print(\"Recall for Artificial Neutral Network Model:\", round(ANN_recall_test, 4))\n",
    "print(\"Precision for Artificial Neutral Network Model:\", round(ANN_precision_test, 4))\n",
    "print(\"F1 Score for Artificial Neutral Network Model:\", round(ANN_f1_Score_test, 4))\n",
    "print(\"Classification Report for Artificial Neutral Network Model \\n\\n\", ANN_report)"
   ]
  }
 ],
 "metadata": {
  "kernelspec": {
   "display_name": "Python 3 (ipykernel)",
   "language": "python",
   "name": "python3"
  },
  "language_info": {
   "codemirror_mode": {
    "name": "ipython",
    "version": 3
   },
   "file_extension": ".py",
   "mimetype": "text/x-python",
   "name": "python",
   "nbconvert_exporter": "python",
   "pygments_lexer": "ipython3",
   "version": "3.10.9"
  }
 },
 "nbformat": 4,
 "nbformat_minor": 5
}
